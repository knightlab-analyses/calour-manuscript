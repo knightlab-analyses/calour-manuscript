{
 "cells": [
  {
   "cell_type": "markdown",
   "metadata": {},
   "source": [
    "## Setup calour"
   ]
  },
  {
   "cell_type": "code",
   "execution_count": 1,
   "metadata": {
    "run_control": {
     "frozen": false,
     "read_only": false
    }
   },
   "outputs": [
    {
     "name": "stderr",
     "output_type": "stream",
     "text": [
      "/Users/amnon/miniconda3/envs/calour/lib/python3.5/site-packages/h5py/__init__.py:36: FutureWarning: Conversion of the second argument of issubdtype from `float` to `np.floating` is deprecated. In future, it will be treated as `np.float64 == np.dtype(float).type`.\n",
      "  from ._conv import register_converters as _register_converters\n"
     ]
    }
   ],
   "source": [
    "import calour as ca\n",
    "%matplotlib notebook"
   ]
  },
  {
   "cell_type": "markdown",
   "metadata": {},
   "source": [
    "# Load the American Gut dataset\n",
    "using the December 14, 2016 demultiplexed reads fasta file from Ameican Gut (ftp://ftp.microbio.me/AmericanGut/)\n",
    "\n",
    "We set log level to critical before loading since otherwise we get lots of warnings about missing samples (i.e. in mapping file but not in biom table)\n",
    "\n",
    "Note the biom table is filtered for blooming bacteria (see Correcting for Microbial Blooms in Fecal Samples during Room-Temperature Shipping, Amir at al. 2017)"
   ]
  },
  {
   "cell_type": "code",
   "execution_count": 2,
   "metadata": {
    "collapsed": true,
    "run_control": {
     "frozen": false,
     "read_only": false
    },
    "scrolled": false
   },
   "outputs": [],
   "source": [
    "ca.set_log_level('CRITICAL')\n",
    "dat=ca.read_amplicon('./ag.150.min10.16s.nobloom.withtax.biom','map.txt',normalize=10000,min_reads=1000)\n",
    "ca.set_log_level('INFO')"
   ]
  },
  {
   "cell_type": "markdown",
   "metadata": {},
   "source": [
    "# Divide to skin, feces and saliva samples"
   ]
  },
  {
   "cell_type": "code",
   "execution_count": 3,
   "metadata": {
    "collapsed": true,
    "run_control": {
     "frozen": false,
     "read_only": false
    }
   },
   "outputs": [],
   "source": [
    "fec=dat.filter_samples('BODY_PRODUCT','UBERON:feces')\n",
    "sal=dat.filter_samples('BODY_PRODUCT','UBERON:saliva')\n",
    "skin=dat.filter_samples('BODY_PRODUCT','UBERON:sebum')"
   ]
  },
  {
   "cell_type": "code",
   "execution_count": 4,
   "metadata": {
    "collapsed": true,
    "run_control": {
     "frozen": false,
     "read_only": false
    }
   },
   "outputs": [],
   "source": [
    "del dat"
   ]
  },
  {
   "cell_type": "markdown",
   "metadata": {},
   "source": [
    "## Cluster bacteria by similar behavior"
   ]
  },
  {
   "cell_type": "code",
   "execution_count": 5,
   "metadata": {
    "run_control": {
     "frozen": false,
     "read_only": false
    }
   },
   "outputs": [
    {
     "name": "stdout",
     "output_type": "stream",
     "text": [
      "2018-07-12 17:23:50 INFO After filtering, 5430 remaining\n"
     ]
    }
   ],
   "source": [
    "skinc=skin.cluster_features(min_abundance=10)"
   ]
  },
  {
   "cell_type": "markdown",
   "metadata": {},
   "source": [
    "## Add dbBact terms (out of 'feces','saliva','skin')\n",
    "By default it is added as common_term column in feature_metadata"
   ]
  },
  {
   "cell_type": "code",
   "execution_count": 9,
   "metadata": {
    "run_control": {
     "frozen": false,
     "read_only": false
    }
   },
   "outputs": [
    {
     "data": {
      "text/plain": [
       "AmpliconExperiment (\"ag.150.min10.16s.nobloom.withtax.biom\") with 347 samples, 5430 features"
      ]
     },
     "execution_count": 9,
     "metadata": {},
     "output_type": "execute_result"
    }
   ],
   "source": [
    "skinc.add_terms_to_features('dbbact',['feces','saliva','skin'], ignore_exp=[63])"
   ]
  },
  {
   "cell_type": "code",
   "execution_count": 10,
   "metadata": {
    "run_control": {
     "frozen": false,
     "read_only": false
    }
   },
   "outputs": [
    {
     "data": {
      "text/plain": [
       "NA        1471\n",
       "other     1443\n",
       "feces     1003\n",
       "skin      1002\n",
       "saliva     511\n",
       "Name: common_term, dtype: int64"
      ]
     },
     "execution_count": 10,
     "metadata": {},
     "output_type": "execute_result"
    }
   ],
   "source": [
    "skinc.feature_metadata.common_term.value_counts()"
   ]
  },
  {
   "cell_type": "code",
   "execution_count": 11,
   "metadata": {
    "collapsed": true
   },
   "outputs": [],
   "source": [
    "skinc.feature_metadata.common_term = ['other' if i=='NA' else i for i in skinc.feature_metadata.common_term]"
   ]
  },
  {
   "cell_type": "code",
   "execution_count": 12,
   "metadata": {},
   "outputs": [
    {
     "data": {
      "text/plain": [
       "AmpliconExperiment (\"ag.150.min10.16s.nobloom.withtax.biom\") with 347 samples, 5430 features"
      ]
     },
     "execution_count": 12,
     "metadata": {},
     "output_type": "execute_result"
    }
   ],
   "source": [
    "skinc"
   ]
  },
  {
   "cell_type": "markdown",
   "metadata": {
    "run_control": {
     "frozen": false,
     "read_only": false
    }
   },
   "source": [
    "## plot all bacteria (fig S3-A)\n",
    "We also use this figure to interactively look for interesting clusters, and store their coordinates using \"print axes ranges\" button"
   ]
  },
  {
   "cell_type": "code",
   "execution_count": 13,
   "metadata": {
    "run_control": {
     "frozen": false,
     "read_only": false
    },
    "scrolled": false
   },
   "outputs": [
    {
     "data": {
      "application/javascript": [
       "/* Put everything inside the global mpl namespace */\n",
       "window.mpl = {};\n",
       "\n",
       "\n",
       "mpl.get_websocket_type = function() {\n",
       "    if (typeof(WebSocket) !== 'undefined') {\n",
       "        return WebSocket;\n",
       "    } else if (typeof(MozWebSocket) !== 'undefined') {\n",
       "        return MozWebSocket;\n",
       "    } else {\n",
       "        alert('Your browser does not have WebSocket support.' +\n",
       "              'Please try Chrome, Safari or Firefox ≥ 6. ' +\n",
       "              'Firefox 4 and 5 are also supported but you ' +\n",
       "              'have to enable WebSockets in about:config.');\n",
       "    };\n",
       "}\n",
       "\n",
       "mpl.figure = function(figure_id, websocket, ondownload, parent_element) {\n",
       "    this.id = figure_id;\n",
       "\n",
       "    this.ws = websocket;\n",
       "\n",
       "    this.supports_binary = (this.ws.binaryType != undefined);\n",
       "\n",
       "    if (!this.supports_binary) {\n",
       "        var warnings = document.getElementById(\"mpl-warnings\");\n",
       "        if (warnings) {\n",
       "            warnings.style.display = 'block';\n",
       "            warnings.textContent = (\n",
       "                \"This browser does not support binary websocket messages. \" +\n",
       "                    \"Performance may be slow.\");\n",
       "        }\n",
       "    }\n",
       "\n",
       "    this.imageObj = new Image();\n",
       "\n",
       "    this.context = undefined;\n",
       "    this.message = undefined;\n",
       "    this.canvas = undefined;\n",
       "    this.rubberband_canvas = undefined;\n",
       "    this.rubberband_context = undefined;\n",
       "    this.format_dropdown = undefined;\n",
       "\n",
       "    this.image_mode = 'full';\n",
       "\n",
       "    this.root = $('<div/>');\n",
       "    this._root_extra_style(this.root)\n",
       "    this.root.attr('style', 'display: inline-block');\n",
       "\n",
       "    $(parent_element).append(this.root);\n",
       "\n",
       "    this._init_header(this);\n",
       "    this._init_canvas(this);\n",
       "    this._init_toolbar(this);\n",
       "\n",
       "    var fig = this;\n",
       "\n",
       "    this.waiting = false;\n",
       "\n",
       "    this.ws.onopen =  function () {\n",
       "            fig.send_message(\"supports_binary\", {value: fig.supports_binary});\n",
       "            fig.send_message(\"send_image_mode\", {});\n",
       "            if (mpl.ratio != 1) {\n",
       "                fig.send_message(\"set_dpi_ratio\", {'dpi_ratio': mpl.ratio});\n",
       "            }\n",
       "            fig.send_message(\"refresh\", {});\n",
       "        }\n",
       "\n",
       "    this.imageObj.onload = function() {\n",
       "            if (fig.image_mode == 'full') {\n",
       "                // Full images could contain transparency (where diff images\n",
       "                // almost always do), so we need to clear the canvas so that\n",
       "                // there is no ghosting.\n",
       "                fig.context.clearRect(0, 0, fig.canvas.width, fig.canvas.height);\n",
       "            }\n",
       "            fig.context.drawImage(fig.imageObj, 0, 0);\n",
       "        };\n",
       "\n",
       "    this.imageObj.onunload = function() {\n",
       "        fig.ws.close();\n",
       "    }\n",
       "\n",
       "    this.ws.onmessage = this._make_on_message_function(this);\n",
       "\n",
       "    this.ondownload = ondownload;\n",
       "}\n",
       "\n",
       "mpl.figure.prototype._init_header = function() {\n",
       "    var titlebar = $(\n",
       "        '<div class=\"ui-dialog-titlebar ui-widget-header ui-corner-all ' +\n",
       "        'ui-helper-clearfix\"/>');\n",
       "    var titletext = $(\n",
       "        '<div class=\"ui-dialog-title\" style=\"width: 100%; ' +\n",
       "        'text-align: center; padding: 3px;\"/>');\n",
       "    titlebar.append(titletext)\n",
       "    this.root.append(titlebar);\n",
       "    this.header = titletext[0];\n",
       "}\n",
       "\n",
       "\n",
       "\n",
       "mpl.figure.prototype._canvas_extra_style = function(canvas_div) {\n",
       "\n",
       "}\n",
       "\n",
       "\n",
       "mpl.figure.prototype._root_extra_style = function(canvas_div) {\n",
       "\n",
       "}\n",
       "\n",
       "mpl.figure.prototype._init_canvas = function() {\n",
       "    var fig = this;\n",
       "\n",
       "    var canvas_div = $('<div/>');\n",
       "\n",
       "    canvas_div.attr('style', 'position: relative; clear: both; outline: 0');\n",
       "\n",
       "    function canvas_keyboard_event(event) {\n",
       "        return fig.key_event(event, event['data']);\n",
       "    }\n",
       "\n",
       "    canvas_div.keydown('key_press', canvas_keyboard_event);\n",
       "    canvas_div.keyup('key_release', canvas_keyboard_event);\n",
       "    this.canvas_div = canvas_div\n",
       "    this._canvas_extra_style(canvas_div)\n",
       "    this.root.append(canvas_div);\n",
       "\n",
       "    var canvas = $('<canvas/>');\n",
       "    canvas.addClass('mpl-canvas');\n",
       "    canvas.attr('style', \"left: 0; top: 0; z-index: 0; outline: 0\")\n",
       "\n",
       "    this.canvas = canvas[0];\n",
       "    this.context = canvas[0].getContext(\"2d\");\n",
       "\n",
       "    var backingStore = this.context.backingStorePixelRatio ||\n",
       "\tthis.context.webkitBackingStorePixelRatio ||\n",
       "\tthis.context.mozBackingStorePixelRatio ||\n",
       "\tthis.context.msBackingStorePixelRatio ||\n",
       "\tthis.context.oBackingStorePixelRatio ||\n",
       "\tthis.context.backingStorePixelRatio || 1;\n",
       "\n",
       "    mpl.ratio = (window.devicePixelRatio || 1) / backingStore;\n",
       "\n",
       "    var rubberband = $('<canvas/>');\n",
       "    rubberband.attr('style', \"position: absolute; left: 0; top: 0; z-index: 1;\")\n",
       "\n",
       "    var pass_mouse_events = true;\n",
       "\n",
       "    canvas_div.resizable({\n",
       "        start: function(event, ui) {\n",
       "            pass_mouse_events = false;\n",
       "        },\n",
       "        resize: function(event, ui) {\n",
       "            fig.request_resize(ui.size.width, ui.size.height);\n",
       "        },\n",
       "        stop: function(event, ui) {\n",
       "            pass_mouse_events = true;\n",
       "            fig.request_resize(ui.size.width, ui.size.height);\n",
       "        },\n",
       "    });\n",
       "\n",
       "    function mouse_event_fn(event) {\n",
       "        if (pass_mouse_events)\n",
       "            return fig.mouse_event(event, event['data']);\n",
       "    }\n",
       "\n",
       "    rubberband.mousedown('button_press', mouse_event_fn);\n",
       "    rubberband.mouseup('button_release', mouse_event_fn);\n",
       "    // Throttle sequential mouse events to 1 every 20ms.\n",
       "    rubberband.mousemove('motion_notify', mouse_event_fn);\n",
       "\n",
       "    rubberband.mouseenter('figure_enter', mouse_event_fn);\n",
       "    rubberband.mouseleave('figure_leave', mouse_event_fn);\n",
       "\n",
       "    canvas_div.on(\"wheel\", function (event) {\n",
       "        event = event.originalEvent;\n",
       "        event['data'] = 'scroll'\n",
       "        if (event.deltaY < 0) {\n",
       "            event.step = 1;\n",
       "        } else {\n",
       "            event.step = -1;\n",
       "        }\n",
       "        mouse_event_fn(event);\n",
       "    });\n",
       "\n",
       "    canvas_div.append(canvas);\n",
       "    canvas_div.append(rubberband);\n",
       "\n",
       "    this.rubberband = rubberband;\n",
       "    this.rubberband_canvas = rubberband[0];\n",
       "    this.rubberband_context = rubberband[0].getContext(\"2d\");\n",
       "    this.rubberband_context.strokeStyle = \"#000000\";\n",
       "\n",
       "    this._resize_canvas = function(width, height) {\n",
       "        // Keep the size of the canvas, canvas container, and rubber band\n",
       "        // canvas in synch.\n",
       "        canvas_div.css('width', width)\n",
       "        canvas_div.css('height', height)\n",
       "\n",
       "        canvas.attr('width', width * mpl.ratio);\n",
       "        canvas.attr('height', height * mpl.ratio);\n",
       "        canvas.attr('style', 'width: ' + width + 'px; height: ' + height + 'px;');\n",
       "\n",
       "        rubberband.attr('width', width);\n",
       "        rubberband.attr('height', height);\n",
       "    }\n",
       "\n",
       "    // Set the figure to an initial 600x600px, this will subsequently be updated\n",
       "    // upon first draw.\n",
       "    this._resize_canvas(600, 600);\n",
       "\n",
       "    // Disable right mouse context menu.\n",
       "    $(this.rubberband_canvas).bind(\"contextmenu\",function(e){\n",
       "        return false;\n",
       "    });\n",
       "\n",
       "    function set_focus () {\n",
       "        canvas.focus();\n",
       "        canvas_div.focus();\n",
       "    }\n",
       "\n",
       "    window.setTimeout(set_focus, 100);\n",
       "}\n",
       "\n",
       "mpl.figure.prototype._init_toolbar = function() {\n",
       "    var fig = this;\n",
       "\n",
       "    var nav_element = $('<div/>')\n",
       "    nav_element.attr('style', 'width: 100%');\n",
       "    this.root.append(nav_element);\n",
       "\n",
       "    // Define a callback function for later on.\n",
       "    function toolbar_event(event) {\n",
       "        return fig.toolbar_button_onclick(event['data']);\n",
       "    }\n",
       "    function toolbar_mouse_event(event) {\n",
       "        return fig.toolbar_button_onmouseover(event['data']);\n",
       "    }\n",
       "\n",
       "    for(var toolbar_ind in mpl.toolbar_items) {\n",
       "        var name = mpl.toolbar_items[toolbar_ind][0];\n",
       "        var tooltip = mpl.toolbar_items[toolbar_ind][1];\n",
       "        var image = mpl.toolbar_items[toolbar_ind][2];\n",
       "        var method_name = mpl.toolbar_items[toolbar_ind][3];\n",
       "\n",
       "        if (!name) {\n",
       "            // put a spacer in here.\n",
       "            continue;\n",
       "        }\n",
       "        var button = $('<button/>');\n",
       "        button.addClass('ui-button ui-widget ui-state-default ui-corner-all ' +\n",
       "                        'ui-button-icon-only');\n",
       "        button.attr('role', 'button');\n",
       "        button.attr('aria-disabled', 'false');\n",
       "        button.click(method_name, toolbar_event);\n",
       "        button.mouseover(tooltip, toolbar_mouse_event);\n",
       "\n",
       "        var icon_img = $('<span/>');\n",
       "        icon_img.addClass('ui-button-icon-primary ui-icon');\n",
       "        icon_img.addClass(image);\n",
       "        icon_img.addClass('ui-corner-all');\n",
       "\n",
       "        var tooltip_span = $('<span/>');\n",
       "        tooltip_span.addClass('ui-button-text');\n",
       "        tooltip_span.html(tooltip);\n",
       "\n",
       "        button.append(icon_img);\n",
       "        button.append(tooltip_span);\n",
       "\n",
       "        nav_element.append(button);\n",
       "    }\n",
       "\n",
       "    var fmt_picker_span = $('<span/>');\n",
       "\n",
       "    var fmt_picker = $('<select/>');\n",
       "    fmt_picker.addClass('mpl-toolbar-option ui-widget ui-widget-content');\n",
       "    fmt_picker_span.append(fmt_picker);\n",
       "    nav_element.append(fmt_picker_span);\n",
       "    this.format_dropdown = fmt_picker[0];\n",
       "\n",
       "    for (var ind in mpl.extensions) {\n",
       "        var fmt = mpl.extensions[ind];\n",
       "        var option = $(\n",
       "            '<option/>', {selected: fmt === mpl.default_extension}).html(fmt);\n",
       "        fmt_picker.append(option)\n",
       "    }\n",
       "\n",
       "    // Add hover states to the ui-buttons\n",
       "    $( \".ui-button\" ).hover(\n",
       "        function() { $(this).addClass(\"ui-state-hover\");},\n",
       "        function() { $(this).removeClass(\"ui-state-hover\");}\n",
       "    );\n",
       "\n",
       "    var status_bar = $('<span class=\"mpl-message\"/>');\n",
       "    nav_element.append(status_bar);\n",
       "    this.message = status_bar[0];\n",
       "}\n",
       "\n",
       "mpl.figure.prototype.request_resize = function(x_pixels, y_pixels) {\n",
       "    // Request matplotlib to resize the figure. Matplotlib will then trigger a resize in the client,\n",
       "    // which will in turn request a refresh of the image.\n",
       "    this.send_message('resize', {'width': x_pixels, 'height': y_pixels});\n",
       "}\n",
       "\n",
       "mpl.figure.prototype.send_message = function(type, properties) {\n",
       "    properties['type'] = type;\n",
       "    properties['figure_id'] = this.id;\n",
       "    this.ws.send(JSON.stringify(properties));\n",
       "}\n",
       "\n",
       "mpl.figure.prototype.send_draw_message = function() {\n",
       "    if (!this.waiting) {\n",
       "        this.waiting = true;\n",
       "        this.ws.send(JSON.stringify({type: \"draw\", figure_id: this.id}));\n",
       "    }\n",
       "}\n",
       "\n",
       "\n",
       "mpl.figure.prototype.handle_save = function(fig, msg) {\n",
       "    var format_dropdown = fig.format_dropdown;\n",
       "    var format = format_dropdown.options[format_dropdown.selectedIndex].value;\n",
       "    fig.ondownload(fig, format);\n",
       "}\n",
       "\n",
       "\n",
       "mpl.figure.prototype.handle_resize = function(fig, msg) {\n",
       "    var size = msg['size'];\n",
       "    if (size[0] != fig.canvas.width || size[1] != fig.canvas.height) {\n",
       "        fig._resize_canvas(size[0], size[1]);\n",
       "        fig.send_message(\"refresh\", {});\n",
       "    };\n",
       "}\n",
       "\n",
       "mpl.figure.prototype.handle_rubberband = function(fig, msg) {\n",
       "    var x0 = msg['x0'] / mpl.ratio;\n",
       "    var y0 = (fig.canvas.height - msg['y0']) / mpl.ratio;\n",
       "    var x1 = msg['x1'] / mpl.ratio;\n",
       "    var y1 = (fig.canvas.height - msg['y1']) / mpl.ratio;\n",
       "    x0 = Math.floor(x0) + 0.5;\n",
       "    y0 = Math.floor(y0) + 0.5;\n",
       "    x1 = Math.floor(x1) + 0.5;\n",
       "    y1 = Math.floor(y1) + 0.5;\n",
       "    var min_x = Math.min(x0, x1);\n",
       "    var min_y = Math.min(y0, y1);\n",
       "    var width = Math.abs(x1 - x0);\n",
       "    var height = Math.abs(y1 - y0);\n",
       "\n",
       "    fig.rubberband_context.clearRect(\n",
       "        0, 0, fig.canvas.width, fig.canvas.height);\n",
       "\n",
       "    fig.rubberband_context.strokeRect(min_x, min_y, width, height);\n",
       "}\n",
       "\n",
       "mpl.figure.prototype.handle_figure_label = function(fig, msg) {\n",
       "    // Updates the figure title.\n",
       "    fig.header.textContent = msg['label'];\n",
       "}\n",
       "\n",
       "mpl.figure.prototype.handle_cursor = function(fig, msg) {\n",
       "    var cursor = msg['cursor'];\n",
       "    switch(cursor)\n",
       "    {\n",
       "    case 0:\n",
       "        cursor = 'pointer';\n",
       "        break;\n",
       "    case 1:\n",
       "        cursor = 'default';\n",
       "        break;\n",
       "    case 2:\n",
       "        cursor = 'crosshair';\n",
       "        break;\n",
       "    case 3:\n",
       "        cursor = 'move';\n",
       "        break;\n",
       "    }\n",
       "    fig.rubberband_canvas.style.cursor = cursor;\n",
       "}\n",
       "\n",
       "mpl.figure.prototype.handle_message = function(fig, msg) {\n",
       "    fig.message.textContent = msg['message'];\n",
       "}\n",
       "\n",
       "mpl.figure.prototype.handle_draw = function(fig, msg) {\n",
       "    // Request the server to send over a new figure.\n",
       "    fig.send_draw_message();\n",
       "}\n",
       "\n",
       "mpl.figure.prototype.handle_image_mode = function(fig, msg) {\n",
       "    fig.image_mode = msg['mode'];\n",
       "}\n",
       "\n",
       "mpl.figure.prototype.updated_canvas_event = function() {\n",
       "    // Called whenever the canvas gets updated.\n",
       "    this.send_message(\"ack\", {});\n",
       "}\n",
       "\n",
       "// A function to construct a web socket function for onmessage handling.\n",
       "// Called in the figure constructor.\n",
       "mpl.figure.prototype._make_on_message_function = function(fig) {\n",
       "    return function socket_on_message(evt) {\n",
       "        if (evt.data instanceof Blob) {\n",
       "            /* FIXME: We get \"Resource interpreted as Image but\n",
       "             * transferred with MIME type text/plain:\" errors on\n",
       "             * Chrome.  But how to set the MIME type?  It doesn't seem\n",
       "             * to be part of the websocket stream */\n",
       "            evt.data.type = \"image/png\";\n",
       "\n",
       "            /* Free the memory for the previous frames */\n",
       "            if (fig.imageObj.src) {\n",
       "                (window.URL || window.webkitURL).revokeObjectURL(\n",
       "                    fig.imageObj.src);\n",
       "            }\n",
       "\n",
       "            fig.imageObj.src = (window.URL || window.webkitURL).createObjectURL(\n",
       "                evt.data);\n",
       "            fig.updated_canvas_event();\n",
       "            fig.waiting = false;\n",
       "            return;\n",
       "        }\n",
       "        else if (typeof evt.data === 'string' && evt.data.slice(0, 21) == \"data:image/png;base64\") {\n",
       "            fig.imageObj.src = evt.data;\n",
       "            fig.updated_canvas_event();\n",
       "            fig.waiting = false;\n",
       "            return;\n",
       "        }\n",
       "\n",
       "        var msg = JSON.parse(evt.data);\n",
       "        var msg_type = msg['type'];\n",
       "\n",
       "        // Call the  \"handle_{type}\" callback, which takes\n",
       "        // the figure and JSON message as its only arguments.\n",
       "        try {\n",
       "            var callback = fig[\"handle_\" + msg_type];\n",
       "        } catch (e) {\n",
       "            console.log(\"No handler for the '\" + msg_type + \"' message type: \", msg);\n",
       "            return;\n",
       "        }\n",
       "\n",
       "        if (callback) {\n",
       "            try {\n",
       "                // console.log(\"Handling '\" + msg_type + \"' message: \", msg);\n",
       "                callback(fig, msg);\n",
       "            } catch (e) {\n",
       "                console.log(\"Exception inside the 'handler_\" + msg_type + \"' callback:\", e, e.stack, msg);\n",
       "            }\n",
       "        }\n",
       "    };\n",
       "}\n",
       "\n",
       "// from http://stackoverflow.com/questions/1114465/getting-mouse-location-in-canvas\n",
       "mpl.findpos = function(e) {\n",
       "    //this section is from http://www.quirksmode.org/js/events_properties.html\n",
       "    var targ;\n",
       "    if (!e)\n",
       "        e = window.event;\n",
       "    if (e.target)\n",
       "        targ = e.target;\n",
       "    else if (e.srcElement)\n",
       "        targ = e.srcElement;\n",
       "    if (targ.nodeType == 3) // defeat Safari bug\n",
       "        targ = targ.parentNode;\n",
       "\n",
       "    // jQuery normalizes the pageX and pageY\n",
       "    // pageX,Y are the mouse positions relative to the document\n",
       "    // offset() returns the position of the element relative to the document\n",
       "    var x = e.pageX - $(targ).offset().left;\n",
       "    var y = e.pageY - $(targ).offset().top;\n",
       "\n",
       "    return {\"x\": x, \"y\": y};\n",
       "};\n",
       "\n",
       "/*\n",
       " * return a copy of an object with only non-object keys\n",
       " * we need this to avoid circular references\n",
       " * http://stackoverflow.com/a/24161582/3208463\n",
       " */\n",
       "function simpleKeys (original) {\n",
       "  return Object.keys(original).reduce(function (obj, key) {\n",
       "    if (typeof original[key] !== 'object')\n",
       "        obj[key] = original[key]\n",
       "    return obj;\n",
       "  }, {});\n",
       "}\n",
       "\n",
       "mpl.figure.prototype.mouse_event = function(event, name) {\n",
       "    var canvas_pos = mpl.findpos(event)\n",
       "\n",
       "    if (name === 'button_press')\n",
       "    {\n",
       "        this.canvas.focus();\n",
       "        this.canvas_div.focus();\n",
       "    }\n",
       "\n",
       "    var x = canvas_pos.x * mpl.ratio;\n",
       "    var y = canvas_pos.y * mpl.ratio;\n",
       "\n",
       "    this.send_message(name, {x: x, y: y, button: event.button,\n",
       "                             step: event.step,\n",
       "                             guiEvent: simpleKeys(event)});\n",
       "\n",
       "    /* This prevents the web browser from automatically changing to\n",
       "     * the text insertion cursor when the button is pressed.  We want\n",
       "     * to control all of the cursor setting manually through the\n",
       "     * 'cursor' event from matplotlib */\n",
       "    event.preventDefault();\n",
       "    return false;\n",
       "}\n",
       "\n",
       "mpl.figure.prototype._key_event_extra = function(event, name) {\n",
       "    // Handle any extra behaviour associated with a key event\n",
       "}\n",
       "\n",
       "mpl.figure.prototype.key_event = function(event, name) {\n",
       "\n",
       "    // Prevent repeat events\n",
       "    if (name == 'key_press')\n",
       "    {\n",
       "        if (event.which === this._key)\n",
       "            return;\n",
       "        else\n",
       "            this._key = event.which;\n",
       "    }\n",
       "    if (name == 'key_release')\n",
       "        this._key = null;\n",
       "\n",
       "    var value = '';\n",
       "    if (event.ctrlKey && event.which != 17)\n",
       "        value += \"ctrl+\";\n",
       "    if (event.altKey && event.which != 18)\n",
       "        value += \"alt+\";\n",
       "    if (event.shiftKey && event.which != 16)\n",
       "        value += \"shift+\";\n",
       "\n",
       "    value += 'k';\n",
       "    value += event.which.toString();\n",
       "\n",
       "    this._key_event_extra(event, name);\n",
       "\n",
       "    this.send_message(name, {key: value,\n",
       "                             guiEvent: simpleKeys(event)});\n",
       "    return false;\n",
       "}\n",
       "\n",
       "mpl.figure.prototype.toolbar_button_onclick = function(name) {\n",
       "    if (name == 'download') {\n",
       "        this.handle_save(this, null);\n",
       "    } else {\n",
       "        this.send_message(\"toolbar_button\", {name: name});\n",
       "    }\n",
       "};\n",
       "\n",
       "mpl.figure.prototype.toolbar_button_onmouseover = function(tooltip) {\n",
       "    this.message.textContent = tooltip;\n",
       "};\n",
       "mpl.toolbar_items = [[\"Home\", \"Reset original view\", \"fa fa-home icon-home\", \"home\"], [\"Back\", \"Back to  previous view\", \"fa fa-arrow-left icon-arrow-left\", \"back\"], [\"Forward\", \"Forward to next view\", \"fa fa-arrow-right icon-arrow-right\", \"forward\"], [\"\", \"\", \"\", \"\"], [\"Pan\", \"Pan axes with left mouse, zoom with right\", \"fa fa-arrows icon-move\", \"pan\"], [\"Zoom\", \"Zoom to rectangle\", \"fa fa-square-o icon-check-empty\", \"zoom\"], [\"\", \"\", \"\", \"\"], [\"Download\", \"Download plot\", \"fa fa-floppy-o icon-save\", \"download\"]];\n",
       "\n",
       "mpl.extensions = [\"eps\", \"jpeg\", \"pdf\", \"png\", \"ps\", \"raw\", \"svg\", \"tif\"];\n",
       "\n",
       "mpl.default_extension = \"png\";var comm_websocket_adapter = function(comm) {\n",
       "    // Create a \"websocket\"-like object which calls the given IPython comm\n",
       "    // object with the appropriate methods. Currently this is a non binary\n",
       "    // socket, so there is still some room for performance tuning.\n",
       "    var ws = {};\n",
       "\n",
       "    ws.close = function() {\n",
       "        comm.close()\n",
       "    };\n",
       "    ws.send = function(m) {\n",
       "        //console.log('sending', m);\n",
       "        comm.send(m);\n",
       "    };\n",
       "    // Register the callback with on_msg.\n",
       "    comm.on_msg(function(msg) {\n",
       "        //console.log('receiving', msg['content']['data'], msg);\n",
       "        // Pass the mpl event to the overriden (by mpl) onmessage function.\n",
       "        ws.onmessage(msg['content']['data'])\n",
       "    });\n",
       "    return ws;\n",
       "}\n",
       "\n",
       "mpl.mpl_figure_comm = function(comm, msg) {\n",
       "    // This is the function which gets called when the mpl process\n",
       "    // starts-up an IPython Comm through the \"matplotlib\" channel.\n",
       "\n",
       "    var id = msg.content.data.id;\n",
       "    // Get hold of the div created by the display call when the Comm\n",
       "    // socket was opened in Python.\n",
       "    var element = $(\"#\" + id);\n",
       "    var ws_proxy = comm_websocket_adapter(comm)\n",
       "\n",
       "    function ondownload(figure, format) {\n",
       "        window.open(figure.imageObj.src);\n",
       "    }\n",
       "\n",
       "    var fig = new mpl.figure(id, ws_proxy,\n",
       "                           ondownload,\n",
       "                           element.get(0));\n",
       "\n",
       "    // Call onopen now - mpl needs it, as it is assuming we've passed it a real\n",
       "    // web socket which is closed, not our websocket->open comm proxy.\n",
       "    ws_proxy.onopen();\n",
       "\n",
       "    fig.parent_element = element.get(0);\n",
       "    fig.cell_info = mpl.find_output_cell(\"<div id='\" + id + \"'></div>\");\n",
       "    if (!fig.cell_info) {\n",
       "        console.error(\"Failed to find cell for figure\", id, fig);\n",
       "        return;\n",
       "    }\n",
       "\n",
       "    var output_index = fig.cell_info[2]\n",
       "    var cell = fig.cell_info[0];\n",
       "\n",
       "};\n",
       "\n",
       "mpl.figure.prototype.handle_close = function(fig, msg) {\n",
       "    var width = fig.canvas.width/mpl.ratio\n",
       "    fig.root.unbind('remove')\n",
       "\n",
       "    // Update the output cell to use the data from the current canvas.\n",
       "    fig.push_to_output();\n",
       "    var dataURL = fig.canvas.toDataURL();\n",
       "    // Re-enable the keyboard manager in IPython - without this line, in FF,\n",
       "    // the notebook keyboard shortcuts fail.\n",
       "    IPython.keyboard_manager.enable()\n",
       "    $(fig.parent_element).html('<img src=\"' + dataURL + '\" width=\"' + width + '\">');\n",
       "    fig.close_ws(fig, msg);\n",
       "}\n",
       "\n",
       "mpl.figure.prototype.close_ws = function(fig, msg){\n",
       "    fig.send_message('closing', msg);\n",
       "    // fig.ws.close()\n",
       "}\n",
       "\n",
       "mpl.figure.prototype.push_to_output = function(remove_interactive) {\n",
       "    // Turn the data on the canvas into data in the output cell.\n",
       "    var width = this.canvas.width/mpl.ratio\n",
       "    var dataURL = this.canvas.toDataURL();\n",
       "    this.cell_info[1]['text/html'] = '<img src=\"' + dataURL + '\" width=\"' + width + '\">';\n",
       "}\n",
       "\n",
       "mpl.figure.prototype.updated_canvas_event = function() {\n",
       "    // Tell IPython that the notebook contents must change.\n",
       "    IPython.notebook.set_dirty(true);\n",
       "    this.send_message(\"ack\", {});\n",
       "    var fig = this;\n",
       "    // Wait a second, then push the new image to the DOM so\n",
       "    // that it is saved nicely (might be nice to debounce this).\n",
       "    setTimeout(function () { fig.push_to_output() }, 1000);\n",
       "}\n",
       "\n",
       "mpl.figure.prototype._init_toolbar = function() {\n",
       "    var fig = this;\n",
       "\n",
       "    var nav_element = $('<div/>')\n",
       "    nav_element.attr('style', 'width: 100%');\n",
       "    this.root.append(nav_element);\n",
       "\n",
       "    // Define a callback function for later on.\n",
       "    function toolbar_event(event) {\n",
       "        return fig.toolbar_button_onclick(event['data']);\n",
       "    }\n",
       "    function toolbar_mouse_event(event) {\n",
       "        return fig.toolbar_button_onmouseover(event['data']);\n",
       "    }\n",
       "\n",
       "    for(var toolbar_ind in mpl.toolbar_items){\n",
       "        var name = mpl.toolbar_items[toolbar_ind][0];\n",
       "        var tooltip = mpl.toolbar_items[toolbar_ind][1];\n",
       "        var image = mpl.toolbar_items[toolbar_ind][2];\n",
       "        var method_name = mpl.toolbar_items[toolbar_ind][3];\n",
       "\n",
       "        if (!name) { continue; };\n",
       "\n",
       "        var button = $('<button class=\"btn btn-default\" href=\"#\" title=\"' + name + '\"><i class=\"fa ' + image + ' fa-lg\"></i></button>');\n",
       "        button.click(method_name, toolbar_event);\n",
       "        button.mouseover(tooltip, toolbar_mouse_event);\n",
       "        nav_element.append(button);\n",
       "    }\n",
       "\n",
       "    // Add the status bar.\n",
       "    var status_bar = $('<span class=\"mpl-message\" style=\"text-align:right; float: right;\"/>');\n",
       "    nav_element.append(status_bar);\n",
       "    this.message = status_bar[0];\n",
       "\n",
       "    // Add the close button to the window.\n",
       "    var buttongrp = $('<div class=\"btn-group inline pull-right\"></div>');\n",
       "    var button = $('<button class=\"btn btn-mini btn-primary\" href=\"#\" title=\"Stop Interaction\"><i class=\"fa fa-power-off icon-remove icon-large\"></i></button>');\n",
       "    button.click(function (evt) { fig.handle_close(fig, {}); } );\n",
       "    button.mouseover('Stop Interaction', toolbar_mouse_event);\n",
       "    buttongrp.append(button);\n",
       "    var titlebar = this.root.find($('.ui-dialog-titlebar'));\n",
       "    titlebar.prepend(buttongrp);\n",
       "}\n",
       "\n",
       "mpl.figure.prototype._root_extra_style = function(el){\n",
       "    var fig = this\n",
       "    el.on(\"remove\", function(){\n",
       "\tfig.close_ws(fig, {});\n",
       "    });\n",
       "}\n",
       "\n",
       "mpl.figure.prototype._canvas_extra_style = function(el){\n",
       "    // this is important to make the div 'focusable\n",
       "    el.attr('tabindex', 0)\n",
       "    // reach out to IPython and tell the keyboard manager to turn it's self\n",
       "    // off when our div gets focus\n",
       "\n",
       "    // location in version 3\n",
       "    if (IPython.notebook.keyboard_manager) {\n",
       "        IPython.notebook.keyboard_manager.register_events(el);\n",
       "    }\n",
       "    else {\n",
       "        // location in version 2\n",
       "        IPython.keyboard_manager.register_events(el);\n",
       "    }\n",
       "\n",
       "}\n",
       "\n",
       "mpl.figure.prototype._key_event_extra = function(event, name) {\n",
       "    var manager = IPython.notebook.keyboard_manager;\n",
       "    if (!manager)\n",
       "        manager = IPython.keyboard_manager;\n",
       "\n",
       "    // Check for shift+enter\n",
       "    if (event.shiftKey && event.which == 13) {\n",
       "        this.canvas_div.blur();\n",
       "        event.shiftKey = false;\n",
       "        // Send a \"J\" for go to next cell\n",
       "        event.which = 74;\n",
       "        event.keyCode = 74;\n",
       "        manager.command_mode();\n",
       "        manager.handle_keydown(event);\n",
       "    }\n",
       "}\n",
       "\n",
       "mpl.figure.prototype.handle_save = function(fig, msg) {\n",
       "    fig.ondownload(fig, null);\n",
       "}\n",
       "\n",
       "\n",
       "mpl.find_output_cell = function(html_output) {\n",
       "    // Return the cell and output element which can be found *uniquely* in the notebook.\n",
       "    // Note - this is a bit hacky, but it is done because the \"notebook_saving.Notebook\"\n",
       "    // IPython event is triggered only after the cells have been serialised, which for\n",
       "    // our purposes (turning an active figure into a static one), is too late.\n",
       "    var cells = IPython.notebook.get_cells();\n",
       "    var ncells = cells.length;\n",
       "    for (var i=0; i<ncells; i++) {\n",
       "        var cell = cells[i];\n",
       "        if (cell.cell_type === 'code'){\n",
       "            for (var j=0; j<cell.output_area.outputs.length; j++) {\n",
       "                var data = cell.output_area.outputs[j];\n",
       "                if (data.data) {\n",
       "                    // IPython >= 3 moved mimebundle to data attribute of output\n",
       "                    data = data.data;\n",
       "                }\n",
       "                if (data['text/html'] == html_output) {\n",
       "                    return [cell, data, j];\n",
       "                }\n",
       "            }\n",
       "        }\n",
       "    }\n",
       "}\n",
       "\n",
       "// Register the function which deals with the matplotlib target/channel.\n",
       "// The kernel may be null if the page has been refreshed.\n",
       "if (IPython.notebook.kernel != null) {\n",
       "    IPython.notebook.kernel.comm_manager.register_target('matplotlib', mpl.mpl_figure_comm);\n",
       "}\n"
      ],
      "text/plain": [
       "<IPython.core.display.Javascript object>"
      ]
     },
     "metadata": {},
     "output_type": "display_data"
    },
    {
     "data": {
      "text/html": [
       "<img src=\"data:image/png;base64,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\" width=\"638.888905813665\">"
      ],
      "text/plain": [
       "<IPython.core.display.HTML object>"
      ]
     },
     "metadata": {},
     "output_type": "display_data"
    },
    {
     "data": {
      "application/vnd.jupyter.widget-view+json": {
       "model_id": "5daa2202c57b48a9acf2a6d7f49bc72b"
      }
     },
     "metadata": {},
     "output_type": "display_data"
    },
    {
     "data": {
      "application/vnd.jupyter.widget-view+json": {
       "model_id": "5131b20bb52b4c4bb0f7552b5ae3336d"
      }
     },
     "metadata": {},
     "output_type": "display_data"
    },
    {
     "data": {
      "application/vnd.jupyter.widget-view+json": {
       "model_id": "ce08e71faf204b9ba64da1c040bfd2a0"
      }
     },
     "metadata": {},
     "output_type": "display_data"
    },
    {
     "data": {
      "application/vnd.jupyter.widget-view+json": {
       "model_id": "d4d2f294b04844c7a9a81d0077a743b6"
      }
     },
     "metadata": {},
     "output_type": "display_data"
    },
    {
     "data": {
      "application/vnd.jupyter.widget-view+json": {
       "model_id": "33056701f17047d987fe91e6e31d84f2"
      }
     },
     "metadata": {},
     "output_type": "display_data"
    },
    {
     "data": {
      "application/vnd.jupyter.widget-view+json": {
       "model_id": "18ae385bd6684cbca71add455ed29a7e"
      }
     },
     "metadata": {},
     "output_type": "display_data"
    }
   ],
   "source": [
    "f=skinc.normalize(100).plot(gui='jupyter',\n",
    "                            bary_fields=['common_term'],\n",
    "                            bary_label=False,\n",
    "                            feature_field=None,\n",
    "                            clim=[0,10])"
   ]
  },
  {
   "cell_type": "code",
   "execution_count": 14,
   "metadata": {
    "collapsed": true,
    "run_control": {
     "frozen": false,
     "read_only": false
    }
   },
   "outputs": [],
   "source": [
    "f.save_figure('figure-S3A-ag-skin-all.pdf')"
   ]
  },
  {
   "cell_type": "markdown",
   "metadata": {
    "run_control": {
     "frozen": false,
     "read_only": false
    }
   },
   "source": [
    "## plot skin cluster bacteria (fig S3-B)"
   ]
  },
  {
   "cell_type": "code",
   "execution_count": 15,
   "metadata": {
    "run_control": {
     "frozen": false,
     "read_only": false
    }
   },
   "outputs": [
    {
     "data": {
      "application/javascript": [
       "/* Put everything inside the global mpl namespace */\n",
       "window.mpl = {};\n",
       "\n",
       "\n",
       "mpl.get_websocket_type = function() {\n",
       "    if (typeof(WebSocket) !== 'undefined') {\n",
       "        return WebSocket;\n",
       "    } else if (typeof(MozWebSocket) !== 'undefined') {\n",
       "        return MozWebSocket;\n",
       "    } else {\n",
       "        alert('Your browser does not have WebSocket support.' +\n",
       "              'Please try Chrome, Safari or Firefox ≥ 6. ' +\n",
       "              'Firefox 4 and 5 are also supported but you ' +\n",
       "              'have to enable WebSockets in about:config.');\n",
       "    };\n",
       "}\n",
       "\n",
       "mpl.figure = function(figure_id, websocket, ondownload, parent_element) {\n",
       "    this.id = figure_id;\n",
       "\n",
       "    this.ws = websocket;\n",
       "\n",
       "    this.supports_binary = (this.ws.binaryType != undefined);\n",
       "\n",
       "    if (!this.supports_binary) {\n",
       "        var warnings = document.getElementById(\"mpl-warnings\");\n",
       "        if (warnings) {\n",
       "            warnings.style.display = 'block';\n",
       "            warnings.textContent = (\n",
       "                \"This browser does not support binary websocket messages. \" +\n",
       "                    \"Performance may be slow.\");\n",
       "        }\n",
       "    }\n",
       "\n",
       "    this.imageObj = new Image();\n",
       "\n",
       "    this.context = undefined;\n",
       "    this.message = undefined;\n",
       "    this.canvas = undefined;\n",
       "    this.rubberband_canvas = undefined;\n",
       "    this.rubberband_context = undefined;\n",
       "    this.format_dropdown = undefined;\n",
       "\n",
       "    this.image_mode = 'full';\n",
       "\n",
       "    this.root = $('<div/>');\n",
       "    this._root_extra_style(this.root)\n",
       "    this.root.attr('style', 'display: inline-block');\n",
       "\n",
       "    $(parent_element).append(this.root);\n",
       "\n",
       "    this._init_header(this);\n",
       "    this._init_canvas(this);\n",
       "    this._init_toolbar(this);\n",
       "\n",
       "    var fig = this;\n",
       "\n",
       "    this.waiting = false;\n",
       "\n",
       "    this.ws.onopen =  function () {\n",
       "            fig.send_message(\"supports_binary\", {value: fig.supports_binary});\n",
       "            fig.send_message(\"send_image_mode\", {});\n",
       "            if (mpl.ratio != 1) {\n",
       "                fig.send_message(\"set_dpi_ratio\", {'dpi_ratio': mpl.ratio});\n",
       "            }\n",
       "            fig.send_message(\"refresh\", {});\n",
       "        }\n",
       "\n",
       "    this.imageObj.onload = function() {\n",
       "            if (fig.image_mode == 'full') {\n",
       "                // Full images could contain transparency (where diff images\n",
       "                // almost always do), so we need to clear the canvas so that\n",
       "                // there is no ghosting.\n",
       "                fig.context.clearRect(0, 0, fig.canvas.width, fig.canvas.height);\n",
       "            }\n",
       "            fig.context.drawImage(fig.imageObj, 0, 0);\n",
       "        };\n",
       "\n",
       "    this.imageObj.onunload = function() {\n",
       "        fig.ws.close();\n",
       "    }\n",
       "\n",
       "    this.ws.onmessage = this._make_on_message_function(this);\n",
       "\n",
       "    this.ondownload = ondownload;\n",
       "}\n",
       "\n",
       "mpl.figure.prototype._init_header = function() {\n",
       "    var titlebar = $(\n",
       "        '<div class=\"ui-dialog-titlebar ui-widget-header ui-corner-all ' +\n",
       "        'ui-helper-clearfix\"/>');\n",
       "    var titletext = $(\n",
       "        '<div class=\"ui-dialog-title\" style=\"width: 100%; ' +\n",
       "        'text-align: center; padding: 3px;\"/>');\n",
       "    titlebar.append(titletext)\n",
       "    this.root.append(titlebar);\n",
       "    this.header = titletext[0];\n",
       "}\n",
       "\n",
       "\n",
       "\n",
       "mpl.figure.prototype._canvas_extra_style = function(canvas_div) {\n",
       "\n",
       "}\n",
       "\n",
       "\n",
       "mpl.figure.prototype._root_extra_style = function(canvas_div) {\n",
       "\n",
       "}\n",
       "\n",
       "mpl.figure.prototype._init_canvas = function() {\n",
       "    var fig = this;\n",
       "\n",
       "    var canvas_div = $('<div/>');\n",
       "\n",
       "    canvas_div.attr('style', 'position: relative; clear: both; outline: 0');\n",
       "\n",
       "    function canvas_keyboard_event(event) {\n",
       "        return fig.key_event(event, event['data']);\n",
       "    }\n",
       "\n",
       "    canvas_div.keydown('key_press', canvas_keyboard_event);\n",
       "    canvas_div.keyup('key_release', canvas_keyboard_event);\n",
       "    this.canvas_div = canvas_div\n",
       "    this._canvas_extra_style(canvas_div)\n",
       "    this.root.append(canvas_div);\n",
       "\n",
       "    var canvas = $('<canvas/>');\n",
       "    canvas.addClass('mpl-canvas');\n",
       "    canvas.attr('style', \"left: 0; top: 0; z-index: 0; outline: 0\")\n",
       "\n",
       "    this.canvas = canvas[0];\n",
       "    this.context = canvas[0].getContext(\"2d\");\n",
       "\n",
       "    var backingStore = this.context.backingStorePixelRatio ||\n",
       "\tthis.context.webkitBackingStorePixelRatio ||\n",
       "\tthis.context.mozBackingStorePixelRatio ||\n",
       "\tthis.context.msBackingStorePixelRatio ||\n",
       "\tthis.context.oBackingStorePixelRatio ||\n",
       "\tthis.context.backingStorePixelRatio || 1;\n",
       "\n",
       "    mpl.ratio = (window.devicePixelRatio || 1) / backingStore;\n",
       "\n",
       "    var rubberband = $('<canvas/>');\n",
       "    rubberband.attr('style', \"position: absolute; left: 0; top: 0; z-index: 1;\")\n",
       "\n",
       "    var pass_mouse_events = true;\n",
       "\n",
       "    canvas_div.resizable({\n",
       "        start: function(event, ui) {\n",
       "            pass_mouse_events = false;\n",
       "        },\n",
       "        resize: function(event, ui) {\n",
       "            fig.request_resize(ui.size.width, ui.size.height);\n",
       "        },\n",
       "        stop: function(event, ui) {\n",
       "            pass_mouse_events = true;\n",
       "            fig.request_resize(ui.size.width, ui.size.height);\n",
       "        },\n",
       "    });\n",
       "\n",
       "    function mouse_event_fn(event) {\n",
       "        if (pass_mouse_events)\n",
       "            return fig.mouse_event(event, event['data']);\n",
       "    }\n",
       "\n",
       "    rubberband.mousedown('button_press', mouse_event_fn);\n",
       "    rubberband.mouseup('button_release', mouse_event_fn);\n",
       "    // Throttle sequential mouse events to 1 every 20ms.\n",
       "    rubberband.mousemove('motion_notify', mouse_event_fn);\n",
       "\n",
       "    rubberband.mouseenter('figure_enter', mouse_event_fn);\n",
       "    rubberband.mouseleave('figure_leave', mouse_event_fn);\n",
       "\n",
       "    canvas_div.on(\"wheel\", function (event) {\n",
       "        event = event.originalEvent;\n",
       "        event['data'] = 'scroll'\n",
       "        if (event.deltaY < 0) {\n",
       "            event.step = 1;\n",
       "        } else {\n",
       "            event.step = -1;\n",
       "        }\n",
       "        mouse_event_fn(event);\n",
       "    });\n",
       "\n",
       "    canvas_div.append(canvas);\n",
       "    canvas_div.append(rubberband);\n",
       "\n",
       "    this.rubberband = rubberband;\n",
       "    this.rubberband_canvas = rubberband[0];\n",
       "    this.rubberband_context = rubberband[0].getContext(\"2d\");\n",
       "    this.rubberband_context.strokeStyle = \"#000000\";\n",
       "\n",
       "    this._resize_canvas = function(width, height) {\n",
       "        // Keep the size of the canvas, canvas container, and rubber band\n",
       "        // canvas in synch.\n",
       "        canvas_div.css('width', width)\n",
       "        canvas_div.css('height', height)\n",
       "\n",
       "        canvas.attr('width', width * mpl.ratio);\n",
       "        canvas.attr('height', height * mpl.ratio);\n",
       "        canvas.attr('style', 'width: ' + width + 'px; height: ' + height + 'px;');\n",
       "\n",
       "        rubberband.attr('width', width);\n",
       "        rubberband.attr('height', height);\n",
       "    }\n",
       "\n",
       "    // Set the figure to an initial 600x600px, this will subsequently be updated\n",
       "    // upon first draw.\n",
       "    this._resize_canvas(600, 600);\n",
       "\n",
       "    // Disable right mouse context menu.\n",
       "    $(this.rubberband_canvas).bind(\"contextmenu\",function(e){\n",
       "        return false;\n",
       "    });\n",
       "\n",
       "    function set_focus () {\n",
       "        canvas.focus();\n",
       "        canvas_div.focus();\n",
       "    }\n",
       "\n",
       "    window.setTimeout(set_focus, 100);\n",
       "}\n",
       "\n",
       "mpl.figure.prototype._init_toolbar = function() {\n",
       "    var fig = this;\n",
       "\n",
       "    var nav_element = $('<div/>')\n",
       "    nav_element.attr('style', 'width: 100%');\n",
       "    this.root.append(nav_element);\n",
       "\n",
       "    // Define a callback function for later on.\n",
       "    function toolbar_event(event) {\n",
       "        return fig.toolbar_button_onclick(event['data']);\n",
       "    }\n",
       "    function toolbar_mouse_event(event) {\n",
       "        return fig.toolbar_button_onmouseover(event['data']);\n",
       "    }\n",
       "\n",
       "    for(var toolbar_ind in mpl.toolbar_items) {\n",
       "        var name = mpl.toolbar_items[toolbar_ind][0];\n",
       "        var tooltip = mpl.toolbar_items[toolbar_ind][1];\n",
       "        var image = mpl.toolbar_items[toolbar_ind][2];\n",
       "        var method_name = mpl.toolbar_items[toolbar_ind][3];\n",
       "\n",
       "        if (!name) {\n",
       "            // put a spacer in here.\n",
       "            continue;\n",
       "        }\n",
       "        var button = $('<button/>');\n",
       "        button.addClass('ui-button ui-widget ui-state-default ui-corner-all ' +\n",
       "                        'ui-button-icon-only');\n",
       "        button.attr('role', 'button');\n",
       "        button.attr('aria-disabled', 'false');\n",
       "        button.click(method_name, toolbar_event);\n",
       "        button.mouseover(tooltip, toolbar_mouse_event);\n",
       "\n",
       "        var icon_img = $('<span/>');\n",
       "        icon_img.addClass('ui-button-icon-primary ui-icon');\n",
       "        icon_img.addClass(image);\n",
       "        icon_img.addClass('ui-corner-all');\n",
       "\n",
       "        var tooltip_span = $('<span/>');\n",
       "        tooltip_span.addClass('ui-button-text');\n",
       "        tooltip_span.html(tooltip);\n",
       "\n",
       "        button.append(icon_img);\n",
       "        button.append(tooltip_span);\n",
       "\n",
       "        nav_element.append(button);\n",
       "    }\n",
       "\n",
       "    var fmt_picker_span = $('<span/>');\n",
       "\n",
       "    var fmt_picker = $('<select/>');\n",
       "    fmt_picker.addClass('mpl-toolbar-option ui-widget ui-widget-content');\n",
       "    fmt_picker_span.append(fmt_picker);\n",
       "    nav_element.append(fmt_picker_span);\n",
       "    this.format_dropdown = fmt_picker[0];\n",
       "\n",
       "    for (var ind in mpl.extensions) {\n",
       "        var fmt = mpl.extensions[ind];\n",
       "        var option = $(\n",
       "            '<option/>', {selected: fmt === mpl.default_extension}).html(fmt);\n",
       "        fmt_picker.append(option)\n",
       "    }\n",
       "\n",
       "    // Add hover states to the ui-buttons\n",
       "    $( \".ui-button\" ).hover(\n",
       "        function() { $(this).addClass(\"ui-state-hover\");},\n",
       "        function() { $(this).removeClass(\"ui-state-hover\");}\n",
       "    );\n",
       "\n",
       "    var status_bar = $('<span class=\"mpl-message\"/>');\n",
       "    nav_element.append(status_bar);\n",
       "    this.message = status_bar[0];\n",
       "}\n",
       "\n",
       "mpl.figure.prototype.request_resize = function(x_pixels, y_pixels) {\n",
       "    // Request matplotlib to resize the figure. Matplotlib will then trigger a resize in the client,\n",
       "    // which will in turn request a refresh of the image.\n",
       "    this.send_message('resize', {'width': x_pixels, 'height': y_pixels});\n",
       "}\n",
       "\n",
       "mpl.figure.prototype.send_message = function(type, properties) {\n",
       "    properties['type'] = type;\n",
       "    properties['figure_id'] = this.id;\n",
       "    this.ws.send(JSON.stringify(properties));\n",
       "}\n",
       "\n",
       "mpl.figure.prototype.send_draw_message = function() {\n",
       "    if (!this.waiting) {\n",
       "        this.waiting = true;\n",
       "        this.ws.send(JSON.stringify({type: \"draw\", figure_id: this.id}));\n",
       "    }\n",
       "}\n",
       "\n",
       "\n",
       "mpl.figure.prototype.handle_save = function(fig, msg) {\n",
       "    var format_dropdown = fig.format_dropdown;\n",
       "    var format = format_dropdown.options[format_dropdown.selectedIndex].value;\n",
       "    fig.ondownload(fig, format);\n",
       "}\n",
       "\n",
       "\n",
       "mpl.figure.prototype.handle_resize = function(fig, msg) {\n",
       "    var size = msg['size'];\n",
       "    if (size[0] != fig.canvas.width || size[1] != fig.canvas.height) {\n",
       "        fig._resize_canvas(size[0], size[1]);\n",
       "        fig.send_message(\"refresh\", {});\n",
       "    };\n",
       "}\n",
       "\n",
       "mpl.figure.prototype.handle_rubberband = function(fig, msg) {\n",
       "    var x0 = msg['x0'] / mpl.ratio;\n",
       "    var y0 = (fig.canvas.height - msg['y0']) / mpl.ratio;\n",
       "    var x1 = msg['x1'] / mpl.ratio;\n",
       "    var y1 = (fig.canvas.height - msg['y1']) / mpl.ratio;\n",
       "    x0 = Math.floor(x0) + 0.5;\n",
       "    y0 = Math.floor(y0) + 0.5;\n",
       "    x1 = Math.floor(x1) + 0.5;\n",
       "    y1 = Math.floor(y1) + 0.5;\n",
       "    var min_x = Math.min(x0, x1);\n",
       "    var min_y = Math.min(y0, y1);\n",
       "    var width = Math.abs(x1 - x0);\n",
       "    var height = Math.abs(y1 - y0);\n",
       "\n",
       "    fig.rubberband_context.clearRect(\n",
       "        0, 0, fig.canvas.width, fig.canvas.height);\n",
       "\n",
       "    fig.rubberband_context.strokeRect(min_x, min_y, width, height);\n",
       "}\n",
       "\n",
       "mpl.figure.prototype.handle_figure_label = function(fig, msg) {\n",
       "    // Updates the figure title.\n",
       "    fig.header.textContent = msg['label'];\n",
       "}\n",
       "\n",
       "mpl.figure.prototype.handle_cursor = function(fig, msg) {\n",
       "    var cursor = msg['cursor'];\n",
       "    switch(cursor)\n",
       "    {\n",
       "    case 0:\n",
       "        cursor = 'pointer';\n",
       "        break;\n",
       "    case 1:\n",
       "        cursor = 'default';\n",
       "        break;\n",
       "    case 2:\n",
       "        cursor = 'crosshair';\n",
       "        break;\n",
       "    case 3:\n",
       "        cursor = 'move';\n",
       "        break;\n",
       "    }\n",
       "    fig.rubberband_canvas.style.cursor = cursor;\n",
       "}\n",
       "\n",
       "mpl.figure.prototype.handle_message = function(fig, msg) {\n",
       "    fig.message.textContent = msg['message'];\n",
       "}\n",
       "\n",
       "mpl.figure.prototype.handle_draw = function(fig, msg) {\n",
       "    // Request the server to send over a new figure.\n",
       "    fig.send_draw_message();\n",
       "}\n",
       "\n",
       "mpl.figure.prototype.handle_image_mode = function(fig, msg) {\n",
       "    fig.image_mode = msg['mode'];\n",
       "}\n",
       "\n",
       "mpl.figure.prototype.updated_canvas_event = function() {\n",
       "    // Called whenever the canvas gets updated.\n",
       "    this.send_message(\"ack\", {});\n",
       "}\n",
       "\n",
       "// A function to construct a web socket function for onmessage handling.\n",
       "// Called in the figure constructor.\n",
       "mpl.figure.prototype._make_on_message_function = function(fig) {\n",
       "    return function socket_on_message(evt) {\n",
       "        if (evt.data instanceof Blob) {\n",
       "            /* FIXME: We get \"Resource interpreted as Image but\n",
       "             * transferred with MIME type text/plain:\" errors on\n",
       "             * Chrome.  But how to set the MIME type?  It doesn't seem\n",
       "             * to be part of the websocket stream */\n",
       "            evt.data.type = \"image/png\";\n",
       "\n",
       "            /* Free the memory for the previous frames */\n",
       "            if (fig.imageObj.src) {\n",
       "                (window.URL || window.webkitURL).revokeObjectURL(\n",
       "                    fig.imageObj.src);\n",
       "            }\n",
       "\n",
       "            fig.imageObj.src = (window.URL || window.webkitURL).createObjectURL(\n",
       "                evt.data);\n",
       "            fig.updated_canvas_event();\n",
       "            fig.waiting = false;\n",
       "            return;\n",
       "        }\n",
       "        else if (typeof evt.data === 'string' && evt.data.slice(0, 21) == \"data:image/png;base64\") {\n",
       "            fig.imageObj.src = evt.data;\n",
       "            fig.updated_canvas_event();\n",
       "            fig.waiting = false;\n",
       "            return;\n",
       "        }\n",
       "\n",
       "        var msg = JSON.parse(evt.data);\n",
       "        var msg_type = msg['type'];\n",
       "\n",
       "        // Call the  \"handle_{type}\" callback, which takes\n",
       "        // the figure and JSON message as its only arguments.\n",
       "        try {\n",
       "            var callback = fig[\"handle_\" + msg_type];\n",
       "        } catch (e) {\n",
       "            console.log(\"No handler for the '\" + msg_type + \"' message type: \", msg);\n",
       "            return;\n",
       "        }\n",
       "\n",
       "        if (callback) {\n",
       "            try {\n",
       "                // console.log(\"Handling '\" + msg_type + \"' message: \", msg);\n",
       "                callback(fig, msg);\n",
       "            } catch (e) {\n",
       "                console.log(\"Exception inside the 'handler_\" + msg_type + \"' callback:\", e, e.stack, msg);\n",
       "            }\n",
       "        }\n",
       "    };\n",
       "}\n",
       "\n",
       "// from http://stackoverflow.com/questions/1114465/getting-mouse-location-in-canvas\n",
       "mpl.findpos = function(e) {\n",
       "    //this section is from http://www.quirksmode.org/js/events_properties.html\n",
       "    var targ;\n",
       "    if (!e)\n",
       "        e = window.event;\n",
       "    if (e.target)\n",
       "        targ = e.target;\n",
       "    else if (e.srcElement)\n",
       "        targ = e.srcElement;\n",
       "    if (targ.nodeType == 3) // defeat Safari bug\n",
       "        targ = targ.parentNode;\n",
       "\n",
       "    // jQuery normalizes the pageX and pageY\n",
       "    // pageX,Y are the mouse positions relative to the document\n",
       "    // offset() returns the position of the element relative to the document\n",
       "    var x = e.pageX - $(targ).offset().left;\n",
       "    var y = e.pageY - $(targ).offset().top;\n",
       "\n",
       "    return {\"x\": x, \"y\": y};\n",
       "};\n",
       "\n",
       "/*\n",
       " * return a copy of an object with only non-object keys\n",
       " * we need this to avoid circular references\n",
       " * http://stackoverflow.com/a/24161582/3208463\n",
       " */\n",
       "function simpleKeys (original) {\n",
       "  return Object.keys(original).reduce(function (obj, key) {\n",
       "    if (typeof original[key] !== 'object')\n",
       "        obj[key] = original[key]\n",
       "    return obj;\n",
       "  }, {});\n",
       "}\n",
       "\n",
       "mpl.figure.prototype.mouse_event = function(event, name) {\n",
       "    var canvas_pos = mpl.findpos(event)\n",
       "\n",
       "    if (name === 'button_press')\n",
       "    {\n",
       "        this.canvas.focus();\n",
       "        this.canvas_div.focus();\n",
       "    }\n",
       "\n",
       "    var x = canvas_pos.x * mpl.ratio;\n",
       "    var y = canvas_pos.y * mpl.ratio;\n",
       "\n",
       "    this.send_message(name, {x: x, y: y, button: event.button,\n",
       "                             step: event.step,\n",
       "                             guiEvent: simpleKeys(event)});\n",
       "\n",
       "    /* This prevents the web browser from automatically changing to\n",
       "     * the text insertion cursor when the button is pressed.  We want\n",
       "     * to control all of the cursor setting manually through the\n",
       "     * 'cursor' event from matplotlib */\n",
       "    event.preventDefault();\n",
       "    return false;\n",
       "}\n",
       "\n",
       "mpl.figure.prototype._key_event_extra = function(event, name) {\n",
       "    // Handle any extra behaviour associated with a key event\n",
       "}\n",
       "\n",
       "mpl.figure.prototype.key_event = function(event, name) {\n",
       "\n",
       "    // Prevent repeat events\n",
       "    if (name == 'key_press')\n",
       "    {\n",
       "        if (event.which === this._key)\n",
       "            return;\n",
       "        else\n",
       "            this._key = event.which;\n",
       "    }\n",
       "    if (name == 'key_release')\n",
       "        this._key = null;\n",
       "\n",
       "    var value = '';\n",
       "    if (event.ctrlKey && event.which != 17)\n",
       "        value += \"ctrl+\";\n",
       "    if (event.altKey && event.which != 18)\n",
       "        value += \"alt+\";\n",
       "    if (event.shiftKey && event.which != 16)\n",
       "        value += \"shift+\";\n",
       "\n",
       "    value += 'k';\n",
       "    value += event.which.toString();\n",
       "\n",
       "    this._key_event_extra(event, name);\n",
       "\n",
       "    this.send_message(name, {key: value,\n",
       "                             guiEvent: simpleKeys(event)});\n",
       "    return false;\n",
       "}\n",
       "\n",
       "mpl.figure.prototype.toolbar_button_onclick = function(name) {\n",
       "    if (name == 'download') {\n",
       "        this.handle_save(this, null);\n",
       "    } else {\n",
       "        this.send_message(\"toolbar_button\", {name: name});\n",
       "    }\n",
       "};\n",
       "\n",
       "mpl.figure.prototype.toolbar_button_onmouseover = function(tooltip) {\n",
       "    this.message.textContent = tooltip;\n",
       "};\n",
       "mpl.toolbar_items = [[\"Home\", \"Reset original view\", \"fa fa-home icon-home\", \"home\"], [\"Back\", \"Back to  previous view\", \"fa fa-arrow-left icon-arrow-left\", \"back\"], [\"Forward\", \"Forward to next view\", \"fa fa-arrow-right icon-arrow-right\", \"forward\"], [\"\", \"\", \"\", \"\"], [\"Pan\", \"Pan axes with left mouse, zoom with right\", \"fa fa-arrows icon-move\", \"pan\"], [\"Zoom\", \"Zoom to rectangle\", \"fa fa-square-o icon-check-empty\", \"zoom\"], [\"\", \"\", \"\", \"\"], [\"Download\", \"Download plot\", \"fa fa-floppy-o icon-save\", \"download\"]];\n",
       "\n",
       "mpl.extensions = [\"eps\", \"jpeg\", \"pdf\", \"png\", \"ps\", \"raw\", \"svg\", \"tif\"];\n",
       "\n",
       "mpl.default_extension = \"png\";var comm_websocket_adapter = function(comm) {\n",
       "    // Create a \"websocket\"-like object which calls the given IPython comm\n",
       "    // object with the appropriate methods. Currently this is a non binary\n",
       "    // socket, so there is still some room for performance tuning.\n",
       "    var ws = {};\n",
       "\n",
       "    ws.close = function() {\n",
       "        comm.close()\n",
       "    };\n",
       "    ws.send = function(m) {\n",
       "        //console.log('sending', m);\n",
       "        comm.send(m);\n",
       "    };\n",
       "    // Register the callback with on_msg.\n",
       "    comm.on_msg(function(msg) {\n",
       "        //console.log('receiving', msg['content']['data'], msg);\n",
       "        // Pass the mpl event to the overriden (by mpl) onmessage function.\n",
       "        ws.onmessage(msg['content']['data'])\n",
       "    });\n",
       "    return ws;\n",
       "}\n",
       "\n",
       "mpl.mpl_figure_comm = function(comm, msg) {\n",
       "    // This is the function which gets called when the mpl process\n",
       "    // starts-up an IPython Comm through the \"matplotlib\" channel.\n",
       "\n",
       "    var id = msg.content.data.id;\n",
       "    // Get hold of the div created by the display call when the Comm\n",
       "    // socket was opened in Python.\n",
       "    var element = $(\"#\" + id);\n",
       "    var ws_proxy = comm_websocket_adapter(comm)\n",
       "\n",
       "    function ondownload(figure, format) {\n",
       "        window.open(figure.imageObj.src);\n",
       "    }\n",
       "\n",
       "    var fig = new mpl.figure(id, ws_proxy,\n",
       "                           ondownload,\n",
       "                           element.get(0));\n",
       "\n",
       "    // Call onopen now - mpl needs it, as it is assuming we've passed it a real\n",
       "    // web socket which is closed, not our websocket->open comm proxy.\n",
       "    ws_proxy.onopen();\n",
       "\n",
       "    fig.parent_element = element.get(0);\n",
       "    fig.cell_info = mpl.find_output_cell(\"<div id='\" + id + \"'></div>\");\n",
       "    if (!fig.cell_info) {\n",
       "        console.error(\"Failed to find cell for figure\", id, fig);\n",
       "        return;\n",
       "    }\n",
       "\n",
       "    var output_index = fig.cell_info[2]\n",
       "    var cell = fig.cell_info[0];\n",
       "\n",
       "};\n",
       "\n",
       "mpl.figure.prototype.handle_close = function(fig, msg) {\n",
       "    var width = fig.canvas.width/mpl.ratio\n",
       "    fig.root.unbind('remove')\n",
       "\n",
       "    // Update the output cell to use the data from the current canvas.\n",
       "    fig.push_to_output();\n",
       "    var dataURL = fig.canvas.toDataURL();\n",
       "    // Re-enable the keyboard manager in IPython - without this line, in FF,\n",
       "    // the notebook keyboard shortcuts fail.\n",
       "    IPython.keyboard_manager.enable()\n",
       "    $(fig.parent_element).html('<img src=\"' + dataURL + '\" width=\"' + width + '\">');\n",
       "    fig.close_ws(fig, msg);\n",
       "}\n",
       "\n",
       "mpl.figure.prototype.close_ws = function(fig, msg){\n",
       "    fig.send_message('closing', msg);\n",
       "    // fig.ws.close()\n",
       "}\n",
       "\n",
       "mpl.figure.prototype.push_to_output = function(remove_interactive) {\n",
       "    // Turn the data on the canvas into data in the output cell.\n",
       "    var width = this.canvas.width/mpl.ratio\n",
       "    var dataURL = this.canvas.toDataURL();\n",
       "    this.cell_info[1]['text/html'] = '<img src=\"' + dataURL + '\" width=\"' + width + '\">';\n",
       "}\n",
       "\n",
       "mpl.figure.prototype.updated_canvas_event = function() {\n",
       "    // Tell IPython that the notebook contents must change.\n",
       "    IPython.notebook.set_dirty(true);\n",
       "    this.send_message(\"ack\", {});\n",
       "    var fig = this;\n",
       "    // Wait a second, then push the new image to the DOM so\n",
       "    // that it is saved nicely (might be nice to debounce this).\n",
       "    setTimeout(function () { fig.push_to_output() }, 1000);\n",
       "}\n",
       "\n",
       "mpl.figure.prototype._init_toolbar = function() {\n",
       "    var fig = this;\n",
       "\n",
       "    var nav_element = $('<div/>')\n",
       "    nav_element.attr('style', 'width: 100%');\n",
       "    this.root.append(nav_element);\n",
       "\n",
       "    // Define a callback function for later on.\n",
       "    function toolbar_event(event) {\n",
       "        return fig.toolbar_button_onclick(event['data']);\n",
       "    }\n",
       "    function toolbar_mouse_event(event) {\n",
       "        return fig.toolbar_button_onmouseover(event['data']);\n",
       "    }\n",
       "\n",
       "    for(var toolbar_ind in mpl.toolbar_items){\n",
       "        var name = mpl.toolbar_items[toolbar_ind][0];\n",
       "        var tooltip = mpl.toolbar_items[toolbar_ind][1];\n",
       "        var image = mpl.toolbar_items[toolbar_ind][2];\n",
       "        var method_name = mpl.toolbar_items[toolbar_ind][3];\n",
       "\n",
       "        if (!name) { continue; };\n",
       "\n",
       "        var button = $('<button class=\"btn btn-default\" href=\"#\" title=\"' + name + '\"><i class=\"fa ' + image + ' fa-lg\"></i></button>');\n",
       "        button.click(method_name, toolbar_event);\n",
       "        button.mouseover(tooltip, toolbar_mouse_event);\n",
       "        nav_element.append(button);\n",
       "    }\n",
       "\n",
       "    // Add the status bar.\n",
       "    var status_bar = $('<span class=\"mpl-message\" style=\"text-align:right; float: right;\"/>');\n",
       "    nav_element.append(status_bar);\n",
       "    this.message = status_bar[0];\n",
       "\n",
       "    // Add the close button to the window.\n",
       "    var buttongrp = $('<div class=\"btn-group inline pull-right\"></div>');\n",
       "    var button = $('<button class=\"btn btn-mini btn-primary\" href=\"#\" title=\"Stop Interaction\"><i class=\"fa fa-power-off icon-remove icon-large\"></i></button>');\n",
       "    button.click(function (evt) { fig.handle_close(fig, {}); } );\n",
       "    button.mouseover('Stop Interaction', toolbar_mouse_event);\n",
       "    buttongrp.append(button);\n",
       "    var titlebar = this.root.find($('.ui-dialog-titlebar'));\n",
       "    titlebar.prepend(buttongrp);\n",
       "}\n",
       "\n",
       "mpl.figure.prototype._root_extra_style = function(el){\n",
       "    var fig = this\n",
       "    el.on(\"remove\", function(){\n",
       "\tfig.close_ws(fig, {});\n",
       "    });\n",
       "}\n",
       "\n",
       "mpl.figure.prototype._canvas_extra_style = function(el){\n",
       "    // this is important to make the div 'focusable\n",
       "    el.attr('tabindex', 0)\n",
       "    // reach out to IPython and tell the keyboard manager to turn it's self\n",
       "    // off when our div gets focus\n",
       "\n",
       "    // location in version 3\n",
       "    if (IPython.notebook.keyboard_manager) {\n",
       "        IPython.notebook.keyboard_manager.register_events(el);\n",
       "    }\n",
       "    else {\n",
       "        // location in version 2\n",
       "        IPython.keyboard_manager.register_events(el);\n",
       "    }\n",
       "\n",
       "}\n",
       "\n",
       "mpl.figure.prototype._key_event_extra = function(event, name) {\n",
       "    var manager = IPython.notebook.keyboard_manager;\n",
       "    if (!manager)\n",
       "        manager = IPython.keyboard_manager;\n",
       "\n",
       "    // Check for shift+enter\n",
       "    if (event.shiftKey && event.which == 13) {\n",
       "        this.canvas_div.blur();\n",
       "        event.shiftKey = false;\n",
       "        // Send a \"J\" for go to next cell\n",
       "        event.which = 74;\n",
       "        event.keyCode = 74;\n",
       "        manager.command_mode();\n",
       "        manager.handle_keydown(event);\n",
       "    }\n",
       "}\n",
       "\n",
       "mpl.figure.prototype.handle_save = function(fig, msg) {\n",
       "    fig.ondownload(fig, null);\n",
       "}\n",
       "\n",
       "\n",
       "mpl.find_output_cell = function(html_output) {\n",
       "    // Return the cell and output element which can be found *uniquely* in the notebook.\n",
       "    // Note - this is a bit hacky, but it is done because the \"notebook_saving.Notebook\"\n",
       "    // IPython event is triggered only after the cells have been serialised, which for\n",
       "    // our purposes (turning an active figure into a static one), is too late.\n",
       "    var cells = IPython.notebook.get_cells();\n",
       "    var ncells = cells.length;\n",
       "    for (var i=0; i<ncells; i++) {\n",
       "        var cell = cells[i];\n",
       "        if (cell.cell_type === 'code'){\n",
       "            for (var j=0; j<cell.output_area.outputs.length; j++) {\n",
       "                var data = cell.output_area.outputs[j];\n",
       "                if (data.data) {\n",
       "                    // IPython >= 3 moved mimebundle to data attribute of output\n",
       "                    data = data.data;\n",
       "                }\n",
       "                if (data['text/html'] == html_output) {\n",
       "                    return [cell, data, j];\n",
       "                }\n",
       "            }\n",
       "        }\n",
       "    }\n",
       "}\n",
       "\n",
       "// Register the function which deals with the matplotlib target/channel.\n",
       "// The kernel may be null if the page has been refreshed.\n",
       "if (IPython.notebook.kernel != null) {\n",
       "    IPython.notebook.kernel.comm_manager.register_target('matplotlib', mpl.mpl_figure_comm);\n",
       "}\n"
      ],
      "text/plain": [
       "<IPython.core.display.Javascript object>"
      ]
     },
     "metadata": {},
     "output_type": "display_data"
    },
    {
     "data": {
      "text/html": [
       "<img src=\"data:image/png;base64,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\" width=\"638.888905813665\">"
      ],
      "text/plain": [
       "<IPython.core.display.HTML object>"
      ]
     },
     "metadata": {},
     "output_type": "display_data"
    },
    {
     "data": {
      "application/vnd.jupyter.widget-view+json": {
       "model_id": "2692e67de3e340fbbad9bb00e41f6d93"
      }
     },
     "metadata": {},
     "output_type": "display_data"
    },
    {
     "data": {
      "application/vnd.jupyter.widget-view+json": {
       "model_id": "ce4e9cbee0f14e92a985ca3d03eb2a7a"
      }
     },
     "metadata": {},
     "output_type": "display_data"
    },
    {
     "data": {
      "application/vnd.jupyter.widget-view+json": {
       "model_id": "b855c2c1b09e43f98e59633d09b6a125"
      }
     },
     "metadata": {},
     "output_type": "display_data"
    },
    {
     "data": {
      "application/vnd.jupyter.widget-view+json": {
       "model_id": "effb8382a7ac4979a8ed0cd0df7cc131"
      }
     },
     "metadata": {},
     "output_type": "display_data"
    },
    {
     "data": {
      "application/vnd.jupyter.widget-view+json": {
       "model_id": "3119b69f0bc14da8b4b834b449ea7107"
      }
     },
     "metadata": {},
     "output_type": "display_data"
    },
    {
     "data": {
      "application/vnd.jupyter.widget-view+json": {
       "model_id": "23b0e55cfbf54221999c19a48d5e2c9a"
      }
     },
     "metadata": {},
     "output_type": "display_data"
    }
   ],
   "source": [
    "f=skinc.normalize(100).plot(gui='jupyter',bary_fields=['common_term'],bary_label=False,\n",
    "                            clim=[0,10],feature_field=None,\n",
    "                            rect=[-0.5, 282.5, 307.05859375, 260.63671875])"
   ]
  },
  {
   "cell_type": "code",
   "execution_count": null,
   "metadata": {
    "collapsed": true,
    "run_control": {
     "frozen": false,
     "read_only": false
    }
   },
   "outputs": [],
   "source": [
    "f.save_figure('figure-S3B-ag-skin-cluster-skin.pdf')"
   ]
  },
  {
   "cell_type": "markdown",
   "metadata": {
    "collapsed": true,
    "run_control": {
     "frozen": false,
     "read_only": false
    }
   },
   "source": [
    "## plot saliva cluster bacteria (fig S3-C)"
   ]
  },
  {
   "cell_type": "code",
   "execution_count": null,
   "metadata": {
    "collapsed": true,
    "run_control": {
     "frozen": false,
     "read_only": false
    }
   },
   "outputs": [],
   "source": [
    "f=skinc.normalize(100).plot(gui='jupyter',bary_fields=['common_term'],\n",
    "                            bary_label=False,feature_field=None,\n",
    "                            rect=[-0.5, 346.5, 840, 790],clim=[0,10])"
   ]
  },
  {
   "cell_type": "code",
   "execution_count": null,
   "metadata": {
    "collapsed": true,
    "run_control": {
     "frozen": false,
     "read_only": false
    }
   },
   "outputs": [],
   "source": [
    "f.save_figure('figure-S3C-ag-skin-saliva-cluster.pdf')"
   ]
  },
  {
   "cell_type": "markdown",
   "metadata": {},
   "source": [
    "## plot the cluster to save the cluster bacteria to fasta file (\"ag-skin-saliva-cluster.fa\")\n",
    "After marking them in the figure"
   ]
  },
  {
   "cell_type": "code",
   "execution_count": null,
   "metadata": {
    "collapsed": true
   },
   "outputs": [],
   "source": [
    "skinc.normalize(100).plot(gui='qt5',bary_fields=['common_term'],bary_label=False,\n",
    "                          feature_field=None,\n",
    "                          rect=[-0.5, 346.5, 840, 790],clim=[0,10])"
   ]
  },
  {
   "cell_type": "markdown",
   "metadata": {
    "run_control": {
     "frozen": false,
     "read_only": false
    }
   },
   "source": [
    "# plot the taxa plot (Fig. S3-D)"
   ]
  },
  {
   "cell_type": "code",
   "execution_count": null,
   "metadata": {
    "collapsed": true,
    "run_control": {
     "frozen": false,
     "read_only": false
    }
   },
   "outputs": [],
   "source": [
    "import matplotlib.pyplot as plt\n",
    "import numpy as np"
   ]
  },
  {
   "cell_type": "code",
   "execution_count": null,
   "metadata": {
    "collapsed": true,
    "run_control": {
     "frozen": false,
     "read_only": false
    }
   },
   "outputs": [],
   "source": [
    "zz=skin.filter_fasta('./ag-skin-saliva-cluster.fa')"
   ]
  },
  {
   "cell_type": "code",
   "execution_count": null,
   "metadata": {
    "collapsed": true,
    "run_control": {
     "frozen": false,
     "read_only": false
    }
   },
   "outputs": [],
   "source": [
    "f = plt.figure()\n",
    "zzz=zz.collapse_taxonomy()\n",
    "zzz=zzz.sort_abundance(key=np.mean)\n",
    "freq=[]\n",
    "tax=[]\n",
    "allmean = zzz.data.mean(axis=0)\n",
    "for idx,cbact in enumerate(zzz.feature_metadata.index.values):\n",
    "    ctax = zzz.feature_metadata.taxonomy[cbact].split(';')\n",
    "    ctax = ';'.join(ctax[-2:])\n",
    "    tax.append(ctax)\n",
    "    freq.append(allmean[idx]/100)\n",
    "plt.barh(np.arange(len(freq)),freq,align='center')\n",
    "plt.xscale('log')\n",
    "plt.yticks(np.arange(len(freq)),tax)\n",
    "plt.tight_layout()"
   ]
  },
  {
   "cell_type": "code",
   "execution_count": null,
   "metadata": {
    "collapsed": true,
    "run_control": {
     "frozen": false,
     "read_only": false
    }
   },
   "outputs": [],
   "source": [
    "f.savefig('figure-S3D-ag-skin-saliva-cluster-taxonomy.pdf')"
   ]
  },
  {
   "cell_type": "markdown",
   "metadata": {},
   "source": [
    "## Find dbBact enriched terms for the saliva bacteria cluster compared to the rest of the bacteria in the experiment (Fig. S3-E)"
   ]
  },
  {
   "cell_type": "code",
   "execution_count": null,
   "metadata": {
    "collapsed": true,
    "run_control": {
     "frozen": false,
     "read_only": false
    }
   },
   "outputs": [],
   "source": [
    "res=skinc.enrichment(zz.feature_metadata.index.values,'dbbact')"
   ]
  },
  {
   "cell_type": "code",
   "execution_count": null,
   "metadata": {
    "collapsed": true,
    "run_control": {
     "frozen": false,
     "read_only": false
    }
   },
   "outputs": [],
   "source": [
    "f=skinc.plot_enrichment(res,max_len=40)"
   ]
  },
  {
   "cell_type": "code",
   "execution_count": null,
   "metadata": {
    "collapsed": true,
    "run_control": {
     "frozen": false,
     "read_only": false
    }
   },
   "outputs": [],
   "source": [
    "f.figure.savefig('figure-S3E-ag-skin-saliva-cluster-terms.pdf')"
   ]
  },
  {
   "cell_type": "code",
   "execution_count": null,
   "metadata": {
    "collapsed": true,
    "run_control": {
     "frozen": false,
     "read_only": false
    }
   },
   "outputs": [],
   "source": []
  }
 ],
 "metadata": {
  "anaconda-cloud": {},
  "kernelspec": {
   "display_name": "Python 3",
   "language": "python",
   "name": "python3"
  },
  "language_info": {
   "codemirror_mode": {
    "name": "ipython",
    "version": 3
   },
   "file_extension": ".py",
   "mimetype": "text/x-python",
   "name": "python",
   "nbconvert_exporter": "python",
   "pygments_lexer": "ipython3",
   "version": "3.5.3"
  },
  "toc": {
   "colors": {
    "hover_highlight": "#DAA520",
    "running_highlight": "#FF0000",
    "selected_highlight": "#FFD700"
   },
   "moveMenuLeft": true,
   "nav_menu": {
    "height": "106px",
    "width": "253px"
   },
   "navigate_menu": true,
   "number_sections": true,
   "sideBar": true,
   "threshold": 4,
   "toc_cell": false,
   "toc_section_display": "block",
   "toc_window_display": false,
   "widenNotebook": false
  },
  "widgets": {
   "state": {
    "08a79ef292df421296c2abdfb7cd8fd2": {
     "views": [
      {
       "cell_index": 9
      }
     ]
    },
    "0c1c3f2d13b345ef8cbc06eccdf34ef1": {
     "views": [
      {
       "cell_index": 9
      }
     ]
    },
    "0dfacc2f447d4a5aa55a46c12c45f100": {
     "views": [
      {
       "cell_index": 7
      }
     ]
    },
    "109ffde5d55f48d6ac09d0d2d6014746": {
     "views": [
      {
       "cell_index": 9
      }
     ]
    },
    "11e2ec2b91504665ae493721c4cb708c": {
     "views": [
      {
       "cell_index": 9
      }
     ]
    },
    "121cad50271844d6b623aa635b4804b6": {
     "views": [
      {
       "cell_index": 12
      }
     ]
    },
    "18a81727521443bbacb53e7c0db3d1be": {
     "views": [
      {
       "cell_index": 9
      }
     ]
    },
    "1c40c8a34d05424cb5fab1df4350290b": {
     "views": [
      {
       "cell_index": 9
      }
     ]
    },
    "21cf76fc252747268b556608942bd6db": {
     "views": [
      {
       "cell_index": 12
      }
     ]
    },
    "241409985bb347a38bbb11febc7b4627": {
     "views": [
      {
       "cell_index": 12
      }
     ]
    },
    "28223ddbc6e1411897f3270dc4aa7999": {
     "views": [
      {
       "cell_index": 9
      }
     ]
    },
    "36ba3f9a79004c6e94178dd8349b2b2d": {
     "views": [
      {
       "cell_index": 9
      }
     ]
    },
    "3711c193bf4540a7b2d4fe701c4beaf7": {
     "views": [
      {
       "cell_index": 8
      }
     ]
    },
    "3731afca385542c3b9344b2a13555626": {
     "views": [
      {
       "cell_index": 9
      }
     ]
    },
    "37dfb02e77e1499ba3a3b53cad77c727": {
     "views": [
      {
       "cell_index": 9
      }
     ]
    },
    "3c408e651a984481a9668119ffec9d1b": {
     "views": [
      {
       "cell_index": 9
      }
     ]
    },
    "409f886d57834e2181f96146a986af3e": {
     "views": [
      {
       "cell_index": 9
      }
     ]
    },
    "450a9d6cab014ce0aee47ec1601b5dd6": {
     "views": [
      {
       "cell_index": 9
      }
     ]
    },
    "4ba8dc17b7124bfaa4ec36a52121ee7f": {
     "views": [
      {
       "cell_index": 9
      }
     ]
    },
    "50680473557b472986a28dcf575944b7": {
     "views": [
      {
       "cell_index": 8
      }
     ]
    },
    "551051ab84f841768ebc46c5103966c0": {
     "views": [
      {
       "cell_index": 6
      }
     ]
    },
    "562b4077ff78422f8610811c6262a829": {
     "views": [
      {
       "cell_index": 9
      }
     ]
    },
    "5836dcf0f7ab4190ac15540673e3e25e": {
     "views": [
      {
       "cell_index": 7
      }
     ]
    },
    "5a81539186024582a34504c7fe040ccf": {
     "views": [
      {
       "cell_index": 9
      }
     ]
    },
    "5d5a940f8b6748a0943a15f2b22495ca": {
     "views": [
      {
       "cell_index": 6
      }
     ]
    },
    "5d8adc8eab3c4552b02b201023eb03b2": {
     "views": [
      {
       "cell_index": 8
      }
     ]
    },
    "5fcfb996cfc5437bb1fdc7b454f3a06e": {
     "views": [
      {
       "cell_index": 9
      }
     ]
    },
    "666fc7e42f3d4e048c19eaea6d600934": {
     "views": [
      {
       "cell_index": 7
      }
     ]
    },
    "7372c3936fa445fd849521df16137478": {
     "views": [
      {
       "cell_index": 9
      }
     ]
    },
    "7580bcaf447b4723adb9cc6eee44839b": {
     "views": [
      {
       "cell_index": 9
      }
     ]
    },
    "7a373e82a52e40b5a8616d4086804ff5": {
     "views": [
      {
       "cell_index": 9
      }
     ]
    },
    "7a9d1af091264bdab5139a49abc03a28": {
     "views": [
      {
       "cell_index": 9
      }
     ]
    },
    "7add1ff2cdde436495987b257848cba3": {
     "views": [
      {
       "cell_index": 7
      }
     ]
    },
    "7e7249c579824b0e8382743d981c6b74": {
     "views": [
      {
       "cell_index": 6
      }
     ]
    },
    "8b17ce11f3d64c2f82685f46d765ab3d": {
     "views": [
      {
       "cell_index": 12
      }
     ]
    },
    "939ba9ec93624880a07a13609cfb3a06": {
     "views": [
      {
       "cell_index": 9
      }
     ]
    },
    "99dff3ab97524e16bef6ba253a69b7fd": {
     "views": [
      {
       "cell_index": 7
      }
     ]
    },
    "a3e15406505d490c9d7ac93edbbd9e8b": {
     "views": [
      {
       "cell_index": 9
      }
     ]
    },
    "a70c26b6143446f296530259b8189c37": {
     "views": [
      {
       "cell_index": 9
      }
     ]
    },
    "abc778dafa9e48cb9a598ce6dbc0f3a8": {
     "views": [
      {
       "cell_index": 9
      }
     ]
    },
    "b04358746bdc4c638b541568dfefee54": {
     "views": [
      {
       "cell_index": 9
      }
     ]
    },
    "b3559f4ab05044378048532e50c41617": {
     "views": [
      {
       "cell_index": 7
      }
     ]
    },
    "dd48887718504de2b8c2be6d70d4c55e": {
     "views": [
      {
       "cell_index": 7
      }
     ]
    },
    "df97ee0aa6f148e3bb8bbbe0fbd4976e": {
     "views": [
      {
       "cell_index": 9
      }
     ]
    },
    "dfdb419e3fdb4afa81ad988709fb63e4": {
     "views": [
      {
       "cell_index": 9
      }
     ]
    },
    "e02305f8b32a4e8ea64891fe4418e7bf": {
     "views": [
      {
       "cell_index": 12
      }
     ]
    },
    "e996511e044c4ad5b10782a4fa0c3fa0": {
     "views": [
      {
       "cell_index": 9
      }
     ]
    },
    "ec7651a2114b4d1d845115e0c0f3a4b9": {
     "views": [
      {
       "cell_index": 9
      }
     ]
    },
    "eeb220880cb74b82a8c58b67b2d8318d": {
     "views": [
      {
       "cell_index": 7
      }
     ]
    },
    "f20c3435377f49fd8e189174b1eb58a4": {
     "views": [
      {
       "cell_index": 9
      }
     ]
    },
    "f66b25eeee5e41a68460cf70ecd260ae": {
     "views": [
      {
       "cell_index": 9
      }
     ]
    },
    "fbfe8b7518d442b3934e1c371ffa86c2": {
     "views": [
      {
       "cell_index": 12
      }
     ]
    },
    "fcd65af1b43f4b6ebadae73455462648": {
     "views": [
      {
       "cell_index": 7
      }
     ]
    },
    "fdaf74c4bc6c4e4795b0654d8800b57b": {
     "views": [
      {
       "cell_index": 9
      }
     ]
    }
   },
   "version": "1.2.0"
  }
 },
 "nbformat": 4,
 "nbformat_minor": 1
}
