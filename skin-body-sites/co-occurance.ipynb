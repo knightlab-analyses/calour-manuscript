{
 "cells": [
  {
   "cell_type": "code",
   "execution_count": 2,
   "metadata": {
    "collapsed": true,
    "run_control": {
     "frozen": false,
     "read_only": false
    }
   },
   "outputs": [],
   "source": [
    "import calour as ca\n",
    "ca.set_log_level('INFO')\n",
    "%matplotlib notebook"
   ]
  },
  {
   "cell_type": "code",
   "execution_count": 3,
   "metadata": {
    "run_control": {
     "frozen": false,
     "read_only": false
    }
   },
   "outputs": [
    {
     "name": "stdout",
     "output_type": "stream",
     "text": [
      "2017-09-01 15:26:42 INFO loaded 645 samples, 2938 observations\n"
     ]
    }
   ],
   "source": [
    "dat=ca.read_amplicon('skin.bodysite.min25.clean.withtax.biom','map.joined.txt',normalize=None,min_reads=None)"
   ]
  },
  {
   "cell_type": "code",
   "execution_count": 4,
   "metadata": {
    "run_control": {
     "frozen": false,
     "read_only": false
    },
    "scrolled": true
   },
   "outputs": [
    {
     "data": {
      "text/plain": [
       "Scalp     215\n",
       "Axilla    215\n",
       "Arm       215\n",
       "Name: bodysite, dtype: int64"
      ]
     },
     "execution_count": 4,
     "metadata": {},
     "output_type": "execute_result"
    }
   ],
   "source": [
    "dat.sample_metadata.bodysite.value_counts()"
   ]
  },
  {
   "cell_type": "code",
   "execution_count": 18,
   "metadata": {},
   "outputs": [],
   "source": [
    "with open('saliva-seqs-new.fa') as o:\n",
    "    seqs = [l.strip() for l in o.readlines()[1::2]]"
   ]
  },
  {
   "cell_type": "code",
   "execution_count": 19,
   "metadata": {},
   "outputs": [
    {
     "data": {
      "text/plain": [
       "['TACGTAGGTCTCAAGCGTTATCCGGATTTACTGGGCGTAAAGTGTCCGTAGTCTGATCTGTAAGTCTGTTTTCAAATCCTACGACTCAATCGTAGAAAGGGAATGGATACTGCAGATCTAGAAGTATCTAGGGGTTAGTGGAATTTCCGG',\n",
       " 'TACGTAGGGCGCGAGCGTTGTCCGGAATTATTGGGCGTAAAGAGCTTGTAGGCGGTTTGTCGCGTCTGCTGTGAAAGGCCGGGGCTTAACTCCGTGTATTGCAGTGGGTACGGGCAGACTAGAGTGCAGTAGGGGAGACTGGAATTCCTG',\n",
       " 'TACGTAGGGTGCAAGCGTTGTCCGGATTTACTGGGCGTAAAGAGCTCGTAGGTGGTGTGTCGCGTCGTCTGTGAAATTCCGGGGCTTAACTCCGGGCGTGCAGGCGATACGGGCACGACTAGAGTGCTGTAGGGGTAACTGGAATTCCTG',\n",
       " 'TACGTAGGGGGCAAGCGTTATCCGGATTTACTGGGTGTAAAGGGAGCGTAGACGGAATGGCAAGTCTGAAGTGAAATACCCGGGCTCAACCTGGGAACTGCTTTGGAAACTGTTGTTCTAGAGTGTTGGAGAGGTAAGTGGAATTCCTGG',\n",
       " 'TACGGAAGGTCCAGGCGTTATCCGGATTTATTGGGTTTAAAGGGAGCGTAGGCCGCCTCTTAAGCGTGTTGTGAAATGCGGGTGCTCAACATCCGACTTGCAGCGCGAACTGGGGGGCTTGAGTGCGCCGAAAGTAGGCGGAATTCGTGG',\n",
       " 'TACGGAAGGTCCGGGCGTTATCCGGAATTATTGGGTTTAAAGGGAGCGCAGGCGGGAGTGTAAGTCAGCTGTTAAATATCAGGGCCCAACTCTGTTATGCAGTTGAAACTATATTTCTTGAGTACGCACAGGGATGGCGGAATTCAGGGT',\n",
       " 'TACGAAGGGGGCTAGCGTTGCTCGGAATCACTGGGCGTAAAGGGTGCGTAGGCGGGTCTTTAAGTCAGGGGTGAAATCCTGGAGCTCAACTCCAGAACTGCCTTTGATACTGAGGATCTTGAGTCCGGAAGAGGTGAGTGGAACTGCGAG',\n",
       " 'TACAGAGGATGCAAGCGTTATCCGGAATTATTGGGCGTAAAGCGTCTGTAGGTGGCTTTTTAAGTCCGCCGTCAAATCCCAGGGCTCAACCCTGGACAGGCGGTGGAAACTACCAAGCTGGAGTACGGTAGGGGCAGAGGGAATTTCCGG',\n",
       " 'TACGTAGGTCTCAAGCGTTGTCCGGATTTACTGGGCGTAAAGTGTCCGTAGTCTGAATTGTAAGTCTGTTTTCAAATCCTACGACTCAATCGTAGAAAGGGAGTGGATACTGCAATTCTGGAAGTATCTGGGGGTTAGTGGAATTTCCGG',\n",
       " 'TACGTAGGGTGCAAGCGTTGTCCGGAATTATTGGGCGTAAAGAGCTCGTAGGCGGTTTGTCGCGTCTGCTGTGAAAACCCGAGGCTCAACCTCGGGCCTGCAGTGGGTACGGGCAGACTAGAGTGCGGTAGGGGAGATTGGAATTCCTGG',\n",
       " 'GACGGGGGGGGCAAGTGTTCTTCGGAATGACTGGGCGTAAAGGGCACGTAGGCGGTGAATCGGGTTGAAAGTGAAAGTCGCAAAAAACTGGCGGAATGCTCTCGAAACCAATTCACTTGAGTGAGACAGAGGAGAGTGGAATTTCGTGTG',\n",
       " 'TACGTAGGGAGCGAGCGTTATCCGGATTTATTGGGTGTAAAGGGTGCGTAGGCGGCTTTATAAGTCGGTGGTCTAAGTCCGAAGCTTAACTTCGGTTCGCCATTGAAACTGTAGAGCTTGAGTATGGAAGAGGTAAGTGGAATTTCTAGT',\n",
       " 'TACGTATGTCGCGAGCGTTATCCGGAATTATTGGGCATAAAGGGCATCTAGGCGGCCAGATAAGTCCGAGGTGAAAACTGCCGGCTCAACCAGCAGCTTGCCTTGGAAACTACCTGGCTAGAGTATTGGAGAGGTGGACGGAACTACACG',\n",
       " 'TACGGAAGGTCCAGGCGTTATCCGGATTTATTGGGTTTAAAGGGAGTGTAGGCGGTTTGTTAAGCGTGTTGTGAAATTTAGGTGCTCAACATTTAACTTGCAGCGCGAACTGGCGAACTTGAGTGCACACAACGTATGCGGAATTCATGG',\n",
       " 'TACGTAGGGTGCGAGCGTTGTCCGGAATTACTGGGCGTAAAGAGCTCGTAGGTGGTTTGTTGCGTCGTCTGTGAAATTCCGGGGCTTAACTTCGGGGTGGCAGGCGATACGGGCATAACTAGAGTGCTGTAGGGGAGACTGGAATTCCTG',\n",
       " 'TACGTATGTCACAAGCGTTATCCGGATTTATTGGGCGTAAAGCGCGTCTAGGTGGTTATGTAAGTCTGATGTGAAAATGCAGGGCTCAACTCTGTATTGCGTTGGAAACTGTGTAACTAGAGTACTGGAGAGGTAAGCGGAACTACAAGT',\n",
       " 'TACGTAGGGTGCGAGCGTTGTCCGGAATTATTGGGCGTAAAGGGCTTGTAGGCGGTTTGTCGCGTCTGCCGTGAAATCCTCTGGCTTAACTGGGGGCGTGCGGTGGGTACGGGCAGGCTTGAGTGCGGTAGGGGAGACTGGAACTCCTGG',\n",
       " 'TACGGAAGGTCCGGGCGTTATCCGGATTTATTGGGTTTAAAGGGAGCGTAGGCTGGAGATTAAGTGTGTTGTGAAATGTAGACGCTCAACGTCTGACTTGCAGCGCATACTGGTTTCCTTGAGTACGCACAACGTTGGCGGAATTCGTCG',\n",
       " 'TACGGAAGGTCCAGGCGTTATCCGGATTTATTGGGTTTAAAGGGAGCGTAGGCCGTGGATTAAGCGTGTTGTGAAATGTAGACGCTCAACGTCTGAATTGCAGCGCGAACTGGTTCACTTGAGTATGCACAACGTAGGCGGAATTCGTCG',\n",
       " 'TACGGAGGGTGCAAGCGTTACTCGGAATCACTGGGCGTAAAGGACGCGTAGGCGGATTATCAAGTCTCTTGTGAAATCCTATGGCTTAACCATAGAACTGCTTGGGAAACTGATAATCTAGAGTGAGGGAGAGGCAGATGGAATTGGTGG',\n",
       " 'TACGTAGGGTGCGAGCGTTAATCGGAATTACTGGGCGTAAAGCGAGCGCAGACGGTTACTTAAGCAGGATGTGAAATCCCCGGGCTCAACCTGGGAACTGCGTTCTGAACTGGGTGACTAGAGTGTGTCAGAGGGAGGTAGAATTCCACG',\n",
       " 'TACGTAGGGGGCAAGCGTTATCCGGATTTACTGGGTGTAAAGGGAGCGCAGACGGCAATGCAAGTCTGAAGTGAAAGGCGTGGGCTCAACCCATGAACTGCTTTGGAAACTGTATAGCTTGAGTGTCGGAGGGGTAAGCGGAATTCCTAG',\n",
       " 'TACGGAAGGTCCAGGCGTTATCCGGATTTATTGGGTTTAAAGGGAGCGTAGGCGGATTATTAAGTCAGTGGTGAAAGACGGTGGCTCAACCATCGTTAGCCATTGAAACTGGTAGTCTTGAGTGCAGACAGGGATGCTGGAACTCGTGGT',\n",
       " 'TACGGAAGGTCCAGGCGTTATCCGGATTTATTGGGTTTAAAGGGAGCGTAGGCGGATTGTTAAGTCAGCGGTTAAAGGGTGTGGCTCAACCATACATTGCCGTTGAAACTGGCGATCTTGAGTGCAGACAGGGATGCCGGAATTCGTGGT',\n",
       " 'TACGTAGGTGGCAAGCGTTGTCCGGAATTATTGGGCGTAAAGCGCGCGCAGGCGGCCTATCCAGTCTGTCTTAAAAGTTCGGGGCTCAACCCCGTGATGGGATGGAAACTAGTAGGCTAGAGTATCGGAGAGGAAAGCGGAATTCCTAGT',\n",
       " 'TACGTATGTCACAAGCGTTATCCGGATTTATTGGGCGTAAAGCGCGTCTAGGTGGTTATGTAAGTCTGATGTGAAAATGCAGGGCTCAACTCTGTATTGCGTTGGAAACTGCATGACTAGAGTACTGGAGAGGTAAGCGGAACTACAAGT',\n",
       " 'TACGGAGGATGCGAGCGTTATCCGGATTTATTGGGTTTAAAGGGTGCGTAGGCGGTTTGTTAAGTCAGCGGTGAAATCTAGAGGCTCAACCTCGAAACTGCCGTTGAAACTGGCGAACTTGAGTGTAGATGAGGTAGGCGGAATTCGTGG',\n",
       " 'TACGGAGGATGCGAGCGTTATCCGGATTTATTGGGTTTAAAGGGTGCGTAGGCGGCCTGTTAAGTCAGCGGTGAAATCTAGGAGCTTAACTCCTAAATTGCCATTGATACTGGCGGGCTTGAGTGTAGATGAGGTAGGCGGAATGCGTGG',\n",
       " 'TACGTAGGTGGCAAGCGTTGTCCGGAATTATTGGGCGTAAAGCGCGCGCAGGCGGATCAGTCAGTCTGTCTTAAAAGTTCGGGGCTTAACCCCGTGATGGGATGGAAACTGCTGATCTAGAGTATCGGAGAGGAAAGTGGAATTCCTAGT',\n",
       " 'TACGTAGGTGGCAAGCGTTGTCCGGATTTATTGGGCGTAAAGCGAGCGCAGGCGGTCAATTAAGTCTGATGTGAAAGCCCCCGGCTCAACCGGGGAGGGTCATTGGAAACTGGTTGACTTGAGTGCAGAAGAGGAGAGTGGAATTCCATG',\n",
       " 'TACGTAGGTCCCGAGCGTTGTCCGGATTTATTGGGCGTAAAGCGAGCGCAGGCGGTTTGATAAGTCTGAAGTTAAAGGCTGTGGCTCAACCATAGTTCGCTTTGGAAACTGTCAAACTTGAGTGCAGAAGGGGAGAGTGGAATTCCATGT',\n",
       " 'TACGGAGGGTGCGAGCGTTAATCGGAATAACTGGGCGTAAAGGGCACGCAGGCGGTTATTTAAGTGAGGTGTGAAAGCCCCGGGCTTAACCTGGGAATTGCATTTCAGACTGGGTAACTAGAGTACTTTAGGGAGGGGTAGAATTCCACG',\n",
       " 'TACGTAGGGCGCGAGCGTTGTCCGGAATTATTGGGCGTAAAGAGCTTGTAGGCGGTTGGTCGCGTCTGCTGTGAAAGGCTGGGGCTTAACCCTGGTTTTGCAGTGGGTACGGGCTAACTAGAGTGCAGTAGGGGAGACTGGAATTCCTGG',\n",
       " 'TACGTAGGGCGCGAGCGTTGTCCGGAATTATTGGGCGTAAAGGGCTTGTAGGCGGTTGGTCGCGTCTGCCGTGAAATCCTCTGGCTTAACTGGGGGCGTGCGGTGGGTACGGGCTGACTTGAGTGCGGTAGGGGAGACTGGAACTCCTGG',\n",
       " 'TACGTAGGTGGCAAGCGTTGTCCGGATTTATTGGGCGTAAAGCGAGCGCAGGCGGTTCCTTAAGTCTGATGTGAAAGCCCCCGGCTCAACCGGGGAGGGTCATTGGAAACTGGGGAACTTGAGTGCAGAAGAGGAGAGTGGAATTCCATG',\n",
       " 'TACGTAGGGCGCGAGCGTTGTCCGGAATTATTGGGCGTAAAGAGCTCGTAGGCGGCTGGTCGCGTCTGTCGTGAAATCCTCTGGCTTAACTGGGGGCTTGCGGTGGGTACGGGCCGGCTTGAGTGCGGTAGGGGAGACTGGAACTCCTGG',\n",
       " 'TACGGAGGGTGCGAGCGTTAATCGGAATAACTGGGCGTAAAGGGCACGCAGGCGGTGACTTAAGTGAGGTGTGAAAGCCCCGGGCTTAACCTGGGAATTGCATTTCATACTGGGTCGCTAGAGTACTTTAGGGAGGGGTAGAATTCCACG',\n",
       " 'TACGTAGGTGGCAAGCGTTGTCCGGAATTATTGGGCGTAAAGCGCGCGCAGGTGGTTTAATAAGTCTGATGTGAAAGCCCACGGCTCAACCGTGGAGGGTCATTGGAAACTGTTAAACTTGAGTGCAGGAGAGAAAAGTGGAATTCCTAG',\n",
       " 'TACGTAGGTCCCGAGCGTTGTCCGGATTTATTGGGCGTAAAGCGAGCGCAGGCGGTTAGATAAGTCTGAAGTTAAAGGCTGTGGCTTAACCATAGTACGCTTTGGAAACTGTTTAACTTGAGTGCAAGAGGGGAGAGTGGAATTCCATGT',\n",
       " 'TACGTAGGTCCCGAGCGTTATCCGGATTTATTGGGCGTAAAGCGAGCGCAGGCGGTTAGATAAGTCTGAAGTTAAAGGCTGTGGCTTAACCATAGTACGCTTTGGAAACTGTTTAACTTGAGTGCAGAAGGGGAGAGTGGAATTCCATGT',\n",
       " 'TACGTAGGGCGCGAGCGTTGTCCGGAATTATTGGGCGTAAAGGGCTTGTAGGCGGTTGGTCGCGTCTGCCGTGAAATTCTCTGGCTTAACTGGGGGCGTGCGGTGGGTACGGGCTGACTTGAGTGCGGTAGGGGAGACTGGAACTCCTGG',\n",
       " 'TACGTAGGTGGCAAGCGTTGTCCGGAATTATTGGGCGTAAAGCGCGCGCAGGCGGATTGGTCAGTCTGTCTTAAAAGTTCGGGGCTTAACCCCGTGATGGGATGGAAACTGCCAATCTAGAGTATCGGAGAGGAAAGTGGAATTCCTAGT',\n",
       " 'TACGTAGGGCGCAAGCGTTGTCCGGAATTATTGGGCGTAAAGAGCTCGTAGGCGGCTGGTCGCGTCTGTCGTGAAAACTTCCGGCTCAACCGGGGGCTTGCGGTGGGTACGGGCCGGCTAGAGTGCGGTAGGGGTAACTGGAACTCCTGG',\n",
       " 'TACGGAAGGTCCAGGCGTTATCCGGATTTATTGGGTTTAAAGGGAGCGTAGGCTGGAGATTAAGTGTGTTGTGAAATGTAGACGCTCAACGTCTGAATTGCAGCGCATACTGGTTTCCTTGAGTACGCACAACGTTGGCGGAATTCGTCG',\n",
       " 'TACGTAGGTGGCGAGCGTTATCCGGAATTATTGGGCGTAAAGGGTGCGTAGGCGGCCTGTTAAGTAAGTGGTTAAATTGTTGGGCTCAACCCAATCCAGCCACTTAAACTGGCAGGCTAGAGTATTGGAGAGGCAAGTGGAATTCCATGT',\n",
       " 'TACGTAGGGGGCAAGCGTTATCCGGAATTATTGGGCGTAAAGAGTGCGTAGGTGGTTACCTAAGCGCAAGGTTTAATTTAGAGGCTCAACCTCTACTTGCCTTGCGAACTGGGCTACTTGAGTGCAGGAGGGGAAAGCGGAATTCCTAGT',\n",
       " 'TACGTATGTCGCGAGCGTTATCCGGAATTATTGGGCATAAAGGGCATCTAGGCGGATATACAAGTCAGGGGTGAAAACTTAGGGCTCAACTCAAAGCTTGCCTTTGAAACTGTATATCTAGAGTGCTGGAGAGGTGGACGGAACTACACG',\n",
       " 'TACGGAAGGTCCAGGCGTTATCCGGATTTATTGGGTTTAAAGGGAGCGTAGGCGGACGATTAAGTCAGCTGTGAAAGTTTGCGGCTCAACCGTAAAATTGCAGTTGAAACTGGTTGTCTTGAGTGCACGCAGGGATGTTGGAATTCATGG']"
      ]
     },
     "execution_count": 19,
     "metadata": {},
     "output_type": "execute_result"
    }
   ],
   "source": [
    "seqs"
   ]
  },
  {
   "cell_type": "markdown",
   "metadata": {},
   "source": [
    "# arm"
   ]
  },
  {
   "cell_type": "code",
   "execution_count": 92,
   "metadata": {
    "run_control": {
     "frozen": false,
     "read_only": false
    }
   },
   "outputs": [
    {
     "name": "stdout",
     "output_type": "stream",
     "text": [
      "2017-09-01 11:22:10 INFO 980 remaining\n",
      "2017-09-01 11:22:10 INFO 537 remaining\n"
     ]
    },
    {
     "data": {
      "text/plain": [
       "AmpliconExperiment skin.bodysite.min25.clean.withtax.biom with 110 samples, 537 features"
      ]
     },
     "execution_count": 92,
     "metadata": {},
     "output_type": "execute_result"
    }
   ],
   "source": [
    "dat2 = dat.filter_samples('bodysite', 'Arm').filter_samples('time', 'Time1')\n",
    "dat2 = dat2.filter_min_abundance(50)\n",
    "dat2 = dat2.filter_prevalence(0.1)\n",
    "dat2"
   ]
  },
  {
   "cell_type": "code",
   "execution_count": 93,
   "metadata": {
    "collapsed": true,
    "run_control": {
     "frozen": false,
     "read_only": false
    }
   },
   "outputs": [],
   "source": [
    "dat2 = dat2.sort_samples('time').sort_samples('subj').sort_samples('bodysite')"
   ]
  },
  {
   "cell_type": "code",
   "execution_count": 94,
   "metadata": {
    "run_control": {
     "frozen": false,
     "read_only": false
    }
   },
   "outputs": [
    {
     "data": {
      "text/plain": [
       "AmpliconExperiment skin.bodysite.min25.clean.withtax.biom with 110 samples, 537 features"
      ]
     },
     "execution_count": 94,
     "metadata": {},
     "output_type": "execute_result"
    }
   ],
   "source": [
    "dat2"
   ]
  },
  {
   "cell_type": "code",
   "execution_count": 95,
   "metadata": {
    "run_control": {
     "frozen": false,
     "read_only": false
    }
   },
   "outputs": [
    {
     "data": {
      "text/html": [
       "<div>\n",
       "<style>\n",
       "    .dataframe thead tr:only-child th {\n",
       "        text-align: right;\n",
       "    }\n",
       "\n",
       "    .dataframe thead th {\n",
       "        text-align: left;\n",
       "    }\n",
       "\n",
       "    .dataframe tbody tr th {\n",
       "        vertical-align: top;\n",
       "    }\n",
       "</style>\n",
       "<table border=\"1\" class=\"dataframe\">\n",
       "  <thead>\n",
       "    <tr style=\"text-align: right;\">\n",
       "      <th></th>\n",
       "      <th>time</th>\n",
       "      <th>subj</th>\n",
       "      <th>bodysite</th>\n",
       "    </tr>\n",
       "    <tr>\n",
       "      <th>#SampleID</th>\n",
       "      <th></th>\n",
       "      <th></th>\n",
       "      <th></th>\n",
       "    </tr>\n",
       "  </thead>\n",
       "  <tbody>\n",
       "    <tr>\n",
       "      <th>SRR3216593</th>\n",
       "      <td>Time1</td>\n",
       "      <td>AA01</td>\n",
       "      <td>Arm</td>\n",
       "    </tr>\n",
       "    <tr>\n",
       "      <th>SRR3216599</th>\n",
       "      <td>Time1</td>\n",
       "      <td>AA02</td>\n",
       "      <td>Arm</td>\n",
       "    </tr>\n",
       "    <tr>\n",
       "      <th>SRR3216605</th>\n",
       "      <td>Time1</td>\n",
       "      <td>AA03</td>\n",
       "      <td>Arm</td>\n",
       "    </tr>\n",
       "    <tr>\n",
       "      <th>SRR3216611</th>\n",
       "      <td>Time1</td>\n",
       "      <td>AA04</td>\n",
       "      <td>Arm</td>\n",
       "    </tr>\n",
       "    <tr>\n",
       "      <th>SRR3216617</th>\n",
       "      <td>Time1</td>\n",
       "      <td>AA05</td>\n",
       "      <td>Arm</td>\n",
       "    </tr>\n",
       "    <tr>\n",
       "      <th>SRR3216623</th>\n",
       "      <td>Time1</td>\n",
       "      <td>AA06</td>\n",
       "      <td>Arm</td>\n",
       "    </tr>\n",
       "    <tr>\n",
       "      <th>SRR3216629</th>\n",
       "      <td>Time1</td>\n",
       "      <td>AA07</td>\n",
       "      <td>Arm</td>\n",
       "    </tr>\n",
       "    <tr>\n",
       "      <th>SRR3216635</th>\n",
       "      <td>Time1</td>\n",
       "      <td>AA08</td>\n",
       "      <td>Arm</td>\n",
       "    </tr>\n",
       "    <tr>\n",
       "      <th>SRR3216641</th>\n",
       "      <td>Time1</td>\n",
       "      <td>AA09</td>\n",
       "      <td>Arm</td>\n",
       "    </tr>\n",
       "    <tr>\n",
       "      <th>SRR3216647</th>\n",
       "      <td>Time1</td>\n",
       "      <td>AA10</td>\n",
       "      <td>Arm</td>\n",
       "    </tr>\n",
       "    <tr>\n",
       "      <th>SRR3216653</th>\n",
       "      <td>Time1</td>\n",
       "      <td>AA11</td>\n",
       "      <td>Arm</td>\n",
       "    </tr>\n",
       "    <tr>\n",
       "      <th>SRR3216659</th>\n",
       "      <td>Time1</td>\n",
       "      <td>AA12</td>\n",
       "      <td>Arm</td>\n",
       "    </tr>\n",
       "    <tr>\n",
       "      <th>SRR3216665</th>\n",
       "      <td>Time1</td>\n",
       "      <td>AA13</td>\n",
       "      <td>Arm</td>\n",
       "    </tr>\n",
       "    <tr>\n",
       "      <th>SRR3216671</th>\n",
       "      <td>Time1</td>\n",
       "      <td>AA14</td>\n",
       "      <td>Arm</td>\n",
       "    </tr>\n",
       "    <tr>\n",
       "      <th>SRR3216677</th>\n",
       "      <td>Time1</td>\n",
       "      <td>AA15</td>\n",
       "      <td>Arm</td>\n",
       "    </tr>\n",
       "    <tr>\n",
       "      <th>SRR3216683</th>\n",
       "      <td>Time1</td>\n",
       "      <td>AA16</td>\n",
       "      <td>Arm</td>\n",
       "    </tr>\n",
       "    <tr>\n",
       "      <th>SRR3216689</th>\n",
       "      <td>Time1</td>\n",
       "      <td>AA17</td>\n",
       "      <td>Arm</td>\n",
       "    </tr>\n",
       "    <tr>\n",
       "      <th>SRR3216695</th>\n",
       "      <td>Time1</td>\n",
       "      <td>AA18</td>\n",
       "      <td>Arm</td>\n",
       "    </tr>\n",
       "    <tr>\n",
       "      <th>SRR3216701</th>\n",
       "      <td>Time1</td>\n",
       "      <td>AC03</td>\n",
       "      <td>Arm</td>\n",
       "    </tr>\n",
       "    <tr>\n",
       "      <th>SRR3216707</th>\n",
       "      <td>Time1</td>\n",
       "      <td>AC04</td>\n",
       "      <td>Arm</td>\n",
       "    </tr>\n",
       "  </tbody>\n",
       "</table>\n",
       "</div>"
      ],
      "text/plain": [
       "             time  subj bodysite\n",
       "#SampleID                       \n",
       "SRR3216593  Time1  AA01      Arm\n",
       "SRR3216599  Time1  AA02      Arm\n",
       "SRR3216605  Time1  AA03      Arm\n",
       "SRR3216611  Time1  AA04      Arm\n",
       "SRR3216617  Time1  AA05      Arm\n",
       "SRR3216623  Time1  AA06      Arm\n",
       "SRR3216629  Time1  AA07      Arm\n",
       "SRR3216635  Time1  AA08      Arm\n",
       "SRR3216641  Time1  AA09      Arm\n",
       "SRR3216647  Time1  AA10      Arm\n",
       "SRR3216653  Time1  AA11      Arm\n",
       "SRR3216659  Time1  AA12      Arm\n",
       "SRR3216665  Time1  AA13      Arm\n",
       "SRR3216671  Time1  AA14      Arm\n",
       "SRR3216677  Time1  AA15      Arm\n",
       "SRR3216683  Time1  AA16      Arm\n",
       "SRR3216689  Time1  AA17      Arm\n",
       "SRR3216695  Time1  AA18      Arm\n",
       "SRR3216701  Time1  AC03      Arm\n",
       "SRR3216707  Time1  AC04      Arm"
      ]
     },
     "execution_count": 95,
     "metadata": {},
     "output_type": "execute_result"
    }
   ],
   "source": [
    "dat2.sample_metadata[['time', 'subj', 'bodysite']].head(20)"
   ]
  },
  {
   "cell_type": "code",
   "execution_count": 96,
   "metadata": {
    "run_control": {
     "frozen": false,
     "read_only": false
    },
    "scrolled": true
   },
   "outputs": [
    {
     "name": "stdout",
     "output_type": "stream",
     "text": [
      "2017-09-01 11:23:00 WARNING .txt format does not support taxonomy information in save. Saving without taxonomy.\n"
     ]
    }
   ],
   "source": [
    "dat2.save_biom('skin-min50-prev0.1-arm.txt', fmt='txt')"
   ]
  },
  {
   "cell_type": "markdown",
   "metadata": {
    "collapsed": true,
    "run_control": {
     "frozen": false,
     "read_only": false
    }
   },
   "source": [
    "# scalp"
   ]
  },
  {
   "cell_type": "code",
   "execution_count": 5,
   "metadata": {
    "run_control": {
     "frozen": false,
     "read_only": false
    }
   },
   "outputs": [
    {
     "name": "stdout",
     "output_type": "stream",
     "text": [
      "2017-09-01 15:27:00 INFO 412 remaining\n",
      "2017-09-01 15:27:00 INFO 190 remaining\n"
     ]
    },
    {
     "data": {
      "text/plain": [
       "AmpliconExperiment skin.bodysite.min25.clean.withtax.biom with 110 samples, 190 features"
      ]
     },
     "execution_count": 5,
     "metadata": {},
     "output_type": "execute_result"
    }
   ],
   "source": [
    "dat2 = dat.filter_samples('bodysite', 'Scalp').filter_samples('time', 'Time1')\n",
    "dat2 = dat2.filter_min_abundance(50)\n",
    "dat2 = dat2.filter_prevalence(0.1)\n",
    "dat2"
   ]
  },
  {
   "cell_type": "code",
   "execution_count": 6,
   "metadata": {
    "collapsed": true,
    "run_control": {
     "frozen": false,
     "read_only": false
    }
   },
   "outputs": [],
   "source": [
    "dat2 = dat2.sort_samples('time').sort_samples('subj').sort_samples('bodysite')"
   ]
  },
  {
   "cell_type": "code",
   "execution_count": 7,
   "metadata": {
    "run_control": {
     "frozen": false,
     "read_only": false
    }
   },
   "outputs": [
    {
     "data": {
      "text/plain": [
       "AmpliconExperiment skin.bodysite.min25.clean.withtax.biom with 110 samples, 190 features"
      ]
     },
     "execution_count": 7,
     "metadata": {},
     "output_type": "execute_result"
    }
   ],
   "source": [
    "dat2"
   ]
  },
  {
   "cell_type": "code",
   "execution_count": 8,
   "metadata": {
    "run_control": {
     "frozen": false,
     "read_only": false
    }
   },
   "outputs": [
    {
     "data": {
      "text/html": [
       "<div>\n",
       "<style>\n",
       "    .dataframe thead tr:only-child th {\n",
       "        text-align: right;\n",
       "    }\n",
       "\n",
       "    .dataframe thead th {\n",
       "        text-align: left;\n",
       "    }\n",
       "\n",
       "    .dataframe tbody tr th {\n",
       "        vertical-align: top;\n",
       "    }\n",
       "</style>\n",
       "<table border=\"1\" class=\"dataframe\">\n",
       "  <thead>\n",
       "    <tr style=\"text-align: right;\">\n",
       "      <th></th>\n",
       "      <th>time</th>\n",
       "      <th>subj</th>\n",
       "      <th>bodysite</th>\n",
       "    </tr>\n",
       "    <tr>\n",
       "      <th>#SampleID</th>\n",
       "      <th></th>\n",
       "      <th></th>\n",
       "      <th></th>\n",
       "    </tr>\n",
       "  </thead>\n",
       "  <tbody>\n",
       "    <tr>\n",
       "      <th>SRR3216589</th>\n",
       "      <td>Time1</td>\n",
       "      <td>AA01</td>\n",
       "      <td>Scalp</td>\n",
       "    </tr>\n",
       "    <tr>\n",
       "      <th>SRR3216595</th>\n",
       "      <td>Time1</td>\n",
       "      <td>AA02</td>\n",
       "      <td>Scalp</td>\n",
       "    </tr>\n",
       "    <tr>\n",
       "      <th>SRR3216601</th>\n",
       "      <td>Time1</td>\n",
       "      <td>AA03</td>\n",
       "      <td>Scalp</td>\n",
       "    </tr>\n",
       "    <tr>\n",
       "      <th>SRR3216607</th>\n",
       "      <td>Time1</td>\n",
       "      <td>AA04</td>\n",
       "      <td>Scalp</td>\n",
       "    </tr>\n",
       "    <tr>\n",
       "      <th>SRR3216613</th>\n",
       "      <td>Time1</td>\n",
       "      <td>AA05</td>\n",
       "      <td>Scalp</td>\n",
       "    </tr>\n",
       "    <tr>\n",
       "      <th>SRR3216619</th>\n",
       "      <td>Time1</td>\n",
       "      <td>AA06</td>\n",
       "      <td>Scalp</td>\n",
       "    </tr>\n",
       "    <tr>\n",
       "      <th>SRR3216625</th>\n",
       "      <td>Time1</td>\n",
       "      <td>AA07</td>\n",
       "      <td>Scalp</td>\n",
       "    </tr>\n",
       "    <tr>\n",
       "      <th>SRR3216631</th>\n",
       "      <td>Time1</td>\n",
       "      <td>AA08</td>\n",
       "      <td>Scalp</td>\n",
       "    </tr>\n",
       "    <tr>\n",
       "      <th>SRR3216637</th>\n",
       "      <td>Time1</td>\n",
       "      <td>AA09</td>\n",
       "      <td>Scalp</td>\n",
       "    </tr>\n",
       "    <tr>\n",
       "      <th>SRR3216643</th>\n",
       "      <td>Time1</td>\n",
       "      <td>AA10</td>\n",
       "      <td>Scalp</td>\n",
       "    </tr>\n",
       "    <tr>\n",
       "      <th>SRR3216649</th>\n",
       "      <td>Time1</td>\n",
       "      <td>AA11</td>\n",
       "      <td>Scalp</td>\n",
       "    </tr>\n",
       "    <tr>\n",
       "      <th>SRR3216655</th>\n",
       "      <td>Time1</td>\n",
       "      <td>AA12</td>\n",
       "      <td>Scalp</td>\n",
       "    </tr>\n",
       "    <tr>\n",
       "      <th>SRR3216661</th>\n",
       "      <td>Time1</td>\n",
       "      <td>AA13</td>\n",
       "      <td>Scalp</td>\n",
       "    </tr>\n",
       "    <tr>\n",
       "      <th>SRR3216667</th>\n",
       "      <td>Time1</td>\n",
       "      <td>AA14</td>\n",
       "      <td>Scalp</td>\n",
       "    </tr>\n",
       "    <tr>\n",
       "      <th>SRR3216673</th>\n",
       "      <td>Time1</td>\n",
       "      <td>AA15</td>\n",
       "      <td>Scalp</td>\n",
       "    </tr>\n",
       "    <tr>\n",
       "      <th>SRR3216679</th>\n",
       "      <td>Time1</td>\n",
       "      <td>AA16</td>\n",
       "      <td>Scalp</td>\n",
       "    </tr>\n",
       "    <tr>\n",
       "      <th>SRR3216685</th>\n",
       "      <td>Time1</td>\n",
       "      <td>AA17</td>\n",
       "      <td>Scalp</td>\n",
       "    </tr>\n",
       "    <tr>\n",
       "      <th>SRR3216691</th>\n",
       "      <td>Time1</td>\n",
       "      <td>AA18</td>\n",
       "      <td>Scalp</td>\n",
       "    </tr>\n",
       "    <tr>\n",
       "      <th>SRR3216697</th>\n",
       "      <td>Time1</td>\n",
       "      <td>AC03</td>\n",
       "      <td>Scalp</td>\n",
       "    </tr>\n",
       "    <tr>\n",
       "      <th>SRR3216703</th>\n",
       "      <td>Time1</td>\n",
       "      <td>AC04</td>\n",
       "      <td>Scalp</td>\n",
       "    </tr>\n",
       "  </tbody>\n",
       "</table>\n",
       "</div>"
      ],
      "text/plain": [
       "             time  subj bodysite\n",
       "#SampleID                       \n",
       "SRR3216589  Time1  AA01    Scalp\n",
       "SRR3216595  Time1  AA02    Scalp\n",
       "SRR3216601  Time1  AA03    Scalp\n",
       "SRR3216607  Time1  AA04    Scalp\n",
       "SRR3216613  Time1  AA05    Scalp\n",
       "SRR3216619  Time1  AA06    Scalp\n",
       "SRR3216625  Time1  AA07    Scalp\n",
       "SRR3216631  Time1  AA08    Scalp\n",
       "SRR3216637  Time1  AA09    Scalp\n",
       "SRR3216643  Time1  AA10    Scalp\n",
       "SRR3216649  Time1  AA11    Scalp\n",
       "SRR3216655  Time1  AA12    Scalp\n",
       "SRR3216661  Time1  AA13    Scalp\n",
       "SRR3216667  Time1  AA14    Scalp\n",
       "SRR3216673  Time1  AA15    Scalp\n",
       "SRR3216679  Time1  AA16    Scalp\n",
       "SRR3216685  Time1  AA17    Scalp\n",
       "SRR3216691  Time1  AA18    Scalp\n",
       "SRR3216697  Time1  AC03    Scalp\n",
       "SRR3216703  Time1  AC04    Scalp"
      ]
     },
     "execution_count": 8,
     "metadata": {},
     "output_type": "execute_result"
    }
   ],
   "source": [
    "dat2.sample_metadata[['time', 'subj', 'bodysite']].head(20)"
   ]
  },
  {
   "cell_type": "code",
   "execution_count": 9,
   "metadata": {
    "run_control": {
     "frozen": false,
     "read_only": false
    },
    "scrolled": true
   },
   "outputs": [
    {
     "name": "stdout",
     "output_type": "stream",
     "text": [
      "2017-09-01 15:27:47 WARNING .txt format does not support taxonomy information in save. Saving without taxonomy.\n"
     ]
    }
   ],
   "source": [
    "dat2.save_biom('skin-min50-prev0.1-scalp.txt', fmt='txt')"
   ]
  },
  {
   "cell_type": "code",
   "execution_count": 20,
   "metadata": {
    "collapsed": true
   },
   "outputs": [],
   "source": [
    "dat2.split_taxonomy()"
   ]
  },
  {
   "cell_type": "code",
   "execution_count": 14,
   "metadata": {
    "collapsed": true
   },
   "outputs": [],
   "source": [
    "dat2.feature_metadata['total'] = dat2.data.toarray().sum(axis=0)"
   ]
  },
  {
   "cell_type": "code",
   "execution_count": 21,
   "metadata": {
    "collapsed": true
   },
   "outputs": [],
   "source": [
    "dat2.feature_metadata['found_in_saliva_cluster'] = ['y' if i in seqs else 'n' for i in dat2.feature_metadata.index]"
   ]
  },
  {
   "cell_type": "code",
   "execution_count": 22,
   "metadata": {},
   "outputs": [
    {
     "data": {
      "text/html": [
       "<div>\n",
       "<style>\n",
       "    .dataframe thead tr:only-child th {\n",
       "        text-align: right;\n",
       "    }\n",
       "\n",
       "    .dataframe thead th {\n",
       "        text-align: left;\n",
       "    }\n",
       "\n",
       "    .dataframe tbody tr th {\n",
       "        vertical-align: top;\n",
       "    }\n",
       "</style>\n",
       "<table border=\"1\" class=\"dataframe\">\n",
       "  <thead>\n",
       "    <tr style=\"text-align: right;\">\n",
       "      <th></th>\n",
       "      <th>id</th>\n",
       "      <th>taxonomy</th>\n",
       "      <th>total</th>\n",
       "      <th>kingdom</th>\n",
       "      <th>phylum</th>\n",
       "      <th>class</th>\n",
       "      <th>order</th>\n",
       "      <th>family</th>\n",
       "      <th>genus</th>\n",
       "      <th>species</th>\n",
       "      <th>found_in_saliva_cluster</th>\n",
       "    </tr>\n",
       "  </thead>\n",
       "  <tbody>\n",
       "    <tr>\n",
       "      <th>TACGAAGGGGGCTAGCGTTGCTCGGAATCACTGGGCGTAAAGGGCGCGTAGGCGGCGTTTTAAGTCGGGGGTGAAAGCCTGTGGCTCAACCACAGAATGGCCTTCGATACTGGGACGCTTGAGTATGGTAGAGGTTGGTGGAACTGCGAG</th>\n",
       "      <td>TACGAAGGGGGCTAGCGTTGCTCGGAATCACTGGGCGTAAAGGGCG...</td>\n",
       "      <td>k__Bacteria;p__Proteobacteria;c__Alphaproteoba...</td>\n",
       "      <td>1083.0</td>\n",
       "      <td>k__Bacteria</td>\n",
       "      <td>p__Proteobacteria</td>\n",
       "      <td>c__Alphaproteobacteria</td>\n",
       "      <td>o__Rhizobiales</td>\n",
       "      <td>f__Methylobacteriaceae</td>\n",
       "      <td>g__Methylobacterium</td>\n",
       "      <td>s__</td>\n",
       "      <td>n</td>\n",
       "    </tr>\n",
       "    <tr>\n",
       "      <th>TACGTAGGGTGCGAGCGTTAATCGGAATTACTGGGCGTAAAGCGGGCGCAGACGGTTACTTAAGCAGGATGTGAAATCCCCGGGCTCAACCTGGGAACTGCGTTCTGAACTGGGTGACTAGAGTGTGTCAGAGGGAGGTAGAATTCCACG</th>\n",
       "      <td>TACGTAGGGTGCGAGCGTTAATCGGAATTACTGGGCGTAAAGCGGG...</td>\n",
       "      <td>k__Bacteria;p__Proteobacteria;c__Betaproteobac...</td>\n",
       "      <td>295.0</td>\n",
       "      <td>k__Bacteria</td>\n",
       "      <td>p__Proteobacteria</td>\n",
       "      <td>c__Betaproteobacteria</td>\n",
       "      <td>o__Neisseriales</td>\n",
       "      <td>f__Neisseriaceae</td>\n",
       "      <td>g__Neisseria</td>\n",
       "      <td>s__</td>\n",
       "      <td>n</td>\n",
       "    </tr>\n",
       "    <tr>\n",
       "      <th>TACGTAGGGTGCAAGCGTTGTCCGGAATTACTGGGCGTAAAGAGCTCGTAGGTGGTTTGTCACGTCGTCTGTGAAATTCCACAGCTTAACTGTGGGCGTGCAGGCGATACGGGCTGACTTGAGTACTGTAGGGGTAACTGGAATTCCTGG</th>\n",
       "      <td>TACGTAGGGTGCAAGCGTTGTCCGGAATTACTGGGCGTAAAGAGCT...</td>\n",
       "      <td>k__Bacteria;p__Actinobacteria;c__Actinobacteri...</td>\n",
       "      <td>67.0</td>\n",
       "      <td>k__Bacteria</td>\n",
       "      <td>p__Actinobacteria</td>\n",
       "      <td>c__Actinobacteria</td>\n",
       "      <td>o__Actinomycetales</td>\n",
       "      <td>f__Corynebacteriaceae</td>\n",
       "      <td>g__Corynebacterium</td>\n",
       "      <td>s__</td>\n",
       "      <td>n</td>\n",
       "    </tr>\n",
       "    <tr>\n",
       "      <th>TACGTAGGGCGCGAGCGTTGTCCGGAATTATTGGGCGTAAAGAGCTTGTAGGCGGTTGGTCGCGTCTGCTGTGAAAGGCTGGGGCTTAACCCTGGTTTTGCAGTGGGTACGGGCTAACTAGAGTGCAGTAGGGGAGACTGGAATTCCTGG</th>\n",
       "      <td>TACGTAGGGCGCGAGCGTTGTCCGGAATTATTGGGCGTAAAGAGCT...</td>\n",
       "      <td>k__Bacteria;p__Actinobacteria;c__Actinobacteri...</td>\n",
       "      <td>342.0</td>\n",
       "      <td>k__Bacteria</td>\n",
       "      <td>p__Actinobacteria</td>\n",
       "      <td>c__Actinobacteria</td>\n",
       "      <td>o__Actinomycetales</td>\n",
       "      <td>f__Micrococcaceae</td>\n",
       "      <td>g__Rothia</td>\n",
       "      <td>s__dentocariosa</td>\n",
       "      <td>y</td>\n",
       "    </tr>\n",
       "    <tr>\n",
       "      <th>TACGAAGGGGGCTAGCGTTGCTCGGAATCACTGGGCGTAAAGGGTGCGTAGGCGGGTCTTTAAGTCAGGGGTGAAATCCTGGAGCTCAACTCCAGAACTGCCTTTGATACTGAAGATCTTGAGTTCGGGAGAGGTGAGTGGAACTGCGAG</th>\n",
       "      <td>TACGAAGGGGGCTAGCGTTGCTCGGAATCACTGGGCGTAAAGGGTG...</td>\n",
       "      <td>k__Bacteria;p__Proteobacteria;c__Alphaproteoba...</td>\n",
       "      <td>182.0</td>\n",
       "      <td>k__Bacteria</td>\n",
       "      <td>p__Proteobacteria</td>\n",
       "      <td>c__Alphaproteobacteria</td>\n",
       "      <td>o__Rhizobiales</td>\n",
       "      <td>f__Bradyrhizobiaceae</td>\n",
       "      <td>g__Bradyrhizobium</td>\n",
       "      <td>s__</td>\n",
       "      <td>n</td>\n",
       "    </tr>\n",
       "    <tr>\n",
       "      <th>TACGTAGGGTGCGAGCGTTGTCCGGAATTACTGGGCGTAAAGAGCTCGTAGGTGGTTTGTCGCGTCGTCTGTGAAATTCCGGGGCTTAACTCCGGGCGTGCAGGCGATACGGGCATAACTTGAGTGCTGTAGGGGAGACTGGAATTCCTG</th>\n",
       "      <td>TACGTAGGGTGCGAGCGTTGTCCGGAATTACTGGGCGTAAAGAGCT...</td>\n",
       "      <td>k__Bacteria;p__Actinobacteria;c__Actinobacteri...</td>\n",
       "      <td>3234.0</td>\n",
       "      <td>k__Bacteria</td>\n",
       "      <td>p__Actinobacteria</td>\n",
       "      <td>c__Actinobacteria</td>\n",
       "      <td>o__Actinomycetales</td>\n",
       "      <td>f__Corynebacteriaceae</td>\n",
       "      <td>g__Corynebacterium</td>\n",
       "      <td>s__variabile</td>\n",
       "      <td>n</td>\n",
       "    </tr>\n",
       "    <tr>\n",
       "      <th>TACGAAGGGTGCAAGCGTTAATCGGAATTACTGGGCGTAAAGCGCGCGTAGGTGGCTTGATAAGTTGGATGTGAAATCCCCGGGCTCAACCTGGGAACTGCATCCAAAACTGTCTGGCTAGAGTGCGGTAGAGGGTAGTGGAATTTCCAG</th>\n",
       "      <td>TACGAAGGGTGCAAGCGTTAATCGGAATTACTGGGCGTAAAGCGCG...</td>\n",
       "      <td>k__Bacteria;p__Proteobacteria;c__Gammaproteoba...</td>\n",
       "      <td>197.0</td>\n",
       "      <td>k__Bacteria</td>\n",
       "      <td>p__Proteobacteria</td>\n",
       "      <td>c__Gammaproteobacteria</td>\n",
       "      <td>o__Pseudomonadales</td>\n",
       "      <td>f__Pseudomonadaceae</td>\n",
       "      <td>g__Pseudomonas</td>\n",
       "      <td>s__</td>\n",
       "      <td>n</td>\n",
       "    </tr>\n",
       "    <tr>\n",
       "      <th>TACGTAGGGTGCGAGCGTTGTCCGGAATTACTGGGCGTAAAGAGCTCGTAGGTGGTTTGTCGCGTCGTCTGTGAAATTCCGGGGCTTAACTCCGGGCGTGCAGGCGATACGGGCTGACTTGAGTGCTGTAGGGGAGACTGGAATTCCTGG</th>\n",
       "      <td>TACGTAGGGTGCGAGCGTTGTCCGGAATTACTGGGCGTAAAGAGCT...</td>\n",
       "      <td>k__Bacteria;p__Actinobacteria;c__Actinobacteri...</td>\n",
       "      <td>407.0</td>\n",
       "      <td>k__Bacteria</td>\n",
       "      <td>p__Actinobacteria</td>\n",
       "      <td>c__Actinobacteria</td>\n",
       "      <td>o__Actinomycetales</td>\n",
       "      <td>f__Corynebacteriaceae</td>\n",
       "      <td>g__Corynebacterium</td>\n",
       "      <td>None</td>\n",
       "      <td>n</td>\n",
       "    </tr>\n",
       "    <tr>\n",
       "      <th>TACGTAGGGTACGAGCGTTGTCCGGAATTATTGGGCGTAAAGAGCTCGTAGGTGGTTGGTCACGTCTGCTGTGGAAACGCAACGCTTAACGTTGCGCGTGCAGTGGGTACGGGCTGACTAGAGTGCAGTAGGGGAGTCTGGAATTCCTGG</th>\n",
       "      <td>TACGTAGGGTACGAGCGTTGTCCGGAATTATTGGGCGTAAAGAGCT...</td>\n",
       "      <td>k__Bacteria;p__Actinobacteria;c__Actinobacteri...</td>\n",
       "      <td>204.0</td>\n",
       "      <td>k__Bacteria</td>\n",
       "      <td>p__Actinobacteria</td>\n",
       "      <td>c__Actinobacteria</td>\n",
       "      <td>o__Actinomycetales</td>\n",
       "      <td>f__Brevibacteriaceae</td>\n",
       "      <td>g__Brevibacterium</td>\n",
       "      <td>s__aureum</td>\n",
       "      <td>n</td>\n",
       "    </tr>\n",
       "    <tr>\n",
       "      <th>TACGTAGGTGGCAAGCGTTGTCCGGATTTATTGGGCGTAAAGCGAGTGCAGGCGGTTCAATAAGTCTGATGTGAAAGCCTTCGGCTCAACCGGAGAATTGCATCAGAAACTGTTGAACTTGAGTGCAGAAGAGGAGAGTGGAACTCCATG</th>\n",
       "      <td>TACGTAGGTGGCAAGCGTTGTCCGGATTTATTGGGCGTAAAGCGAG...</td>\n",
       "      <td>k__Bacteria;p__Firmicutes;c__Bacilli;o__Lactob...</td>\n",
       "      <td>647.0</td>\n",
       "      <td>k__Bacteria</td>\n",
       "      <td>p__Firmicutes</td>\n",
       "      <td>c__Bacilli</td>\n",
       "      <td>o__Lactobacillales</td>\n",
       "      <td>f__Lactobacillaceae</td>\n",
       "      <td>g__Lactobacillus</td>\n",
       "      <td>s__</td>\n",
       "      <td>n</td>\n",
       "    </tr>\n",
       "  </tbody>\n",
       "</table>\n",
       "</div>"
      ],
      "text/plain": [
       "                                                                                                   id  \\\n",
       "TACGAAGGGGGCTAGCGTTGCTCGGAATCACTGGGCGTAAAGGGCGC...  TACGAAGGGGGCTAGCGTTGCTCGGAATCACTGGGCGTAAAGGGCG...   \n",
       "TACGTAGGGTGCGAGCGTTAATCGGAATTACTGGGCGTAAAGCGGGC...  TACGTAGGGTGCGAGCGTTAATCGGAATTACTGGGCGTAAAGCGGG...   \n",
       "TACGTAGGGTGCAAGCGTTGTCCGGAATTACTGGGCGTAAAGAGCTC...  TACGTAGGGTGCAAGCGTTGTCCGGAATTACTGGGCGTAAAGAGCT...   \n",
       "TACGTAGGGCGCGAGCGTTGTCCGGAATTATTGGGCGTAAAGAGCTT...  TACGTAGGGCGCGAGCGTTGTCCGGAATTATTGGGCGTAAAGAGCT...   \n",
       "TACGAAGGGGGCTAGCGTTGCTCGGAATCACTGGGCGTAAAGGGTGC...  TACGAAGGGGGCTAGCGTTGCTCGGAATCACTGGGCGTAAAGGGTG...   \n",
       "TACGTAGGGTGCGAGCGTTGTCCGGAATTACTGGGCGTAAAGAGCTC...  TACGTAGGGTGCGAGCGTTGTCCGGAATTACTGGGCGTAAAGAGCT...   \n",
       "TACGAAGGGTGCAAGCGTTAATCGGAATTACTGGGCGTAAAGCGCGC...  TACGAAGGGTGCAAGCGTTAATCGGAATTACTGGGCGTAAAGCGCG...   \n",
       "TACGTAGGGTGCGAGCGTTGTCCGGAATTACTGGGCGTAAAGAGCTC...  TACGTAGGGTGCGAGCGTTGTCCGGAATTACTGGGCGTAAAGAGCT...   \n",
       "TACGTAGGGTACGAGCGTTGTCCGGAATTATTGGGCGTAAAGAGCTC...  TACGTAGGGTACGAGCGTTGTCCGGAATTATTGGGCGTAAAGAGCT...   \n",
       "TACGTAGGTGGCAAGCGTTGTCCGGATTTATTGGGCGTAAAGCGAGT...  TACGTAGGTGGCAAGCGTTGTCCGGATTTATTGGGCGTAAAGCGAG...   \n",
       "\n",
       "                                                                                             taxonomy  \\\n",
       "TACGAAGGGGGCTAGCGTTGCTCGGAATCACTGGGCGTAAAGGGCGC...  k__Bacteria;p__Proteobacteria;c__Alphaproteoba...   \n",
       "TACGTAGGGTGCGAGCGTTAATCGGAATTACTGGGCGTAAAGCGGGC...  k__Bacteria;p__Proteobacteria;c__Betaproteobac...   \n",
       "TACGTAGGGTGCAAGCGTTGTCCGGAATTACTGGGCGTAAAGAGCTC...  k__Bacteria;p__Actinobacteria;c__Actinobacteri...   \n",
       "TACGTAGGGCGCGAGCGTTGTCCGGAATTATTGGGCGTAAAGAGCTT...  k__Bacteria;p__Actinobacteria;c__Actinobacteri...   \n",
       "TACGAAGGGGGCTAGCGTTGCTCGGAATCACTGGGCGTAAAGGGTGC...  k__Bacteria;p__Proteobacteria;c__Alphaproteoba...   \n",
       "TACGTAGGGTGCGAGCGTTGTCCGGAATTACTGGGCGTAAAGAGCTC...  k__Bacteria;p__Actinobacteria;c__Actinobacteri...   \n",
       "TACGAAGGGTGCAAGCGTTAATCGGAATTACTGGGCGTAAAGCGCGC...  k__Bacteria;p__Proteobacteria;c__Gammaproteoba...   \n",
       "TACGTAGGGTGCGAGCGTTGTCCGGAATTACTGGGCGTAAAGAGCTC...  k__Bacteria;p__Actinobacteria;c__Actinobacteri...   \n",
       "TACGTAGGGTACGAGCGTTGTCCGGAATTATTGGGCGTAAAGAGCTC...  k__Bacteria;p__Actinobacteria;c__Actinobacteri...   \n",
       "TACGTAGGTGGCAAGCGTTGTCCGGATTTATTGGGCGTAAAGCGAGT...  k__Bacteria;p__Firmicutes;c__Bacilli;o__Lactob...   \n",
       "\n",
       "                                                     total      kingdom  \\\n",
       "TACGAAGGGGGCTAGCGTTGCTCGGAATCACTGGGCGTAAAGGGCGC...  1083.0  k__Bacteria   \n",
       "TACGTAGGGTGCGAGCGTTAATCGGAATTACTGGGCGTAAAGCGGGC...   295.0  k__Bacteria   \n",
       "TACGTAGGGTGCAAGCGTTGTCCGGAATTACTGGGCGTAAAGAGCTC...    67.0  k__Bacteria   \n",
       "TACGTAGGGCGCGAGCGTTGTCCGGAATTATTGGGCGTAAAGAGCTT...   342.0  k__Bacteria   \n",
       "TACGAAGGGGGCTAGCGTTGCTCGGAATCACTGGGCGTAAAGGGTGC...   182.0  k__Bacteria   \n",
       "TACGTAGGGTGCGAGCGTTGTCCGGAATTACTGGGCGTAAAGAGCTC...  3234.0  k__Bacteria   \n",
       "TACGAAGGGTGCAAGCGTTAATCGGAATTACTGGGCGTAAAGCGCGC...   197.0  k__Bacteria   \n",
       "TACGTAGGGTGCGAGCGTTGTCCGGAATTACTGGGCGTAAAGAGCTC...   407.0  k__Bacteria   \n",
       "TACGTAGGGTACGAGCGTTGTCCGGAATTATTGGGCGTAAAGAGCTC...   204.0  k__Bacteria   \n",
       "TACGTAGGTGGCAAGCGTTGTCCGGATTTATTGGGCGTAAAGCGAGT...   647.0  k__Bacteria   \n",
       "\n",
       "                                                               phylum  \\\n",
       "TACGAAGGGGGCTAGCGTTGCTCGGAATCACTGGGCGTAAAGGGCGC...  p__Proteobacteria   \n",
       "TACGTAGGGTGCGAGCGTTAATCGGAATTACTGGGCGTAAAGCGGGC...  p__Proteobacteria   \n",
       "TACGTAGGGTGCAAGCGTTGTCCGGAATTACTGGGCGTAAAGAGCTC...  p__Actinobacteria   \n",
       "TACGTAGGGCGCGAGCGTTGTCCGGAATTATTGGGCGTAAAGAGCTT...  p__Actinobacteria   \n",
       "TACGAAGGGGGCTAGCGTTGCTCGGAATCACTGGGCGTAAAGGGTGC...  p__Proteobacteria   \n",
       "TACGTAGGGTGCGAGCGTTGTCCGGAATTACTGGGCGTAAAGAGCTC...  p__Actinobacteria   \n",
       "TACGAAGGGTGCAAGCGTTAATCGGAATTACTGGGCGTAAAGCGCGC...  p__Proteobacteria   \n",
       "TACGTAGGGTGCGAGCGTTGTCCGGAATTACTGGGCGTAAAGAGCTC...  p__Actinobacteria   \n",
       "TACGTAGGGTACGAGCGTTGTCCGGAATTATTGGGCGTAAAGAGCTC...  p__Actinobacteria   \n",
       "TACGTAGGTGGCAAGCGTTGTCCGGATTTATTGGGCGTAAAGCGAGT...      p__Firmicutes   \n",
       "\n",
       "                                                                     class  \\\n",
       "TACGAAGGGGGCTAGCGTTGCTCGGAATCACTGGGCGTAAAGGGCGC...  c__Alphaproteobacteria   \n",
       "TACGTAGGGTGCGAGCGTTAATCGGAATTACTGGGCGTAAAGCGGGC...   c__Betaproteobacteria   \n",
       "TACGTAGGGTGCAAGCGTTGTCCGGAATTACTGGGCGTAAAGAGCTC...       c__Actinobacteria   \n",
       "TACGTAGGGCGCGAGCGTTGTCCGGAATTATTGGGCGTAAAGAGCTT...       c__Actinobacteria   \n",
       "TACGAAGGGGGCTAGCGTTGCTCGGAATCACTGGGCGTAAAGGGTGC...  c__Alphaproteobacteria   \n",
       "TACGTAGGGTGCGAGCGTTGTCCGGAATTACTGGGCGTAAAGAGCTC...       c__Actinobacteria   \n",
       "TACGAAGGGTGCAAGCGTTAATCGGAATTACTGGGCGTAAAGCGCGC...  c__Gammaproteobacteria   \n",
       "TACGTAGGGTGCGAGCGTTGTCCGGAATTACTGGGCGTAAAGAGCTC...       c__Actinobacteria   \n",
       "TACGTAGGGTACGAGCGTTGTCCGGAATTATTGGGCGTAAAGAGCTC...       c__Actinobacteria   \n",
       "TACGTAGGTGGCAAGCGTTGTCCGGATTTATTGGGCGTAAAGCGAGT...              c__Bacilli   \n",
       "\n",
       "                                                                 order  \\\n",
       "TACGAAGGGGGCTAGCGTTGCTCGGAATCACTGGGCGTAAAGGGCGC...      o__Rhizobiales   \n",
       "TACGTAGGGTGCGAGCGTTAATCGGAATTACTGGGCGTAAAGCGGGC...     o__Neisseriales   \n",
       "TACGTAGGGTGCAAGCGTTGTCCGGAATTACTGGGCGTAAAGAGCTC...  o__Actinomycetales   \n",
       "TACGTAGGGCGCGAGCGTTGTCCGGAATTATTGGGCGTAAAGAGCTT...  o__Actinomycetales   \n",
       "TACGAAGGGGGCTAGCGTTGCTCGGAATCACTGGGCGTAAAGGGTGC...      o__Rhizobiales   \n",
       "TACGTAGGGTGCGAGCGTTGTCCGGAATTACTGGGCGTAAAGAGCTC...  o__Actinomycetales   \n",
       "TACGAAGGGTGCAAGCGTTAATCGGAATTACTGGGCGTAAAGCGCGC...  o__Pseudomonadales   \n",
       "TACGTAGGGTGCGAGCGTTGTCCGGAATTACTGGGCGTAAAGAGCTC...  o__Actinomycetales   \n",
       "TACGTAGGGTACGAGCGTTGTCCGGAATTATTGGGCGTAAAGAGCTC...  o__Actinomycetales   \n",
       "TACGTAGGTGGCAAGCGTTGTCCGGATTTATTGGGCGTAAAGCGAGT...  o__Lactobacillales   \n",
       "\n",
       "                                                                    family  \\\n",
       "TACGAAGGGGGCTAGCGTTGCTCGGAATCACTGGGCGTAAAGGGCGC...  f__Methylobacteriaceae   \n",
       "TACGTAGGGTGCGAGCGTTAATCGGAATTACTGGGCGTAAAGCGGGC...        f__Neisseriaceae   \n",
       "TACGTAGGGTGCAAGCGTTGTCCGGAATTACTGGGCGTAAAGAGCTC...   f__Corynebacteriaceae   \n",
       "TACGTAGGGCGCGAGCGTTGTCCGGAATTATTGGGCGTAAAGAGCTT...       f__Micrococcaceae   \n",
       "TACGAAGGGGGCTAGCGTTGCTCGGAATCACTGGGCGTAAAGGGTGC...    f__Bradyrhizobiaceae   \n",
       "TACGTAGGGTGCGAGCGTTGTCCGGAATTACTGGGCGTAAAGAGCTC...   f__Corynebacteriaceae   \n",
       "TACGAAGGGTGCAAGCGTTAATCGGAATTACTGGGCGTAAAGCGCGC...     f__Pseudomonadaceae   \n",
       "TACGTAGGGTGCGAGCGTTGTCCGGAATTACTGGGCGTAAAGAGCTC...   f__Corynebacteriaceae   \n",
       "TACGTAGGGTACGAGCGTTGTCCGGAATTATTGGGCGTAAAGAGCTC...    f__Brevibacteriaceae   \n",
       "TACGTAGGTGGCAAGCGTTGTCCGGATTTATTGGGCGTAAAGCGAGT...     f__Lactobacillaceae   \n",
       "\n",
       "                                                                  genus  \\\n",
       "TACGAAGGGGGCTAGCGTTGCTCGGAATCACTGGGCGTAAAGGGCGC...  g__Methylobacterium   \n",
       "TACGTAGGGTGCGAGCGTTAATCGGAATTACTGGGCGTAAAGCGGGC...         g__Neisseria   \n",
       "TACGTAGGGTGCAAGCGTTGTCCGGAATTACTGGGCGTAAAGAGCTC...   g__Corynebacterium   \n",
       "TACGTAGGGCGCGAGCGTTGTCCGGAATTATTGGGCGTAAAGAGCTT...            g__Rothia   \n",
       "TACGAAGGGGGCTAGCGTTGCTCGGAATCACTGGGCGTAAAGGGTGC...    g__Bradyrhizobium   \n",
       "TACGTAGGGTGCGAGCGTTGTCCGGAATTACTGGGCGTAAAGAGCTC...   g__Corynebacterium   \n",
       "TACGAAGGGTGCAAGCGTTAATCGGAATTACTGGGCGTAAAGCGCGC...       g__Pseudomonas   \n",
       "TACGTAGGGTGCGAGCGTTGTCCGGAATTACTGGGCGTAAAGAGCTC...   g__Corynebacterium   \n",
       "TACGTAGGGTACGAGCGTTGTCCGGAATTATTGGGCGTAAAGAGCTC...    g__Brevibacterium   \n",
       "TACGTAGGTGGCAAGCGTTGTCCGGATTTATTGGGCGTAAAGCGAGT...     g__Lactobacillus   \n",
       "\n",
       "                                                            species  \\\n",
       "TACGAAGGGGGCTAGCGTTGCTCGGAATCACTGGGCGTAAAGGGCGC...              s__   \n",
       "TACGTAGGGTGCGAGCGTTAATCGGAATTACTGGGCGTAAAGCGGGC...              s__   \n",
       "TACGTAGGGTGCAAGCGTTGTCCGGAATTACTGGGCGTAAAGAGCTC...              s__   \n",
       "TACGTAGGGCGCGAGCGTTGTCCGGAATTATTGGGCGTAAAGAGCTT...  s__dentocariosa   \n",
       "TACGAAGGGGGCTAGCGTTGCTCGGAATCACTGGGCGTAAAGGGTGC...              s__   \n",
       "TACGTAGGGTGCGAGCGTTGTCCGGAATTACTGGGCGTAAAGAGCTC...     s__variabile   \n",
       "TACGAAGGGTGCAAGCGTTAATCGGAATTACTGGGCGTAAAGCGCGC...              s__   \n",
       "TACGTAGGGTGCGAGCGTTGTCCGGAATTACTGGGCGTAAAGAGCTC...             None   \n",
       "TACGTAGGGTACGAGCGTTGTCCGGAATTATTGGGCGTAAAGAGCTC...        s__aureum   \n",
       "TACGTAGGTGGCAAGCGTTGTCCGGATTTATTGGGCGTAAAGCGAGT...              s__   \n",
       "\n",
       "                                                   found_in_saliva_cluster  \n",
       "TACGAAGGGGGCTAGCGTTGCTCGGAATCACTGGGCGTAAAGGGCGC...                       n  \n",
       "TACGTAGGGTGCGAGCGTTAATCGGAATTACTGGGCGTAAAGCGGGC...                       n  \n",
       "TACGTAGGGTGCAAGCGTTGTCCGGAATTACTGGGCGTAAAGAGCTC...                       n  \n",
       "TACGTAGGGCGCGAGCGTTGTCCGGAATTATTGGGCGTAAAGAGCTT...                       y  \n",
       "TACGAAGGGGGCTAGCGTTGCTCGGAATCACTGGGCGTAAAGGGTGC...                       n  \n",
       "TACGTAGGGTGCGAGCGTTGTCCGGAATTACTGGGCGTAAAGAGCTC...                       n  \n",
       "TACGAAGGGTGCAAGCGTTAATCGGAATTACTGGGCGTAAAGCGCGC...                       n  \n",
       "TACGTAGGGTGCGAGCGTTGTCCGGAATTACTGGGCGTAAAGAGCTC...                       n  \n",
       "TACGTAGGGTACGAGCGTTGTCCGGAATTATTGGGCGTAAAGAGCTC...                       n  \n",
       "TACGTAGGTGGCAAGCGTTGTCCGGATTTATTGGGCGTAAAGCGAGT...                       n  "
      ]
     },
     "execution_count": 22,
     "metadata": {},
     "output_type": "execute_result"
    }
   ],
   "source": [
    "dat2.feature_metadata.tail(10)"
   ]
  },
  {
   "cell_type": "code",
   "execution_count": 15,
   "metadata": {},
   "outputs": [
    {
     "data": {
      "text/html": [
       "<div>\n",
       "<style>\n",
       "    .dataframe thead tr:only-child th {\n",
       "        text-align: right;\n",
       "    }\n",
       "\n",
       "    .dataframe thead th {\n",
       "        text-align: left;\n",
       "    }\n",
       "\n",
       "    .dataframe tbody tr th {\n",
       "        vertical-align: top;\n",
       "    }\n",
       "</style>\n",
       "<table border=\"1\" class=\"dataframe\">\n",
       "  <thead>\n",
       "    <tr style=\"text-align: right;\">\n",
       "      <th></th>\n",
       "      <th>id</th>\n",
       "      <th>taxonomy</th>\n",
       "      <th>total</th>\n",
       "    </tr>\n",
       "  </thead>\n",
       "  <tbody>\n",
       "    <tr>\n",
       "      <th>TACAGAGGGTGCAAGCGTTAATCGGAATTACTGGGCGTAAAGCGCGCGTAGGTGGTTCGTTAAGTTGGATGTGAAATCCCCGGGCTCAACCTGGGAACTGCATTCAAAACTGACGAGCTAGAGTATGGTAGAGGGTGGTGGAATTTCCTG</th>\n",
       "      <td>TACAGAGGGTGCAAGCGTTAATCGGAATTACTGGGCGTAAAGCGCG...</td>\n",
       "      <td>k__Bacteria;p__Proteobacteria;c__Gammaproteoba...</td>\n",
       "      <td>5126.0</td>\n",
       "    </tr>\n",
       "    <tr>\n",
       "      <th>TACGTAGGGCGCAAGCGTTGTCCGGAATTATTGGGCGTAAAGAGCTTGTAGGTGGCTTGTCGCGTCTGCCGTGAAAACCCGAGGCTCAACCTCGGGCGTGCGGTGGGTACGGGCAGGCTAGAGTGTGGTAGGGGAGACTGGAACTCCTGG</th>\n",
       "      <td>TACGTAGGGCGCAAGCGTTGTCCGGAATTATTGGGCGTAAAGAGCT...</td>\n",
       "      <td>k__Bacteria;p__Actinobacteria;c__Actinobacteri...</td>\n",
       "      <td>1057.0</td>\n",
       "    </tr>\n",
       "    <tr>\n",
       "      <th>TACGGAGGGTGCAAGCGTTAATCGGAATTACTGGGCGTAAAGCGCACGCAGGCGGTCTGTTAAGTCAGATGTGAAATCCCCGGGCTTAACCTGGGAACTGCATTTGAAACTGGCAGGCTTGAGTCTTGTAGAGGGGGGTAGAATTCCAGG</th>\n",
       "      <td>TACGGAGGGTGCAAGCGTTAATCGGAATTACTGGGCGTAAAGCGCA...</td>\n",
       "      <td>k__Bacteria;p__Proteobacteria;c__Gammaproteoba...</td>\n",
       "      <td>122.0</td>\n",
       "    </tr>\n",
       "    <tr>\n",
       "      <th>TACGTAAGGACCGAGCGTTGTCCGGAATCATTGGGCGTAAAGGGTACGTAGGCGGGTCATTAAGTTAGAAGTCAAAGGCTATAGCTCAACTATAGTAAGCTTCTAAAACTGGAGACCTTGAGTAATGGAAGGGAAAGTGGAATTCCTAGT</th>\n",
       "      <td>TACGTAAGGACCGAGCGTTGTCCGGAATCATTGGGCGTAAAGGGTA...</td>\n",
       "      <td>k__Bacteria;p__Firmicutes;c__Clostridia;o__Clo...</td>\n",
       "      <td>755.0</td>\n",
       "    </tr>\n",
       "    <tr>\n",
       "      <th>TACGGAGGATGCGAGCGTTATCCGGATTTATTGGGTTTAAAGGGTGCGTAGGCGGTTTGTTAAGTCAGCGGTGAAATCTAGAGGCTCAACCTCGAAACTGCCGTTGAAACTGGCGAACTTGAGTGTAGATGAGGTAGGCGGAATTCGTGG</th>\n",
       "      <td>TACGGAGGATGCGAGCGTTATCCGGATTTATTGGGTTTAAAGGGTG...</td>\n",
       "      <td>k__Bacteria;p__Bacteroidetes;c__Bacteroidia;o_...</td>\n",
       "      <td>69.0</td>\n",
       "    </tr>\n",
       "    <tr>\n",
       "      <th>TACGGAGGGGGCTAGCGTTGTTCGGAATTACTGGGCGTAAAGCGCACGTAGGCGGCTTTGTAAGTCAGAGGTGAAAGCCTGGAGCTCAACTCCAGAACTGCCTTTGAGACTGCATCGCTTGAATCCAGGAGAGGTCAGTGGAATTCCGAG</th>\n",
       "      <td>TACGGAGGGGGCTAGCGTTGTTCGGAATTACTGGGCGTAAAGCGCA...</td>\n",
       "      <td>k__Bacteria;p__Proteobacteria;c__Alphaproteoba...</td>\n",
       "      <td>144.0</td>\n",
       "    </tr>\n",
       "    <tr>\n",
       "      <th>TACGTAGGTGGCAAGCGTTGTCCGGAATTATTGGGCGTAAAGCGCGCGCAGGCGGATCAGTTAGTCTGTCTTAAAAGTTCGGGGCTTAACCCCGTGATGGGATGGAAACTGCTGATCTAGAGTATCGGAGAGGAAAGTGGAATTCCTAGT</th>\n",
       "      <td>TACGTAGGTGGCAAGCGTTGTCCGGAATTATTGGGCGTAAAGCGCG...</td>\n",
       "      <td>k__Bacteria;p__Firmicutes;c__Clostridia;o__Clo...</td>\n",
       "      <td>70.0</td>\n",
       "    </tr>\n",
       "    <tr>\n",
       "      <th>TACGAAGGGGGCTAGCGTTGCTCGGAATTACTGGGCGTAAAGGGCGCGTAGGCGGATCGTTAAGTCAGAGGTGAAATCCCAGGGCTCAACCCTGGAACTGCCTTTGATACTGGCGATCTTGAGTATGAGAGAGGTATGTGGAACTCCGAG</th>\n",
       "      <td>TACGAAGGGGGCTAGCGTTGCTCGGAATTACTGGGCGTAAAGGGCG...</td>\n",
       "      <td>k__Bacteria;p__Proteobacteria;c__Alphaproteoba...</td>\n",
       "      <td>298.0</td>\n",
       "    </tr>\n",
       "    <tr>\n",
       "      <th>TACAGAGGGTGCGAGCGTTAATCGGATTTACTGGGCGTAAAGCGTGCGTAGGCGGCTGATTAAGTCGGATGTGAAATCCCTGAGCTTAACTTAGGAATTGCATTCGATACTGGTCAGCTAGAGTATGGGAGAGGATGGTAGAATTCCAGG</th>\n",
       "      <td>TACAGAGGGTGCGAGCGTTAATCGGATTTACTGGGCGTAAAGCGTG...</td>\n",
       "      <td>k__Bacteria;p__Proteobacteria;c__Gammaproteoba...</td>\n",
       "      <td>752.0</td>\n",
       "    </tr>\n",
       "    <tr>\n",
       "      <th>TACGGAGGATGCGAGCGTTATCCGGATTTATTGGGTTTAAAGGGTGCGTAGGCGGCGAGTTAAGTCAGCGGTAAAAGCCCGGGGCTCAACCCCGGCCCGCCGTTGAAACTGGCTGGCTTGAGTTGGGGAAAGGCAGGCGGAATGCGCGGT</th>\n",
       "      <td>TACGGAGGATGCGAGCGTTATCCGGATTTATTGGGTTTAAAGGGTG...</td>\n",
       "      <td>k__Bacteria;p__Bacteroidetes;c__Bacteroidia;o_...</td>\n",
       "      <td>146.0</td>\n",
       "    </tr>\n",
       "  </tbody>\n",
       "</table>\n",
       "</div>"
      ],
      "text/plain": [
       "                                                                                                   id  \\\n",
       "TACAGAGGGTGCAAGCGTTAATCGGAATTACTGGGCGTAAAGCGCGC...  TACAGAGGGTGCAAGCGTTAATCGGAATTACTGGGCGTAAAGCGCG...   \n",
       "TACGTAGGGCGCAAGCGTTGTCCGGAATTATTGGGCGTAAAGAGCTT...  TACGTAGGGCGCAAGCGTTGTCCGGAATTATTGGGCGTAAAGAGCT...   \n",
       "TACGGAGGGTGCAAGCGTTAATCGGAATTACTGGGCGTAAAGCGCAC...  TACGGAGGGTGCAAGCGTTAATCGGAATTACTGGGCGTAAAGCGCA...   \n",
       "TACGTAAGGACCGAGCGTTGTCCGGAATCATTGGGCGTAAAGGGTAC...  TACGTAAGGACCGAGCGTTGTCCGGAATCATTGGGCGTAAAGGGTA...   \n",
       "TACGGAGGATGCGAGCGTTATCCGGATTTATTGGGTTTAAAGGGTGC...  TACGGAGGATGCGAGCGTTATCCGGATTTATTGGGTTTAAAGGGTG...   \n",
       "TACGGAGGGGGCTAGCGTTGTTCGGAATTACTGGGCGTAAAGCGCAC...  TACGGAGGGGGCTAGCGTTGTTCGGAATTACTGGGCGTAAAGCGCA...   \n",
       "TACGTAGGTGGCAAGCGTTGTCCGGAATTATTGGGCGTAAAGCGCGC...  TACGTAGGTGGCAAGCGTTGTCCGGAATTATTGGGCGTAAAGCGCG...   \n",
       "TACGAAGGGGGCTAGCGTTGCTCGGAATTACTGGGCGTAAAGGGCGC...  TACGAAGGGGGCTAGCGTTGCTCGGAATTACTGGGCGTAAAGGGCG...   \n",
       "TACAGAGGGTGCGAGCGTTAATCGGATTTACTGGGCGTAAAGCGTGC...  TACAGAGGGTGCGAGCGTTAATCGGATTTACTGGGCGTAAAGCGTG...   \n",
       "TACGGAGGATGCGAGCGTTATCCGGATTTATTGGGTTTAAAGGGTGC...  TACGGAGGATGCGAGCGTTATCCGGATTTATTGGGTTTAAAGGGTG...   \n",
       "\n",
       "                                                                                             taxonomy  \\\n",
       "TACAGAGGGTGCAAGCGTTAATCGGAATTACTGGGCGTAAAGCGCGC...  k__Bacteria;p__Proteobacteria;c__Gammaproteoba...   \n",
       "TACGTAGGGCGCAAGCGTTGTCCGGAATTATTGGGCGTAAAGAGCTT...  k__Bacteria;p__Actinobacteria;c__Actinobacteri...   \n",
       "TACGGAGGGTGCAAGCGTTAATCGGAATTACTGGGCGTAAAGCGCAC...  k__Bacteria;p__Proteobacteria;c__Gammaproteoba...   \n",
       "TACGTAAGGACCGAGCGTTGTCCGGAATCATTGGGCGTAAAGGGTAC...  k__Bacteria;p__Firmicutes;c__Clostridia;o__Clo...   \n",
       "TACGGAGGATGCGAGCGTTATCCGGATTTATTGGGTTTAAAGGGTGC...  k__Bacteria;p__Bacteroidetes;c__Bacteroidia;o_...   \n",
       "TACGGAGGGGGCTAGCGTTGTTCGGAATTACTGGGCGTAAAGCGCAC...  k__Bacteria;p__Proteobacteria;c__Alphaproteoba...   \n",
       "TACGTAGGTGGCAAGCGTTGTCCGGAATTATTGGGCGTAAAGCGCGC...  k__Bacteria;p__Firmicutes;c__Clostridia;o__Clo...   \n",
       "TACGAAGGGGGCTAGCGTTGCTCGGAATTACTGGGCGTAAAGGGCGC...  k__Bacteria;p__Proteobacteria;c__Alphaproteoba...   \n",
       "TACAGAGGGTGCGAGCGTTAATCGGATTTACTGGGCGTAAAGCGTGC...  k__Bacteria;p__Proteobacteria;c__Gammaproteoba...   \n",
       "TACGGAGGATGCGAGCGTTATCCGGATTTATTGGGTTTAAAGGGTGC...  k__Bacteria;p__Bacteroidetes;c__Bacteroidia;o_...   \n",
       "\n",
       "                                                     total  \n",
       "TACAGAGGGTGCAAGCGTTAATCGGAATTACTGGGCGTAAAGCGCGC...  5126.0  \n",
       "TACGTAGGGCGCAAGCGTTGTCCGGAATTATTGGGCGTAAAGAGCTT...  1057.0  \n",
       "TACGGAGGGTGCAAGCGTTAATCGGAATTACTGGGCGTAAAGCGCAC...   122.0  \n",
       "TACGTAAGGACCGAGCGTTGTCCGGAATCATTGGGCGTAAAGGGTAC...   755.0  \n",
       "TACGGAGGATGCGAGCGTTATCCGGATTTATTGGGTTTAAAGGGTGC...    69.0  \n",
       "TACGGAGGGGGCTAGCGTTGTTCGGAATTACTGGGCGTAAAGCGCAC...   144.0  \n",
       "TACGTAGGTGGCAAGCGTTGTCCGGAATTATTGGGCGTAAAGCGCGC...    70.0  \n",
       "TACGAAGGGGGCTAGCGTTGCTCGGAATTACTGGGCGTAAAGGGCGC...   298.0  \n",
       "TACAGAGGGTGCGAGCGTTAATCGGATTTACTGGGCGTAAAGCGTGC...   752.0  \n",
       "TACGGAGGATGCGAGCGTTATCCGGATTTATTGGGTTTAAAGGGTGC...   146.0  "
      ]
     },
     "execution_count": 15,
     "metadata": {},
     "output_type": "execute_result"
    }
   ],
   "source": [
    "dat2.feature_metadata.head(10)"
   ]
  },
  {
   "cell_type": "code",
   "execution_count": 24,
   "metadata": {
    "collapsed": true
   },
   "outputs": [],
   "source": [
    "dat2.feature_metadata.to_csv('skin-min50-prev0.1-scalp.attr', sep='\\t')"
   ]
  },
  {
   "cell_type": "code",
   "execution_count": 26,
   "metadata": {},
   "outputs": [
    {
     "data": {
      "text/plain": [
       "26"
      ]
     },
     "execution_count": 26,
     "metadata": {},
     "output_type": "execute_result"
    }
   ],
   "source": [
    "len(dat2.feature_metadata.index.intersection(seqs))"
   ]
  }
 ],
 "metadata": {
  "anaconda-cloud": {},
  "kernelspec": {
   "display_name": "Python 3",
   "language": "python",
   "name": "python3"
  },
  "language_info": {
   "codemirror_mode": {
    "name": "ipython",
    "version": 3
   },
   "file_extension": ".py",
   "mimetype": "text/x-python",
   "name": "python",
   "nbconvert_exporter": "python",
   "pygments_lexer": "ipython3",
   "version": "3.5.2"
  },
  "toc": {
   "colors": {
    "hover_highlight": "#DAA520",
    "running_highlight": "#FF0000",
    "selected_highlight": "#FFD700"
   },
   "moveMenuLeft": true,
   "nav_menu": {
    "height": "105px",
    "width": "252px"
   },
   "navigate_menu": true,
   "number_sections": true,
   "sideBar": true,
   "threshold": 4,
   "toc_cell": false,
   "toc_section_display": "block",
   "toc_window_display": true,
   "widenNotebook": false
  }
 },
 "nbformat": 4,
 "nbformat_minor": 1
}
