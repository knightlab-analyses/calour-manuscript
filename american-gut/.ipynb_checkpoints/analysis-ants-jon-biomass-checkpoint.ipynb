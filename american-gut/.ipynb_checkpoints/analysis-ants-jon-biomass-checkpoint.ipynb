{
 "cells": [
  {
   "cell_type": "code",
   "execution_count": 1,
   "metadata": {
    "collapsed": true
   },
   "outputs": [],
   "source": [
    "import calour as ca"
   ]
  },
  {
   "cell_type": "code",
   "execution_count": 2,
   "metadata": {
    "collapsed": true
   },
   "outputs": [],
   "source": [
    "ca.set_log_level(11)"
   ]
  },
  {
   "cell_type": "code",
   "execution_count": 24,
   "metadata": {},
   "outputs": [
    {
     "name": "stdout",
     "output_type": "stream",
     "text": [
      "2017-08-17 17:37:53 INFO loaded 389 samples, 41409 observations\n",
      "2017-08-17 17:37:53 WARNING the samples are dropped because they have metadata but do not have data: {'10343.JS1900', '10343.JS1154', '10343.BLANK.JS6.12G', '10343.JS2004', '10343.JS1681', '10343.JS1225.b', '10343.JS1354.d', '10343.JS1684', '10343.JS1138', '10343.JS1784', '10343.JS1015', '10343.JS1507', '10343.JS1251', '10343.JS1762', '10343.JS1529', '10343.JS1026', '10343.JS1497', '10343.JS1368', '10343.JS1624.f', '10343.JS1170', '10343.JS1689.b', '10343.JS1041', '10343.JS1165.d', '10343.JS1851', '10343.JS1797', '10343.JS0981', '10343.JS1027', '10343.JS1648', '10343.JS2182.f', '10343.JS1749', '10343.JS1796', '10343.JS2068.b', '10343.JS1452', '10343.JS1599', '10343.JS1180.d', '10343.2160a', '10343.JS1991', '10343.JS1746.d', '10343.JS2089.d', '10343.JS1354.f', '10343.JS1611.d', '10343.JS0604.e', '10343.JS1288', '10343.JS0638', '10343.JS2195.a', '10343.JS1125', '10343.JS0917', '10343.JS1946', '10343.JS1043', '10343.JS1709', '10343.JS1180.f', '10343.JS1451', '10343.JS2113', '10343.JS1969', '10343.BLANK.JS6.12H', '10343.JS2101', '10343.JS1300', '10343.JS1543', '10343.JS1139', '10343.JS1530', '10343.JS2009.e', '10343.JS1471', '10343.JS1375', '10343.JS1470', '10343.JS1215', '10343.JS1564.a', '10343.JS1708', '10343.JS2159.c', '10343.JS1603', '10343.JS1713.f', '10343.JS0835', '10343.JS0931', '10343.JS1852', '10343.JS1399', '10343.BLANK.JS6.12F', '10343.JS1297.g', '10343.JS1000', '10343.JS1746.f', '10343.JS1328', '10343.JS1276', '10343.JS2199', '10343.JS1625', '10343.JS2059', '10343.JS1273', '10343.JS1378', '10343.JS1508', '10343.JS1297.d', '10343.JS1532', '10343.JS1297.h', '10343.JS1553', '10343.JS1344', '10343.JS2068.c', '10343.JS1901', '10343.JS1213', '10343.JS2079.c1'}\n",
      "2017-08-17 17:37:53 INFO 315 remaining\n"
     ]
    }
   ],
   "source": [
    "dat=ca.read_amplicon('./all.withtax.biom','./map.txt',normalize=10000,filter_reads=1000)"
   ]
  },
  {
   "cell_type": "code",
   "execution_count": 25,
   "metadata": {},
   "outputs": [
    {
     "name": "stdout",
     "output_type": "stream",
     "text": [
      "2017-08-17 17:37:54 INFO 8292 remaining\n"
     ]
    }
   ],
   "source": [
    "datc=dat.cluster_features(10)"
   ]
  },
  {
   "cell_type": "code",
   "execution_count": 26,
   "metadata": {
    "collapsed": true
   },
   "outputs": [],
   "source": [
    "datc=datc.sort_samples('life_stage')"
   ]
  },
  {
   "cell_type": "code",
   "execution_count": 27,
   "metadata": {
    "collapsed": true
   },
   "outputs": [],
   "source": [
    "datc=datc.sort_samples('primer_plate')"
   ]
  },
  {
   "cell_type": "code",
   "execution_count": 28,
   "metadata": {},
   "outputs": [
    {
     "name": "stderr",
     "output_type": "stream",
     "text": [
      "/Users/amnon/git/dbbact-calour/dbbact_calour/dbbact.py:965: FutureWarning: in the future insert will treat boolean arrays and array-likes as boolean index instead of casting it to integer\n",
      "  all_feature_array = np.delete(all_feature_array, non_informative, axis=0)\n"
     ]
    },
    {
     "data": {
      "text/plain": [
       "<calour.heatmap.plotgui_qt5.PlotGUI_QT5 at 0x112cd5fd0>"
      ]
     },
     "execution_count": 28,
     "metadata": {},
     "output_type": "execute_result"
    }
   ],
   "source": [
    "datc.plot_sort('genus',gui='qt5',sample_color_bars=['primer_plate'],color_bar_label=False)"
   ]
  },
  {
   "cell_type": "code",
   "execution_count": 14,
   "metadata": {
    "collapsed": true
   },
   "outputs": [],
   "source": [
    "%matplotlib notebook\n",
    "datc=datc.sort_samples('genus')"
   ]
  },
  {
   "cell_type": "code",
   "execution_count": 23,
   "metadata": {},
   "outputs": [],
   "source": [
    "f=datc.plot_sort('primer_plate',gui='qt5',sample_color_bars=['genus'],color_bar_label=False)"
   ]
  },
  {
   "cell_type": "code",
   "execution_count": 21,
   "metadata": {},
   "outputs": [
    {
     "data": {
      "application/javascript": [
       "/* Put everything inside the global mpl namespace */\n",
       "window.mpl = {};\n",
       "\n",
       "\n",
       "mpl.get_websocket_type = function() {\n",
       "    if (typeof(WebSocket) !== 'undefined') {\n",
       "        return WebSocket;\n",
       "    } else if (typeof(MozWebSocket) !== 'undefined') {\n",
       "        return MozWebSocket;\n",
       "    } else {\n",
       "        alert('Your browser does not have WebSocket support.' +\n",
       "              'Please try Chrome, Safari or Firefox ≥ 6. ' +\n",
       "              'Firefox 4 and 5 are also supported but you ' +\n",
       "              'have to enable WebSockets in about:config.');\n",
       "    };\n",
       "}\n",
       "\n",
       "mpl.figure = function(figure_id, websocket, ondownload, parent_element) {\n",
       "    this.id = figure_id;\n",
       "\n",
       "    this.ws = websocket;\n",
       "\n",
       "    this.supports_binary = (this.ws.binaryType != undefined);\n",
       "\n",
       "    if (!this.supports_binary) {\n",
       "        var warnings = document.getElementById(\"mpl-warnings\");\n",
       "        if (warnings) {\n",
       "            warnings.style.display = 'block';\n",
       "            warnings.textContent = (\n",
       "                \"This browser does not support binary websocket messages. \" +\n",
       "                    \"Performance may be slow.\");\n",
       "        }\n",
       "    }\n",
       "\n",
       "    this.imageObj = new Image();\n",
       "\n",
       "    this.context = undefined;\n",
       "    this.message = undefined;\n",
       "    this.canvas = undefined;\n",
       "    this.rubberband_canvas = undefined;\n",
       "    this.rubberband_context = undefined;\n",
       "    this.format_dropdown = undefined;\n",
       "\n",
       "    this.image_mode = 'full';\n",
       "\n",
       "    this.root = $('<div/>');\n",
       "    this._root_extra_style(this.root)\n",
       "    this.root.attr('style', 'display: inline-block');\n",
       "\n",
       "    $(parent_element).append(this.root);\n",
       "\n",
       "    this._init_header(this);\n",
       "    this._init_canvas(this);\n",
       "    this._init_toolbar(this);\n",
       "\n",
       "    var fig = this;\n",
       "\n",
       "    this.waiting = false;\n",
       "\n",
       "    this.ws.onopen =  function () {\n",
       "            fig.send_message(\"supports_binary\", {value: fig.supports_binary});\n",
       "            fig.send_message(\"send_image_mode\", {});\n",
       "            if (mpl.ratio != 1) {\n",
       "                fig.send_message(\"set_dpi_ratio\", {'dpi_ratio': mpl.ratio});\n",
       "            }\n",
       "            fig.send_message(\"refresh\", {});\n",
       "        }\n",
       "\n",
       "    this.imageObj.onload = function() {\n",
       "            if (fig.image_mode == 'full') {\n",
       "                // Full images could contain transparency (where diff images\n",
       "                // almost always do), so we need to clear the canvas so that\n",
       "                // there is no ghosting.\n",
       "                fig.context.clearRect(0, 0, fig.canvas.width, fig.canvas.height);\n",
       "            }\n",
       "            fig.context.drawImage(fig.imageObj, 0, 0);\n",
       "        };\n",
       "\n",
       "    this.imageObj.onunload = function() {\n",
       "        this.ws.close();\n",
       "    }\n",
       "\n",
       "    this.ws.onmessage = this._make_on_message_function(this);\n",
       "\n",
       "    this.ondownload = ondownload;\n",
       "}\n",
       "\n",
       "mpl.figure.prototype._init_header = function() {\n",
       "    var titlebar = $(\n",
       "        '<div class=\"ui-dialog-titlebar ui-widget-header ui-corner-all ' +\n",
       "        'ui-helper-clearfix\"/>');\n",
       "    var titletext = $(\n",
       "        '<div class=\"ui-dialog-title\" style=\"width: 100%; ' +\n",
       "        'text-align: center; padding: 3px;\"/>');\n",
       "    titlebar.append(titletext)\n",
       "    this.root.append(titlebar);\n",
       "    this.header = titletext[0];\n",
       "}\n",
       "\n",
       "\n",
       "\n",
       "mpl.figure.prototype._canvas_extra_style = function(canvas_div) {\n",
       "\n",
       "}\n",
       "\n",
       "\n",
       "mpl.figure.prototype._root_extra_style = function(canvas_div) {\n",
       "\n",
       "}\n",
       "\n",
       "mpl.figure.prototype._init_canvas = function() {\n",
       "    var fig = this;\n",
       "\n",
       "    var canvas_div = $('<div/>');\n",
       "\n",
       "    canvas_div.attr('style', 'position: relative; clear: both; outline: 0');\n",
       "\n",
       "    function canvas_keyboard_event(event) {\n",
       "        return fig.key_event(event, event['data']);\n",
       "    }\n",
       "\n",
       "    canvas_div.keydown('key_press', canvas_keyboard_event);\n",
       "    canvas_div.keyup('key_release', canvas_keyboard_event);\n",
       "    this.canvas_div = canvas_div\n",
       "    this._canvas_extra_style(canvas_div)\n",
       "    this.root.append(canvas_div);\n",
       "\n",
       "    var canvas = $('<canvas/>');\n",
       "    canvas.addClass('mpl-canvas');\n",
       "    canvas.attr('style', \"left: 0; top: 0; z-index: 0; outline: 0\")\n",
       "\n",
       "    this.canvas = canvas[0];\n",
       "    this.context = canvas[0].getContext(\"2d\");\n",
       "\n",
       "    var backingStore = this.context.backingStorePixelRatio ||\n",
       "\tthis.context.webkitBackingStorePixelRatio ||\n",
       "\tthis.context.mozBackingStorePixelRatio ||\n",
       "\tthis.context.msBackingStorePixelRatio ||\n",
       "\tthis.context.oBackingStorePixelRatio ||\n",
       "\tthis.context.backingStorePixelRatio || 1;\n",
       "\n",
       "    mpl.ratio = (window.devicePixelRatio || 1) / backingStore;\n",
       "\n",
       "    var rubberband = $('<canvas/>');\n",
       "    rubberband.attr('style', \"position: absolute; left: 0; top: 0; z-index: 1;\")\n",
       "\n",
       "    var pass_mouse_events = true;\n",
       "\n",
       "    canvas_div.resizable({\n",
       "        start: function(event, ui) {\n",
       "            pass_mouse_events = false;\n",
       "        },\n",
       "        resize: function(event, ui) {\n",
       "            fig.request_resize(ui.size.width, ui.size.height);\n",
       "        },\n",
       "        stop: function(event, ui) {\n",
       "            pass_mouse_events = true;\n",
       "            fig.request_resize(ui.size.width, ui.size.height);\n",
       "        },\n",
       "    });\n",
       "\n",
       "    function mouse_event_fn(event) {\n",
       "        if (pass_mouse_events)\n",
       "            return fig.mouse_event(event, event['data']);\n",
       "    }\n",
       "\n",
       "    rubberband.mousedown('button_press', mouse_event_fn);\n",
       "    rubberband.mouseup('button_release', mouse_event_fn);\n",
       "    // Throttle sequential mouse events to 1 every 20ms.\n",
       "    rubberband.mousemove('motion_notify', mouse_event_fn);\n",
       "\n",
       "    rubberband.mouseenter('figure_enter', mouse_event_fn);\n",
       "    rubberband.mouseleave('figure_leave', mouse_event_fn);\n",
       "\n",
       "    canvas_div.on(\"wheel\", function (event) {\n",
       "        event = event.originalEvent;\n",
       "        event['data'] = 'scroll'\n",
       "        if (event.deltaY < 0) {\n",
       "            event.step = 1;\n",
       "        } else {\n",
       "            event.step = -1;\n",
       "        }\n",
       "        mouse_event_fn(event);\n",
       "    });\n",
       "\n",
       "    canvas_div.append(canvas);\n",
       "    canvas_div.append(rubberband);\n",
       "\n",
       "    this.rubberband = rubberband;\n",
       "    this.rubberband_canvas = rubberband[0];\n",
       "    this.rubberband_context = rubberband[0].getContext(\"2d\");\n",
       "    this.rubberband_context.strokeStyle = \"#000000\";\n",
       "\n",
       "    this._resize_canvas = function(width, height) {\n",
       "        // Keep the size of the canvas, canvas container, and rubber band\n",
       "        // canvas in synch.\n",
       "        canvas_div.css('width', width)\n",
       "        canvas_div.css('height', height)\n",
       "\n",
       "        canvas.attr('width', width * mpl.ratio);\n",
       "        canvas.attr('height', height * mpl.ratio);\n",
       "        canvas.attr('style', 'width: ' + width + 'px; height: ' + height + 'px;');\n",
       "\n",
       "        rubberband.attr('width', width);\n",
       "        rubberband.attr('height', height);\n",
       "    }\n",
       "\n",
       "    // Set the figure to an initial 600x600px, this will subsequently be updated\n",
       "    // upon first draw.\n",
       "    this._resize_canvas(600, 600);\n",
       "\n",
       "    // Disable right mouse context menu.\n",
       "    $(this.rubberband_canvas).bind(\"contextmenu\",function(e){\n",
       "        return false;\n",
       "    });\n",
       "\n",
       "    function set_focus () {\n",
       "        canvas.focus();\n",
       "        canvas_div.focus();\n",
       "    }\n",
       "\n",
       "    window.setTimeout(set_focus, 100);\n",
       "}\n",
       "\n",
       "mpl.figure.prototype._init_toolbar = function() {\n",
       "    var fig = this;\n",
       "\n",
       "    var nav_element = $('<div/>')\n",
       "    nav_element.attr('style', 'width: 100%');\n",
       "    this.root.append(nav_element);\n",
       "\n",
       "    // Define a callback function for later on.\n",
       "    function toolbar_event(event) {\n",
       "        return fig.toolbar_button_onclick(event['data']);\n",
       "    }\n",
       "    function toolbar_mouse_event(event) {\n",
       "        return fig.toolbar_button_onmouseover(event['data']);\n",
       "    }\n",
       "\n",
       "    for(var toolbar_ind in mpl.toolbar_items) {\n",
       "        var name = mpl.toolbar_items[toolbar_ind][0];\n",
       "        var tooltip = mpl.toolbar_items[toolbar_ind][1];\n",
       "        var image = mpl.toolbar_items[toolbar_ind][2];\n",
       "        var method_name = mpl.toolbar_items[toolbar_ind][3];\n",
       "\n",
       "        if (!name) {\n",
       "            // put a spacer in here.\n",
       "            continue;\n",
       "        }\n",
       "        var button = $('<button/>');\n",
       "        button.addClass('ui-button ui-widget ui-state-default ui-corner-all ' +\n",
       "                        'ui-button-icon-only');\n",
       "        button.attr('role', 'button');\n",
       "        button.attr('aria-disabled', 'false');\n",
       "        button.click(method_name, toolbar_event);\n",
       "        button.mouseover(tooltip, toolbar_mouse_event);\n",
       "\n",
       "        var icon_img = $('<span/>');\n",
       "        icon_img.addClass('ui-button-icon-primary ui-icon');\n",
       "        icon_img.addClass(image);\n",
       "        icon_img.addClass('ui-corner-all');\n",
       "\n",
       "        var tooltip_span = $('<span/>');\n",
       "        tooltip_span.addClass('ui-button-text');\n",
       "        tooltip_span.html(tooltip);\n",
       "\n",
       "        button.append(icon_img);\n",
       "        button.append(tooltip_span);\n",
       "\n",
       "        nav_element.append(button);\n",
       "    }\n",
       "\n",
       "    var fmt_picker_span = $('<span/>');\n",
       "\n",
       "    var fmt_picker = $('<select/>');\n",
       "    fmt_picker.addClass('mpl-toolbar-option ui-widget ui-widget-content');\n",
       "    fmt_picker_span.append(fmt_picker);\n",
       "    nav_element.append(fmt_picker_span);\n",
       "    this.format_dropdown = fmt_picker[0];\n",
       "\n",
       "    for (var ind in mpl.extensions) {\n",
       "        var fmt = mpl.extensions[ind];\n",
       "        var option = $(\n",
       "            '<option/>', {selected: fmt === mpl.default_extension}).html(fmt);\n",
       "        fmt_picker.append(option)\n",
       "    }\n",
       "\n",
       "    // Add hover states to the ui-buttons\n",
       "    $( \".ui-button\" ).hover(\n",
       "        function() { $(this).addClass(\"ui-state-hover\");},\n",
       "        function() { $(this).removeClass(\"ui-state-hover\");}\n",
       "    );\n",
       "\n",
       "    var status_bar = $('<span class=\"mpl-message\"/>');\n",
       "    nav_element.append(status_bar);\n",
       "    this.message = status_bar[0];\n",
       "}\n",
       "\n",
       "mpl.figure.prototype.request_resize = function(x_pixels, y_pixels) {\n",
       "    // Request matplotlib to resize the figure. Matplotlib will then trigger a resize in the client,\n",
       "    // which will in turn request a refresh of the image.\n",
       "    this.send_message('resize', {'width': x_pixels, 'height': y_pixels});\n",
       "}\n",
       "\n",
       "mpl.figure.prototype.send_message = function(type, properties) {\n",
       "    properties['type'] = type;\n",
       "    properties['figure_id'] = this.id;\n",
       "    this.ws.send(JSON.stringify(properties));\n",
       "}\n",
       "\n",
       "mpl.figure.prototype.send_draw_message = function() {\n",
       "    if (!this.waiting) {\n",
       "        this.waiting = true;\n",
       "        this.ws.send(JSON.stringify({type: \"draw\", figure_id: this.id}));\n",
       "    }\n",
       "}\n",
       "\n",
       "\n",
       "mpl.figure.prototype.handle_save = function(fig, msg) {\n",
       "    var format_dropdown = fig.format_dropdown;\n",
       "    var format = format_dropdown.options[format_dropdown.selectedIndex].value;\n",
       "    fig.ondownload(fig, format);\n",
       "}\n",
       "\n",
       "\n",
       "mpl.figure.prototype.handle_resize = function(fig, msg) {\n",
       "    var size = msg['size'];\n",
       "    if (size[0] != fig.canvas.width || size[1] != fig.canvas.height) {\n",
       "        fig._resize_canvas(size[0], size[1]);\n",
       "        fig.send_message(\"refresh\", {});\n",
       "    };\n",
       "}\n",
       "\n",
       "mpl.figure.prototype.handle_rubberband = function(fig, msg) {\n",
       "    var x0 = msg['x0'] / mpl.ratio;\n",
       "    var y0 = (fig.canvas.height - msg['y0']) / mpl.ratio;\n",
       "    var x1 = msg['x1'] / mpl.ratio;\n",
       "    var y1 = (fig.canvas.height - msg['y1']) / mpl.ratio;\n",
       "    x0 = Math.floor(x0) + 0.5;\n",
       "    y0 = Math.floor(y0) + 0.5;\n",
       "    x1 = Math.floor(x1) + 0.5;\n",
       "    y1 = Math.floor(y1) + 0.5;\n",
       "    var min_x = Math.min(x0, x1);\n",
       "    var min_y = Math.min(y0, y1);\n",
       "    var width = Math.abs(x1 - x0);\n",
       "    var height = Math.abs(y1 - y0);\n",
       "\n",
       "    fig.rubberband_context.clearRect(\n",
       "        0, 0, fig.canvas.width, fig.canvas.height);\n",
       "\n",
       "    fig.rubberband_context.strokeRect(min_x, min_y, width, height);\n",
       "}\n",
       "\n",
       "mpl.figure.prototype.handle_figure_label = function(fig, msg) {\n",
       "    // Updates the figure title.\n",
       "    fig.header.textContent = msg['label'];\n",
       "}\n",
       "\n",
       "mpl.figure.prototype.handle_cursor = function(fig, msg) {\n",
       "    var cursor = msg['cursor'];\n",
       "    switch(cursor)\n",
       "    {\n",
       "    case 0:\n",
       "        cursor = 'pointer';\n",
       "        break;\n",
       "    case 1:\n",
       "        cursor = 'default';\n",
       "        break;\n",
       "    case 2:\n",
       "        cursor = 'crosshair';\n",
       "        break;\n",
       "    case 3:\n",
       "        cursor = 'move';\n",
       "        break;\n",
       "    }\n",
       "    fig.rubberband_canvas.style.cursor = cursor;\n",
       "}\n",
       "\n",
       "mpl.figure.prototype.handle_message = function(fig, msg) {\n",
       "    fig.message.textContent = msg['message'];\n",
       "}\n",
       "\n",
       "mpl.figure.prototype.handle_draw = function(fig, msg) {\n",
       "    // Request the server to send over a new figure.\n",
       "    fig.send_draw_message();\n",
       "}\n",
       "\n",
       "mpl.figure.prototype.handle_image_mode = function(fig, msg) {\n",
       "    fig.image_mode = msg['mode'];\n",
       "}\n",
       "\n",
       "mpl.figure.prototype.updated_canvas_event = function() {\n",
       "    // Called whenever the canvas gets updated.\n",
       "    this.send_message(\"ack\", {});\n",
       "}\n",
       "\n",
       "// A function to construct a web socket function for onmessage handling.\n",
       "// Called in the figure constructor.\n",
       "mpl.figure.prototype._make_on_message_function = function(fig) {\n",
       "    return function socket_on_message(evt) {\n",
       "        if (evt.data instanceof Blob) {\n",
       "            /* FIXME: We get \"Resource interpreted as Image but\n",
       "             * transferred with MIME type text/plain:\" errors on\n",
       "             * Chrome.  But how to set the MIME type?  It doesn't seem\n",
       "             * to be part of the websocket stream */\n",
       "            evt.data.type = \"image/png\";\n",
       "\n",
       "            /* Free the memory for the previous frames */\n",
       "            if (fig.imageObj.src) {\n",
       "                (window.URL || window.webkitURL).revokeObjectURL(\n",
       "                    fig.imageObj.src);\n",
       "            }\n",
       "\n",
       "            fig.imageObj.src = (window.URL || window.webkitURL).createObjectURL(\n",
       "                evt.data);\n",
       "            fig.updated_canvas_event();\n",
       "            fig.waiting = false;\n",
       "            return;\n",
       "        }\n",
       "        else if (typeof evt.data === 'string' && evt.data.slice(0, 21) == \"data:image/png;base64\") {\n",
       "            fig.imageObj.src = evt.data;\n",
       "            fig.updated_canvas_event();\n",
       "            fig.waiting = false;\n",
       "            return;\n",
       "        }\n",
       "\n",
       "        var msg = JSON.parse(evt.data);\n",
       "        var msg_type = msg['type'];\n",
       "\n",
       "        // Call the  \"handle_{type}\" callback, which takes\n",
       "        // the figure and JSON message as its only arguments.\n",
       "        try {\n",
       "            var callback = fig[\"handle_\" + msg_type];\n",
       "        } catch (e) {\n",
       "            console.log(\"No handler for the '\" + msg_type + \"' message type: \", msg);\n",
       "            return;\n",
       "        }\n",
       "\n",
       "        if (callback) {\n",
       "            try {\n",
       "                // console.log(\"Handling '\" + msg_type + \"' message: \", msg);\n",
       "                callback(fig, msg);\n",
       "            } catch (e) {\n",
       "                console.log(\"Exception inside the 'handler_\" + msg_type + \"' callback:\", e, e.stack, msg);\n",
       "            }\n",
       "        }\n",
       "    };\n",
       "}\n",
       "\n",
       "// from http://stackoverflow.com/questions/1114465/getting-mouse-location-in-canvas\n",
       "mpl.findpos = function(e) {\n",
       "    //this section is from http://www.quirksmode.org/js/events_properties.html\n",
       "    var targ;\n",
       "    if (!e)\n",
       "        e = window.event;\n",
       "    if (e.target)\n",
       "        targ = e.target;\n",
       "    else if (e.srcElement)\n",
       "        targ = e.srcElement;\n",
       "    if (targ.nodeType == 3) // defeat Safari bug\n",
       "        targ = targ.parentNode;\n",
       "\n",
       "    // jQuery normalizes the pageX and pageY\n",
       "    // pageX,Y are the mouse positions relative to the document\n",
       "    // offset() returns the position of the element relative to the document\n",
       "    var x = e.pageX - $(targ).offset().left;\n",
       "    var y = e.pageY - $(targ).offset().top;\n",
       "\n",
       "    return {\"x\": x, \"y\": y};\n",
       "};\n",
       "\n",
       "/*\n",
       " * return a copy of an object with only non-object keys\n",
       " * we need this to avoid circular references\n",
       " * http://stackoverflow.com/a/24161582/3208463\n",
       " */\n",
       "function simpleKeys (original) {\n",
       "  return Object.keys(original).reduce(function (obj, key) {\n",
       "    if (typeof original[key] !== 'object')\n",
       "        obj[key] = original[key]\n",
       "    return obj;\n",
       "  }, {});\n",
       "}\n",
       "\n",
       "mpl.figure.prototype.mouse_event = function(event, name) {\n",
       "    var canvas_pos = mpl.findpos(event)\n",
       "\n",
       "    if (name === 'button_press')\n",
       "    {\n",
       "        this.canvas.focus();\n",
       "        this.canvas_div.focus();\n",
       "    }\n",
       "\n",
       "    var x = canvas_pos.x * mpl.ratio;\n",
       "    var y = canvas_pos.y * mpl.ratio;\n",
       "\n",
       "    this.send_message(name, {x: x, y: y, button: event.button,\n",
       "                             step: event.step,\n",
       "                             guiEvent: simpleKeys(event)});\n",
       "\n",
       "    /* This prevents the web browser from automatically changing to\n",
       "     * the text insertion cursor when the button is pressed.  We want\n",
       "     * to control all of the cursor setting manually through the\n",
       "     * 'cursor' event from matplotlib */\n",
       "    event.preventDefault();\n",
       "    return false;\n",
       "}\n",
       "\n",
       "mpl.figure.prototype._key_event_extra = function(event, name) {\n",
       "    // Handle any extra behaviour associated with a key event\n",
       "}\n",
       "\n",
       "mpl.figure.prototype.key_event = function(event, name) {\n",
       "\n",
       "    // Prevent repeat events\n",
       "    if (name == 'key_press')\n",
       "    {\n",
       "        if (event.which === this._key)\n",
       "            return;\n",
       "        else\n",
       "            this._key = event.which;\n",
       "    }\n",
       "    if (name == 'key_release')\n",
       "        this._key = null;\n",
       "\n",
       "    var value = '';\n",
       "    if (event.ctrlKey && event.which != 17)\n",
       "        value += \"ctrl+\";\n",
       "    if (event.altKey && event.which != 18)\n",
       "        value += \"alt+\";\n",
       "    if (event.shiftKey && event.which != 16)\n",
       "        value += \"shift+\";\n",
       "\n",
       "    value += 'k';\n",
       "    value += event.which.toString();\n",
       "\n",
       "    this._key_event_extra(event, name);\n",
       "\n",
       "    this.send_message(name, {key: value,\n",
       "                             guiEvent: simpleKeys(event)});\n",
       "    return false;\n",
       "}\n",
       "\n",
       "mpl.figure.prototype.toolbar_button_onclick = function(name) {\n",
       "    if (name == 'download') {\n",
       "        this.handle_save(this, null);\n",
       "    } else {\n",
       "        this.send_message(\"toolbar_button\", {name: name});\n",
       "    }\n",
       "};\n",
       "\n",
       "mpl.figure.prototype.toolbar_button_onmouseover = function(tooltip) {\n",
       "    this.message.textContent = tooltip;\n",
       "};\n",
       "mpl.toolbar_items = [[\"Home\", \"Reset original view\", \"fa fa-home icon-home\", \"home\"], [\"Back\", \"Back to  previous view\", \"fa fa-arrow-left icon-arrow-left\", \"back\"], [\"Forward\", \"Forward to next view\", \"fa fa-arrow-right icon-arrow-right\", \"forward\"], [\"\", \"\", \"\", \"\"], [\"Pan\", \"Pan axes with left mouse, zoom with right\", \"fa fa-arrows icon-move\", \"pan\"], [\"Zoom\", \"Zoom to rectangle\", \"fa fa-square-o icon-check-empty\", \"zoom\"], [\"\", \"\", \"\", \"\"], [\"Download\", \"Download plot\", \"fa fa-floppy-o icon-save\", \"download\"]];\n",
       "\n",
       "mpl.extensions = [\"eps\", \"pdf\", \"png\", \"ps\", \"raw\", \"svg\"];\n",
       "\n",
       "mpl.default_extension = \"png\";var comm_websocket_adapter = function(comm) {\n",
       "    // Create a \"websocket\"-like object which calls the given IPython comm\n",
       "    // object with the appropriate methods. Currently this is a non binary\n",
       "    // socket, so there is still some room for performance tuning.\n",
       "    var ws = {};\n",
       "\n",
       "    ws.close = function() {\n",
       "        comm.close()\n",
       "    };\n",
       "    ws.send = function(m) {\n",
       "        //console.log('sending', m);\n",
       "        comm.send(m);\n",
       "    };\n",
       "    // Register the callback with on_msg.\n",
       "    comm.on_msg(function(msg) {\n",
       "        //console.log('receiving', msg['content']['data'], msg);\n",
       "        // Pass the mpl event to the overriden (by mpl) onmessage function.\n",
       "        ws.onmessage(msg['content']['data'])\n",
       "    });\n",
       "    return ws;\n",
       "}\n",
       "\n",
       "mpl.mpl_figure_comm = function(comm, msg) {\n",
       "    // This is the function which gets called when the mpl process\n",
       "    // starts-up an IPython Comm through the \"matplotlib\" channel.\n",
       "\n",
       "    var id = msg.content.data.id;\n",
       "    // Get hold of the div created by the display call when the Comm\n",
       "    // socket was opened in Python.\n",
       "    var element = $(\"#\" + id);\n",
       "    var ws_proxy = comm_websocket_adapter(comm)\n",
       "\n",
       "    function ondownload(figure, format) {\n",
       "        window.open(figure.imageObj.src);\n",
       "    }\n",
       "\n",
       "    var fig = new mpl.figure(id, ws_proxy,\n",
       "                           ondownload,\n",
       "                           element.get(0));\n",
       "\n",
       "    // Call onopen now - mpl needs it, as it is assuming we've passed it a real\n",
       "    // web socket which is closed, not our websocket->open comm proxy.\n",
       "    ws_proxy.onopen();\n",
       "\n",
       "    fig.parent_element = element.get(0);\n",
       "    fig.cell_info = mpl.find_output_cell(\"<div id='\" + id + \"'></div>\");\n",
       "    if (!fig.cell_info) {\n",
       "        console.error(\"Failed to find cell for figure\", id, fig);\n",
       "        return;\n",
       "    }\n",
       "\n",
       "    var output_index = fig.cell_info[2]\n",
       "    var cell = fig.cell_info[0];\n",
       "\n",
       "};\n",
       "\n",
       "mpl.figure.prototype.handle_close = function(fig, msg) {\n",
       "    var width = fig.canvas.width/mpl.ratio\n",
       "    fig.root.unbind('remove')\n",
       "\n",
       "    // Update the output cell to use the data from the current canvas.\n",
       "    fig.push_to_output();\n",
       "    var dataURL = fig.canvas.toDataURL();\n",
       "    // Re-enable the keyboard manager in IPython - without this line, in FF,\n",
       "    // the notebook keyboard shortcuts fail.\n",
       "    IPython.keyboard_manager.enable()\n",
       "    $(fig.parent_element).html('<img src=\"' + dataURL + '\" width=\"' + width + '\">');\n",
       "    fig.close_ws(fig, msg);\n",
       "}\n",
       "\n",
       "mpl.figure.prototype.close_ws = function(fig, msg){\n",
       "    fig.send_message('closing', msg);\n",
       "    // fig.ws.close()\n",
       "}\n",
       "\n",
       "mpl.figure.prototype.push_to_output = function(remove_interactive) {\n",
       "    // Turn the data on the canvas into data in the output cell.\n",
       "    var width = this.canvas.width/mpl.ratio\n",
       "    var dataURL = this.canvas.toDataURL();\n",
       "    this.cell_info[1]['text/html'] = '<img src=\"' + dataURL + '\" width=\"' + width + '\">';\n",
       "}\n",
       "\n",
       "mpl.figure.prototype.updated_canvas_event = function() {\n",
       "    // Tell IPython that the notebook contents must change.\n",
       "    IPython.notebook.set_dirty(true);\n",
       "    this.send_message(\"ack\", {});\n",
       "    var fig = this;\n",
       "    // Wait a second, then push the new image to the DOM so\n",
       "    // that it is saved nicely (might be nice to debounce this).\n",
       "    setTimeout(function () { fig.push_to_output() }, 1000);\n",
       "}\n",
       "\n",
       "mpl.figure.prototype._init_toolbar = function() {\n",
       "    var fig = this;\n",
       "\n",
       "    var nav_element = $('<div/>')\n",
       "    nav_element.attr('style', 'width: 100%');\n",
       "    this.root.append(nav_element);\n",
       "\n",
       "    // Define a callback function for later on.\n",
       "    function toolbar_event(event) {\n",
       "        return fig.toolbar_button_onclick(event['data']);\n",
       "    }\n",
       "    function toolbar_mouse_event(event) {\n",
       "        return fig.toolbar_button_onmouseover(event['data']);\n",
       "    }\n",
       "\n",
       "    for(var toolbar_ind in mpl.toolbar_items){\n",
       "        var name = mpl.toolbar_items[toolbar_ind][0];\n",
       "        var tooltip = mpl.toolbar_items[toolbar_ind][1];\n",
       "        var image = mpl.toolbar_items[toolbar_ind][2];\n",
       "        var method_name = mpl.toolbar_items[toolbar_ind][3];\n",
       "\n",
       "        if (!name) { continue; };\n",
       "\n",
       "        var button = $('<button class=\"btn btn-default\" href=\"#\" title=\"' + name + '\"><i class=\"fa ' + image + ' fa-lg\"></i></button>');\n",
       "        button.click(method_name, toolbar_event);\n",
       "        button.mouseover(tooltip, toolbar_mouse_event);\n",
       "        nav_element.append(button);\n",
       "    }\n",
       "\n",
       "    // Add the status bar.\n",
       "    var status_bar = $('<span class=\"mpl-message\" style=\"text-align:right; float: right;\"/>');\n",
       "    nav_element.append(status_bar);\n",
       "    this.message = status_bar[0];\n",
       "\n",
       "    // Add the close button to the window.\n",
       "    var buttongrp = $('<div class=\"btn-group inline pull-right\"></div>');\n",
       "    var button = $('<button class=\"btn btn-mini btn-primary\" href=\"#\" title=\"Stop Interaction\"><i class=\"fa fa-power-off icon-remove icon-large\"></i></button>');\n",
       "    button.click(function (evt) { fig.handle_close(fig, {}); } );\n",
       "    button.mouseover('Stop Interaction', toolbar_mouse_event);\n",
       "    buttongrp.append(button);\n",
       "    var titlebar = this.root.find($('.ui-dialog-titlebar'));\n",
       "    titlebar.prepend(buttongrp);\n",
       "}\n",
       "\n",
       "mpl.figure.prototype._root_extra_style = function(el){\n",
       "    var fig = this\n",
       "    el.on(\"remove\", function(){\n",
       "\tfig.close_ws(fig, {});\n",
       "    });\n",
       "}\n",
       "\n",
       "mpl.figure.prototype._canvas_extra_style = function(el){\n",
       "    // this is important to make the div 'focusable\n",
       "    el.attr('tabindex', 0)\n",
       "    // reach out to IPython and tell the keyboard manager to turn it's self\n",
       "    // off when our div gets focus\n",
       "\n",
       "    // location in version 3\n",
       "    if (IPython.notebook.keyboard_manager) {\n",
       "        IPython.notebook.keyboard_manager.register_events(el);\n",
       "    }\n",
       "    else {\n",
       "        // location in version 2\n",
       "        IPython.keyboard_manager.register_events(el);\n",
       "    }\n",
       "\n",
       "}\n",
       "\n",
       "mpl.figure.prototype._key_event_extra = function(event, name) {\n",
       "    var manager = IPython.notebook.keyboard_manager;\n",
       "    if (!manager)\n",
       "        manager = IPython.keyboard_manager;\n",
       "\n",
       "    // Check for shift+enter\n",
       "    if (event.shiftKey && event.which == 13) {\n",
       "        this.canvas_div.blur();\n",
       "        // select the cell after this one\n",
       "        var index = IPython.notebook.find_cell_index(this.cell_info[0]);\n",
       "        IPython.notebook.select(index + 1);\n",
       "    }\n",
       "}\n",
       "\n",
       "mpl.figure.prototype.handle_save = function(fig, msg) {\n",
       "    fig.ondownload(fig, null);\n",
       "}\n",
       "\n",
       "\n",
       "mpl.find_output_cell = function(html_output) {\n",
       "    // Return the cell and output element which can be found *uniquely* in the notebook.\n",
       "    // Note - this is a bit hacky, but it is done because the \"notebook_saving.Notebook\"\n",
       "    // IPython event is triggered only after the cells have been serialised, which for\n",
       "    // our purposes (turning an active figure into a static one), is too late.\n",
       "    var cells = IPython.notebook.get_cells();\n",
       "    var ncells = cells.length;\n",
       "    for (var i=0; i<ncells; i++) {\n",
       "        var cell = cells[i];\n",
       "        if (cell.cell_type === 'code'){\n",
       "            for (var j=0; j<cell.output_area.outputs.length; j++) {\n",
       "                var data = cell.output_area.outputs[j];\n",
       "                if (data.data) {\n",
       "                    // IPython >= 3 moved mimebundle to data attribute of output\n",
       "                    data = data.data;\n",
       "                }\n",
       "                if (data['text/html'] == html_output) {\n",
       "                    return [cell, data, j];\n",
       "                }\n",
       "            }\n",
       "        }\n",
       "    }\n",
       "}\n",
       "\n",
       "// Register the function which deals with the matplotlib target/channel.\n",
       "// The kernel may be null if the page has been refreshed.\n",
       "if (IPython.notebook.kernel != null) {\n",
       "    IPython.notebook.kernel.comm_manager.register_target('matplotlib', mpl.mpl_figure_comm);\n",
       "}\n"
      ],
      "text/plain": [
       "<IPython.core.display.Javascript object>"
      ]
     },
     "metadata": {},
     "output_type": "display_data"
    },
    {
     "data": {
      "text/html": [
       "<img src=\"data:image/png;base64,iVBORw0KGgoAAAANSUhEUgAABAAAAAMACAYAAAC6uhUNAAAgAElEQVR4XuydB7gcVdnH/6SSQOgl4V6poRhAWkLoPUUFRCViBz+qiI3eS+jVBkoRVPBDxAKofIYEQgcJvQghQIhwU4CAkIQU0r7n7Mzu7N67d3enz5z5zfPwZNk95z3v+b3vmZnzv2fOrCAOCEAAAhCAAAQgAAEIQAACEIAABKwnsIL1PaSDEIAABCAAAQhAAAIQgAAEIAABCAgBgCSAAAQgAAEIQAACEIAABCAAAQgUgAACQAGCTBchAAEIQAACEIAABCAAAQhAAAIIAOQABCAAAQhAAAIQgAAEIAABCECgAAQQAAoQZLoIAQhAAAIQgAAEIAABCEAAAhBAACAHIAABCEAAAhCAAAQgAAEIQAACBSCAAFCAINNFCEAAAhCAAAQgAAEIQAACEIAAAgA5AAEIQAACEIAABCAAAQhAAAIQKAABBIACBJkuQgACEIAABCAAAQhAAAIQgAAEEADIAQhAAAIQgAAEIAABCEAAAhCAQAEIIAAUIMh0EQIQgAAEIAABCEAAAhCAAAQggABADkAAAhCAAAQgAAEIQAACEIAABApAAAGgAEGmixCAAAQgAAEIQAACEIAABCAAAQQAcgACEIAABCAAAQhAAAIQgAAEIFAAAggABQgyXYQABCAAAQhAAAIQgAAEIAABCCAAkAMQgAAEIAABCEAAAhCAAAQgAIECEEAAKECQ6SIEIAABCEAAAhCAAAQgAAEIQAABgByAAAQgAAEIQAACEIAABCAAAQgUgAACQAGCTBchAAEIQAACEIAABCAAAQhAAAIIAOQABCAAAQhAAAIQgAAEIAABCECgAAQQAAoQZLoIAQhAAAIQgAAEIAABCEAAAhBAACAHIAABCEAAAhCAAAQgAAEIQAACBSCAAFCAINNFCEAAAhCAAAQgAAEIQAACEIAAAgA5AAEIQAACEIAABCAAAQhAAAIQKAABBIACBJkuQgACEIAABCAAAQhAAAIQgAAEEADIAQhAAAIQgAAEIAABCEAAAhCAQAEIIAAUIMh0EQIQgAAEIAABCEAAAhCAAAQggABADkAAAhCAAAQgAAEIQAACEIAABApAAAGgAEGmixCAAAQgAAEIQAACEIAABCAAAQQAcgACEIAABCAAAQhAAAIQgAAEIFAAAggABQgyXYQABCAAAQhAAAIQgAAEIAABCCAAkAMQgAAEIAABCEAAAhCAAAQgAIECEEAAKECQ6SIEIAABCEAAAhCAAAQgAAEIQAABgByAAAQgAAEIQAACEIAABCAAAQgUgAACQAGCTBchAAEIQAACEIAABCAAAQhAAAIIAOQABCAAAQhAAAIQgAAEIAABCECgAAQQAAoQZLoIAQhAAAIQgAAEIAABCEAAAhBAACAHIAABCEAAAhCAAAQgAAEIQAACBSCAAFCAINNFCEAAAhCAAAQgAAEIQAACEIAAAgA5AAEIQAACEIAABCAAAQhAAAIQKAABBIACBJkuQgACEIAABCAAAQhAAAIQgAAEEADIAQhAAAIQgAAEIAABCEAAAhCAQAEIIAAUIMh0EQIQgAAEIAABCEAAAhCAAAQggABADkAAAhCAAAQgAAEIQAACEIAABApAAAGgAEGmixCAAAQgAAEIQAACEIAABCAAAQQAcgACEIAABCAAAQhAAAIQgAAEIFAAAggABQgyXYQABCAAAQhAAAIQgAAEIAABCCAAkAMQgAAEIAABCEAAAhCAAAQgAIECEEAAKECQ6SIEIAABCEAAAhCAAAQgAAEIQAABgByAAAQgAAEIQAACEIAABCAAAQgUgAACQAGCTBchAAEIQAACEIAABCAAAQhAAAIIAOQABCAAAQhAAAIQgAAEIAABCECgAAQQAAoQZLoIAQhAAAIQgAAEIAABCEAAAhBAACAHIAABCEAAAhCAAAQgAAEIQAACBSCAAFCAINNFCEAAAhCAAAQgAAEIQAACEIAAAgA5AAEIQAACEIAABCAAAQhAAAIQKAABBIACBJkuQgACEIAABCAAAQhAAAIQgAAEEADIAQhAAAIQgAAEIAABCEAAAhCAQAEIIAAUIMh0EQIQgAAEIAABCEAAAhCAAAQggABADkAAAhCAAAQgAAEIQAACEIAABApAAAGgAEGmixCAAAQgAAEIQAACEIAABCAAAQQAcgACEIAABCAAAQhAAAIQgAAEIFAAAggABQgyXYQABCAAAQhAAAIQgAAEIAABCCAAkAMQgAAEIAABCEAAAhCAAAQgAIECEEAAKECQ6SIEIAABCEAAAhCAAAQgAAEIQAABgByAAAQgAAEIQAACEIAABCAAAQgUgIC1AsBRt66/3MTv7oVfq4TxqcvX9B3Sc866ulLn3N4dvuuXKzzwZJvvug98+Fnfde7eafVKnYkPXu67fnWFX69+V7f1j7/nlcpv9RgNm3tSFz8a2TOFq21WN1y2X80/DM9qRkEAVXOt16ePdvxeyWx17tWr011/6/lUj0EQ3+vVCcKyrp1u8rXMO0g++smZZnlSbzzVy4Wvv7Cbb7TNYtnMt8p5oophszwt8+yOUdmnOTueWulPuWyr/pqKYc57zUBGlXumnXJ8T1j062bNtvR7s9z7aP7fu9ipjlmredQsFsvHevGr5lXub7McLp+Puuv0eecf15BHnOeelgKRQKEo87Czuzu8Mz3yHlzZ94iKzWbniWaNt5qn1Xbq5ez9B/yiYVMnbfH1Zq5k6vcgXKLqQD2+1eeBqNrxYyfMGKm+9kZ1fu7O9/J5u975uVl/m42lejlRL1ZDT3q/blNhcurynx5g7XytWVz4PR4C1iYUAoAUZMJVnWYIAPUHHQJAfS7dCVYIABICQDc5E0AY7e5SiADgkam+0UQAaH7zFGZy08w6AoBDCAGgWaZ4vyMAtM6qc0kEgODsqFksAggATeLNCoD6gFgB4HBhBYCXHwgA3Z9MEAAQALrLDlYApH/ThQDgLwasAPDHy29pBAC/xLzyCADB2VGzWAQQABAAuiXACoD6aFgB0M1kjkcAuh1LCAAIAAgA2b25QgDwFxsEAH+8/JZGAPBLDAEgODFqFpUAAgACAAKAz9GPAIAA0JlAs7/iIgAgACAA+DzRJlgcAcAfbAQAf7z8lkYA8EsMASA4MWoWlQACAAIAAoDP0Y8AgACAAOBz0HRTPMqJF3sAeJDZA8BffkaZh51bZg8Ahwh7ALSekwgArbPqXJJHAIKzo2axCCAAIAAgAPgc8wgACAAIAD4HDQJAt8CarR7hLQDR5FojKwgA/hizAsAfL7+lEQD8EvPKIwAEZ0fNYhFAAEAAQADwOeYRABAAEAB8DhoEAASAaFImFisIAP6wIgD44+W3NAKAX2IIAMGJUbOoBBAAEAAQAHyOfgQABAAEAJ+DBgEAASCalInFCgKAP6wIAP54+S2NAOCXGAJAcGLULCoBBAAEAAQAn6MfAQABAAHA56BBAEAAiCZlYrGCAOAPKwKAP15+SyMA+CWGABCcGDWLSgABAAEAAcDn6EcAQABAAPA5aBAAEACiSZlYrCAA+MOKAOCPl9/SCAB+iSEABCdGzaISQABAAEAA8Dn6EQAQABAAfA4aBAAEgGhSJhYrCAD+sCIA+OPltzQCgF9iCADBiVGzqAQQABAAEAB8jn4EAAQABACfgwYBAAEgmpSJxQoCgD+sCAD+ePktjQDglxgCQHBi1CwqAQQABAAEAJ+jHwEAAQABwOegQQBAAIgmZWKxggDgDysCgD9efksjAPglhgAQnBg1i0oAAQABAAHA5+hHAEAAQADwOWgQABAAokmZWKwgAPjDigDgj5ff0ggAfokhAAQnVviaP5d0oKQNJG0n6TmXyDqSbpa0iaRFko6V9JD7W39JN0oaJmmZpNMl/bkbkptK+p2ktSR9JOkwSf/OAnVrBYAswMUHCEAAAhCAAAQgAAEIQAACEMgcgT0kTZX0iKSDqgSAmyS9Jelcd6J/h6SNJC2WdLakjd3JvPnuCUmflvR+nd5NdIWE30o6WNIprr3UQSAApB4CHIAABCAAAQhAAAIQgAAEIACBFAhM6yQAzJM0WNIs15dJ7l/673X/gn+4pH+5v90uabykX3fy26wieF3SGpKWSDJz7pmSdnO/T6GbXpO2CgAfS+ot6d1U6dI4BCAAAQhAAAIQgAAEIACBYATMRNL85XmlYNVzXespSQO76YHh0mie1+6j59UCwJqSZkjqW1XfTPLHSTIrA+ZK2sydzJsil0la6K4MqG5yB0m3Stq86ksjJJwqyawMSPWwVQD4xBUAUoVL48Ui0KNHDw0aNKjU6ZkzZ2rZMvNoEAcE0iFAPqbDPSutEv+sRAI/INCVQNjx2XONVUpGl34wB7zFIWDrnK1RBDt69FDboHV71ZSZ+c4SLVumpVV/oa9nAwGgAVlbk6lDUltxzgn0NAsE2tra1NFhUk9qb2/X9OnTs+AWPhSUAPlY0MC73Sb+xY4/vc82gbDjc/DtY0sdfP0r5nFkjoIQsHXO1lAAaBvUq+2tZ8yj9t6x/vZvavrMJeYm288kv147oyVdIOkzkiZL+pak5yWZleTm2f5PuZsA9pT0fUn1HgEw35m/8i+QZCYBxobxjUcAUhiYCAApQC96k2Ev6EXnR/+jJUA+Rsszb9aIf94ihr9FIhB2fCIAFClbKn1FAHBRRCQArO4+i282Arxb0nmSTpC0laTX3En8XpIOdZf+r+xO8s3GgBu6mwCazQCnSPqypLsknShpuKQxrqsPSDIbAJY3ATTL/4dmIXttTSYEgCxkV8F8CHtBLxguuhszAfIxZsAZN0/8Mx4g3Cs0gbDjEwGgkOlj65ytUTA72gb1bJv2jJlve8eG20/T9JlLw64AMBNx89d7s+Gf2WfA7OK/tjtBf1jSk+5qcvNYeY+qFQBmLwazF4Cpb55NMP+VV50fIul/JRmxwOwLYFYGmMm/2VfAPK/zHUkvZiF7bU0mBIAsZFfBfAh7QS8YLrobMwHyMWbAGTdP/DMeINwrNIGw4xMBoJDpY+ucLagAEHYPgFXdVwAeIOkxSQe6f8U3r+szm/d1twlgtb/mL/9HSRpV9aXZmHAn13ZmE9XWZEIAyGzK2etY2Au6vWToWRoEyMc0qGenTeKfnVjgCQQ6Ewg7PhEACplTts7ZmgoAbzy9fk2ZTXZ4y6wACCsAGJt7SzJL+s1f7B93/9/s6n89AkA+xxgCQD7jlmuvw17Qc915nM8cAfIxcyFJ1CHinyhuGoOALwJhxycCgC/cthRGAHAj6QoAYR8B6JwX5i/+syQNczcC3KTqLQPm9X2nu48MVNczZW+RtIX75QBJsyWZ1QXmEYDMHrYmEwJAZlPOXsfCXtDtJUPP0iBAPqZBPTttEv/sxAJPINCZQNjxiQBQyJyydc7WKJgd6w3q2fb602Yzfu8YvMPbmhF+DwBj8Bvuxn/mGf/1JP3HFQBuc5/xX+4+/2/eu2l+X9zJWVPvLXeyb979bWL0qqT9s56htiYTAkBKmTf8q1dUWn7iNrMZZnGOsBf04pCip0kQIB+ToJzdNoh/dmMTpWeDL7qyYu71080G1hx5IMD4zEOUMuejrXO2tAQAw9O8um+mJPM4wQuSPuduBHidu5u/mdSbSX61AHCMKwaYd3CWBYBFrg3zusBXEADSGzsIACmxRwAwqSe1t7dr+nSzOokDAukQ4AYzHe5ZaZX4ZyUS8fqBABAv37isMz7jImu13cIKAFOeLm+y78R3sx2mR7ECwPA0y/W/KOkhSZ+R9E9JG0n6QNLggI8AvCdpNR4BSGcsIgCkw10IAAgAKaUezXYiwA1msVOC+Bcj/ggA+Ywz4zOfcUvZawQANwCuABDFJoD7STLL/T+WtLqkL0l6VtIMNgFMOdsDNo8AEBBc2GoIAAgAYXOI+tEQ4AYzGo55tUL88xo5f34jAPjjlZXSjM+sRCJXfiAARCsA9HI39TNL+c0KALOh398kbes+189rAHM1PBxnEQBSChoCAAJASqlHs6wAIAeqCDDBKEY6IADkM86Mz3zGLWWviykADOzZ9srTZv897/j0DjM0Y9bSsG8BGCrpVvNEQZXpJ93d/u+UxFsAUk74IM0jAAShFkEdBAAEgAjSCBMREOAGMwKIOTZB/HMcPB+uIwD4gJWhoozPDAUjP64gALixikgAWFfS65J2dDfuM8/8m9f9mRUAYyVNk3SuuzLACAIbdvMWgNckHSHpfklm9/OdJB2c9bSyNZkQAFLKPAQABICUUo9mWQFADrACoHA5gACQz5AjAOQzbil7beucrRHWjvUG9mz799ODaspsucPMKFYArCnpaUlGCDCH2dHfPBawtiTT4IPu7v/mTQCnSPqZW676LQDmq8MlXS3JvAHA7CUwQtJTKedK0+ZtTSYEgKahj6cAAgACQDyZhVW/BLjB9EvMrvLE3654dtcbBIB8xpnxmc+4pey1rXO2tASAzu2av97vKekASTe5+wCUVwDc4b4dYHGnSkY0mCLpyKoVAMMljUk5V5o2b2syIQA0DX08BRAAEADiySys+iXADaZfYnaVJ/52xRMBwK54Mj7timdCvbF1ztZQABg0sEfbi51WAGy9w0zNnLUs7B4Andt9RdJpksxy/3m8BjChrI64GQSAiIFirjmBPF/QR259ZqmD41+8oHlHKZELAnnOx1wAzriTxN9fgEYMPadUYcJT5/mrKGnIKVdV6rx86fG+61OheATyPD533//SSsAe/odZGc2REAEEABe0KwBE8RrAcuh2kfRXSe2SVuU1gAlldAzNIADEABWTjQnk+YKOAGBfduc5H+2LRvI9Iv7+mCMA+ONF6XAE8jw+EQDCxT5EbQSA+ASAGyW9L+lkSWZvgBmSeA1giGRNqyoCQFrkC9xuni/oCAD2JW6e89G+aCTfI+LvjzkCgD9elA5HIM/jEwEgXOxD1C6sAPD80wNrsG2zw6woHwFYWdJMd7f/yW5DZjM/XgMYIlnTqooAkBb5Areb5ws6AoB9iZvnfLQvGsn3iPj7Y44A4I8XpcMRyPP4RAAIF/sQtREAXHgRCwBmF//vSNqtKja/5TWAITI1xaoIACnCL2rTeb6gIwDYl7V5zkf7opF8j4i/P+YIAP54UTocgTyPTwSAcLEPUbuwAsAzT5Xf1OfQ237oO1GuAHhM0g2SflMVG9PgLe7O/59IOs7d5d8U6fwawJ0lXSdpRffRgW9JejtEnBOpamsyIQAkkj40Uk0gzxd0BAD7cjnP+WhfNJLvEfH3xxwBwB8vSocjkOfxiQAQLvYhats6Z2uEpMO8BSBGAcA853+lpFGSFkp6XtI3Ja0j6Wb3MYBFko6V9FA3jprX/l0vqZ8kM/80AoB5Q0GmD1uTCQEg02lnp3N5vqAjANiXk3nOR/uikXyPiL8/5ggA/nhROhyBPI9PBIBwsQ9R29Y5W0MBYODAHm1Pd1oBsMPQdzQrmtcA/kRSL0k/kLRcktlsYJakmyS9Jelcd2+AO9zVAIs7OdtD0hRJR7orBE6UZASBMSHinEhVW5MJASCR9KGRagJ5vqAjANiXy3nOR/uikXyPiL8/5ggA/nhROhyBPI9PBIBwsQ9R29Y5W1oCwEru5n/m1X9zOjkxT9JgVwwwP02SdLqkezuVG+Y+KrCF+/0ASe9JWs1dURAi3PFWtTWZEADizRus1yGQ5ws6AoB9KZ3nfLQvGsn3iPj7Y44A4I8XpcMRyPP4RAAIF/sQtW2dswUVAJZWTdDr2TAT+0bHZyT9TdJtkvaTtMD9i/9zvAYwRJamXBUBIOUAFLH5PF/Qixgv2/tMPtoe4cb9I/7+4r/p2KtKFV47+3h/FSXd/tr2lTpf2fQZ3/WpUDwCjM/ixTyCHhdWAJj0lHkk3zt2HPqueQQgrABgTtxPSzrUfd5/O0kTJG3pLv83+wOUj9sljXMfDah25cuSjnL3ECh//66knSRNjSDmsZmwNZkQAGJLGQx3R4ALOrmRJQLkY5aikbwvxN8fcwQAf7woHY4A4zMcv4LWtnXO1iicHWYPgG4EALPRXrO/8jeyvZakdyT1kWTEBHM8Kek0SXe5GwCa/QDM4ecRgNmSVuURgHRGKQJAOtwL3SoX9EKHP3OdJx8zF5JEHSL+/nAjAPjjRelwBBif4fgVtHZhBYDHn6xdAbDzsNIKgLACgEmj8ZJ+Kun/3E3+jACwjaQLJU2r2gTwTkkbSqq3CeBrko6o2gTQ/PX/4KznqK3JhACQ9cyz0D8u6BYGNcddIh9zHLwIXCf+/iAiAPjjRelwBBif4fgVtLatc7ZG4SytAIhRANhY0o2SzGqAZZLGSvqLpHXdzf02kvSJpOPcCb7x9RhJ60k623V8Z0nXSVrR3TvAvAbw7aznqK3JhACQ9cyz0D8u6BYGNcddIh9zHLwIXCf+/iAiAPjjRelwBBif4fgVtLatc7amAsCjnVYA7BrdCoCCppJkazIhABQ2pdPrOBf09NjTclcC5GOxs4L4+4s/AoA/XpQOR4DxGY5fQWvbOmdLUwAwy/wXuW8AMH5cLOmPkswzBze7+wCY34+V9FA3jg6XdL2kfpLM/NOsADCPJ2T6sDWZEAAynXZ2OscF3c645rVX5GNeIxeN38TfH0cEAH+8KB2OAOMzHL+C1rZ1ztZQAFh3YI+2h580K/K9Y/dh7+idaPYAMALAQZLMq/+qj5vcNwGcK2mYpDvcPQLq7QEwRdKRVXsAGEFgTNZz1NZkQgDIeuZZ6B8XdAuDmuMukY85Dl4ErhN/fxARAPzxonQ4AozPcPwKWtvWOVsWBYB5kgZLCvIWgPckrcZbANIZpQgA6XAvdKtc0Asd/sx1nnzMXEgSdYj4+8ONAOCPF6XDEWB8huNX0NoIAG7g3RUA5tV95Ql6vZRo5RWBZgXAXLeyedXfqe5mgDMk9a0yerukcZLMyoDq48uSjpI0qurLdyWZNwFMzXKe2ppMNQLAiO3PKcVgwjPnRR6LT2aYDSSdo896mY515H3HYC2BLFzQl840gqVz9Bz0euZCtOM3rij5NOl/T/Tt28itz6zUGf/iBb7rF61CdT4eMuYXmj17riY+cIZvDFnPKd8dKkiF/cZfpgkjTir1tr29XdOnZ/6RxFxEZuQ2Veeh5zkP5SJoGXQyC/cLSWLZ9PwrK829dtYJSTZtU1u2ztkaxajDPALw4KTaRwD23LH0CEAUAsD67lL/3pLMCX1r9xl+BICcjhwEgJwGLs9uZ+GCnvXJGgJAchmOAJAc6yy2hAAQT1QQAOLhWjSrWbhfSJI5AkAktBEAXIyuAGBU7Vb+yt8q/EGSzPP8AyR97G4AGOQRgNmSVuURgFaxR1sOASBanlhrgUAWLugIAC0EqiBFEAAKEuhuuokAEE/8EQDi4Vo0q1m4X0iSOQJAJLQLKwBMnDSwBuA+O86KYhPAlSSZv/x/6Bo/3t0QcA9Jv5VkHg8obwJ4p6QNJdXbBPA1SUdUbQJolv8fHEnEYzRiazIhAMSYNJiuTyALF3QEALKzTAABoNi5gAAQT/wRAOLhWjSrWbhfSJI5AkAktG2dszWCU3oEICYBwDzD/RfzxKwkw9Y8x/1Dd+Jvnjm4xd35/xNJx7kTfOPrMZLWk3S26/jOkq6TtKIk8+iAeQ3g25FEPEYjtiYTAkCMSYNpBICgOcAjAEHJ+a+HAOCfmU01EADiiSYCQDxci2YVAaBoEY+kv7bO2RoKAOsM7NF27ySzOt879ttxpt6N5jWAkQQmj0ZsTSYEgDxmY859zsIFnRUAOU+iCN1HAIgQZg5NIQDEEzQEgHi4Fs1qFu4XkmTOCoBIaNs6Z0MAiCQ9/BmxNZkQAPzlAaUjIJCFCzoCQASBtMQEAoAlgQzYDQSAgOCaVEMAiIdr0axm4X4hSeYIAJHQtnXOhgAQSXr4M2JrMiEA+MsDSkdAIAsXdASACAJpiQkEAEsCGbAbCAABwSEAxAMOqzUEsnC/kGRIEAAioW3rnK2JANCzbfwTtY8AjBxuHgFYGuVbAL4j6SZJX5RkNvxbR9LN7psAFkk6VtJD3Tg6XNL1kvpJMvNPswdA5t+7a2syIQBEcq7BiB8CWbigIwD4iZjdZREA7I5vs94hADQjFOx3VgAE40atWgJZuF9IMiYIAJHQtnXOlrYAYHb3v9XdCPBSVwAwYsBbVW8BuMPdELDeWwDMqwOPrHoLgBEExkQS8RiN2JpMNQJAjPwwDYEKgaJd0Al9tgmQj9mOT9zeEf+4CWMfAsEJxDE+tzjjqopDky80bzTjsIyArXO2pgLAP58wm+57x2eHz4hqBUAPSeMlnSLpSkk/dQWAeZIGS5rltjpJ0umS7u3k7DD3bQFbuN8PkPSepNUkLcxy/tmaTAgAWc46S32L44JuKSq6lQAB8jEByBlugvhnODi4VngCcYxPBADr08rWOVtQAWBp1QS9no32FjLiRElm0n6OpAdcAeBh93V+favq3y5pnPuYQLXZL0s6StKoqi/flbST+1rBFlxIp4ityYQAkE4+FbrVOC7ohQZK50MRIB9D4ct9ZeKf+xDSAYsJxDE+EQAsThina7bO2ZoKAP94onYuv//wDrMCIKwAsJWkGyTtIcks7UcAsGAIIQBYEMS8dSGOC3reGOBvdgiQj9mJRRqeEP80qNMmBFojEMf4RABojX2OSyEAuMFzBYCwmwB+V9LZkswmf+YYKGmOuxrgCncDwCCPAMyWtCqPAKQz0hAA0uFe6FbjuKAXGiidD0WAfAyFL/eViX/uQ0gHLCYQx/hEALA4YZyuFVIAWHtgz7a//+tTNcE9YKe39V60bwEw9ssrAMxbAH4raVrVJoDmO7NZYL1NAF+TdETVJoBm+f/BWc9GW5MJASDrmWehf3Fc0C3ERJcSIkA+JgQ6o80Q/4wGBrcgICmO8YkAYH1q2TpnaxS4jpQEgHXdzf02kvSJpOPcCb7x9RhJZldCs3rAHL769PAAACAASURBVDtLuk7Siu7eAeY1gG9nPRttTSYEgKxnnoX+xXFBtxATXUqIAPmYEOiMNkP8MxoY3IIAAgA5EIyArXO2rAgAwaKS01q2JhMCQE4TMs9uc8Od5+jZ5zv5aF9M/fSI+PuhRVkIJEsgjvHJCoBkY5hCa7bO2ZoKAHf+a/2aMgft9FYcjwCkENL0mrQ1mRAA0supwrYcxwW9sDDpeGgC5GNohLk2QPxzHT6ct5xAHOMTAcDypCnwHgAIANHnNgJAhEwHX3hlydrrZ5wQodV8mdryxKsqDv/7iuO7dX7pzMGV33oOej21Tm74U7PRp3NM+5F5HWjwI44LenBvqJkEgY2ucMb8mydmb8yTj0lkQHbbIP7ZjQ2eQYDxSQ4EIGDrnK0RitIeAH953Oy/5x1f3nkaKwACJFB1FVuTKZUVAAgAEgKAST2pvb1d06ebN5Rw2EwAAcDm6Oa7b0ww8h0/vLebAOPT7vjG1Dtb52wIADElTCOztiYTAkAKyWSaRABAAEgp9VJpFgEgFew02gIBJhgtQKIIBFIiwPhMCXy+m7V1ztZQAFhrYK+2Pz9uNuP3joN3flOzZy0xf2Vrz3dI0/Pe1mRCAEgppxAAEABSSr1UmkUASAU7jbZAgAlGC5AoAoGUCDA+UwKf72ZtnbOlKQCMlzRQ0jJJcyX9QNKzktaRdLOkTSQtknSspIe6cXS4pOsl9ZNkJgHmNYCZXwJsazIhAKR0kkMAQABIKfVSaRYBIBXsNNoCASYYLUCiCARSIsD4TAl8vpu1dc6WpgCwmqQPXQe+KOlcSdtIuknSW+7/D5N0hySzDGFxJ2d7SJoi6UhJ90sym4kZQWBM1lPN1mRCAEgp8xAAEABSSr1UmkUASAU7jbZAgAlGC5AoAoGUCDA+UwKf72ZtnbM1FQD++PjGNWUO2XlqHI8AHCbpR5K2lTRPktmtfJbb8CRJp0u6t5OzRhy4RdIW7vcDJL0nyQgLC7OcbrYmEwJASlmHAIAAkFLqpdIsAkAq2Gm0BQJMMFqARBEIpESA8ZkS+Hw3a+ucLagAsLRqgl7PRqv7A5il/nu7Bj4naYb7X98qo7dLGueuDKhu68uSjpI0qurLdyXtJGlqltPN1mRCAEgp6xAAEABSSr1UmkUASAU7jbZAgAlGC5AoAoGUCDA+UwKf72ZtnbM1FQBufcx7dbgp/PVdXjcrAKISAMrtHyrpEPcZfiMCIADkcLwgAKQUNAQABICUUi+VZhEAUsFOoy0QYILRAiSKQCAlAozPlMDnu1kEADd+rgAQx1sAFrhvFjDP/5sNAIM8AjBb0qo8ApDOYKsRAPbZ/YKSF5+/7oGKNycMcR7j6HjbbP7oHO2fKse5vtNLZzoKVM9Br4fq1ehNzB4RzjHujStK/w77lvOvOZ68xfv9o+nOCpZV25yJpTkOeczsNSH9cZcbGvqx2blXVX5fbYrZ4FKadKtnu1knRg05rVLknpcvLn1+etqnKt/tsOHbDU1sd8SVpd+f/fUJXcrtOcKxZ44HJ3jtNPOp/PvoQd+rFB0385rS5+3/x2nPHM/c5LS5zx4XVr6b+NAZXcx/9sHvV777556/qHzeb/h5pc/3PnFO5bvrJ+9W+nz5iyMq3w383YqVz1Of/bk6OuoLAMO/6sX3idu6xmCz87xYTTnn+JLNv72xVcX2gZu81BBNq7m5134e9wfu9biPXNkIn9L4eb+rtLPvrueXPt/36Fl12y4zUg/vmnTv42c39HPHbzgcJv1vVwZDv+3F76mbu+bMPntVxfKBrrFs2LDZveUqLwYrLHV8HvgvZ1yYo2PE8tK/bx1zckNTI4Z6OTHhKSdPqo/1f3VZ5X/f+m5XWyOGmT1mpAlPOv92PkZs79j/eKOVKz899peTmnWv9PumY708mn/dld3moym7+VlO2TX/bUR051hhucPAHI/e0T2HfXdzzqnmuO+RMxv6Vs5NU6jeuXOP0ZeU6j807tSW+lhdaPf9L63878P/OKVL/Y0v83Jq6slOTg2+0Ptuo7vMY37OMWGSF9fydyO3cfo2/nmvv76dNOemw6vOTTd2ze1qm+Vz43vben98ePly55xQfZ7Y+HfeJsPjpnr2y7Z2ueY6PXqsWZkotbe3a/r02k2JR7ebzY6lD3fxzukruOHvP917dPG+x+qP/yAc6tW5b+pmpa/33djso+Qc5evy14/6ceW7h/7ZNb7V9srXq/K1qhX/Fs7wXi31+YP/p1Slur87feXy0ncr/2d+xVz1NaFRG92dJ0ZtaR4jlZas3r9SvTyGRm/o9XfctJ+00gXtepB3vnn0Tm/Mln3v+UnVmK76vWx8twO8+o/8vc75qup8pxWc82Z3566yzXr3OPU6s/UPvPPV8l5eiZWnO+fl3h9756bq8V22/84+gyqVVp9s7tulBQO9cbPi+95+Xct6m726pD7/NRt6O0e9MV/tZ71r4Mit3fNdT++6t6DdO1cv6ee08/ifvHN2+XxZfa785k7n6pbHnXPOzjddp1nz5mnaD73rYvX928L1PymV2/hWL5bV1+96bMvXy4lNrpXd3RO0lHzmOnKmE8NXL3DOUeYon5c/GdCz8t1723u8pp7U+BxYzt1Vpsyp1B//nHM/sskl3rlurec8HotWc+w/d21X2xtc7Yxjc/R9z/Npynmez+Xf17/euab0n9a7UmfBQO8+YfmAJc7vr/Wp/D75Is/OkJPcnHbSoHS8fGnXdgZf5PVjST+nH5ve6l2POvZdpfTdCkulKb9y7jOWzPuosALA7x/b1AMq6Zu7vBbFHgDmOX1zIjZ/7TfHQZKulmQuir+RNK1qE8A7JW3YzSaAr0k6omoTQLP8/+AahzP4P7YmEwKAuVlEAEAA6HTSQQBwgCAAIACYPEAAQAAonyIRACQEgNoLJgJA81kLAoCEANA8T0KU6FhrYK+2mASADST9yX19n1F5zOZ9RoV7TtK67uZ+RiU2Ctxx7gTfdOUYSetJKv/Fa2dJ10kyfxE0YoJ5DWDjv5CGABJVVQQAVgB0m0usAGAFgEkOVgDUDhFWAEisAPB3CWYFQPe8WAHgraJhBYCTJ6wAqP0DDisAJFYAFHcFwJoDe7Xd/NjmNReRb+/yqt6ftSSORwD8XdxzXBoBAAEAAcAlwCMAPAJgUoFHAJwBwSMAEo8A1C6Jj+NeBwEAAcDkFY8A8AhA+fzCIwASjwBUrjYdCABxXHklBAAEAAQABACxBwB7AJhhwB4AtadDBAAEgNJfpNkDwBkY7AEg9gCoPUfyCACPAMQzPUUAiJkrAgCbAHafYjwCwCMAJjt4BKB2jPAIAI8A+L0w8whA98RYAcAKAFYAsAlg9RmCFQCsAKjKh9IKgN88+umai8h3dn2FRwD83oh0Ks8KAFYAsAKAFQCsAOAtAM4f+HgLQM35kBUArABgBUDV2zFYAcAKgE53jKwAYAVAyHlos+oIAM0IBfwdAQABAAEAAQABAAEAAYDXAIrXAPIawM43BNUrnngEQAgACAAlArwGMOCs03+1jjUH9m678dEhNTUP3/VlvT9rMZsA+udZqYEAgACAAIAAgACAAIAAgACAAGAeeXrsrMo1sbwUmT0AXCSsAEAAQABAAAgx6QxQFQEgALRWqhRCACiD6O4d6K2AylOZrY6/quTuS1cdnye3S76O3Na5+Sq/8iVPHWhra1NHR0fJ5fb2dk2fbsRJjjQIjNrs5FKz90y5LI3mG7a59Q+c8fniz+Mdn9X5eMiYX2j27Lma+MAZmeNRBIe2OfbKSjef/+UJiXQ5qvPRtkd7vj93XTK+1wO03/DzKl/f+0TVsnSfND/zPWf8meOFa+Idg+V2Rg/6XqXNcTOvKX3e8kTPj39f0Zof5XOHqb+kv2PylUtaq+sTU8Piw796ReX3J24zr81O9hixo5MLE+qIduUl6eb3Vy9ozGbYt5x+PHlL/T5sOtaJ0XqPmteAO8e89XqX/l28snf7/MIvvHbWv+HS0u9vHXlKQyhRjc9kyftrbYfDvHPH079N79zhz+tMl7Z1ztYIesca6/Zuu+HRLWvKHLnrv/XBO6wACJOttiaTmYW1dQaDABAmVZKpiwCQDGfbW0EAkBAAspPlCADhY4EAICEAOHmEABB+PCVhAQEgcsq2ztkQACJPleYGbU0mBABWADTP/ohLFEHRjxhZbOYQABAAYkuuAIYRAAJA61QFAQABoJwSCADhx1MSFhAAIqds65wNASDyVGlu0NZkQgBAAGie/RGXQACIGGgIcwgACAAh0ifyqggA4ZEiACAAIACEH0dJWkAAiJy2rXO2pgLAtY9uXVPmmF1f5BGAkOllazIhACAAhBwa/qsjAPhnFlcNBAAEgLhyK4hdBIAg1GrrIAAgACAAhB9HSVpAAIictq1zNgSAyFOluUFbkwkBAAGgefZHXAIBIGKgIcwhACAAhEifyKsiAIRHigCAAIAAEH4cJWkBASBy2rbO2ZoKAL98ZJuaMsfu9jwrAEKml63JhACAABByaPivjgDgn1lcNRAAEADiyq0gdhEAglBjBUBnamwC6BBhD4Dw4ykJCwgAkVO2dc6WlgCwoqTbJA2RtEDSu5K+K+l1SetIulnSJpIWSTpW0kPdODpc0vWS+pk3Skv6lqTMvwbM1mRCAEAAiPzM28wgAkAzQsn9jgCAAJBctjVvCQGgOaNmJVgBwAoAVgA0GyXZ+h0BIPJ42DpnaygArL5u77arH9mupsxxuz2r/4Z/DaARAPaR9E9JyyUdJ+lgSXtJusm8zVPSuZKGSbpD0kbmDaCdnO0haYqkIyXdL8m8U9QIAmMij37EBm1NJgQABICIh0pzcwgAzRklVQIBAAEgqVxrpR0EgFYoNS6DAIAAgAAQfhwlaQEBIHLats7Z0hIAOrc7VNKfJW0oaZ6kwZJmuYUmSTpd0r2dKhlx4BZJW7jfD5D0nqTVJC2MPAMiNGhrMiEAIABEOExaM4UA0BqnJEohACAAJJFnrbaBANAqqe7LIQAgACAAhB9HSVpAAIictq1ztqYCwM8e3r6mzA93f8asAFhaNUGvZ6PdZwTMRP4DSWMlzZDUt6r+7ZLGuSsDqs1+WdJRkkZVfWkeJdhJ0lSf7Sda3NZkqisAjNj+nArcCc+clyjoZo3tvfdFlSL3329EJucYud3ZpX+X9zKrTJxjwpNmRUr8x56jLqk08uA9p3ZpcL+dzRiR7n3c8dEcozY/pfL5nlcv9e1k1BO3qG4aW+lItQDwlUOu1uzZc3X/RCeW++x+QcXExIfP7GJuk0uvrHz3xikntNJc3TKjN/xx5ftx037SpcyoIad58Xn54sDtVFcs50HnXAhjfKsfXVWp/tJPj3cY7nVh5bvlK3inrurx4rfNEcO8sdSx3yql6q9c7LRnjpFbe7Ea/6ITw3328PyY+NAZfptMrHx1Ph4y5helfJz4gOfv5mc5jF893+tvVM6N2spr556XPF717Jdztl6+VpcfuU1VLJ73xlMYn4d+2xt3T93cddztu8v5JfPV598VlpmVgs7RY76zGtDP9WTpTPNHBannIPOYYfBj9Maev+Omev0oW9zlmuv06LHmvkRqb2/X9OmtP5JY7repe99jZ7XsZKNYVl/j+sz4qGKz3nWich3p3atSbulKfSqf733CuZZXM1i62srO7y97XCcs/N9KndGbmJWZ0uJB5g8zznHfI13PxdWdLZ9zqsdNq3nY7Jxfvrab9sY/61xLRwytukd5Ktw9Sj3fm13TWw50VcFdvnx56f8e+8tJdauP2sK5d5g/ePXK7w//w7tPCNJmuc6+uzrjsxTLR1vL0/L+AabOhEke73p+7DnCuUb2e2Vm5edlqzvXifL1oHO9ncc4PB7/k8djtwMvK323cPWeleJbvDpXtzzutN/q+KzOvWUr9i7VLY8F83nf3bzzYu83HJ/Hzbym0ma57z1nz6l8V+/cUd2n8rm82Xk8TBz91P30ad69wdrPflKp+tC4rveofuy2WnaDa5z4rvqyF8sXronmGrr3PlXzAPfesZNfts7ZGuHvMI8AJCAAmJv1A8wwcp/lRwBodVBkrBwCQAQBaXazgABQCxkBoFYMCpOCCABh6Dl1EQCaM0QAqM8IAcDhggDQfAwhANQyQgBonjNhSiAAhKGXy7qNBACjavv9K389CEYd/qqk/SR96Bb42N0AMMgjALONRsQjAOnkGwJABNwRAPxBRABAAPCXMfGWRgBozhcBAAGgUZYgADQfQwgACADNsyS6EggA0bHMiaWO1dft0/aTh3eocffHuz+t/77zSRQCgFm+8Q138v/fqkZ+K2la1SaAd7p7A9TbBPA1SUdUbQJolv+bzQQzfdi6nAQBIIK0QwDwBxEBAAHAX8bEWxoBoDlfBAAEAASA5uOkUQkEAASAcBnkrzYCgD9eFpSOUwAwqwfedp/Vn+uyMq/8M7v4r+tu7md2/jfPmpg3BJhd/s1xjKT1JJWff95Z0nWSzFsFzKMD5jWAxm6mDwSAjISHPQCcQLAHgMQeABKPAIQ/MSEANGeIAIAAgADQfJwgALAHAHsAOKOAPQDCnS8C1C4JAFc8ZDbb944T93gyqhUAAVyyowoCQEbiiACAAFBORQQABIAoTksIAM0pIgAgACAANB8nCAAIAAgACADhzhSBayMABEbXuCICQExg/ZpFAEAAQADwRg0rAPyeQbqWRwBozhABAAEAAaD5OEEAQABAAEAACHemCFy7Y7V1+7Rd/tCONQZO2mOSPoxmD4DAjuW9IgJARiKIAIAAgACAABDl6QgBoDlNBAAEAASA5uMEAQABAAEAASDcmSJwbQSAwOgaV0QAiAmsX7MIAAgACAAIAH7PG43KIwA0p4kAgACAANB8nCAAIAAgACAAhDtTBK6NABAYHQKARmx/TonChGfOiwmjP7OjNzGvnHSOcW9c4a9ywNI7ft1pZ9KtXtv1TH3me1dVvn7hGvN2DI5WCVRPuNrb2zV9unlDiXPss/sFlc+vf7t35fNbR57SqvlIyo0aclrFzj0vX9zQ5qgtTi39fs/kS+qWK4tWvf+7oPL7fw5YvfT51fOzlzuDL7rSi8HpJ5Q+jxh2buW7N78woPT59TOd3/wcI7c+s1J8/IterP3YiLpso3wM29a+u3l9vO8Rr+9B7I4Y6p6fnwp3ft7idO/cNfmi7vNvyxO8cmu+7L3R54MtnHH50k/Szd0gPDY/y+lT9bjb76zrNWHskaXvv7nPJZr9zhw1G/P14rftP06vfD1p+9sahrjPelODpAB1ckbga4+bN145x08/dXfp33XbvUly2O4M+6Zzv/Lk7xvfr2zwy8srTf3n2JO6NLv9/3jn/NWnONepHp8srZSbMMk59ww5yTsnvHx5fON/twMvq7T95tM/U0eHeWGVNPy2X2rW/Ll663DnmtvdMbr9B5WfxnX8vGHZ/XoeUvr93qV/bFhu5DZV167no7127bWvd4/xwH3evUfY/Eiz/saXOTk19WT/9wnd+V2+727hntvWP9o2CmlJALjkQfNmPe84dc9/8QhAyIFgazLVvAYQAUBCAAg5UlqojgAgIQBICAAtDJaqIkEmvPVaQABAAPCXeZQOSgABIBg5BIBg3LJUCwEg8WggAMSEHAEgJrCNzLICIAXoCTSJAIAAYNIMAcDfYEMAqOUVhAcrAPzlHKXDEUAACMYPASAYtyzVQgBIPBolAeDCB3epafiMPR9jBUDIUCAAhAQYpDoCQBBq2a+DAIAAgADgf5wGmfCyAqCWAAKA/7yjRnACCADB2CEABOOWpVoIAIlHAwEgJuQIADGBZQVACmBTbhIBAAEAAcD/IEQAYAWA/6yhRpoEEACC0UcACMYtS7UQABKPRsdq6/ZtO/+B2hUAZ+1lVgAsMhtttSfukSUNIgCkEEhWAKQAPYEmEQAQABAA/A80BAAEAP9ZQ400CSAABKOPABCMW5ZqIQAkHg0EgJiQIwDEBJYVACmATblJBAAEAAQA/4MQAQABwH/WUCNNAggAwegjAATjlqVaCACJRwMBICbkCAAxgUUASAFsyk0iACAAIAD4H4QIAAgA/rOGGmkSQAAIRh8BIBi3LNVCAEg8Gh2rrtu37bwHdqtp+Jy9HtFHPAIQKhgIAKHwBavMIwDBuGW9FgIAAgACgP9RigCAAOA/a6iRJgEEgGD0EQCCcctSLQSAxKOBABAT8kIIADGx62J2313OL31332NnJdVkqHaG3Hl2pf7LB431bWvUZieX6twz5TLfdYNU2HnM5ZVqj//ppCAmIq+z/g2XVmwuPffn6ujoKP3/Vw65WrNnz9X9E0+PvM00DW586ZWV5qeeckK3rnzm+1dVfnvhF8dH7vLojb22x031fIq8oToG58/YoPJt//X+0+15wM+5YLsjvT48e0NXrruO9/L90ZHeOGjU30aCVBKc4mxjEzcP32iQg1G0P3KbM0tmxj9/QShz5ZtGY2Tqyd2Pm1CNdKqctfiPGnKa5+HSZZXP97zqnUP99j+N88D3nv5axc2N+71X+nzCkHu7uP7m2wMr3230qVldfh+5nXf9Hf+s/+uvX1am/Oj1f1SpNu6tn5Y+b3mCd67+95XRn6uD+NlqnR2/fkWl6KRbT2y1WuTlhn3L8+PJW7r6MX7q5qU2R278aqVtP+Nz07FOjF47O1/xiRy0pA1/6rHe9NaPK01MmHROHM11sbn93c493TOfvyjy9pbOHFyx2XPQ6/Xs2zpna8SyJACcc/8eNWXO2/shVgCEzEBbk8nMwtpCsvFdHQHANzJfFRAAfOGKpTACgIQAEEtq+TKKANAcl58JRnNr4UsgANQyRAAIn1MIAOEZ5s0CAkDeIhbaXwSA0AjrG0AAiBAsAkCEMOuYQgCIl28r1hEAEABayZO4yyAANCeMANCcUZASrAAIQi2eOggA8XDNslUEgCxHJxbfSgLAmffvWWP8gr0fZAVASNwIACEBVldHAIgQJgJAvDADWkcAQAAImDqRVkMAaI4TAaA5oyAlEACCUIunDgJAPFyzbBUBIMvRicU3BIBYsEoIABGCRQCIECYCQLwwA1pHAEAACJg6kVZDAGiOEwGgOaMgJRAAglCLpw4CQDxcs2wVASDL0YnFt45V1u3bdsbEvWuMX7jP/ZrDWwBCAUcACIWvtjICQIQwEQDihRnQOgIAAkDA1Im0GgJAc5wIAM0ZBSmBABCEWjx1EADi4ZplqwgAWY5OLL4hAMSClRUAkWJFAIgUZxdj7AEQL99WrCMAIAC0kidxl0EAaE4YAaA5oyAlEACCUIunDgJAPFyzbBUBIMvRicU3BIBYsCIARIoVASBSnAgA8eIMZB0BAAEgUOJEXAkBoDlQBIDmjIKUQAAIQi2eOggA8XDNslUEgCxHJxbfSgLAqRP3qTF+yT4TeQQgJG4eAQgJsLo6AkCEMOuYYgVAvHxbsY4AgADQSp7EXQYBoDlhBIDmjIKUQAAIQi2eOggA8XDNslUEgCxHJxbfEABiwcoKgJiwYraIBLJ2w13EGNBnjwD5WOxsyHL8WxUSqyN4yGNHVv73xbs+Xfo8b+Mlle/eOvrklgK+174XV8o9cN9pLdXZZ68LK+UmPnBGS3UoBIFGBLI8PolcZgnY+kfbRsA7Vll3xbaT79u3psxl+96nOe8snC6pPbPRyrhjtiZTh6S2jLPHPcsIcEG3LKA57w75mPMAhnQ/y/FHAAgZXKrnnkCWx2fu4drbAVvnbAgAKeSsrcmEAJBCMhW9SS7oRc+AbPWffMxWPJL2JsvxRwBIOhtoL2sEsjw+s8YKfyoEbJ2zNRYA1lmx7YT7RtSUuXLfCZrzLisAwowNW5MJASBMVlA3EAEu6IGwUSkmAuRjTGBzYjbL8UcAyEkS4WZsBLI8PmPrNIbDErB1zoYAEDYzAtS3NZkQAAIkA1XCEeCCHo4ftaMlQD5GyzNv1rIcfwSAvGUT/kZNIMvjM+q+Yi8yArbO2dIUAH4u6UBJG0jaTtJzrjPrSLpZ0iaSFkk6VtJD3Tg6XNL1kvpJMvPPb0ky+xNk+rA1mRAAMp12djrHBd3OuOa1V+RjXiMXjd9Zjj8CQDQxxkp+CWR5fOaXqvWe2zpnaygADFhnxbbj7xtZU+aqfcdrbjSPAOwhaaqkRyQdVCUA3CTpLUnnShom6Q5JG0la3MnZHpKmSDK71N4v6URJRhAYk/VstDWZEACynnkW+scF3cKg5rhL5GOOgxeB61mOPwJABAHGRK4JZHl85hqs3c7bOmdLUwAotz2tkwAwT9JgSbPcApMknS7p3k7OGnHgFklbuN8PkPSepNUkLcxyOtqaTAgAWc46S33jgm5pYHPaLfIxp4GLyO0sxx8BIKIgYya3BLI8PnML1X7HbZ2zNRUAfnjv6JoyP9tvnFkBsLRqgl7Php9XBFYLAGtKmiGpb5XR2yWNk2RWBlQfX5Z0lKRRVV++K2knd2VBZrPS1mRCAMhsytnrGBd0e2Obx56Rj3mMWnQ+Zzn+CADRxRlL+SSQ5fGZT6KF8NrWORsCQArpa2syIQCkkExFb5ILetEzIFv9Jx+zFY+kvYkq/jscdmXF9ad/e0LS3aA9CFhDYP0bL6n0ZenZv1BHh7lVldrb2zV9eub3DLMmDjnuiK1ztqYCwPcnfLamzC9G/DOqPQDM0oILJH1G0mR3A7/nJX3sbgBYfgTAPOe/orsh4IuSDpM0x90foPMjALMlrcojAOmMNASAdLgXutWobrgLDZHOR0aAfIwMZS4NRRV/BIBchh+nM0gAASCDQcmXSwgAbrwiEgBWl/S6JLMR4N2SzpNkVO6tJP1WknkswGwCaH43G/xtI+klSVdLWiDpJElmE8DXJB1RtQmgWf5/cNZTy9ZkQgDIeuZZ6F9UN9wWoqFLKRAgH1OAnqEmo4o/AkCGgooruSaAAJDr8GXBeVvnbA1XiTuqoAAAIABJREFUAKy8Tr+27034XE2Za0b8n+a9u8Asm/HznH/ndoa6m/qZDf8GSnpf0tqSzPfGtvnLvtn53/zlf6akHV0DRhQ4XtIq7v/vLOk6t5zZO8C8BvDtLCRMIx9sTSYEgKxnnoX+RXXDbSEaupQCAfIxBegZajKq+CMAZCiouJJrAggAuQ5fFpy3dc4WVAAIuwmgWaZvXgF4gKTHJB0o6S5JZmO/v1Y5ZVYFbCbpaPe7/pLmupsELslCYgTxwdZkQgAIkg3UCUUgqhvuUE5QGQIuAfKx2KkQVfwRAIqdR/Q+OgIIANGxLKglW+dsaQkApt293WX+K0t63P3/0yT9DQEgn6MMASCfccu111HdcOcaAs5nhgD5mJlQpOJIVPFHAEglfDRqIQEEAAuDmmyXCisAfHf852tI/2rk3VE8AtA5eua1f2bTv2Hu3gDl38dIOlxS+V2EQySND/n4QbKZU6c1W5MJASD11CqeA1HdcBePHD2OgwD5GAfV/NiMKv4IAPmJOZ5mmwACQLbjkwPvbJ2zNULfYfYAiFEA+Ia78Z/ZzG89Sf9xBYBqnwa4z/R/IMk8dmDKmk0Df5CDnOnWRVuTCQEgz1mZU9+juuHOafdxO2MEyMeMBSRhd6KKPwJAwoGjOWsJIABYG9qkOmbrnK2pAHD0ePOYvndcN/LvUawAMDzNbv5mgz8zsX9Bktlt0GwEaHb4Nxv6XSvJPB5g5pVGAFjmCgB/l/TDpAIfRzu2JhMCQBzZgs2GBKK64QYzBKIgQD5GQTG/NqKKPwJAfnMAz7NFAAEgW/HIoTe2ztnSFABmS/qipIckfUbSP92d/z+pcopHAHI0WBAAchQsW1yN6obbFh70I10C5GO6/NNunfinHQHah0AtAQQAMiIkgcIKAEfcYzbo945fj/qbWQEQ9i0AxuB+km6T9LGk1SV9yX01YHVzvAUgZOImWR0BIEnatFUiwA03iZAlAuRjlqKRvC/EP3nmtAiBRgQQAMiPkAQQAFyAEQkAvdzJ/tnuCgCz+Z/Z/X9rSWZlQPlAAAiZuElWRwBIkjZtIQCQA5kjwAQwcyFJ1CHinyhuGoNAUwIIAE0RUaAxAQSAWgFgesid+IdKulXSZlXYn5R0uqQJVd/xCECORiYCQI6CZYur3HDbEkk7+kE+2hHHoL0g/kHJUQ8C8RBAAIiHa4GsFlIAWGmdfm2Hj/tCTZhvHH2XPn53QVgBYF33dX87SnpF0mBJkyRtK+mtqgbNWwDekLSHpMmSrpa0UNKJec49W5MJASDPWZlT37nhzmngLHWbfLQ0sC12i/i3CIpiEEiIAAJAQqDtbcbWOVujiHXEKACsKelpSUYIMId5vZ95LMC8BeBHVW8BML+NlXSKJBMD83iAEQ3MXDO3h63JhACQ25TMr+PccOc3djZ6Tj7aGNXW+0T8W2dFSQgkQQABIAnKVrdh65ytqQDwnX+ajfq94zefvSOKFQCd2zV/0d9TUu07B53XAJoVAOa38goA8/pA86rA3B62JhMCQG5TMr+Oc8Od39jZ6Dn5aGNUW+8T8W+dFSUhkAQBBIAkKFvdhq1ztqwIAOYxgNMk3dnJIfYAyNGwQgDIUbBscZUbblsiaUc/yEc74hi0F8Q/KDnqQSAeAggA8XAtkNXCCgDf/qd5O5933PzZv5oVAFG8BrBsdBdJf3U3FVzSKad4C0COBhkCQI6CZYur3HDbEkk7+kE+2hHHoL0g/kHJUQ8C8RBAAIiHa4GsIgC4wY5BALhR0vuSTq6TTwgAORpkCAAZD9ZOh1xR8fBff8z1RpqVfnDDHW/S7bPXhZUGJj5wRqjGBl94Zan+62eY83r3xy5furzy42N/dR732vWLl1W+e/QO51qx54iLK989OMGsIAt/bHyp46M5pp7S1c+NrvLG0JvHdx1D5GP4GERlYZtjvVg+/8vGOVevzXIu1MuD7nysF/96fjTLs313Ob/SxH2PnRUVkoqdbb7rsBkw3fwxxzke+Vu9ezCv6Z2+4ozLf93e9RHMfXf1/O01pWqPpp49S3XumfXLun3Y6sdXlb7v89Hyyu/P3OQ/VvWMb362Y9scK3V49svfLVzbua9/+dLjG/Id/jVvzC/u79RZ7TWzGbVzLO/lzQ/un2jeZCVtcbrX9uSLutrfeYx3jnv8Tw7P0esdV7E5bobZ8No5dv/8paV/P9qod+W7Houd/jx3XTSsjK0RQ88p2Zzw1Hl1eewx+pLS9wvXMPt1OceKHzh/tHto3Kl163z6NIfDKxd3ZVDN9Yk/dD2XbnekN377vb+sZKd8PajbWKcvyzGo5r/HZdfrwZOOLJVsb2/X9OlmQ3OOvBPY5BInV944NbrxUMWkoAJA/7Zv/l/tCoDff86sAJgf9i0AZbTmGf+Zkoa5z/h3TkMeAcjRwEQAyHiwEAAyHqAMuocAUBsUBIAMJmk3LiEAdB8rBAAJAaA2PxAA8nNuw9NaAggAkWdEx0rrxC4AHC7pO5J268Z7XgMYeVjjM4gAEB/bSCwjAESCsVBGEAAQAPKa8AgACABlAqwAaD6KEQCaM6JENgkgAEQelyQEgMck3SDpN1Xem9f+zZB0rfvdgZLM8k+z7OglSYeaxVCR9zZBg7YuJ0EASDCJgjSFABCEWrHrIAAgAOR1BCAAIAAgALQ+ehEAWmdFyWwRQACIPB4lAeDrdx9cY/jWz/85qkcA+koyz22MMk8VSXpe0jfr9GJ/SeYZLPMs2YuSDpM0J/LeJmgQASBB2DTlEUAAIBv8EkAAQADwmzNZKY8AgACAAND6aEQAaJ0VJbNFAAEg8njELQD8xP2r/g/MNiqSBkqa1akXZo+AN8x2T+4eAWZjlAWSum5CE3n34zOIABAfWyw3IIAAQHr4JYAAgADgN2eyUh4BAAEAAaD10YgA0DorSmaLAAJA5PHo6L9O/7av3W324fOOP3z+T5offhPAldzN/9qb/DWfTQAjD2t8BnkEID62kVhGAIgEY6GMIAAgAOQ14REAEAAQAFofvQgArbOiZLYIIABEHo9GAoB5dUznv9ZXO2Am9o2Oz0j6m6TbJO3n/lX/XEn3darEawAjD2t8BhEA4mMbiWUEgEgwFsoIAgACQF4THgEAAQABoPXRiwDQOitKZosAAkDk8SgJAF/5x1dqDN++/+1mBUBYAWB7SU+7G/rdLGk78/ZRSVtKeqeqQQSAyMMan0EEgPjYRmIZASASjIUyggCAAJDXhEcAQABAAGh99CIAtM6KktkigAAQeTwaCQDTJTX7K38jh9ZyJ/p9JBkxwRxPSjpN0r1VFXkEIPKwxmewo2/fVdp22eXUUgtL+ptNG93tHdw2ey5aVvq0tG+PihcL1jZvd3COp35nBB9p1FZnVL6756ULS593HnN55btlPb1tFFaataj0fa//mr0hnGP88xdUPpfr9f3vEq/NtXqXPq+wzOw94Rz/ut3bV2Lbo83mlFKfud7vS/s4ba7yH6c9cyw/c3bl8+y7nfHw0lXHV74rv2v5+V85/ep8bH+4086SFb3+rP76J5Viff7rtPXuDmYvDOdY8b+OT0/cdmJdm+UvP/P9qyq/z2t36kw9pb4fux5k3rIhzW33YvHC1U4/Nv+LWZnjHJ+6wovbkv4Ow48HOf+aY7XJc0v/Lu1vxrVzTHzIi2U9h3e65+TK132vWL30ef5Az+bqLzpv/Jj2Bec3c6z9ghfLQf1X0p9+f2zp+/b2dk2fbs5NzrH+dU6/zLHmU24+Suo/xlm99OhIL6fWv+HS0ndvHXlKpc6IHc+rfO45433Ht63bKt/1nuPEavEAz9+Hxjn5X30M/5rZxNQ5+swpn++k5W4eL+vlxX+56+ZHG3r+rvOsl3MrLHVi+f6QFSs257c5371+uhffbY9xcsscy92wfbiFl89rvOi0Wf7NfF60hufHgnWdsdp/hhfzlWY435njvaHOv9N+1DgPN/mjeauLcyxe4HBa534vP2Zv7/i0vKfn24A3vL7LdWn1KYsrdh7+hxOjT5/m5fgq06p8286pNPAJ77uV3vq49N2r3/W4rbDQa6fNXXy2cFWvv8/c5PHcb7iTC/Pb+lf8eOyvzjmjOs8261hNE8YeWfr+i0f+Su+9P0+P3uHleLnysG95OTHgbS++Ex9wxsvun3fy0Rw9Fzr96DvT2/z240288dB/mvP97GHed70WejxXnuHYX7C2x30FNw1Xfs17o87Hg1eptNm/Y37p8wqfeGNt7marlr5b3M9jNH9dL2d6uCGat5HHved85/dlfTx/Bj3mfZ6zvhODJf0qTWuZ2R9Y0rqTqmJ+d9W43P6c0u9TD/H87fWx58cKrsuTL/LOxSO3O7tUZ9E6Xvz+81nvfFfO85cv8+rs8iXn/DBjd8/2Rn/zzs/333+657T7afiff6F/ffk4p8/v7i4tm6Wly6t4rOCwW7zcOw/MW+bEZ5UeXm7OWWY2RnaOHe76cenf5f28OtW5e9No8yYlafKiQZU6+6w0pfT5Xws2qHz31LyNKp/PXveB0uenFq1R+W76Yid/BvT0rqWn3O/9BejYXSeWfp+/1A2QpOErmT2apGfmb1ixs2ovJ3fMccu04aV/bxxyS+W7X723V+Xz1W1PVD6XPyxa7sT9G1M/W/ntDxvfU/lcZre4cu8orbyC49O/F3vx+Uwfj2eXRqpi0HuFqvNNvYJV35Vj2dONo/mpOpbNbFXnQtls2Va53+b7XqVNr51j5lKH5xo9vPF77YdblL47fo2pDT2ubm9Zaa8tqUf5pNpNzerc613Vzw+XOQNr3Z7eYC3bWrDc495vBc/Pcpv1uNQbF911psym7wretbaae9mPJVU58dEyx6d1eppHjt2jx0D1WOfh0v+MmHC53l04Ry8c6N0vbnCNd0+wvI8zbtvu8c53K37g5Gaf6d55c8na5nXlzrGknxO3ByeYuYxzDD3UuRb3rbr295rvnRNW7HDO38v6eX37aHPH5n+38M49az/r1fnoUKfO/NdWq7Sz3qPO+WHOp7zz2kfbe9eWtw7zfCpX2vHr3nVo4RpOP/u/651nlrjn+g83rTSj1V/1zt8fbezUWbS2V+c/xznXxcEXefcgved6/XjlYuccu+lY7/qtFRybvedU3YMM9Pq7dA0n91Z7ysutF67xztWed10/bfgTr4/Tfuzdr2x0heNfmZv5/N42Drsp59bYtnXftkbY4hQATLvjJf1U0v9JMhcmIwBsI8m7gZfMIDAXmD2qNgE0F8bGN52NepWB32xNJgQABIDS8EIAqD3LIAA4PBAAvLxAAHBYIABICAC150sEAASAzvfpCAASAgACQILz147+a/dvO/gfX61p8s/736b5780PuwLA2NzY6MKSzGoAo/SYvxT9xf13hqRr3YYPlGT+kmeUmZfcxwY89S1BIFE1hQDACoBSLrECQGIFgMQKAFYAlC8urAAQKwCMMMIKAFYAuCcFVgBICAAIAGY4sAIgqmloUztxCwBNHbC1AAIAAgACgDu6EQAQAEwq8AiAMyAQABAASisjEAAQABAAKnMABAAEAASARKfEJQHgS3//Wk2jfz3gD1GtAJhmnhxx3wBg2rhY0h/r9HB/SeYZDvNszYuSDmvy6sBEIQVpDAEAAQABAAGAPQDMc+vsASD2AGAPAHM6ZA8A56LAIwA8AtD5xhoBAAEAASDIdDNwnSQEgIMkPdfAQ7P5mdkDYM+qPQDMBjXehm2Bu5deRQQABAAEAAQABAAEgNIoQABAAEAA8G7IEAAQABAA2ARwAZsApjdLlTr6rd2/7Yt//3qND3cccKsWRLMHgFkB0EwA4C0AaWaAz7bZBJBNAEspwyaAtSOHTQAdHmwC6OUFmwA6LNgEkE0Au5vs8RYAhwx7ALAHgMkDNgFkDwCfc7IwxRsJAOaVD86rtOofrbwi0AgAzmvDpEmSzOuz3utkzryGaTNJR7vfm1f4mDrmlS/e64nC9DKFuqwAYAVAKe3YBJBNAE0esAkgewCUr0PsAcAeACVhhD0A2APAPSkgACAAIADwGsCE56od/dZeqe0Lf6tdAXDXgWYFwMdRCADrm7dumzc/SjLv4dxa0ucQABKOcoTNsQKAFQCldGIFQO2oYgWAw4MVAF5esALAYcEKAFYAdL4H4REAHgHoLif6rmDmC+71ZLn37vkecv6utkTedx8t+6T03To9V/LM9RioHus8XPr/ERMu17sL5+iFA838wzk2uObyyuflfZz30Lfd47zr3hwrfrC49G+f6d6byJas7SzXL7Xfz+xVJj044bTKd0MPdd4333eO51uv+d477lfsmFP6fVk/r28fbc4jADwCUEmhND40EgCieA1gdZ8GSZpinobs1FEeAUgj8gHb7DDnyoB1qZYigVGbnVxq/c1vDKx4MeWc41P0qPWm29ra1NFhUk9qb2/X9Onm3MQBgXQIkI/pcM9Kq9XxH3HODXrno3labLYyco/JF3Y9r+48xpl0zF/bm2g8/0uz+rG1Y8hJV5UKvny5Z3u7o5xJR6/5yytG1njSW2F5z6uXlr4f+m2nnDmeutlpc9cvmtcuO8ejdzjXBnOM2vL00r/Le3h+frKuM7nq2+FNiD5Zb5VKnfsnOnW6O8ri6KJVvYWRz13r+DFqqzMq1WbtsUbl86pTnUnYQ+PMqlHn2PYYpx9rPf9x5buec80m084xe5hTv8dij8fcDZx+rPKmNxmbdOuJlTp7jrqk9Hn+OuYV1M7x0WCnTvX1cfAFHsM+Hzn9qI5FpXLVh3J8zFeLVnPq9HvX823xyh6PXguc75+5sWtObPNdr+11np5XaeGtkc699KsXNL6Ob3mCkzvmGNDhcPjXHz0G69/oMDDHmk84E9TqnFrew/Gz3AfzeQUPp+r5PuRkN18v83zb4nTPj8kXOd9vfrb33atjne8GX+j1d/FqXkMDXncm3kvMImH3WOtF56/Gi/t7+drx8E+4X/AQ8ak1Arau2m7U+zgFAHPRMCeTD10HzOA2+wHs0ckhcxIzmwCa7ydLulrSQkneCaq1+GWqlK3JhACQqTRr3RkEgNZZURICjQggABQ7PxAAJAQABIDyWQABoNjnQ0t6b+ucrakAcMBd36wp8/cv/N48AhB2BcDGkv7ivtrPsJ0q6YeSzL4AYyXNkHSt2/CBkowibVTYlyQdanTYPOeVrcmEAJDTrEQAyGngcDtzBBAAMheSRB1CAEAAMAnHCgBn2CEAJHr6obF4CNg6Z0tLAIgnSjmxamsyIQDkJAE7u4kAkNPA4XbmCCAAZC4kiTqEAIAAgADgDTkEgERPPzQWDwFb52xNBYDP3/mtmjJ3H3RLFCsA4olSTqzamkwIADlJQASAnAYKtzNPAAEg8yGK1UEEAAQABAAEgFhPMhhPmoCtczYEgKQzyeyRkkKbSTSJAJAE5RjaYAVADFAxWUgCCACFDHul0wgACAAIAAgAxT4LWtd7W+dsDQWAFddeqe1zd367psz/HXSzFobfA6Da5nck3STpi5LurOPQ/pKucPcLeFHSYeblQXnOMFuTCQEgp1mJAJDTwOF25gggAGQuJIk6hACAAIAAgACQ6EmHxuImYOucLW0BYENJt7p/FDevpeksAJj355i3AOxZ9RaABZJOijvgcdq3NZkQAOLMmhhtIwDECBfThSKAAFCocHfpLAIAAgACAAJAsc+C1vXe1jlbmgKAeTfneEmnSDLv9vxpHQFgjKTDJY12HR3i1mnPc4bZmkwIADnNSgSAnAYOtzNHAAEgcyFJ1CEEAAQABAAEgERPOjQWNwFb52xNBYDRd5i37nnHuC/+zjwCsFTSrAaVW5mgnyhpgKRzJD3QjQBwgqTNJB3tttVf0lxJfSUtiTvocdm3NZkQAHxmzMaXG+FLmnqSyXOOIASYcAWhRp24CJCPcZHNh13in4844WUxCTA+ixn3kL22dc6WlgCwlaQbJO0haTECQMjszEh1BACfgUAA8AmsTnEu6OEZYiE6AuRjdCzzaIn45zFq+FwUAozPokQ60n4WVgAY+Vez5553jP/Sb6PYBPC7ks6WtMi1PNDd2M+sBvhVVXM8AhBpGsdrDAHAJ18EAJ/AEADCA8NCrAS4wYwVb+aNE//MhwgHC0yA8Vng4AfvOgKAyy4iAaBzJLp7BMA8ImA2ATQrBSZLulrSQknm8YHcHrYmEwKAz5REAPAJDAEgPDAsxEqAG8xY8WbeOPHPfIhwsMAEGJ8FDn7wrts6Z2tEpMO8BnC/v5i39HnHvV/+TRQrABoJAGMlzZB0rVvoQEmXSeol6SVJZlOCj4KHMv2atiYTAoDP3EIA8AkMASA8MCzESoAbzFjxZt448c98iHCwwAQYnwUOfvCu2zpny4oAEDwyOaxpazIhAPhMRgQAn8AQAMIDw0KsBLjBjBVv5o0T/8yHCAcLTIDxWeDgB++6rXO2pgLAPn/+n5oyEw++KY4VAMEjk8OatiYTAoDPZEQA8AkMASA8MCzESoAbzFjxZt448c98iHCwwAQYnwUOfvCu2zpnQwAInhOBa9qaTAgAPlMCAcAnMASA8MCwECsBbjBjxZt548Q/8yHCwQITYHwWOPjBu27rnA0BIHhOBK5pazIhAPhMCQQAn8AQAMIDw0KsBLjBjBVv5o0T/8yHCAcLTIDxWeDgB++6rXO2hgJA37VXatv7z4fXlLn/4Bu16L2Pp0tqD46z2DVtTSYEAJ95vf6Nl5RqvHX4qS3X3G9ns0mmdO/j5jWaHFzQyYEsESAfsxSN5H0h/skzp0UItEqA8dkqKcpVEbB1zoYAkEKa25pMCAA+kwkBwCewOsW5oIdniIXoCJCP0bHMoyXin8eo4XNRCDA+ixLpSPtp65ytsQCw1spte3ZaAfCgWQEwex4rAEKkl63JhADgMykQAHwCQwAIDwwLsRLgBjNWvJk3TvwzHyIcLDABxmeBgx+867bO2dIUAMZLGihpmaS5kn4g6dk6Du0v6QpJPSW9KOkwSXOChzL9mrYmEwKAz9xCAPAJDAEgPDAsxEqAG8xY8WbeOPHPfIhwsMAEGJ8FDn7wrts6Z2sqAOz+pyNqyjw85tdRrQBYTdKHrvEvSjpX0jadHFpZ0huS9pQ0WdLVkhZIOil4KNOvaWsyIQD4zC0EAJ/AEADCA8NCrAS4wYwVb+aNE//MhwgHC0yA8Vng4Afvuq1ztjQFgOq2zV/1fyRp204OjZFkdiEc7X4/RJJZOZDrDQhtTSYEAJ8nGAQAn8AQAMIDw0KsBLjBjBVv5o0T/8yHCAcLTIDxWeDgB++6rXO2oALAUkmzGlRudYJ+s6S9XTufc5f4V5s9QdJmko52v+zvPi7QV9KS4OFMt6atyYQA4DOvEAB8AkMACA8MC7ES4AYzVryZN078Mx8iHCwwAcZngYMfvOu2ztmaCgC73n5kTZlHv3KDeQQgKgGgbPtQSYdIMiIAAkDwPE21JgKAT/wIAD6BIQCEB4aFWAlwgxkr3swbJ/6ZDxEOFpgA47PAwQ/edQQAl50rAMTxFgDzbL9ZOfB+VZh4BCB4ziZeEwHAJ3IEAJ/AEADCA8NCrAS4wYwVb+aNE//MhwgHC0yA8Vng4AfveiEFgD5rrdy2yx+PqqH22CHX65PwrwE0GwCa5fwzXOMHuRv8fUrS8qoGB7ibAO5RtQngQkknBg9l+jVtTSYEAJ+5tcVfzynVmPyl83zWpHiZABd0ciFLBMjHLEUjeV+If/LMaRECrRJgfLZKinJVBGydszUKckeMAsAGkv4kqZ/7GsD33En9c5LGusLAta5zB0q6TFIvSS9JMo8LfJTn7LQ1mRAAfGYlAoBPYHWKc0EPzxAL0REgH6NjmUdLxD+PUcPnohBgfBYl0pH209Y5W1MBYOfbyvvvOUUf/+p1UawAiDQ4eTNmazIhAPjMRAQAn8AQAMIDw0KsBLjBjBVv5o0T/8yHCAcLTIDxWeDgB++6rXM2BIDgORG4pq3JhADgMyUQAHwCQwAIDwwLsRLgBjNWvJk3TvwzHyIcLDABxmeBgx+867bO2RAAgudE4Jq2JhMCgM+UQADwCQwBIDwwLMRKgBvMWPFm3jjxz3yIcLDABBifBQ5+8K7bOmdrKgAMv+2YmjJPfPVaHgEInkelmrYmEwKAz8RAAPAJDAEgPDAsxEqAG8xY8WbeOPHPfIhwsMAEGJ8FDn7wrts6Z0MACJ4TgWvamkwIAD5TAgHAJzAEgPDAsBArAW4wY8WbeePEP/MhwsECE2B8Fjj4wbtu65ytqQAw7A/frSnz5Nd+xQqA4HlUqmlrMiEA+EwMBACfwBAAwgPDQqwEuMGMFW/mjRP/zIcIBwtMgPFZ4OAH77qtczYEgOA5EbimrcmEAOAzJRAAfAJDAAgPDAuxEuAGM1a8mTdO/DMfIhwsMAHGZ4GDH7zrts7ZmgoAQ289tqbMU1//JSsAgudRqaatyVRXANjyxKsquP59xfGlz5uO9b577WznOz/HnqMuqRR/8J5TW6o6epMTK+XGvXFFwzq7fOny0u+zdu5RKTf1pBO61Nng5osq3/3n26d3+X3HrzvtTLrVa7uZs6OGnFYpcs/LF3cpvtsBl5W+e+TvJ1d+23eX8yuf73vsrNLnHb/h9fH9rZyUe+O0rn0w34/azLF1zxTHdvWx2Z/Pq/zvlIPPaej+0G9fWfr9qZvrt1OuvOFPPN+m/bgxmx0Oc2w+/dv6Nvc973rde/aRpTJfOeRqzZ49V/dPdGKxz+4XVPyd+PCZXXwf9cAPKt+9d8sGpc/P3NjY94YAOv1Yj8fun7+0Uurhu0/xYy6VsvvsdaHH8IEzKp83udSJyxun+OfVLMdb7eh+O4+tFL338bNbrRao3N77OGP9zQP7VOpP+1HX3A1ygzn4dq8fr38lmn6Uzz3GWT/nH79wtjjdO5dPvsj/udxve62U3+Aa5/z9n++d1LD4hj+rOg8PerlfAAAgAElEQVT9sGsstzzB6du/r2y9X63Gf9ujnfFjjueu8z+GWuGQVpkRQ73rxISnvOtHEv4MPdTjOncD71br1bGtxzAKPzc/yxsXr54fru3yNSMP14so2MVpo9XxGacP2G6NwBce9paf37X7r1qrVFVqu6Occ8Gz14c+v9o6Z2vEtKPPWiu3IQD4TrumFWxNJgSATqFHAKg/FhAAHC55uKFDAHBihQBQfywjANRyaXWCgQDQ9D4pUAEEgEDYClOp1fFZGCAZ7igCQKrBKQkA2//v92qceOYb17ACIGRYEABYAdBtCjX76ygrAGrRsQIg5NmoSXUEAASARimCAIAA0Dk/WAEgsQIg3utSUOsIAEHJJV8PASB55lUtIgDEhB8BAAEAAcAlwCMAMZ1lIjKLAIAAgADQ+hLuVicYrACI6ATVyQwrAOLhaovVVsenLf3Ncz8QAFKNHgJATPgRABAAEAAQAHgEwOw7UWefi1bPu+wB0D0p9gBgD4BWx1HU5VgBwAqAqHMqKnsIAFGRjN8OAkD8jBu00NF7rQFt2/++0yMA37xGi2fPnS6pPYR3K0q6TdIQSQskvSvJbPjweh2b+0sym/X0lPSipMMkzQnRdupVEQAQABAAEAAQABAASqOATQCjvSazCWC0PP1aQwBAAPCbM0mVRwBIinT4dhAAwjMMYSFuAWAfSf+UtFzScZIOlrRXJ39XNvtMS9pT0mRJV7uCQePdfUN0OomqCAAIAAgACAAIAAgACAAxXHERAGKA6sMkAgACgI90SbQoAkCiuEM1hgAQCl/Yyh291xzQtu3vzdzcO5775tVa/H7oFQCdfRsq6c+SNuz0wxhJh0sa7X5vVgyMD7n6ICyX0PURABAAEAAQABAAEAAQAEJfTrsaQACIAaoPkwgACAA+0iXRoggAieIO1RgCQCh8YSs3EgCWmrekN2jA7+MBt0j6QNIPO9k072/cTNLR7vf9Jc2V1FfSkrAdTKs+AgACAAIAAgACAAIAAkAMV2EEgBig+jCJAIAA4CNdEi2KAJAo7lCNIQCEwhe2ckkA2OaW2hUAz3+rtAIgSgHgdEkHSNpX0nwEgLBhS69+h6S29Jqn5SIS4IJexKhnt8/kY3Zjk4RnxD8Jyna1scmlV5Y69MYp5g9eHHESYHzGSdda27b+0bZRwBoJAGE3ASy3e6Kkr0raT9KHdZzhEYAcDSkEgBwFyxZXuaDbEkk7+kE+2hHHoL0g/kHJFbceAkBysWd8JsfaopYQANxguisAohAAzLt1v+FO/v/bTa4McDcB3KNqE8CFkoxwkNvD1mRCAMhtSubXcS7o+Y2djZ6TjzZGtfU+Ef/WWVHSIYAAkFwmMD6TY21RS7bO2RqFqLQCYOtbvl9T5sVv/SKKTQDNHgFvS5rqPtNv2lgkabiksZJmSLrWbfhASZdJ6iXpJUmHSvooz7llazIhAOQ5K3PqOxf0nAbOUrfJR0sD22K3iH+LoChWIYAAkFwyMD6TY21RS7bO2dISACxKDf9dsTWZEAD85wI1QhLggh4SINUjJUA+Roozd8aIf+5ClrrDCADJhYDxmRxri1qydc7WVADY6uYf1JR56ds/j2IFgEWp4b8rtiYTAoD/XKBGSAJc0EMCpHqkBMjHSHHmzhjxz13IUncYASC5EDA+k2NtUUu2ztkQAFJIUluTCQEghWQqepNc0IueAdnqP/mYrXgk7Q3xT5p4/ttDAEguhozP5Fhb1JKtc7amAsCQ3/2wpszLh/6MFQAhE9vWZEIACJkYVPdPgAu6f2bUiI8A+Rgf2zxYJv55iFK2fEQASC4ejM/kWFvUkq1zNgSAFJLU1mRCAEghmYreJBf0omdAtvpPPmYrHkl7Q/yTJp7/9hAAkosh4zM51ha1ZOucrakA8Onf1q4AeOUwVgCEzWtbkwkBIGxmUN83AS7ovpFRIUYC5GOMcHNgmvhnJ0jbHHtlxZnnf3lCIo7ts9eFpXYmPnBGy+0N++YVpbJP/j6611vvvfdFJZv33396y37kueDQbzuxfurmxnFmfOY5yqn5buucDQEghZSyNZkQAFJIpqI3yQW96BmQrf6Tj9mKR9LeEP+kiXffHgIAAkDn7GB8Zmd85sgTW+dsCAApJKGtyYQAkEIyFb1JLuhFz4Bs9Z98zFY8kvaG+CdNHAGgHgFWANTPC8ZndsZnjjyxdc7WUADoteaAtk//5kc1ZV75zk+15P250yW15yh+mXLV1mRCAMhUmhXDGS7oxYhzXnpJPuYlUvH4Sfzj4RrEKisAWAHACoAgI4c6nQjYOmdDAEgh1W1NJgSAFJKp6E1yw130DMhW/8nHbMUjaW+If9LEWQHACgCJPQCyM+4s9MTWOVtTAWCLm35cU2by//yEFQAhE9zWZEIACJkYVPdPgBtu/8yoER8B8jE+tnmwTPyzEyVWALACgBUA2RmPOfbE1jkbAkAKSWlrMiEApJBMRW+SG+6iZ0C2+k8+ZiseSXtD/JMmzgoAVgCwAiA7o85KT2ydszUVADa78fiaMlMOv4oVACFT3NZkQgAImRhU90+AG27/zKgRHwHyMT62ebBM/LMTJVYAsAKAFQDZGY859sTWORsCQApJaWsyIQCkkExFb5Ib7qJnQLb6Tz5mKx5Je0P8kybOCgBWALACIDujzkpPbJ2zIQCkkK62JhMCQArJVPQmueEuegZkq//kY7bikbQ3zeK/56hLSi49eM+pDV3b4TtXVn5/+jcnJN2NQrVXzXpem3d79uoFtctf44JSbp84x0XYs9tsfMbvAS3kkICtc7amAsCmv649B752BI8AhM1fW5MJASBsZlDfNwEu6L6RUSFGAuRjjHBzYLpZ/BEAshdEBIDsxSQuj5qNz7jaxW6uCdg6Z0MASCEtbU0mBIAUkqnoTXJBL3oGZKv/5GO24pG0N83ijwCQdESat4cA0JyRLSWajU9b+kk/IiVg65ytsQCwxoC2wb+uXX32+hFXaskHc6dLao+UcIGM2ZpMCAAFSuKsdJULelYigR+GAPlY7DxoFn8EgOzlBwJA9mISl0fNxmdc7WI31wRsnbMhAKSQlrYmEwJACslU9Ca5oBc9A7LVf/IxW/FI2ptm8UcASDoizdtDAGjOyJYSzcanLf2kH5ESsHXO1kQAWKVtkxtqVwC8caRZATCHFQAh0svWZEIACJEUVA1GgAt6MG7UiocA+RgP17xYbRZ/BIDsRRIBIHsxicujZuMzrnaxm2sCts7ZEABSSEtbkwkBIIVkKnqTXNCLngHZ6j/5mK14JO1Ns/gjACQdkebtIQA0Z2RLiWbj05Z+0o9ICdg6Z2sqAGzcaQXAVFYAhE4sW5MJASB0amDALwEu6H6JUT5OAuRjnHSzb7tZ/BEAshdDBIDsxSQuj5qNz7jaxW6uCdg6Z0MASCEtbU0mBIAUkqnoTXJBL3oGZKv/5GO24pG0N83ijwCQdESat4cA0JyRLSWajU9b+kk/IiVg65wNASDSNGnNmK3JhADQWvwpFSEBLugRwsRUaALkY2iEuTbQLP4IANkLLwJA9mISl0fNxmdc7WI31wRsnbM1FQA2uv7EmjJvHnUFmwCGTGVbk6llAWCzc66qIJxy3vEhcVI9zwQGX3hlxf3Xz6jdcbSVfnFBb4VSdsts/IcLSs5N/dqZkTm56Vjn/PLa2cmfW8jHyMKYS0PV8d/74hv0zpx5euWS1vJw1GYnV/p8z5TLctn/KJ2e2TGoYm5Q+8zK550Pvrz0+fE/nxRlc9gqAAHOz/EHeau7zio18tIXzo+/MbeFOO4jqpy3dc7WKD4dvdZYpQ0BIPoUtjWZEACizxXrLSIAWB/ihh2M48KNAFDsnEqz9wgA0dFHAIiOJZYcAggA8WcCAkD8jBNowREAruu0AuBoVgCEZY8AwAqAsDlkTX0EAGtCGagjCACBsFEpowQQAKILDAJAdCyxhACQVA4gACRFOtZ24hYAfi7pQEkbSNpO0nPd9GZ/SVdI6inpRUmHSZoTa89jNo4AgAAQc4rlxzwCQH5iFYenCABxUMVmWgQQAKIjjwAQHUssIQAklQMIAEmRjrWdjp5mBcC1tY9ZvXnM5Vr6wZzpktpDtr6HefJT0iOSDupGAFhZ0huS9pQ0WdLVkhZIyvWzXwgACAAhx4491REA7IllkJ4gAAShRp2sEkAAiC4yCADRscQSAkBSOYAAkBTpWNuJWwAoOz+tgQAwRtLhkka7hYdIGh+B+BAruGbGEQAQAJrlSGF+RwAoTKjrdhQBoNjxt633CADRRRQBIDqWWEIASCoHEACSIh1rO40EgKWSZjVo3c/qgEYCgNkVfDNJR7tt9Zc0V1JfSUti7X2MxhEAEABiTK98mUYAyFe8ovYWASBqothLkwACQHT0EQCiY4klBICkcgABICnSsbZTEgA2/FXtavtp3y09AoAAEAI9AgACQIj0sasqAsD/s/ce4HNV1fr/5w/BIC1SLpZEqiGIomASmhCKNBWxwbULSLNwRSFAqELoLeoVFawQvdiu5f5sFEmiiEpUQAFBIEhJIAIqCQpEiP6fPbNnvjOTb2ZO2WfOPuu853l8DPPdZe13vWf2Xu+svbctf6YdjQSAtIipfMwISAAI5x0JAOGwVEsSAIbFAQkAw0K60H76CQAhzgCYCFwBTAX+CLwNuL1nRG4LgLtL0v3avwrwEPBSd5lHoSMvuHEJABIACqZYdZqXAFAdXxVhqQSAIlBVm2UhIAEgHPISAMJhqZYkAAyLAxIAhoV0of00BICNP3N8Vyf3f/CCUIcAzgFmA6f7w/2cAODEgM7H3RLwHWA74CbgVz79390aUNmn9gJAZT0nw6NDQPf6RueSWhskPtba/bpnPKD7r7vXbf9sPq/Z7K6ALaupuiKg7+e6ej7XuK3GbP1AKVIA2BBYCDwCvAD4C7A+sCXwXv9L/6XAdGAvf1XgGOBBYDKwTi5vllzZKpmcQyudmlEyL9R9BgQ0oWcATVUKQ0B8LAzaSjQs/4dzkwSAcFiqpSYCej/FhAwIWI3ZBgsAnz6hq8z9Hzo/xBkALoi/EpjU0fh8YAbgMgNaz+7AF4GdgD8DFwHHeLHgrxn8GEUVq2SSABAFveplhCb0evk79tGKj7F7qFj75P9w+EoACIelWpIAIA5kRsBqzBa7AODs+yDwPsAdPPhd4FxgHLA0szdLrmiVTBIASiZWHbvXgruOXo93zOJjvL4ZhmXyfziUJQCEw1ItSQAQBzIjYDVmGygAbHRJdwbAA0c1MgDyHgLotgDcA6znD/hz+D4M7Ow/X5ldOwDfAl6c2ZMRVLRKJgkAEZCrbiZowV03j8c9XvExbv8UbZ38Hw5hCQDhsFRLEgDEgcwIWI3ZyhIAXL83egHg3/6E/6eBl49i0FnAW4Bn/FkAX/BnA2R2ZtkVrZJJAkDZzKph/1pw19DpEQ9ZfIzYOUMwTf4PB7IEgHBYqiUJAOJAZgSsxmxlCgDuRP8NgH8BqwJPeQFgZschgNsA7myABYA7BPB3wEb+VoDMziy7olUySQAom1k17F8L7ho6PeIhi48RO2cIpsn/4UCWABAOS7UkAUAcyIyA1ZitvwCw7jrjR90C8LehbQF4JfBjwF375w4BPArYw2cEZHZm2RWtkkkCQNnMqmH/WnDX0OkRD1l8jNg5QzBN/g8HsgSAcFiqJQkA4kBmBKzGbFkFAHcg3+I+lScMQDrpLQCumeOAMwB36v8yYBrgziCo7GOVTBIAKkvJ6hquBXd1fWfRcvHRoleTj0n+T47VoJISAAYhpL+nRUDvZ1rEVB6wGrMNFABe/Cl3M9/I8+B/ncfyvy0dlgCwqb8u8K1+W4DLAHi7PyywssS0SqbEAsAeu53ddt6ceSdH68ip73bXTjafpZus0vj/P57lrqHUkweB3V7jbvJoPvOuOzFPU5nu9X31NU5UhBv2vrDd96RTZjX+PWbq39qf3f7GM9v/nnzIxY1///bLx+ayt8qV991sZOxX3dvEo4gny/fD9u8YeVdv/Nr0Fcza5simvWs+4uau5nPDd49fodzLP9rkgXuWrefOp2k+697R/Pc/Xtj8Hmg8/pt8vX0ean9078FfY+FC91UIbz78szz6l7+z/P2Ptf/+q30uaPx7171G3oGfXpvvHVhhEBX/YNsjmr66+XP937XNzx/h4IITRsomrb9ZR/1NfuC2IMLiHdZoo/eHC9N/1+cJMHZ5/fntvte4+y/tf199V5MzVX5es7M7y6n5XPfzU3INZfu3N9/1G7++4nueq2Fgn61G3sWr/9B8R/fe9rR2s9fc7LaoFv/sNeVj7U6WbfDcxr9/dlX3YrzXit13P6f90dy5JxVvZM4eOvl+/Q+7TxvvbXrvrZucuebWER4l7X7j/x6ZG549/+Pt7+cJEyawaFHxPybusUvT5jnX5+P9Kz848n33u88kW4dMPHOkzt2nJqszGq4vPXFkXrzj3PTfi5uf17Fe2OTJRhcL3n7qCl1t/eGRfp77Opf13Xzm79v8btzo8pF584GD882bm13QtOne41fE5RVHzeKOL7sfnuGZfyyxGrP1e4UWrrruOuNXIgAM6xYA9wW/BXCEN3RN4O/AWOCfSd//2MpZJZMEgNiYFqk9EgAidcwAsyQASAAYBnOTBvASAIbhjTB9SABIh6MEgG68JACABAAJAOm+RXKVbgoA/92TAfDhRgZAXgHAGTYPuNz/7wDAdTSlx2J3+r/7FW57H/i/DXAK7KRcIyu5sgQAZQCUTMFyu5cAUC7+WXuXACABICt30tSTAADKAFg5Y5QBMDo2ygAYHRdlADRxUQZANz+UAdB3Vi5aANgb+Lb/Nd9d8fcu4Hs+wHcplZe6hCxgNjAOcCmY7rYAdyPAS9OsJ2IrKwFAAkBsnByqPRIAhgp3sM4kAEgACEamPg1JAJAA0I9nEgAkAKT5HpIAIAFgNL5IAChVAJjjg3uXBeAyANweoKkD3usfAHOB4vafpvliyVhWAoAEgIzUsVFNAkA1/SgBQALAMJgrAUACgAQAnQHQyQFtAdAWAMcHnQEwjBm40UcjA2DCJ7vPWVh49LkhtgBsCNwDrAc8609Tetgf7uc+H+15kf/1f2PgkaGhUEBHEgAkABRAq+o0KQGgOr7qtFQCgASAYTBXAoAEAAkAEgAkAHS/BToDQALAMOZf30c/AWBYtwB0DtedauquD3Q3AlT6kQAgAaDSBM5rvASAvAiWU18CgASAYTBPAoAEAAkAEgAkAEgAaCGgWwCGMfN29dEUAD7RkwHwkUYGwLAFABcz3w18GPjR0JEI3KEEAAkAgSlVreYkAFTLXy1rJQBIABgGcyUASACQACABQAKABAAJAMOYcUfto58AkPcWgLRbAHYDvgq49P+Re5xLgyZfxxIAJADkY1DFa0sAqKYDJQBIABgGcyUASACQACABQAKABAAJAMOYcfsJAC7zfuRZ+JFzQpwB4BpMcg1gq+OvAPcDp5SGRsCOay8ABMRSTdUcgfHjx7Nw4cIGChMmTGDRIidO6hEC5SAgPpaDeyy9jub/HQ+8sG3eL791XCymNuzYd5OPtu256r6Pp7Zt340+0qhz1QOf6Ft3+3dc1P77jV+b3rfsLq87v/H363/kDoZO9+zy+mbdRv0f9q+/9dGzGuVu/eQxo3bysunNv6/2d3cDVfO55dJjExm01XHNuu75w4Uj7W92YfMA63uPS9ZOZ2et2w/cZzd+vT+GrXq77NeBxw/S4zlosHvsclajyJzr06/NX/W+kcO8b/pSMjy2e+cIj+ZfOYLBVsc38f7DBSv68qUnjvhi6eyLtV4Y5FT9vRcBqzFbP0/7DIDCBIBJgLsBYH1gKXCI+yruuQbQ2eeuAHTXAm7tvjYtUNMqmVwUNt6CgzSG6iCggKs6vqqDpeJjHby88jFKABgdGwkATVwkAIzwQwJAvb8rKzR6qzFbmQLAROAKYANgCXAwcPsoBm0EfBrYwqf/fxb4VIW4s4KpVskkAaDKrKyo7Qq4Kuo4o2aLj0Ydm3BYEgAkADgElAEw+IWRADAYI5WIAgGrMdtgAeDjPRkAHw22BWAOMNtnARwAuPSkqT0GOdx/A5wHfMv/7fnAn6NgRUYjrJJJAkBGQqhadgQUcGXHTjXDIyA+hse0Si1KAJAAIAEg2RsrASAZTipVOgJWY7ayBICkhwDu6bcE7FQ6AwIaYJVMEgACkkRNJUNAAVcynFRqOAiIj8PBOdZeJABIAJAAkOztlACQDCeVKh0BqzHbYAFgVk8GwDGNDIBhXQPorv17DfAU4M4MuA9wh4VU+iwAq2SSAFD691T9DFDAVT+fxzxi8TFm7xRvmwQACQASAJK9ZxIAkuGkUqUjYDVmi10AcCd6ngHs4M8HeD9wGDCldEbkMMAqmSQA5CCFqmZDQAFXNtxUqxgExMdicK1KqxIAJABIAEj2tkoASIaTSpWOgNWYbbAAcPHJXWUWHnt2iGsAk24BcGcDuCyAad6INYEngLHAM6WzIqMBVskkASAjIVQtOwIKuLJjp5rhERAfw2NapRYlAEgAkACQ7I2VAJAMJ5UqHQGrMVtZAoDrd54/ANBdBegC/Rmj/LLvAn53NeAugLvf+0DgdOBlpTMihwFWySQBIAcpVDUbAgq4suGmWsUgID4Wg2tVWpUAIAFAAkCyt1UCQDKcVKp0BKzGbAMFgPEXdWcALJoeJAPA9ev29Lvgf31gKXCID/ZnAg8Bl3rj9gYuAJwP3HWBH/LlSidFVgOskkkCQFZGdNTbZ6sT2/919R/ODdDi6E286tCL23+46YvuXI1qPgq4quk3q1aLj1Y92xzX3luf0h7gNbeetcJg5X/b/tfoqoPAxpdc2DD2/qOOaxut97M6/ovIUqsxW5kCQETuHa4pVskkASAAjyQApANRE3o6vFS6WATEx2LxLbt1CQBle0D9C4FkCEgASIaTSg1EwGrMVqYAMBG4AtjA/7J/sD/or9OmTYAFPb/4v9V/NtBpsRawSiYJAAEYJwEgHYgKuNLhpdLFIiA+Fotv2a1LACjbA+pfCCRDQAJAMpxUaiACVmO2wQLAhT1bAI4LtgVgDjDbbwNwZwCcAEztMcgJALcAzxvooQoVsEomCQABSCgBIB2ICrjS4aXSxSIgPhaLb9mtSwAo2wPqXwgkQ0ACQDKcVGogAlZjtrIEgKS3AEgAGEjNeApIAAjgCwkA6UBUwJUOL5UuFgHxsVh8y25dAkDZHlD/QiAZAhIAkuGkUgMRqKcA8Lxx48ePlgHw+JLlwOI+qE0YgOhk4Ep/EGCr6Hx/E4DLDGg9TgC4G/i9PwTwe8DZgOu/so9VMkkACEBJCQDpQFTAlQ4vlS4WAfGxWHzLbl0CQNkeUP9CIBkCEgCS4aRSAxGwGrP1G/jCVcsXAMYC44BHgPWAbwDX+lsBBjot1gJWySQBIADjJACkA1EBVzq8VLpYBMTHYvEtu3UJAGV7QP0LgWQISABIhpNKDUTAasw2UACYcEH3GQALjz+b5Y8vWQQM+pW/X9tJtwD0tvEO4J3AGwZ6LOICVskkASAA6SQApANRAVc6vFS6WATEx2LxLbt1CQBle0D9C4FkCEgASIaTSg1EwGrMVpYA4Pqd5w8AvBxwhwDOAKb0GOSEgr8BzwAuG+CrwB3AaQM9FnEBq2SSABCAdBIA0oGogCsdXipdLALiY7H4lt26BICyPaD+hUAyBCQAJMNJpQYiYDVmK1MAmOQFgPWBpcAh/rq/mcBDwKXAWwD3327P/xjAnQ8wHVg20GMRF7BKJgkAEZPOqmkKuKx6tprjEh+r6bdQVsv/oZBUO0IgHwITz7y40cDdpx7bbkjvZz5Ma1rbasw2WAA4v2cLwAlBtgDUlEbNYVslkwSAWtO6nMFrQi8Hd/U6OgLiY72ZIf/X2/8afTwISACIxxcVt8RqzCYBoARiWiWTBIASyFT3LrXgrjsD4hq/+BiXP4Ztjfw/bMTVnxAYHQEJAGJGIASsxmyDBYDzTukqs3DGWSEOAQzklmo2Y5VMEgCqycdKW60Fd6XdZ8548dGcS1MNSP5PBZcKC4HCEJAAUBi0dWvYasxWpgAwEbgC2ABYAhwM3N7HIHdY4EHAusDjVSagVTJJAKgyKytquxbcFXWcUbPFR6OOTTgs+T8hUComBApGQAJAwQDXp3mrMdtgAeDcngyAE4NlALgD/Wb7gwDdLQAnAFNXYpA7DPC1wGESAOJ96SQAxOsbs5ZpwW3WtZUcmPhYSbcFM1r+DwalGhICuRCQAJALPlUeQUACgMdiYRgBwF3vdw+wHvCsPxfvYWBn/3kn954P/BDY3d8WoAyASN9MCQCROsayWVpwW/Zu9cYmPlbPZyEtlv9Doqm2hEB2BCQAZMdONbsQqK8AcE5PBsBJjQwAdy3f4j4cmTCAP5OBKwF3FWDrmQ/M8Ff9dVb/f8An/Of/VgZAvG+mBIB4fWPWMi24zbq2kgMTHyvptmBGy//BoFRDQiAXAhIAcsGnyiMISADwWCwcrgDgUv63AY7y3UsAiPitlAAQsXOsmqYFt1XPVnNc4mM1/RbKavk/FJJqRwjkQ0ACQD78VLuNgASAbgFgETDoV/5+9Em6BeB/gGmAyzhwz8bAg8AbgZuryk+rZJIAUFVGVthuLbgr7DyDpofi415TPtZG59rfnGEQKZtDGs3/u7z+/PZgr/+hO+to8LP3tqe1C11z88zBFQyV2OE/L2yM5lffPK7UUb36zRc0+r/hu8e37djhbRc1bfvG9PZnrXK9ZUczfvPzLm58vGDGsaWOrQ6dT5w5qzHMu087pj3cUN/PdcBPY2wjYDVm6+fihas+b9z4CWf3bAE4OdghgPP8AYDudH93CKBL/58ygHPKAIj4pZQAELFzrJqmCd2qZ6s5rlB8lABgx/8SANL5UgJAOrxUenQEJACIGYEQkADggQDLLssAACAASURBVFwYTgBw+/9d8L++P9zvEOBWwKndDwGXjuI7CQCBCF1EMxIAikBVbfZFIFTAJZiFQAgEQvFRAkAIbwy/DWUA5MdcAkB+DNUCSAAQCwIhUF8B4KxTuyBceMqZ7hDAvFsAArmlms1YJZMEgGrysdJWhwq4Kg2CjI8GgVB8lAAQjUtTGSIBIBVcoxaWAJAfQ7UgAUAcCIaA1ZitH0DNLQASAIKRqNWQVTJJAAhOFTU4CIFQAdegfvR3IZAEgVB8lACQBO34ykgAyO8TCQD5MVQLEgDEgWAIWI3ZBgoALz6zOwPgwVOVAZCXVVbJJAEgLzNUPzUCoQKu1B2rghAYBYFQfJQAUE16SQDI7zcJAPkxVAsSAMSBYAhYjdkkAASjSPKGrJJJAkByDqhkIARCBVyBzFEzNUcgFB8lAFSTSBIA8vtNAkB+DNWCBABxIBgCVmM2CQDBKJK8IatkkgCQnAMqGQiBUAFXIHPUTM0RCMVHCQDVJJIEgPx+kwCQH0O1IAFAHAiGgNWYrb8AMG7c+FG3ACzRIYB5mGWVTBIA8rBCdTMhECrgytS5KgmBHgRC8VECQDWpJQEgv98kAOTHUC1IABAHgiFgNWaTABCMIskbskomCQDJOaCSgRAIFXAFMkfN1BwB8bHeBJD/w/n/1W++oN3YDd89PlzDvqWp77mo8a9ff2V68LZX1uBGlzXH9MCR4ccTahDbv72Ji3tu/PpwsHnV+y5u93nTl44NNZQV2tH7WRi0lhu2GrOVKQBMBK4ANgCWAAcDt/cYtCnwv8CqwBjgDuAI4G9VJptVMkkAqDIrK2q7JvSKOs6o2eKjUccmHJb8nxCoBMUkACQAqYAiEgAKAFVNVhkBqzFbmQLAHGA2cDlwAHACMLXHoLHAKsBT/vNP+v8/WmSKDwEJAPH5xLxFWnCbd3GlBig+VspdwY2V/8NBKgEgHJZpWpIAkAYtla0BArUVADaa2X0N4AOnncny/GcAbAjcA6wHPAs4fB8Gdvafj0YplwVwGfB34CNV5pxVMkkAqDIrK2q7FtwVdZxRs8VHo45NOCz5PyFQCYpJAEgAUgFFJAAUAKqarDICVmO2fj5ZuOq4ceNXIgAsBxb3qTxhgLMnA1cCkzrKzQdmAC4zoPN5DuD+tjHwe2B/v2WgsnyySiYJAJWlZHUN14K7ur6zaLn4aNGrycck/yfHalBJCQCDECrm7xIAisFVrVYWAasx22AB4IzTuso88LGZLgNgmAJAq38nBHwKWACMHA5TQUpZJZMEgAqSseoma8FddQ/asl98tOXPtKOR/9MitvLyEgDCYZmmJQkAadBS2RogYDVmyyoALAIG/crfr+0sWwBcezsAnwe2rjLnrJJJAkCVWVlR27XgrqjjjJotPhp1bMJhyf8JgUpQTAJAApAKKCIBoABQ1WSVEbAas5UlALh+5/kDAFuHALr0/yk9Brm0/0eBJ/1hgBcCLwDeJTLFh4AEgPh8Yt4iLbjNu7hSAxQfK+Wu4MbK/+EglQAQDss0LUkASIOWytYAgfoKAKf3bAE4vbEFIG8GgKOM2//vgv/1gaXAIcCtwEzgIeBS4A3A2Z5f7jaAm4CPAn+pMueskkkCQJVZWVHbteCuqOOMmi0+GnVswmHJ/wmBSlBMAkACkAooIgGgAFDVZJURsBqz9fNJ8xDA4gSAKvMhl+1WySQBIBctVDkLAlpwZ0FNdYpCQHwsCtlqtCv/V8NPZVm58VfOaXR9/3tOKsuEWver97PW7s86eKsx22AB4GM9GQBnBMsAyOqLytezSiYJAJWnZvUGoAm9ej6zbLH4aNm7g8cm/w/GqM4lJACU6329n+XiX9HercZsEgBKIKRVMkkAKIFMde9SE3rdGRDX+MXHuPwxbGvk/2EjXq3+JACU6y+9n+XiX9HercZsAwWAjU/rzgC4f6YyAPJy2CqZJADkZYbqp0ZAE3pqyFShQATExwLBrUDT8n8FnFSiiRIASgQf0PtZLv4V7d1qzCYBoARCWiWTBIASyFT3LjWh150BcY1ffIzLH8O2Rv4fNuLV6k8CQLn+0vtZLv4V7d1qzCYBoARCWiWTBIASyFT3LjWh150BcY1ffIzLH8O2Rv4fNuLV6k8CQLn+0vtZLv4V7d1qzDZYADi1ZwvAmdoCkJfDVskkASAvM1Q/NQKa0FNDpgoFIiA+FghuBZqW/yvgpBJNlABQIvjaAlAu+NXt3WrMJgGgBE5aJZMEgBLIVPcuteCuOwPiGr/4GJc/hm2N/D9sxKvVnwSAcv2l97Nc/Cvau9WYbbAAcEpPBsBZygDIy2GrZJIAkJcZqp8aAU3oqSFThQIREB8LBLcCTcv/FXBSiSZKACgRfGUAlAt+dXu3GrNJACiBk1bJJAGgBDINs8stT57V7u7Os48ZZtcr7UsL7ijcICM8AuJjvakg/9fb/xp93Ajo/YzbP5FaZzVmGygAbHJydwbAfWcrAyAvR62SSQJAXmZEXl8CQOQOknmlI6AFZukuKNUA+b9U+NW5EOiLgN5PESQDAlZjNgkAGciQt4pVMkkAyMuMyOtLAIjcQTKvdAS0wCzdBaUaIP+XCr86FwISAMSB0AhYjdn6CwDrjBu/yckf6ypz39lnsHzpkkXAhJwgTwSuADYAlgAHA7f3tLk18GlgQ+BZYD7wIeCpnH2XWt0qmSQAlEqr4juXAFA8xuqh2ggoAKy2//JaL//nRVD1hUBxCOj9LA5bwy1bjdnKFADmALOBy4EDgBOAqT0GOZHgucDvgVWBK4E7gNOrzDWrZJIAUGVWJrBdAkACkFSk1ghogVlr9yP/19v/Gn3cCOj9jNs/kVpnNWYrSwBwv+jfA6znf9l3+D4M7Ow/X5ld04GX+2yBSKky2CyrZJIAMNj3lS4hAaDS7pPxQ0BAC8whgBxxF/J/xM6RabVHQO9n7SmQBQCrMdtgAeCkni0A5zS2ACwHFvepPGh7wGT/a/6kjjZcev8MwGUGjPasCfwWOBH4bhYnxlLHKpkkAMTCsILskABQELBq1gwCWmCacWWmgcj/mWBTJSEwFAT0fg4FZmudWI3ZqiIAPAf4DnAv8OGqk8sqmSQAVJ2ZA+yXAGDcwRpebgS0wMwNYaUbkP8r7T4ZbxwBvZ/GHVzM8KzGbAMFgE1P7M4A+NO5QQ4BTLMFYDXgm8BjwBHAv4tx8fBatUomCQDD41ApPUkAKAV2dVohBLTArJCzCjBV/i8AVDUpBAIhoPczEJD1asZqzFaWAOD6necPAGwdAujS/6f0GDQG+AbwOHCYheDfjc8qmSQA1OtLMYrRakKPwg2VN2LLk2Y1xnDnOcfkGov4mAu+6Cu3eLIyrsj/0btQBtYYAb2fNXZ+9qFbjdkGCwAzejIAzguSAeD6dfv/XfC/PrAUOAS4FZgJPARcCrwL+Kq/BaD1y/8N/irA7N4suaZVMkkAKJlYdexeE3odvR5+zBIAwmNqsUUJABa9qjHVBQGtF+ri6aDjtBqzlSkABHVQlRqzSiYJAFVioRFbNaEbcWTJw5AAULIDKtK9BICKOEpmCoFRENB6QbTIgIDVmE0CQAYy5K1ilUwSAPIyQ/VTI6AJPTVkqjAKAhIARIskCEgASIKSygiBOBHQeiFOv0RuldWYra8AMGadceM3PaFnC8D5Z/Ds0iWLgEFX/UXu0vLMs0omCQDlcaq2PWtCr63rgw5cAkBQOM02JgHArGs1sBogoPVCDZwcfohWYzYJAOG5MrBFq2SSADDQ9SoQGgFN6KERrWd7EgDq6fe0o5YAkBYxlRcC8SCg9UI8vqiQJVZjtsECwPE9GQAXKAMgL2+tkkkCQF5mqH5qBDShp4ZMFUZBQAKAaJEEAQkASVBSGSEQJwJaL8Tpl8itshqzSQAogXhWySQBoAQy1b1LTeh1Z0CY8UsACIOj9VYkAFj3sMZnGQGtFyx7t7CxWY3ZBgsAx/VkAFyoDIC8LLNKJgkAeZmh+qkR0ISeGjJVUAaAOJARAQkAGYFTNSEQAQJaL0TghOqZYDVmkwBQAhetkkkCQAlkqnuXmtDrzoAw49/kkxc1Grrv6Om5GhQfc8EXfeVdXnd+28brf3TCCvbK/9G7UAbWGAG9nzV2fvahW43ZBgoAm03vzgC49yJlAGSnUbOmVTJJAMjLDNVPjYAm9NSQqcIoCEgAEC2SICABIAlKKiME4kRA64U4/RK5VVZjNgkAJRDPKpkkAJRAprp3qQm97gwIM34JAGFwtN6KBADrHtb4LCOg9YJl7xY2NqsxmwSAwiiz8oatkkkCQAlkqnuXmtDrzoAw45cAEAZH661IALDuYY3PMgJaL1j2bmFjsxqzSQAojDISAEqAVl3WDQFN6HXzeDHjlQBQDK7WWpUAYM2jGk+dENB6oU7eDjZWCQAeSp0BkJ9TVsmkDID83FALKRHQhJ4SMBUfFQEJACJGEgQkACRBSWWEQJwIaL0Qp18it8pqzDY4A+DYnkMAL9YhgHm5apVMEgDyMkP1UyOgCT01ZKowCgISAESLJAhIAEiCksoIgTgR0HohTr9EbpXVmE0CQAnEs0omCQAlkKnuXWpCrzsDwoxfAkAYHK23IgHAuoc1PssIaL1g2buFjc1qzNZfAFh73PjNezIAFrgMgCeWLAImFIa28YatkkkCgHHixjg8TegxeqV6NkkAqJ7PyrBYAkAZqKtPIRAGAa0XwuBYs1asxmwSAEogslUySQAogUx171ITet0ZEGb8m59/caOhBSccm6tB8TEXfNFXnrbveW0bf3bVjBXslf+jd6EMrDECej9r7PzsQ7cas0kAyM6JzDWtkkkCQGZKqGJWBDShZ0VO9ToRkAAgPiRBQAJAEpRURgjEiYDWC3H6JXKrrMZsgwWAY7oPAVwwS1sA8nLVKpkkAORlhuqnRkATemrIVGEUBCQAiBZJEJAAkAQllRECcSKg9UKcfoncKqsxmwSAEohnlUwSAEogU9271IRedwaEGb8EgDA4Wm9FAoB1D2t8lhHQesGydwsbm9WYbbAA8NGeDICPKwMgL8uskkkCQF5mqH5qBDShp4ZMFZQBIA5kREACQEbgVE0IRICA1gsROKF6JliN2SQAlMBFq2SSAFACmerepSb0ujMgzPiVARAGR+utSACw7mGNzzICWi9Y9m5hY7Masw0UAF7yke4MgHs+oQyAvCyzSiYJAHmZofqpEdCEnhoyVVAGgDiQEQEJABmBUzUhEAECWi9E4ITqmWA1ZpMAUAIXrZJJAkAJZKp7l5rQ686AMONXBkAYHK23IgHAuoc1PssIaL1g2buFjc1qzCYBoDDKrLxhq2SSAFACmerepSb0ujMgzPglAITB0XorEgCse1jjs4yA1guWvVvY2KzGbIMFgKN7tgB8UlsA8rLMKpkkAORlhuqnRkATemrIVGEUBDY/7+LGpwtmHJsLH/ExF3zRV37Nzme1bbzu56esYK/8H70LZWCNEdD7WWPnZx+61ZhNAkB2TmSuaZVMEgAyU0IVsyKgCT0rcqrXiYAEAPEhCQISAJKgpDJCIE4EtF6I0y+RW2U1ZhsoAEz8cHcGwN3/HSwDYCJwBbABsAQ4GLi9x6C1gG8Dk4ExwPMi50ki86ySSQJAIverUEgENKGHRLO+bUkAqK/v04xcAkAatFRWCMSFgNYLcfmjItZYjdnKFADmALOBy4EDgBOAqT0GjQVeDfwVmCcBIO63RQJA3P4xaZ0mdJNuHfqgJAAMHfJKdigBoJJuk9FCoIGA1gsiQgYE6isA/FdPBsCngmQAbAjcA6wHPAs4fB8Gdvaf97poE+AWCQAZmDvEKhIAhgi2umoioAldTAiBgASAECjab0MCgH0fa4R2EdB6wa5vCxyZBAAP7t1NAWA5sLgP3hMG+MKl9F8JTOooNx+YAbjMAAkABZK5qKYlABSFrNpdKQKa0EWOEAhIAAiBov02JADY97FGaBcBrRfs+rbAkdVXADiqJwPgEgkAeXlmlUwSAPIyQ/VTI6AJPTVkqjAKAhIARIskCEgASIKSygiBOBHQeiFOv0RuldWYrR/sC8esPW78xNEFgEXAoF/5+7XttgDcC/y+4xDATYEdRtkCsB/wScBtA/g/f1jgUt/4e4DpwKrAn4FDgAci51Jjv4PFRwKARa9GPiZN6JE7qCLmSQCoiKNKNlMCQMkOUPdCIAcCWi/kAK++Va3GbGUJAK7fv/kT/g8DLgI+AKzZY5C7BWAB8E5f9qvAU8BxwJb+YMBt/fkB7wbeAbw+dppaJZMEgNiZZ9A+TegGnVrCkCQAlAB6BbuUAFBBp8lkIeAR0HpBVMiAgNWYbaAAsMWHurcA3PXpYIcAugyAW4H1AfeLvvuF32UAvBd4CLgUOBD4EvB34PnAI8DaXihwNwccAeztB+EOFHwM+A/gLxl8PLQqVskkAWBoFFJHLQQ0oYsLIRCYdMqsRjN/POuYXM2Jj7ngq3xl+b/yLtQADCOg99Owc4sbmtWYLasAMKxDAI8FtgCO9IauATwBuOsB3ZaBXwI7AXcBH/ZbBdwBgzcVR4X8LVslkwSA/NxQCykR0ISeEjAVHxUBCQAiRggE9H0UAkW1IQSKQUDvZzG4Gm/VaszWXwBYa9z4UTMA/j60WwD6CQDu+kCXBeDOABgD/NCLALv6swWipaRVMkkAiJZydg3ThG7Xt8McmQSAYaJtty99H9n1rUZWfQT0flbfhyWMwGrMllUACHEI4D2AS9t3gbzD92Fg555DAN0WgEOBfb2hWwHXrOQAwhcA9/k2nyyBI4m7tEomCQCJKaCCoRDQhB4KyXq3IwGg3v4PNXp9H4VCUu0IgfAI6P0Mj2kNWrQasw0WAD7YcwbAZ87g2b8vySsAuH5v9MH6v4FVgKeBl/cY5Pb7Pwj8FXDbDly51i/9rqhL+z/c/+3FwE+Bt8TOR6tkkgAQO/MM2qcJ3aBTSxiSBIASQDfYpb6PDDpVQzKDgN5PM64c5kCsxmxlCgC/8lcA/stf4+dO93cCwMyOQwDdLQAurnQCgCvnBIDvA0d78cAdCuhuCXBbANy+f5f+764YjPqxSiYJAFHTzqZxmtBt+nXYo5IAMGzEbfan7yObftWobCCg99OGH4c8CqsxW1kCgAvS824B2AD4E/Aq4G5gPy8euP+O+rFKJgkAUdPOpnGa0G36ddijkgAwbMRt9qfvI5t+1ahsIKD304YfhzwKqzHbQAFg0ge6twD88bONLQAx3ALgzg54l78u0GUIPBfYM/YDAB3gVskkAWDI30rqDjShiwUhEJAAEAJFtaHvI3FACMSLgN7PeH0TsWVWY7YqCwBrAtcCBwF3AG8APgG8FPhnxFySABCzc2RbtRDQhF4tf8VqrQSAWD1TLbv0fVQtf8naeiGg97Ne/g402voKAO/vyQC4NMghgCG2ALgrAI8A9u7w8aPATn5LQCDXh2/GKpmUARCeK2pxAAKa0EWREAhs9LnzG808cMQJuZoTH3PBF33lvbc+pW3jNbeetYK98n/0LpSBNUZA72eNnZ996FZjtn6ILByz1rjxk4oRAFy/84DL/f9cMD8DmNJjkLsFwB3yNw24E7jE3xYw3e/9vwp4BbAY2BH4EfBCXya7twuuaZVMEgAKJo6aXxEBTehiRQgEJACEQNF+GxIA7PtYI7SLgNYLdn1b4MisxmwDBYAtj+zOALjzsiAZAK5f98v9t4GxwDN+P//3em4BcOXcrQDuVxnng8eA7fzNAFsDP/Y3CbSuElwGrFMgD4I0bZVMEgCC0EONpEFAE3oatFR2ZQhIABA3kiAgASAJSiojBOJEQOuFOP0SuVVWY7YyBYA5wOyODAAX5E/tMchdA+gyANz1fq0MAHdd4HGjGO6yA5wQ8F+Rc0lnAMTuINlXHQQ0oVfHVzFbKgEgZu/EY5sEgHh8IUuEQFoEtF5Ii5jKGz64fbAAcERPBsDngmQAhDgDoNP21YGHgd2BW2JnrFU1SRkAsTPPoH2a0A06tYQhSQAoAfQKdikBoIJOk8lCwCOg9YKokAEBqzFbVgEglmsAW/a/EzgWmJzBt0OvYpVMEgCGTiV1qAldHAiBgASAECjab0MCgH0fa4R2EdB6wa5vCxyZ1ZjNigBwnT9P4DMFciBY01bJJAEgGEXUUFIENKEnRUrl+iEgAUD8SIKABIAkKKmMEIgTAa0X4vRL5FZZjdkGCwCH92wB+Hx0WwA2BW4DxgOPR86jhnlWySQBoArsM2ajJnRjDi1pOBIASgK+Yt1KAKiYw2SuEOhAQOsF0SEDAlZjtrIEANdv3msAW7afCTgR4N0Z/FpKFatkkgBQCp3q3akm9Hr7P9ToJQCEQtJ2OxIAbPtXo7ONgNYLtv1b0OisxmwDBYCX9mQA3BEmA8D1O8nfALA+sBQ4BLh1lGsA9wcuAMb4X/oPApZ4w1cB7gfeC8wtyPfBm7VKJgkAwamiBgchoAl9EEL6exIEJp06q1Hsj2cek6T4SsuIj7ngq3xl+b/yLtQADCOg99Owc4sbmtWYrUwBYCJwBbCBD+gPBm4fxaD9gIuAVb1A4Mo5wcA96wLu+j93feAzwPeBGcXRIEzLVskkASAMP9RKCgQ0oacAS0VXioAEAJEjBAL6PgqBotoQAsUgoPezGFyNt2o1ZhssABzWfQbAHV8IcgaA63cOMNtnARwAnOAD+U6b1gIWALsCd/pg/yngOF/ou8ANXiBwH70AWBw7F62SSQJA7MwzaJ8mdINOLWFIEgBKAN1gl/o+MuhUDckMAno/zbhymAOxGrOVJQBsCNwDrAc868/FexjY2X/esutA4FBgX//BVsA1wATgJT7tf2PgX8MkQ96+rJJJAkBeZqh+agQ0oaeGTBVGQUACgGgRAgF9H4VAUW0IgWIQ0PtZDK7GW7Uas2UVAJYP+KXdBej9nsnAlf4cgFa5+T5932UGtJ5jgS2AI/0HawBPAGOB1wEnAr8HpgB/8VkEN8fORatkkgAQO/MM2qcJ3aBTSxiSBIASQDfYpb6PDDpVQzKDgN5PM64c5kCsxmx9BYDV1ho3/qWH9mwB+OIZPPP3JTEIAO5wwG8Be/pMgNcCXwA28ecBDJMfqfqySiYJAKlooMIhENCEHgJFtSEBQBwIgYC+j0KgqDaEQDEI6P0sBlfjrVqN2bIKAIt8Gn5Wt4fYAuB+9f8OsFGHEY8CO/ZsI8hqY2H1rJJJAkBhlFHDK0NAE7q4EQIBCQAhUFQb+j4SB4RAvAjo/YzXNxFbZjVm6y8ArLmSDIB/LMkrALh+5/kDAC8H3CGA7vR+F9R3Pmv7QwCndRwC+DQw3Z8b4K4NfKffBrAd8CNgPLAsYi5hlUwSAGJmnVHbNKEbdeyQhyUBYMiAG+1O30dGHathmUBA76cJNw57EFZjtjIFgEleAFjfX+t3iL/mbybwEHCpN86l+l8AjAFuAw7y1wa6P7uzBD4DPNcH/U4Y+OmwyZG2P6tkkgCQlgkqnxsBTei5IVQD7jSaU2c1cPjjmcfkwkN8zAVf5SvL/5V3oQZgGAG9n4adW9zQrMZsgwWA9/WcAfClM3gmTAZAcd6KvGWrZJIAEDnxLJqnCd2iV4c/JgkAw8fcYo/6PrLoVY3JCgJ6P614cqjjsBqzlSkATASuADbwv+gfDNw+ikH7ARcBq/oMAVduqS/3b58V4A4ldM9/AdcPlRkZOrNKJgkAGcigKvkQ0ISeDz/VbiKw+bkXN/5/wYnu5pnsj/iYHbsq1HzNzme1zbzu56esYLL8XwUvysa6IqD3s66ezzVuqzHbQAFgq0O6MwD+8OVgGQDuur/ZfhuAOwPgBGBqj0Fr+TMAdu04A+Ap4LgOAWBd4PFc3h1yZatkkgAwZCKpO9CELhaEQEACQAgU7bchAcC+jzVCuwhovWDXtwWOzGrMVpYAEOIWAGe7ywCQAFAg8dM0LQEgDVoqGwQBTehBYKx9IxIAak+BRABIAEgEkwoJgSgR0HohSrfEbpQEAO8hnwHgUu4X93HahAEOdYf3XemOXuooN9/fBOAyA1qPS8fcAjjSf7AG8AQwFnjWCwC3AKsA1wGnAv8QmcpBQAJAObjXuldN6LV2f7DBSwAIBqXphiQAmHavBmccAa0XjDu4mOHVVwA4uGcLwOWNLQCxCAAbAQ8Aa/pbA5w48MFiKBCuVatkkgAQjiNqKSECmtATAqVifRGQACCCJEFAAkASlFRGCMSJgNYLcfolcqusxmz9YF+42prjxm81ugCwCBj0K3+/tkNtAejsY0fgc8DWkXMJq2SSABA78wzapwndoFNLGJIEgBJAr2CXEgAq6DSZLAQ8AloviAoZELAasw0UAF52UHcGwO1XBDsEcJ4/APBywB0COAOY0mPQ2v4QwGkdhwA+DUz3e/+XAU/6LQDuHuf1gPdm8O9Qq1glkwSAodJInTkENKGLByEQkAAQAkX7bUgAsO9jjdAuAlov2PVtgSOzGrOVKQC4/f8u+F/fX+t3iL/mbybwkE/pd/btD1wAjPFX/h3krw10v/hf5s8BcH+7CTga+GuBPAjStFUySQAIQg81kgYBTehp0FLZlSEgAUDcSIKABIAkKKmMEIgTAa0X4vRL5FZZjdkGCwDv7ckAmB0sAyBylxdnnlUySQAojjNqeSUIaEIXNUIgIAEgBIr225AAYN/HGqFdBLResOvbAkdmNWaTAFAgaVbWtFUySQAogUx171ITet0ZEGb8k051W8jgj2cek6tB8TEXfNFX3nsdl6nYfK5Z+uUV7JX/o3ehDKwxAno/a+z87EO3GrNJAMjOicw1rZJJAkBmSqhiVgQ0oWdFTvU6EZAAID4kQUACQBKUVEYIxImA1gtx+iVyq6zGbAMFgJe/p3sLwG1fCbYFYCJwBbCB39N/MHD7KAbtB1wErOrPCHDllvaUOwM4DdgWuCVyLukWgNgdJPuqg4Am9Or4KmZLJQDEeCRivwAAIABJREFU7J14bJMAEI8vZIkQSIuA1gtpEVN5MBuzlSkAzAFm+4MA3S0AJwBTewxay98CsGvHLQBPAcd1lNsOOB3YCniTBIDy3ldlAJSHfW171oReW9cHHbgEgKBwmm1MAoBZ12pgNUBA64UaODn8EOubAfDungyArwbJANgQuMdf2/esF1geBnb2n7c8eCBwKLCv/8AF+dcAE/x/rwG46wTfClwvASA88dO0KAEgDVoqGwQBTehBYKx9IxIAak+BRABIAEgEkwoJgSgR0HohSrfEbpQEAO+h25oCwHJgcR+ntQL0lRWZDFwJuKsAW898YAbgMgNaz7HAFsCRHQH/E8BYwAkHlwC/BdxhPPdJACj3NZIAUC7+texdE3ot3R580BIAgkNqskEJACbdqkHVBAGtF2ri6LDDrK8A8K6eDID/iUYA2B34MPAG72oJAGE5n7o1CQCpIVOFvAhoQs+LoOo7BCQAiAdJEJAAkAQllRECcSKg9UKcfoncKgkA3kG3NQWARR1p+FlcF2ILwLnAe4FnvAEu6+ARny3w/SxGDauOVTJJABgWg9RPGwFN6CJDCAQkAIRA0X4bEgDs+1gjtIuA1gt2fVvgyKzGbP0gW7jamuPGb/3O7gyAW68MIgC4ft3e/cs7DgF06f9Tegxa2x8COK3jEMCngemjGK4MgAJfgCRNSwBIgpLKBEVAE3pQOGvbmASA2ro+1cAlAKSCS4WFQFQIaL0QlTuqYowEAO+pgAKA2//vBID1/bV+h/hr/mYCDwGX+i73By4AxgC3AQf5awN7uSMBoOS3SQJAyQ6Isft9Xn5y26yrbzs7uIma0INDWssGX/rdptJ9x5vdlbLZH/ExO3ZVqPmScy5um3nPSe6Mou5H/q+CF2VjXRHQ+1lXz+catwSA8AJALodUubJVMkkAqDIrC7JdAkBBwKrZoAhIAAgKp9nGJACYda0GVgMEJADUwMnhh2g1ZuuH1MLV1ljJFoAnc58BEN5DFWrRKpkkAFSIhMMyVQLAsJBWP3kQkACQB7361JUAUB9fa6T2EJAAYM+nQxiR1ZhNAsAQyNPbhVUySQAogUyxdykBIHYPyT6HgAQA8SAJAhIAkqCkMkIgTgQkAMTpl8itshqzDRQAXvGO07rK/P5rM3lGGQC56GqVTBIActHCZmUJADb9am1UEgCsebSY8UgAKAZXtSoEhoGABIBhoGyuD6sxmwSAEqhqlUwSAEogU+xdSgCI3UOyTxkA4kBSBCQAJEVK5YRAfAhIAIjPJxWwyGrMNlgAeHtPBsDXlQGQl69WySQBIC8zDNaXAGDQqQaHpAwAg04tYEgSAAoAVU0KgSEhIAFgSEDb6sZqzCYBoASeWiWTBIASyBR7lxIAYveQ7FMGgDiQFAEJAEmRUjkhEB8CEgDi80kFLLIas5UpAEwErgA2AJYABwO3j2LQfsBFwKrArb7cUmBNYA6wuq/zMPB+4L7Y+WSVTBIAYmdeCfZJACgBdHWZGgFlAKSGrJYVJADU0u0atBEEJAAYceRwh2E1ZhsoALzybd1bAH73jWBbAFzwPhu4HDgAOAGY2mPQWsACYFfgTuAS4CngOGAVLwI84et8FNgNeONwqZG+N6tkkgCQnguqkRMBTeg5AVT1BgIbX3Jh4//vP8rNLdkf8TE7dlWoOenUWW0z/3jmMSuYLP9XwYuysa4I6P2sq+dzjdtqzFaWALAhcA+wHvAs4PB1v+Dv7D9v2XUgcCiwr/9gK+AaYEKP4a6+Uyq2Bd6Uy9NDqGyVTBIAhkAeddGNgCZ0MSIEAhIAQqBovw0JAPZ9rBHaRUDrBbu+LXBkVmO2wQLAf/ZkAHyzkQGwHFjcp3JvgN5bdDJwJTCp4w/zgRk+rb/18bHAFsCR/oM1APeL/1gvHLiPfwJsDTwK7AMsKpAHQZq2SiYJAEHooUbSIKAJPQ1aKrsyBCQAiBtJEJAAkAQllRECcSKg9UKcfoncKqsxmwUBwI3BbQc4GXgh8MHIudRId7D4SACw6NXIx6QJPXIHVcQ8CQAVcVTJZkoAKNkB6l4I5EBA64Uc4NW3qtWYbaAAsM2B3RkAt3wryBkAobcAuHG8ALgbWDt2mlolkwSA2Jln0D5N6AadWsKQJACUAHoFu5QAUEGnyWQh4BHQekFUyICA1ZitLAHA9TvPHwDYOgTQpf9P6THIBfPuEMBpHYcAPg1M9wH/MuBvvs7RwH8Cr87g36FWsUomCQBDpZE6cwhoQhcPQiAgASAEivbbkABg38caoV0EtF6w69sCR2Y1ZitTAHD7/13wvz7grvU7xF/zNxN4CLjUG7c/cAEwBrgNOMhfG7gdcJm/HtD5xwkF7iaAPxXIgyBNWyWTBIAg9FAjaRDQhJ4GLZVdGQISAMSNJAhIAEiCksoIgTgR0HohTr9EbpXVmG2wAHBAzxaA/w2yBSBydxdrnlUySQAoljdqfRQENKGLFiEQkAAQAkX7bUgAsO9jjdAuAlov2PVtgSOzGrNJACiQNCtr2iqZJACUQKa6d6kJve4MCDN+CQBhcLTeigQA6x7W+CwjoPWCZe8WNjarMdtAAWDbt3ZnANz8bWUA5GWZVTJJAMjLDNVPjYAm9NSQpaqw3Tsvapeff6U7e8Xm87ZfHN4Y2Dd2+nyuAYqPueCLvvLEMy9u23j3qe6a4u5H/o/ehTKwxgjo/ayx87MP3WrMJgEgOycy17RKJgkAmSmhilkR0ISeFblk9SQAJMOpVUp8TIdX1UpLAKiax2SvEBhBQN/PYkMGBKzGbIMFgLf0ZAB8RxkAGfjTVcUqmSQA5GWG6qdGQBN6ashSVZAAkAou3UqRDq7KlZYAUDmXyWAh0EZA6wWRIQMCVmM2CQAZyJC3ilUySQDIywzVT42AJvTUkKWqIAEgFVwSANLBVbnSEgAq5zIZLAQkAIgDeRCwGrP1FwCeO278q3oyAG5yGQBPLVkETMgDaJ3rWiWTBIA6s7qksUsAKBZ4CQDp8BUf0+FVtdISAKrmMdkrBEYQ0Pez2JABAasxmwSADGTIW8UqmSQA5GWG6qdGQBN6ashSVZAAkAouZQCkg6typSUAVM5lMlgIKANAHMiDgNWYTQJAHlZkrGuVTBIAMhJC1bIjIAEgO3ZJakoASIKSfmFKh1J1S0sAqK7vZLkQ0HpBHMiAgNWYbbAA8OZTu8rc9N0ztQUgA4E6q1glkwSAnMRQ9fQIaEJPj1maGhIA0qCFMgDSwVW50hIAKucyGSwE2ghovSAyZEDAaswmASADGfJWsUomCQB5maH6qRHQhJ4aslQVJACkgksCQDq4KldaAkDlXCaDhYAEAHEgDwJWY7a+AsBz3CGAb+rJAPjemfxThwDm4RJWySQBIBctVDkLAhIAsqCmOr0IbHT5uY2PHjj4xFzgiI+54Iu+8vZvv6ht441fn76CvfJ/9C6UgTVGQO9njZ2ffehWY7YyBYCJwBXABsAS4GDg9lEM2g9wk+6qwK2+3FLgRcCXgU2AZcDdwPuBR7O7eTg1rZJJAsBw+KNeOhDQhC46hEBAAkAIFO23IQHAvo81QrsIaL1g17cFjsxqzDZYAHhjTwbA/wXLAJgDzAYuBw4ATgCm9hi0FrAA2BW4E7gEeAo4Dng+4ESEn/s6FwL/4QWCAqmQv2mrZJIAkJ8baiElAprQUwKm4qMiIAFAxEiCgASAJCipjBCIEwGtF+L0S+RWWY3ZyhIANgTuAdYDnoVGVvzDwM7+85ZdBwKHAvv6D7YCrgEmjGK4ExGOAnaLnEvaAhC7g2RfdRDQhF4dX8VsqQSAmL0Tj20SAOLxhSwRAmkR0HohLWIq7wPUugGxsHEGwOgZAMuBxX0AGS1A7yw+GbgSmNTx4XxgBuAyA1rPscAWwJH+gzWAJ4CxXjholXPbA64D/g/4eOyOsqomKQMgduYZtE8TukGnljAkCQAlgF7BLiUAVNBpMlkIeAS0XhAVMiBgNWbrB0VDAJj8hu4tAL/9fmMLQEwCgPPNpYDLKngr8K8M/h1qFatkkgAwVBqpM4eAJnTxIAQCEgBCoGi/DQkA9n2sEdpFQOsFu74tcGRWY7asAsCilaThJ3VByC0AnwI2B94E/DOpAWWWs0omCQBlsqqmfWtCr6njAw9bAkBgQI02JwHAqGM1rFogoPVCLdwcepBWY7bBAsB+PRkAPwh2COA8fwBg6xBAl/4/pcegtf0hgNM6DgF8Gmhdv/Pf/iBAF/y7mwAq8VglkwSAStDPlpGa0G35s6zRSAAoC/lq9SsBoFr+krVCoBMBrRfEhwwIWI3ZyhQA3P5/F/yvD7hr/Q7x1/zNBB7yaf3Ovv2BC4AxwG3AQf7awFf7GwDc7QCt4P9PwJsz+HeoVaySSQLAUGmkzhwCmtDFgxAISAAIgaL9NiQA2PexRmgXAa0X7Pq2wJFZjdkGCgBTXt+dAfCbHwbLACjQXXE3bZVMEgDi5p1J6zShF+vWPXY7u93BnHknF9tZia2/7P+aE93tbzwzlxXiYy74oq+87WEXt228+QvukOLuR/6P3oUysMYI6P2ssfOzD91qzCYBIDsnMte0SiYJAJkpoYpZEdCEnhW5ZPUkACTDqVVKfEyHV9VKSwComsdkrxAYQUDfz2JDBgSsxmyDBYDXndJV5jc/OsvdApD3EMAMLrBTxSqZJADY4WhlRqIJvVhXSQBIh6/4mA6vqpWWAFA1j8leISABQBzIhYDVmE0CQC5aZKtslUwSALLxQbVyIKCAKwd4CapKAEgAUkcR8TEdXlUrLQGgah6TvUJAAoA4kAsBqzGbBIBctMhW2SqZJABk44Nq5UBAAVcO8BJUlQCQACQJAOlAqnBpCQAVdp5Mrz0CWi/UngJZALAas/UXAFYfN35qzxaAX7stAE9rC0AWErXqWCWTBIA8rFDdTAhoQs8EW+JKEgASQ9UoKD6mw6tqpSUAVM1jslcIjCCg72exIQMCVmM2CQAZyJC3ilUySQDIywzVT42AJvTUkKWqIAEgFVwSANLBVbnSEgAq5zIZLATaCGi9IDJkQMBqzDZYAHht9yGAv/6xMgAy8KerilUySQDIywzVT42AJvTUkKWqIAEgFVwSANLBVbnSEgAq5zIZLAQkAIgDeRCwGrNJAMjDiox1rZJJAkBGQqhadgQkAGTHLklNCQBJUBopIz6mw6tqpSUAVM1jslcI6PtZHMiFgNWYbaAAsN2+3RkA869SBkAuJgFWySQBIC8zVD81Agq4UkOmCqMgsNGXzmt8+sD7ZuTCR3zMBV/0lae++6K2jb/+6vQV7JX/o3ehDKwxAno/a+z87EO3GrNJAMjOicw1rZJJAkBmSqhiVgQ0oWdFTvU6EZAAID4kQUACQBKUVEYIxImA1gtx+iVyq6zGbBIASiCeVTJJACiBTHXvUhN63RkQZvwSAMLgaL0VCQDWPazxWUZA6wXL3i1sbFZjtsECwD4nd5WZf/XZugYwJ82skkkCQE5iqHp6BDShp8dMNVZEQAKAWJEEAQkASVBSGSEQJwJaL8Tpl8itshqzSQAogXhWySQBoAQy1b1LTeh1Z0CY8UsACIOj9VYkAFj3sMZnGQGtFyx7t7CxWY3ZBgoA2+/dnQFw4zXKAMjLMqtkkgCQlxmqnxoBTeipIVOFURCQACBaJEFAAkASlFRGCMSJgNYLcfolcqusxmwSAEognlUySQAogUx171ITet0ZEGb8EgDC4Gi9FQkA1j2s8VlGQOsFy94tbGxWY7bBAsBePRkA1yoDIC/LrJJJAkBeZqh+agQ0oaeGTBWUASAOZERAAkBG4FRNCESAgNYLETiheiZYjdkkAJTARatkkgBQApnq3qUm9LozIMz4lQEQBkfrrUgAsO5hjc8yAlovWPZuYWOzGrMNFAB22LM7A+BXP1EGQF6WWSWTBIC8zFD91AhoQk8NmSqMgsBu1x3T+HTea2blwkd8zAVf9JW3Pfzito03f/7YFeyV/6N3oQysMQJ6P2vs/OxDtxqzSQDIzonMNa2SSQJAZkqoYlYENKFnRU71OhGQACA+JEFAAkASlFRGCMSJgNYLcfolcqusxmwSAEognlUySQAogUx171ITet0ZEGb8EgDC4Gi9FQkA1j2s8VlGQOsFy94tbGxWY7YBAsA643fYo2cLwBy3BWDpImBCYWgbb9gqmSQAGCdujMPThB6jV6pnkwSA6vmsDIslAJSBuvoUAmEQ0HohDI41a8VqzCYBoAQiWyWTBIASyFT3LjWh150BYcYvASAMjtZbkQBg3cMan2UEtF6w7N3CxmY1ZusvAIxdSQbAMmUA5GGaVTJJAMjDCtXNhIAm9EywqVIPAhIARIkkCEgASIKSygiBOBHQeiFOv0RuldWYTQJACcSzSiYJACWQqe5dakKvOwPCjF8CQBgcrbciAcC6hzU+ywhovWDZu4WNzWrMNlAA2HH37jMAfjn3bP6pDIBcRLNKJgkAuWihylkQ0ISeBTXV6UVAAoA4kQQBCQBJUFIZIRAnAlovxOmXyK2yGrNJACiBeFbJJAGgBDLVvUtN6HVnQJjxSwAIg6P1ViQAWPewxmcZAa0XLHu3sLFZjdnKFAAmAlcAGwBLgIOB20cxaD/gImBV4FZfbqkv97/ATsALgXWBxwtjQMCGrZJJAkBAkqipZAhoQk+Gk0r1R2CLM2Y1Ctz1sWNyQSU+5oIv+so7Hnhh28Zffuu4FeyV/6N3oQysMQJ6P2vs/OxDtxqzDRYAdjupq8wv550TagvAHGA2cDlwAHACMLXHoLWABcCuwJ3AJcBTQGvi3RP4PfBnCQDZyR2qpgSAUEiqncQIaEJPDJUK9kFAAoDokQQBCQBJUFIZIRAnAlovxOmXyK2SAOAdFEgA2BC4B1gPeBZw+D4M7Ow/b9HhQOBQYF//wVbANcCEHr78WwJA+W+QBIDyfVA7CzSh187lhQxYAkAhsJprVAKAOZdqQDVCQOuFGjk73FBrKwDstGt3BsAvftrIAFgOLO4Db2+A3lt0MnAlMKnjD/OBGYDLDGg9xwJbAEf6D9YAngDGeuGgVU4CQDiuZ25JAkBm6FQxKwKa0LMip3qdCEgAEB+SICABIAlKKiME4kRA64U4/RK5VRIAvIMkAORnqlUySQDIzw21kBIBTegpAVPxURGQACBiJEFAAkASlFRGCMSJgNYLcfolcqusxmz9YF/4nLHrjN9pWk8GwM+CnAHgtgDc6/fvtw4B3BTYYZQtAC4rYE1/COB9gNsGMN4bvj3wOeAVwPXAO4BF/m9u28BZwHOAJ30Wwe9i4JlVMkkAiIFdNbNBE3rNHF7QcCUAFASssWYlABhzqIZTKwS0XqiVu0MN1mrMVpYA4Pr9G/Bt4DB/yv8HfKDfadMLgIeA1wM/9oLB08B2wCruzGbgcL9t4FTglYA7N8DdCODOGJjmbxbYBfgs8PJQhMjTjlUySQDIwwrVzYSAJvRMsKlSDwISAESJJAhIAEiCksoIgTgR0HohTr9EbpXVmK2vADDWZQDscmJXmV9cfy7Lli11v7IP2uffr+1WBoC71m99wF3rt4nPAHivD/ov9cF8KwNgDHA/sKXPAHA3Bsz1V/+5jAB3iKATDNw5AS7Qd2cMuPMDWo/rYzfgprK5ZpVMEgDKZlYN+9eEXkOnFzBkCQAFgGqwSQkABp2qIdUGAa0XauPqkAO1GrNlFQBiOATwjcARwD4dg3jEiwh/8VsM3gD8Atgf+D/grcB3QhIjS1tWySQBIAsbVCcXAprQc8Gnyh4BCQCiQhIEJAAkQUllhECcCGi9EKdfIrfKasxmVQBw5wvsDpwOrAX80v+3S2f4f2VzzSqZJACUzawa9q8JvYZOL2DIm33NnRcD977jlFyti4+54Iu+8jZHXty28ZbL3C1F3Y/8H70LZWCNEdD7WWPnZx+61ZhtsADw6p4tADcE2wLg9uiv56/zc/i6FP6dRzkE8FDAHejnHncA4DV++4HbAvAVvyXA/W1t4DFgHODOCeh83LWB7tpCV8f1W+pjlUwSAEqlVT0714ReT7+HHrUEgNCI2mxPAoBNv2pU9UBA64V6+DnwKK3GbGUJAK7fG70A8G9/oJ8L2nsP6XNB/YPAXwG37cAd/PdD4MP+3w/4YP9fgPPRH4H9/KDeBTiF3tV5kT8/wAkApT9WySQBoHRq1c8ATej183kRI5YAUASq9tqUAGDPpxpRfRDQeqE+vg44Uqsx20AB4NU7uTP4Rp4bfnFeiEMAXYO/AtwVgC54XxV4ygsAMzsOAXTp+y6udAKAK+eC+e8DR3cIAMu8OODauMMLAM5frj2XVeCEg98DrwP+A3giIC8yNWWVTBIAMtFBlfIgoAk9D3qq20JAAoC4kAQBCQBJUFIZIRAnAlovxOmXyK2yGrOVJQC4WwCK2ALwKPA8wIkCbjvAm4GfAa/w1whuCvyzbK5ZJZMEgLKZVcP+NaHX0OkFDFkCQAGgGmxSAoBBp2pItUFA64XauDrkQK3GbP0FgOesM37UDIB/Lo39FgB3COCewNeBfwDrAm8BfhKSFFnbskomCQBZGaF6mRHQhJ4ZOlXsQEACgOiQBAEJAElQUhkhECcCWi/E6ZfIrbIas1kVANzZAC7YP81nALi9/+70/619ZkCpdLNKJgkApdKqnp1rQq+n30OPWgJAaERtticBwKZfNap6IKD1Qj38HHiUVmO2rALAIn8Sf1aYi9oC0LoFwB0meCWwRYeBvwZOAq7NanSoelbJJAEgFEPUTmIENKEnhkoF+yAgAUD0SIKABIAkKKmMEIgTAa0X4vRL5FZZjdkGCwA7ntBV5oZfns+yfy7NKwC4NucBl/v/HQC40wan9BjkbgFYAEwD7gQu8af+T/eHAN4NHAbMBdxnOwCuref7Mwa28wcDvgSYD2wDuOyAUh+rZJIAUCqt6tm5JvR6+j30qCUAhEbUZnsSAGz6VaOqBwJaL9TDz4FHaTVmK1MA2Bv4NjAWeAZw1/Z9D+i8BcDZ5/7bqRDOB+4XfhfUu1jTPYd6UcDdAOD2+u8F/AZYH/itFwJcOXd7wBh/C4C7UaDUxyqZJACUSqt6dq4JvVi/77Hb2e0O5sw7udjOSmz9Jd908wzc859u21j2R3zMjl0Var7iqFltM39/yTErmCz/V8GLsrGuCOj9rKvnc43basw2UADYeYfuDICf/ypYBsAcYHZHBoDryO3V73zcNYAuA2DXjgwAd73fcT6ovws4vCMDYHvgwFEG5bIDXBtvyMWCQJWtkkkCQCCCqJnkCGhCT45VlpISANKhJj6mw6tqpSUAVM1jslcIjCCg72exIQMCVmO2sgSAos4AaF0D+HTPwO4ATvQZBhncH7aKVTJJAAjLE7WWAAFN6AlAylFEAkA68MTHdHhVrbQEgKp5TPYKAQkA4kAuBKzGbIMFgO2P7yrz8xsvcGcAVOEawJbdOwHf8YcWPpuLBYEqWyWTBIBABFEzyRFQwJUcqywlJQCkQ018TIdX1UpLAKiax2SvEJAAIA7kQsBqzFYHAeCLwF+AbiUjFx3yVbZKJgkA+Xih2hkQUMCVAbQUVSQApAALEB/T4VW10hIAquYx2SsEJACIA7kQsBqzZRUA8t4CUNQWgNY1gK0tAO4MgYf92QLuFoEoHqtkkgAQBb3qZYQCrmL9LQEgHb7iYzq8qlZaAkDVPCZ7hYAEAHEgFwJWY7aBAsAuU7t/OL/+140tAHkFANdvkdcAtsblbgk4BNg5l/cDV7ZKJgkAgYmi5gYjoIBrMEZ5SkgASIee+JgOr6qVlgBQNY/JXiEgAUAcyIWA1ZitTAFgkr8BwF3Zt9QH6reOcg3g/sAF/hq/24CDgCXe8B2By4DVgYeA9wAPdgzqF8DngS/n8n7gylbJJAEgMFHU3GAEFHANxihPCQkA6dATH9PhVbXSEgCq5jHZKwQkAIgDuRCwGrMNFgCmuBv3Rp7rf3NhqAyAicAVwAY+oD8YuH0Ug/YDLgJWBZxA4Mo5wcA97tq/zwHPBVz86QQAl53gnrHAxcA+gNsS8Dvg3blYEKiyVTJJAAhEEDWTHAEFXMmxylJSAkA61MTHdHhVrbQEgKp5TPYKAQkA4kAuBKzGbGUKAHOA2T4L4ADgBL9Xv9Mmt4d/AbAr4PbwXwI8BThVYhXgLuBwYC4w3QsCB/oGPu6zBj4M/Bt4AbA4FwsCVbZKJgkAgQiiZpIjoIArOVYquXIENvm4E5nhvo+6eST7Iz5mx64KNV/1PvejQvO56UvHrmCy/F8FL8rGuiKg97Ouns81bqsx22ABYHJPBsBvg2QAFHUI4KPA83y2gDv8b0JHtkAuAoSsbJVMEgBCskRtJUJAE3oimFRoAAISAESRJAhIAEiCksoIgTgR0HohTr9EbpXVmC2rALB8wK/pLvDu90wGrgTcOQCtZz4wA3CZAa3HKexbAEf6D9YAnvDp/W8EjvAp/q3yjwA7AC5z4P8BXwf29FkDpwPXxcAzq2SSABADu2pmgyb0mjm8oOFKACgIWGPNSgAw5lANp1YIaL1QK3eHGqzVmG2gADDtVd0ZkT+76SJ3BkDsAoDLAvitPzDQbTPYFrgWeBnw51CkyNqOVTJJAMjKCNXLjIAm9MzQqWIHAhIARIckCEgASIKSygiBOBHQeiFOv0RuldWYLasAkPcawKK2ADwGjPMZAC7Qfw7gxAr3/Bo4EfhJ2VyzSiYJAGUzq4b9a0KvodMLGLIEgAJANdikBACDTtWQaoOA1gu1cXXIgVqN2coSAFy/8/wBgJcD7hBAl/4/pcegtf0hgNM6DgF0J/q7tAR3CODdwGEdhwC69H/XlnuuAT4B/AjY1AsAr+y4JSAkP1K1ZZVMEgBS0UCFQyCgCT0EimpDAoA4kAQBCQBJUFIZIRAnAlovxOmXyK2yGrP1FwBWW2f8tFd1H3T7s5suZtkzS/NmALh+3f5/F/yv7w8H0SVCAAAgAElEQVTqO8Rf8zcTeAi41Bu3P3CBP9H/Np/Wv8T/bUfgMmB1X8ddA/ig/9tmwBf9NYP/Aly7346BZ1bJJAEgBnbVzAZN6DVzeEHDlQBQELDGmpUAYMyhGk6tENB6oVbuDjVYqzFbmQJAKN9Urh2rZJIAUDkqVt9gTejV92EMI5AAEIMX4rdBAkD8PpKFQmBlCGi9IG5kQMBqzDZYANimJwPglmAZABOBK/wv9O4X/YOB20cxaD/A3dG8qs8QcOWW+nLbA58Dngu4+NNlALjsBPfcByzzNwC4/z4X+EYG3wevYpVMEgCCU0UNDkJAE/oghPT3JAhIAEiCkspIABAHhEB1EdB6obq+K9FyqzFbmQKAu+7PndDfOgPgBGBqj0HuOr8FwK4dZwA8BRznzwC4Czi84wwAJwgc2CEAvAm4pUTejNq1VTJJAIiNaTWwRxN6sU7e5XXntzu4/kfuO9rm894b3RY0mL39l3MNUHzMBV/0lbf42Ky2jXedccwK9sr/0btQBtYYAb2fNXZ+9qFbjdkGCABrj9/1ld0ZAD/9ncsAeCLvGQBF3QLwKOCuAHQHBboMAAkA2TmfuqYEgNSQqUJeBDSh50Wwf30JAOnwFR/T4VW10hIAquYx2SsERhDQ97PYkAEBCQAeNC8AuKv1FvfBccIAjCcDV/qDAFtF5/ubAFxmQOtx6sMWwJH+gzWAJ4CxwBuBI4B9Oso/AribAO71AoAr655W204gKP2xSiYJAKVTq34GaEIv1ucSANLhKz6mw6tqpSUAVM1jslcISAAQB3IhYDVm6wfKwrGrrTQDoAoCwEbAA8BqwFnA1sDrcrEgUGWrZJIAEIggaiY5Agq4kmOVpaQEgHSoiY/p8KpaaQkAVfOY7BUCEgDEgVwIWI3ZBgsAr+je5vbT38+KeQvAY8A4vwWgc2wvBNx5AWvnYkGgylbJJAEgEEHUTHIEFHAlxypLSQkA6VATH9PhVbXSEgCq5jHZKwQkAIgDuRCwGrOVJQC4fuf5AwBbhwDOAKb0GOQCdncI4LSOQwDd/v7p/hDAu4HDOg4BdOn/BwBr+l/+H/ftORXDnQfg2in9sUomCQClU6t+BijgKtbnEgDS4Ss+psOraqUlAFTNY7JXCEgAEAdyIWA1ZhssAGz90a4yP7314yEyAFybk7wAsL6/1s+dwnwrMBN4CLjUd7w/cAEwBrgNOAhw1wa6Z0fgMmB1X8ddA/ggsBnwbX91oPOdOxPgaH8uQC4ihKhslUwSAEKwQ22kQkABVyq4UheWAJAOMvExHV5VKy0BoGoek71CQAKAOJALAasxW5kCQC6HVLmyVTJJAKgyKytquwKuYh0nASAdvuJjOryqVloCQNU8JnuFgAQAcSAXAlZjtsECwMt6MgBuD5YBkMshVa5slUwSAKrMyoraroCrWMdJAEiHr/iYDq+qlZYAUDWPyV4hIAFAHMiFgNWYTQJALlpkq2yVTBIAsvFBtXIgoIArB3iq2kZg489c2Pj3/R88Lhcq4mMu+KKv/IqjZrVt/P0l3Sckuz/I/9G7UAbWGAG9nzV2fvahW43ZBgoAu231ka4y8/7wiVBnAEwErgA28Hv6DwZuH8Wg/YCL/H5+d0aAK7fUl9se+BzwXMDFn+4MgEU9bbizBb4EvBn4XnYKhKtplUwSAMJxRC0lREATekKgVKwvAhIARJAkCEgASIKSygiBOBHQeiFOv0RuldWYrUwBYA4w2x8E6E7uPwGY2mPQWv4WgF07bgF4CnC/0qzir/Y7vOMWACcIHNjRxibAlYDz3/kSAIp9yyQAFIuvWh8FAU3ookUIBCQAhEDRfhsSAOz7WCO0i4DWC3Z9W+DIJAB4cANlAGwI3AOsBzzrA/SHgZ395y1XumD+UGBf/8FWwDXABC8WfAXY0v/NXRn4KPA8wF0V6AQCV9YJCxcDn5AAUOAb4lMwxhfbhVoXAt0IaEIXI0IgIAEgBIr225AAYN/HGqFdBLResOvbAkdWXwHgpe72vJFn3h2fdFsAlgOL++DtAvR+z2T/y7y7CrD1zAdmAC4zoPUcC2wBHOk/WAN4AhgLvBE4Atino/wjwA7+2r/pgBMFPgbMkwBQ4Nvhm1YGQPEYq4ceBDShixIhEJAAEAJF+21IALDvY43QLgJaL9j1bYEjkwDgwa2IAOCEgs8D04BnJAAU+GZ0NC0BYDg4q5cOBDShiw4hEJAAEAJF+21IALDvY43QLgJaL9j1bYEjq6cAMGbt8bu99MNdsM67479Z9uwT7qC9Qb/y93NHUVsAHgPGAe7gv9OAZd6IF/iDA102wGcL5Emipq2SSQJAIverUEgENKGHRLO+bUkAqK/v04xcAkAatFRWCMSFgNYLcfmjItZYjdn6wb9wbHECgOvXpeVf3nEIoEv/n9JjkEvhX+B/yb8TuMTv73fp/W6P/93AYR2HALr0f3egYO+jLQBDeNEkAAwBZHXRjYAmdDEiBAISAEKgaL8NCQD2fawR2kVA6wW7vi1wZPUVALb8ry5Y5935qRAZAK5Nt//fCQDr+1/n3a/27pq/mcBDwKW+4/2BC4AxwG3AQf7aQPfnHYHLgNV9HXcN4IMSAAp8E/o0LQGgHNxr3asm9Fq7P9jgJQAEg9J0QxIATLtXgzOOgNYLxh1czPAkAHhcAwoAxXiqAq1aJVMpAsCr3+zEIbjhu8dXwPXVNnHTiy9qD+BPx7osnMHPFqfPahe66/RjBlfoKbHtEe4GD7j5c+5A0BWfOkzoE89sYuCeu09t4rDJ/5zd/uy+d52cGldV6EZg01lNbv/pmGS8Xhl+VePjrnud2x7KT689sS8ttjyp+S7feU7699gK3za6tDnfuOeB968451TN/1b8onEIgSQI6P1MgpLK9CBgNWbr5+jmFoDiMgBqSzKrZJIAYJzSEgDKcbAEgOJxlwAAEgAG80wCwGCMVEIIxIqABIBYPRO1XVZjtsECwBY9WwDuCrYFIGqHF2mcVTJJACiSNRG0LQGgHCdIACgedwkAEgCSsEwCQBKUVEYIxImABIA4/RK5VVZjNgkAJRDPKpkkAJRApmF2KQFgmGiP9CUBoHjcJQBIAEjCMgkASVBSGSEQJwISAOL0S+RWWY3ZBgoAu088qqvM3LsvCXUIYOQuL848q2SSAFAcZ6JoWQJAOW6QAFA87hIAJAAkYZkEgCQoqYwQiBMBCQBx+iVyq6zGbBIASiCeVTJJACiBTMPsUgLAMNFWBsAw0ZYAIAEgCd8kACRBSWWEQJwISACI0y+RW2U1ZhssALzkQ90ZAPd8WhkAOclqlUwSAHISI/bqEgDK8ZAyAIrHXQKABIAkLJMAkAQllRECcSIgASBOv0RuldWYrUwBYCJwBbABsAQ4GLh9FIP2A9wVTasCt/pyS3257YHPAc8FXPz5HmCR/9s1wAuAfwFPAB92l4nFwDOrZJIAEAO7CrRBAkCB4PZpWgJA8bhLAJAAkIRlEgCSoKQyQiBOBCQAxOmXyK2yGrMNEADWGr/7Zj0ZAPe6DIC/uyB7Qk6fzQFmA5cDBwAnAFN72lwLWADs6m4fBi4BngKOA1YB7gIOB+YC7v5mJwgc6Nt4HvC4//ebgdOBV+a0OUh1q2SSABCEHvE2IgGgHN9IACgedwkAEgCSsEwCQBKUVEYIxImABIA4/RK5VVZjtrIEgA2Be4D1gGcBh+/DwM7+85ZdLpg/FNjXf7AV4H7Zd+KDEwu+Amzp/7Y28CjgAv+newbmsgs+AmwTA8+skkkCQAzsKtAGCQAFgtunaQkAxeMuAUACQBKWSQBIgpLKCIE4EZAAEKdfIrfKasyWVQBYDizuU3lQdsBk4EpgUkcb84EZgMsMaD3HAlsAR/oP1vDp/GOBNwJHAPt0lH8E2AG413/mMgx29/9+nd9CUDrVrJKpSwDYd5OPNoC+6r6P9wV8+7e77R3N58avuywO2OflJ7c/u/q2s1eov/crT2l/ds3vzgru0J3fcEGjzZ9///gV2t7rVR9rf/bkRmu2/33D91Ysm8Wwvaa6TJXms3indRr/f+snj+nb1D6TXPZM83lkFyeuwc1fcO9O/mfKey9uN3LduSO+fP373ZYaWPPeVpYNXH37OSt0+NjCF7U/22DCQ41/t/B1/x4N431ffHS7zlUPfrLvIN61+7l8dY773oAJEyawaFFrCxBM2/e8dt2fXdUsk+bp5Nkqf/Hbjpa7777m8/RWze+55/zqjvZn1/zDfed0P/tsdeLIB4sfa//76r9+Po05Ky37knOaPrrnpNF9vsvrz2/8/fofjvBktMZe/pFZ7Y9v+0STc50Bz8Sv/rP992XrPqfx79H8tzJDN7uwaefm33RbsprPtb8e4fto9Xbb89zGx6s9PiLqXvubM1bEuOMduPqPzfF2vqv/2MRlk8EvvuOyx1Z8/rzwhY0Pnz/BCdHpnokzR3B78rKLWbjQfRWuyEf32aRTm2U3vPmZdifX/2BFv+y91kHtvy/fxm2Xg2fXHNP+bPVfu8y45tPiUQsr99m8n4xwrvWdMgjrdKNesXSLPy3uuBKbn9v0+eqPjUx74+4beYd+8e3R/ZHWlt33GPnumTvnpLTVE5d/8qGN22XXeNH9K9Tb/vLP8quD3t/4/N2vnMFjDz8O67kfJZrPv1dfrfH/nfNWy2/Lx7qsxuYz6F1NavCu+4x8B455YoRz1/3i1BWaaM0jyyaM2DvvuhEetb5Pxzw94r9Vlza/E55Zd/V2e5119lylmZH5xNtcdmbzWfeG5vvhnqse+MQKdmz3zuaaYL25f2r/7ZlN3XbO5jNmicsChSc3Hdf+rPUOTXtt8913z89+PPJe7b57kx+rPOO2hPp2Hvt74x//39PL2p/988Xrt/+9fI3m+7b6n/7a/uzqu5prgx0PvLD92ep/GcF1tUefbHz+j82bc7d7xjw10udPr175PNSy0dVZtl6TJ43+H2nat+Qlbqtr8/ntl5vf9XttN/Jd+I8Jbn3cfFrfc5MPHpm/136w6atO/3TWv3b+yNqm3VDHP3Z6S3PM/xr5GuJX32y+v53fPavfOfId+virN2r8/VffaK7tOp/WGtF91rlO3GW/pg9Xv+Z3I8W3acYK/1zXrf2bz79WG/lOWfVpj/G/R6q0xrnHLiNrxBcsfpT/uavJuR1mX8rif/yd+z84+ndQ63v97tNG1l97bt/E+yc3jmC197antTtdZfFfGv++6uFPtz9rzb9j/zrCs5/8cqTOCsAAo/UzWrk0n217WJMLWdaGkw8Z4dF//LS5jnPP4r2b67tbLg2z3tz28JF+bv78SJsvmz4yx7b6vv2i/uviVrlJp4zU/eNZI3W2PKn5+YuvbW0pX+l6xGrM1o8+C8eOWWv87pt+sKvM3D99xm0BqIoA0LLdLabeBjgRoPTHKpkkAASglgQAkACQjkgSAKBTBJMAIAEg3RuUvLQEAJAAIAGg9cZIAAAJABIAks8glSnZTwDIewZAUVsA3K9rThXu3QLgQHeqsfvFrqnQlfhIAOgAXxkA3UyUACABIO13kwQACQCOM8oAaL45ygAY+QZRBkATC2UAgDIAQBkAygBofTsqA6DvSnPh2FVdBsAHugrN/dNnWbY8yCGA8/wBgK1DAF1q1JQei9y+fpfqOK3jEEAX3Lt0IpcudzdwWMchgC793x0o6FLYXDpUK1XlTf4AwRe7JLy06+vQ5SUASABYKackAEgASPuFIwFAAoAEAG0BGO17QwKABIAWLyQASABwXNAWgOYbIQGgVAHA7elxwb/bc+X2YBzi9+jP9IH7pd66/QG378ptPLoNcOn87tpA9+wIXOZ2C/k67hrABwG3T+9b/npAtzfIHQ7oRINb0q6tiygvAUACgAQAj4DOAMj/FSMBQAKABAAJABIAQGcANFmgMwBGzjrQGQBNTugMANAZAInXm80MgE2a59m0nrn3XRoqAyCxIdYKSgCQACABQAJA+/C2vF9wEgAkAEgAkAAgAUACQIsDEgAkAPR+H0gAkACQYq0pASAFWGmKSgCQACABQAKABADdAtB4C3QLQJrpc/SyugVgdFy0BaCJi84A0BkAjgc6A0BbAFrflNoC0HfelQCQf1kyagsSACQASACQACABQAKABABdA9g+vFHXADYnBV0DqGsAHQ90DWD3dYN54xFlACgDIAWHmgLARkd2VZn7wGXaApACxNGKSgCQACABQAKABAAJABIAJABIAOiZDSUASACQAHBG4634yY0fyxlujFSXACABIAWZJACkACtN0VoIAGkAUdnREWilLc6de1IUEH3iD69p2/GRra5LZFOWOoka9oXGjx/PwoULG/81YcIEFi1yV5TqCYXAHrud3W5qzryTQzUbXTsf+u07GjZ9evLXctkmPuaCL/rKg77P5P/oXSgDa4yA3s8aOz/70K3GbP0QaQoALz68q8zcBz+vDIDsPGrUtEomF4WNz4mNqncgIAFgMB00oQ/GKE8JCQDp0BMf0+FVtdISAKrmMdkrBEYQ0Pez2JABAasxmwSADGTIW8UqmSQA5GVGT30JAIMB1YQ+GKM8JSQApENPfEyHV9VKSwComsdkrxCQACAO5ELAasw2WACYcFhXmbkLv6AMgFxUUgZATvjqU10CwGBfK+AajFGeEhIA0qEnPqbDq2qlJQBUzWOyVwhIABAHciEgAcDDJwEgF48ala2SSRkA+bnR1YIEgMGAKuAajFGeEhIA0qEnPqbDq2qlJQBUzWOyVwhIABAHciFgNWbrB0rzDIAXHdpVZu5DX1QGQC4qSQDICV99qksAGOxrBVyDMcpTQgJAOvTEx3R4Va20BICqeUz2CgEJAOJALgQkAHj4JADk4lGjslUyKQMgPze6WpAAMBhQBVyDMcpTQgJAOvTEx3R4Va20BICqeUz2CgEJAOJALgSsxmz9QFEGQC7KrLyyVTJJAAhMGAkAgwFVwDUYozwlJACkQ098TIdX1UpLAKiax2SvEJAAIA7kQsBqzDZAAFhz/O4v7NkC8LDbAvAPd9f2hFyIwkTgCmADYAlwMHD7KG3uB1wErArc6sst9eW2Bz4HPBdw8ed7AGfb6sDXga2Ap4BHgA8A9+S0OUh1q2SSABCEHiONSAAYDKgCrsEY5SkhASAdeuJjOryqVloCQNU8JnuFgAQAcSAXAlZjtjIFgDnAbOBy4ADgBGBqj0FrAQuAXYE7gUt8QH8csApwF3A4MBeYDjhB4EAvAOwB/Bj4N3CU72O3XCwIVNkqmboEgL1e9bEGXNfedEYg2MI1s89/HNlo7OpHLxu10Z3fcEHj859///gV/r7PljPan11953nhjArc0qvf3ByDe2747orjSNrdVsfPahf9wwXHJK0WrNzkQy5utPXbLx/bbnPKQc3P3PPwT2axcKGjHkyYMIFFi5wAqCcvAi85p4nxC3/+bLup63/kvqOLeTY/d8SnC04c8XWrtz2mnd3ueM7PTm78e5sjR+rcctmKdYqxdKTVl3xzZuM/7vnP09ofvnbOufxo9+Z3hDU+7vPyJu5X3zbii6IxztL+Fqc3v7PuOj3591WLS3l5FIsANO215zcw+NmPi3tns/hmZXVe9b6Rd/mmLyV7l3fb89x2c/N+cuIKTY/2ndGa213h0eb3kGNqtfXyY0bm0NtmrcjJ1nz2myuSjXtlNu67uVsDN5+rFrgfzdI9rTVDnvVCuh5HSg/LL4Pez1d+YISHf9tmecPAB47sv37ae9uR7/9rbm7OCaM9+2zofoRsPlc/8tmsUA2s15q7XcFnJixrl7//vScNrNtbYPu3N3l049dHuLXXdiNr+mvnN9f52/xgpO1b9jsnUT8vO3bkvdjmwNsadf5nhy/1rbvxJReOjOcoFweu/Nn8vKYvF8wY/b3a6MvN9fsDh4ys6Vutbfa1s7j/Q8019PK/LrUas/WDb+HYVVwGwPu6ysx9+Ess+1fuDIAN/a/x6wFugenwfRjYuedXehfMuxSEfb0R7hf9a3z2gRMLvgJs6f+2NvAo8Dzg6Z6BTQH+F9gkETELLmSVTBIACiZOmuYlAKRBS2V7EZAAMJgTEgAGY1RGCQkAIAEAJACke/skAIAEgG7OSACQANDJCC8AOGVscZ9vl0HbAyYDVwKTOtqYDzglxmUGtB6n3GwBNH+xhTWAJ4CxwBuBI4B9Osq7VP8dgHt7bHNCwV+Bo9N9IxZTWgJAMbgmblUZAImhQhkAybGyVFICwGBvSgAYjFEZJSQASABwvJMAkO7tkwAgAaCXMRIAai4AvOCQLkrMXfxllwFQJQHApaa8AXgN8GS6b8RiSksAKAbXxK1KAEgMlQSA5FCZKikBYLA7JQAMxqiMEhIAJABIANAWgNG+e7QFIN03sgQACQCdjPECQN5DAIvaAvAYMK5jC4Dbt/J2YE/g8XTML660BIDisE3UsgSARDA1CikDIDlWlkpKABjsTQkAgzEqo4QEAAkAEgAkAEgA0BkAjgM6AyDTLNw8A2D0DIC8AoAzaJ4/ALB1CKBL/3d79Tsft6/fHQI4reMQQLe/3wX27hDAu4HDOg4BdOn//3975wFlS1Wm7WcAB0EYMaP3jlnBHFCMJBHBhGPOqGP6zRGzYs6CYxod/c1jRsYwKiBBwDg4Y0bMAUQFR0EFUcKst3vX7XMPp/ucrhOr6tlr9bp9+9ROz/fVqdrv3vvbCSiYlGArDyyD/9/XIjClTAoAUwI7arEKAKOSUgAYnVS7rlQAGG5PBYDhjOZxhQKAAoACgAKAAoACgAJA7SfwsgBw+YdsVsAxv33PJIIApszs/8/g/zJAjvXLXoMc85comr8C3loq3h9INMatgESKTINybGDSrYBEcs+xf8mTYwB/WYIE5t/EAkjMgKREw8wpAXNPCgBzNoECwOgGcAXA6KzadKUCwHBrKgAMZzSPKxQAFAAUABQAFAAUABQAaj+Bpy0A1G5Y0zMqAMzZggoAoxtAAWB0Vm26UgFguDUVAIYzmscVCgAKAAoACgAKAAoACgC1n8DLAsDlDtisgGNOf++kVgDUbljTMyoAzNmCCgCjG0ABYHRWbbpSAWC4NRUAhjOaxxUKAAoACgAKAAoACgAKALWfwAoAtdGtnbETAsDtdnvpEoWjj3/emjT2vf5zN31++HdeNhLyO9xopcwjvrlczyTTHW7ygqXijvifbEdZPVURUnPFVz+UuBTDU3U+c6487rPPHJ4BuMONn7/puiO+8ZKl329/ixdt+tvnv3rQSOX0XjQs/40f/bqly7/xthzFuXrafb9XbvrwuM8ljgcMs+mee79iU55jj3r2RQof1N/d7vSqTdcd/5kVbve+zxv5yIcfv/TZxo0bOfXUxCeZfLrWiw9eKvTqH/ndpsIrf93npiv8j/zvFbtUF+57+cdsynPBxgRAXU6Drt3nZstlHXniRcsZ1qvb7p+tUsvphE8+Y9Pvuz5w+WXwa/8+mo/21nO7PVfuyaOPXblXh7Wl+vzKb1tpE1vn9Bi41juW/006Za8c7QonvyQxW5bTHW7Qc39/e/n+HnSkV28b9r718n2RdNSXVu6XUds5qet6o0zf995v5Iwz/kgvt52ev+xHvf0dVPd+V1vhccEO2y1dMuz7qPeevnCrxMgpPL64zGOvvV6+6W/HHJPTcdaXKhtsdVbi8Cyn6vtofSWt/+o99l35nvn7089ZKqD3/hn0ndFby7Dv9Oq++8POiTu0nP7r/cv3y7VftGyzpB8ctGKX6x64/PfvvWblb8OijFfl7H2bHn8t9pmGD69m8+o7uveZu+sDyvfEBwZ/T+yz6/J30pFfW/m+2+/KT1762+d+8fqBRt13x8cu/f3wX79l0+eVLZb8Z8gzdv2e0o0ce91u+V4+5uj138c3eOKKP3/7DSu+W5Gryu4vf79rLPvF5368trjQey+ev12O7IajTrjoe2B1zy35VM/zrnqeDno+rse61XfGFw5ffi9JGnZ/XudZK2xOeuUym313WnnfOH+H5efVet65qvtmiz+tfG8e/r2Vd6BBfRp0f+6780o/Dv/+yvdhlX+fm79w6ddzdlxuY9IJn1p5DxiV3a3v+ZpNl37p0ANHzTbV66r3rx++4KL+mooHfRcPa9ANH7ds62+9eaXMK79zmesv/nmFNdDWMdtaiJYFgMtmW/1KOuaM97kCYJhjDfm8rc50Sr5fq74rAAz2AgUAUABY9g0FAAWA1Z4VCgCbk1EAqPfWoQBQj9ui51IAGG4hBQAFgLW8RAFgzXtIAWD4V0ytKxQAerANmy0eRNgVAK4AqPzCFQArd4grAJZZuAIAXAGw+ZPDFQDQu+rDFQC13t0WJpMCwHBTKAAoACgADL9PVrliWQC49IM2+/iY/32/KwBqI13OqACgALBEwC0A4BaAzb9N3ALgFoB4hCsANr8vXAFQ763DFQD1uC16LgWA4RZSAFAAUAAYfp8oANRmVCujAoACgAJA8QEFAAWAEDAGwOZ+oACgAFDr7aIvkwLAJCguXhkKAMNtogCgAKAAMPw+UQCozahWRgUABQAFAAUAYwAYBHDVB4gCgAJArbcLBYBJYFv4MhQAhptIAUABQAFg+H2ylgCw56UesNnHx/7+A24BqI10OaMCgAKAAoACgAKAAoACwIgPU7cAjAhKAaAeqIblUgAYbjAFAAUABYDh94kCQG1GtTIqACgAKAAoACgAKAAoAIz4CFUAGBGUAkA9UA3LpQAw3GAKAAoACgDD75NVBYC/23bDnjv0rQD4wwc498Kzc9b2xtoldzyjAoACgAKAAoACgAKAAsCILwMKACOCUgCoB6phuRQAhhtMAUABQAFg+H2iAFCbUa2MnRAAapEx00ACN3nE6zb9/X/e8bTalKoI8yngyBNfVLuccTPe8AkHbyriW2986ljFbdiwgVNOOWWpjI0bN3LqqREnTV0gcLs9X7apm0cf+9yF6F+IaL0AACAASURBVLL+uBBmmFsjeu2/90vezm/O/BPffd1433HDOjPOySG9Ze+70zOX/nv4ya8aVuVUP9/lYcvPu6+/a+VZd51nrTwzTnrlaDxvc/dXb2rnFw97xkXafM2XLtfzo+fVf6ZOAsROL1ju28kvXunXdQ9c6e+OXzl76fOjj3/eJKpbtYyK1yBWdSu+9T1fs5T1rCtvuamI7xwymv3q1rlWvi58P1d+vQi+PQ0bzqHMto7Z1kJ5ytZZAXDJ+292zbFnftAVAGM6YFudKaOwDWOyMfsAAgoAq7tFFx7o3hSDCSgA6BmLRkABYHyLKACAAsD4fjSohC68LygATNx32jpmUwCYuKsML7CtzqQAMNz2ta5QAFAAqOU4Lc+kANByAzewewoA4xtNAUABYHwvGlyCAsC0yLa63LaO2RQA5uC2bXUmBYApOZMCgALAlFyr0cUqADTafK1svALA+GZVAFAAGN+LFABCYN7bW6ZlxxmX29Yx23ABYPv7bnbNsX/8sFsAxnS+tjqTAsCYjrFadgUABYApuVaji1UAaLT5Wtl4BYDxzaoAoAAwvhcpACgATMyL2jpmUwCYmIuMXlBbnUkBYHQfWNeVCgAKAOtymI5crADQEUM3qJsKAOMbSwFAAWB8L1IAUACYmBe1dcw2XADY7j6brwD400dcATCmW7XVmRQAxnQMVwCsH2AX9vStn0o3cigAdMPOTeqlAsD41lIAUAAY34sUABQAJuZFbR2zKQBMzEVGL6itzqQAMLoPrOtKVwC4AmBdDtORixUAOmLoBnVTAWB8YykAKACM70UKAAoAE/Oito7ZhgoAe2x7r82u+cLZH3MFwJhu1VZnUgAY0zFcAbB+gK4AWD+ztuRQAGiLJdvTDwWA8W2pAKAAML4XKQAoAEzMi9o6ZlMAmJiLjF5QW51JAWB0H/DKCRFQAJgQSIuZCAH9cSIYG1tIU+y/83MOXmL8/Zc/deasr/Ps5bqTTnrF7OufeYc7XOHNDnjdUu9PfO/TFoJCU+7PhYBlIyoCbR2zKQDMwcfb6kwKAHNwpq5X6QO96x6wWP3XHxfLHrNuTVPsrwAwa8/oZn0KAN20e8t63dYx23ABYJt7bnbNF8451C0AYzp3W51JAWBMxzD7+gk05YV7/T0zRxMJ6I9NtNrk2twU+ysATM7mlrQ6AQUAvaMFBNo6ZlMAmINzttWZFADm4Exdr7IpL9xdt1NX+q8/dsXSg/vZFPsrAHTbT2fVewWAWZG2nikSaOuYbW0BgG037HHxe2y+AuAvH+dczj4V2DhF3q0uuq3OpADQarddzM415YV7MenZqkkT0B8nTbRZ5TXF/goAzfKrprZWAaCplrPdPQTaOmZTAJiDm7fVmRQA5uBMXa+yKS/cXbdTV/qvP3bF0q4AqGtpgwDWJde8fAoAzbOZLb4IgbaO2YYIANts2GPru2++AuDcwziXc1wBMMZN0lZnUgAYwynMWo+AA6563Mw1HQL643S4NqXUptjfFQBN8ahmt1MBoNn2s/VLBNo6ZpunAHAt4D3AZYEzgYcC3x3QoLsArwW2BL5drjurXHcL4N+AbYCMPx8MRJxIegOwP3AV4CbANxbFl9vqTAoAi+JhHWpHU164O2SSTndVf+y0+WmK/RUAuu2ns+q9AsCsSFvPFAm0dcw2VADY/WL/tNk1x/3tPya1AuBo4L3Au4F7Ac8Ebt7XoO2AHwN75MRa4E3AOcCBwBbAD4BHAscATwciCNy7lLE78BPgBCCdUACY4g2SohUApgzY4i9KoCkv3NquGwT0x27YebVeNsX+CgDd9tNZ9V4BYFakrWeKBBQACtwJCQCXB34EXBo4r6ywOA24bfl7ZcoM5h8O7Ff+cF3giBKAMGLB+4Cdy2fbA6cDOwB/6fGFnykATPHO6ClaAWA2nK2lh0BTXrg1WjcI6I/dsHPTBYCrHpJVlfCzp2TixCSBbhDw+7kbdp5wLxUANhcAzgd+vQbjYScE7AJ8ANipp4yvAc8CsjKgSk8Drg08uvxhW+CPwNbA3YBHAfv2XP9b4JZl5r/6swLAhG+G1YpTAJgRaKtZIeADXW9YJAL64yJZY/ZtaYr9FQBm7xvWOH8CTbk/50/KFvQQ6K4AsFW20a+k4877ZLYAKACMcXu01ZkUAMZwCrPWI+ADvR43c02HgP44Ha5NKbUp9lcAaIpH2c5JEmjK/TnJPlvW2ATaOmZbC8wpW7PNht0HCwDjngKQLQDZn/+tniCAVyuz99kaUKVsAciqgEuUIICZzc82gA0lXsBHSwDBBAHMFoLM/l+ybAGoggxmq8DJwH17ggzmb68HEmPgQuCpfSsPxnaYtQpoqzMpAEzVbSx8EAEf6PrFIhHQHxfJGrNvS1PsrwAwe9+wxvkTaMr9OX9StqCHQFvHbEMFgN22uOtm1xx/wacmFQTw98ChwCNKlP/HlIF+b307Ar8C7gx8tggG2d+/axEE8vszgEOAT5Vo/9X2gyrI4AtL8MAIABn4x5a/LKcJfL5sMci/2Y6QAINTT211JgWAqbuOFfQT8IGuTywSAf1xkawx+7Y0xf4KALP3DWucP4Gm3J/zJ2ULFAC22TAlAaBaAZBj/S4D5Fi/q5YZ/APKoP+tJaJ/tQJgK+DnJehf7wqA5L048JsywE8QwH8oQekTEyAiwu9KPQkY+IdyVGDiCFQpKxEiFHx8Fl6vADALytbRCQI+0Dth5sZ0Un9sjKmm0tCm2F8BYCrmt9AFJ9CU+3PBMXateW0ds61lx6UtALv9XSbfV9LxF/5nE2IAXGpIkMFsJcjKgY8U0SBHBT4bOHgWjt1WZ/orcLFZALQOCVQEtthiC654xSsu/fe0007jggsuEI4E5kZAf5wb+oWouCn23/KS2SoJ55955kJwsxESmAWBptyfs2BhHSMTaOuYbU0BIHvttybb61fSucur5Bc9COAwAeBGwKuAK5S4ABlAfAJ4w8geMcaFbXWmPxcBIMsuTOsjkGUqSWsdrbG+Er1aAusnoB+un5k5LkpAP9Ir2kRAf26TNe3LIAL6+EWpZKn63wbsTe+CB51Yls8P6mvGKTcbA0K4JtjfpYHzyr78BPG7bfl7VXSCAD4c2K/8IQEAjwCyzz/7+d9XtgTk4+2BM0oQwGwBGKX8qp6TgMcDR43Rp5GztlUAGBmAF16EQOInJA07P1N0EpgmAf1wmnS7U7Z+1B1bd6Gn+nMXrNztPurj3bb/rHt/LPDu8nOvEu2/X1TIoP7HwO7A90swvwT+ezqwBfDDEkTwmPK3nAKQspLWKj8z/hEckh4JPLoICjkRYOpJAWDqiBtXgV++jTNZKxusH7bSrDPvlH40c+RWOEUC+vMU4Vr0QhDQxxfCDJ1pRKLuRwCoggA+DEhQwBf3BAEMjP2BVwMJAvgd4CHl6L98divgbSUIYE4LeHCJ8J/PVis/nx0EPLCsPMjs/+N68k3dAAoAU0fcuAr88m2cyVrZYP2wlWadeaf0o5kjt8IpEtCfpwjXoheCgD6+EGawEW0noADQdguvv39++a6fmTkmT0A/nDzTLpaoH3XR6u3ts/7cXtvas2UC+rieIIEZEFAAmAHkhlXhl2/DDNbS5uqHLTXsjLulH80YuNVNlYD+PFW8Fr4ABPTxBTCCTWg/AQWA9tt4vT30y3e9xLx+GgT0w2lQ7V6Z+lH3bN7mHuvPbbaufXMFgD4ggRkRUACYEegGVeMLRoOM1eKm6octNu4Mu6YfzRC2VU2dgP48dcRWMGcC+vicDWD13SCgANANO9tLCUhAAhKQgAQkIAEJSEACEug4AQWAjjuA3ZeABCQgAQlIQAISkIAEJCCBbhBQAOiGne2lBCQgAQlIQAISkIAEJCABCXScgAJAxx3A7ktAAhKQgAQkIAEJSEACEpBANwgoAHTDzvZSAhKQgAQkIAEJSEACEpCABDpOQAGg4w5g9yUgAQlIQAISkIAEJCABCUigGwQUALphZ3spAQlIQAISkIAEJCABCUhAAh0noADQcQew+xKQgAQkIAEJSEACEpCABCTQDQIKAN2ws72UgAQkIAEJSEACEpCABCQggY4TUADouAPYfQlIQAISkIAEJCABCUhAAhLoBgEFgG7Y2V5KYB4E8v1y4Twqts7WENCHWmNKO9JDQL/WHSQgAQlIYG4EFADmht6KJdB6An8P/LX1vbSD0yZweeAsYAvg7GlXZvkSmBKBBwK/Bo4q5SsCTAm0xc6VwP8HtgXuP9dWWLkEJLAmAQUAHUQCEpg0gb2BXYDbA6cB3wA+WF5+J12X5bWXwH2BOwN3BU4FfgE8FvhZe7tsz1pK4F+AJwCHAQcDX1QEaKmlu92t1wFPAT4PHOAzv9vOYO8Xm4ACwGLbZ72ty4vyj4HvrTej10tgQgReADwd2K6nvGwDOAF4QBnITagqi2kxgZcBzy79O738ezng+0VY+lWL+27X2kXgJsBXgIsB5wGfBV6tCNAuI9sbDgGeBHwYeCFwskwkIIHFJaAAsLi2WW/LMqvwZOCN5edH6y3A6yUwJoGXA88qAtQbgP8FdgfuBFwdeA/weODPY9Zj9nYTqPzoC8BBwHeAq5WZ092KD72l3QjsXYsIRLjKKqh8750C7Al8AnitIkCLrNztrlSD/48CmQSoBv9bAud3G429l8BiElAAWEy7rLdVjwHeXDL9sQy0MgBTBFgvSa+vS+BRQHwus1vPA75bCrpkWQqYQd1PgX2A39StxHytJxCBKGLmkcCBfauZsoQ6S6kzu/Ti1pOwg20gkLgV+Yk/ZyXUvxWR9IaKAG0wr30AqmX/Hyrfy1ml1Zu2AS5ehIBzgfyYJCCBORNQAJizASZQ/W2BdwDXBt5bZlyvACQQiyLABABbxFACNwbeD8Tv7gicCOS7JT8XAFcGvgxcEbg3cOjQEr2giwRuDbyvvChmu0jlR5lFytLp+wB5yXxwmTndoewxTWA1kwQWmUAE+n8CdgayiiUC1k2LCBDB6/jS+H8EfrnIHbFtEugh8HzgRcBXgUxEZaVLla4B3Ap4JvAPJYBrYrlklWC+200SkMAcCSgAzBH+BKreHsjM6uOA7JnNF3Fm0J4GXKYIA4oAEwBtEWsSSNCfzALkBeBtfVdm9isiQASCDOoSCTsBAU0S6CWQQX78KHujE/wvS0mTqiWkEZc+BtymBJhKgMmkxAd4LvABTwjQoRaQQPX9l2d0tufdHPg6cI/it4kPkO0AWTadrQJZSv124E0L2BebJIFeAonzE5++e9nul+/vrHTJSS35nk4soEwI5DSgbAfMv8mT37OaK2KuxwTrUxKYEwEFgDmBn1C1+TJ9N3Clslw2kYXzwvFERYAJEbaYUQhk+X8CtmXg9rUy89//YH998ctHAO8cpVCv6RyBrBRJvIi3lp5Xg6eImc8pAkG2lhxTggFmJjU+l21PTy2rnjoHzQ43gsD1gG+XOD0R5ZMycIp4lZUAWSG1EcgKgIj4xrhohFk738gc0ZoZ/ZzOklNa8j2dFSxZ4ZLtftmylVgu8f2dSpDA/P2McrpLVg6YJCCBORBQAJgD9AlXmReGLP+vzhZO8aOIAJ5BPGFDdLi4SwA3Ar40gMFWZfn2K8pSwASqrF6AqwFeh9HZ9T4C/UGjtgaeUVY3HQ08CPhtWVWSrNVpAdkGkNnVLDE1SWDRCESk/2GJAZCZ0iplJUsG+9csf8iMaiKpV8/xrJ4ySWCRCWTlSgb+WQGYwf9PyuA/fh4BoDflmZ84QREBMvjfFzhrkTtn2yTQVgIKAO2ybO++67VEgN6BV5Zl/bVdGOzNHAn0D+qr/+cF4aU9s1u9A727lL2DiZBtkkAvgaxyyvLpzJJmtj8p33NVXID8P8LTLUt09ePEJ4EFI1CJ7VmhF7E0K1fOKcLoHmX7SuKjJOUItYgAlZiqUL9gxrQ5AwlUIkBW+MXHI8wmPkBvqiYDErfq48AfylaB6phX0UpAAjMkoAAwQ9gzrKoadA0SATLbUEVpzTFECdRyQFlGO8MmWlXHCCQuxWuAR/Yt1X5IifqeJYKZDUuwN5MEegkk2F9eFpOql8j8XomXmVHKTNL+wKdFJ4EFJZATAO4P7FiOBNyvzJBeC3gXcF3gFsBhRQQ4dkH7YbMkMIhAtgPkBKCrlhUBOb51ULoO8JXy/b1rOebVWAD6lARmTEABYMbAZ1jdaiLAv5YAQ3kRyYxsUvbeOvs6Q+N0qKrKD7OM+5VlH3e1LPChJYhljgjKTFhEAJMEViPQOxva+/2WF82cNZ2Z1UookKIEFoVA5bePBvL8vRlw2fIcztL/LPnPrP/dysApW1kS1DJiaVYKmCTQFAIRAXIq0BEDGlyt+ovglVMAcmLA3or+TTGt7WwbAQWAtll08/70viRn73V+ElDrm2XJ7O/KwOt77cZg7+ZIoHro50z3V/WcFPCwskwwZwRn4LbabMEcm27VC0qgd5vJC0sE9QysEnXaAdOCGs1mLQ38EyQ1gXvz+/VL8MoESK1SjrrMXuoEVTtJZhJoMIFBgm26kxhACXT5khIsMHEuXAHQYEPb9GYSUABopt3W0+rel+WcDpDjhi4N/L4MvBz8r4em19YlEPEp511nj2COCcpLb2b+sx/QwX9dqt3L17sFIKdPRFTKHtIElfp593DY4wYRyD7pnGKR2f+kbIvKsX9JFwP+Vn5P3Is/NahfNlUCaxHo/c7OKpg8+39UTnxJ0ECTBCQwBwIKAHOAPuMqewWAHM2SPVoZ/Gfg5QzDjI3R4eoqASCBsK5eAgU5+O+wQ4zZ9YPKTGmeYXsBCpljAjX7TAjsDmRvf2+E9OoZbcC/mZjASuZEIEcFP6HEccmWP98/52QIq5VACCgAdMcPMlOWZdjZI5uBly/M3bH9PHtavdRWAkDakmN/HPzP0yrNrDsrRhLoLydK3BD4FnC/nqCmzeyVre4agUT8P6102qNQu2b9bvU339m3KycCJMBlBv33cvDfLSewt4tJQAFgMe0y6VbtAny5CD55cVZ5nTRhyxtG4B7Ax4C/lP2vClDDiPl5P4GtgQcCmUlK5P+cKuESUv2kqQQc/DfVcrZ7VAKJ8ZNtfxFtjyxCgFu1RqXndRKYIgEFgCnCXaCic1xWov5/1dmyBbJKt5qSo9wS2OpQ4ORudd3eTpBA9pNuAM4oR6lNsGiLkoAEJCCBCRPIKoBE/v8FcOaEy7Y4CUigJgEFgJrgGpjN/YUNNFrLmuyMV8sManckIAEJSEACEpCABJpFQAGgWfaytRKQgAQkIAEJSEACEpCABCQggVoEFABqYTOTBCQgAQlIQAISkIAEJCABCUigWQQUAJplL1srAQlIQAISkIAEJCABCUhAAhKoRUABoBY2M0lAAhKQgAQkIAEJSEACEpCABJpFQAGgWfaytRKQgAQkIAEJSEACEpCABCQggVoEFABqYTOTBCQgAQlIQAISkIAEJCABCUigWQQUAJplL1srAQlIQAISkIAEJCABCUhAAhKoRUABoBY2M0lAAhKQgAQkIAEJSEACEpCABJpFQAGgWfaytRKQgAQkIAEJSEACEpCABCQggVoEFABqYTOTBCQgAQlIQAISkIAEJCABCUigWQQUAJplL1srAQlIQAISkIAEJCABCUhAAhKoRUABoBY2M0lAAhKQwIQJvBA4CHgRkN9NaxN4N/AQ4GFAfjdJQAISkIAEJCCBoQQUAIYi8gIJSEACEpgBAQWA9UGetABwLLAHsBeQ300SkIAEJCABCbSQgAJAC41qlyQgAQk0kMBlgfycUX4a2IWZNlkBYKa4rUwCEpCABCTQDgIKAO2wo72QgAQkIIFuEVAA6Ja97a0EJCABCUhgIgQUACaC0UIkIAEJdILAhaWXeXY8Evh/wM7A34AvAS8GvjKAxM+AqwBXA24EPAm4MXCpniXnq20BeCjwLuA9JV/iBNwD2BH4JfAO4DXABcAG4AXAnYDLA6n3TcAb17DOvYBHALsAlwROB44BXg58ry/fVYGfAj8HrlHa82DgWsAlgDrP1F42NwGeBtywlPV14NXAZwa0fzUBYHvgfsAdgRsAVyp5fwJ8srD6Q095e5b+roaoP8ZAbPZk4G6FwZbAj4EPAwcDZ3fiTrCTEpCABCQggYYSqPOy0tCu2mwJSEACEhiTQCUAHFIGgV8sg/AMNK8PnAfcBzisr55qkJvB+OOBE4EflsHp84HjS+C/QUEAKwHgE8C1gcuU6zPQ3Q3YpgzyXw+cUMSILwOXA3YHMkB9FvCqvjZtBfx7ae+5QAbbp5Y6IlKcU4SGz/XkqwSAXwDfAPYrbfktcL0ibqwXccUmTJ/SwyYCw66lsCcOEDFWEwBuW9oUIePk0qcM2iNwhN2PgFsCvytlR8AJn/TlCsDhwK97OhGBJVyTrguExz8CpwHfLLzTzuQNkwgKZ64XgtdLQAISkIAEJDAbAgoAs+FsLRKQgATaQKASADI4vgtwdE+nDiyz1Rn8ZaCeQXGVqkHu+WVQnZno/jRsBUCu/1SZ3a5mmW8KfBXYAvg+cBzwhCJE5PrMUv8HcBZwxb7Z6ZcBzyn5719m9qs2ZVXAh0q+qwPVjHklAOS6U4C9gR+MadiKTdhmNUFEiSrdF/ggEG5ZHfCdns9WEwA2AjuVWf2siqjStsC/AgcAbwEe19fuYUEAI7R8u8z6vxR4CfDXUkbKjlAQjlmt8c9jMjG7BCQgAQlIQAJTIqAAMCWwFisBCUighQQqASCz7Zmt7k//BdwMeG5ZQl99Xg1y3wk8fBUuwwSAP5XBZ6+wkKKyMmB/ILPyGfj+pa/8b5Wl8IlwH4Eg6dJlAJ9n4DXLLHl/s94MPLYIClm5kNQrAGQg/b4J2LhiE6Hi7gPK+xhwT+DtwKN6Pq8TAyAD9Qg0vy9bJHqrGyYAZLtHBIRPA3cd0M7tylaAsM32i9RhkoAEJCABCUhgwQgoACyYQWyOBCQggQUmUAkAmY3Ocu/+lNn3NwBHAnfo+bAa5GZv/mdX6d8wAeALZXl5f/bXln3ziRGQ7QL96dCy6iCz05nVT8qAOgPro4Dbr9KeewMfKTPwDyjX9AoA2fM/if3uFZsM/iMC9KcMtrNiIlsmsrKiSsMEgFuXLRJXBjLwr5736Vf+n4F67yB9mACQ1RdZ9ZFVCu9fhdl/lvgL+wJHLLAf2zQJSEACEpBAZwkoAHTW9HZcAhKQwLoJVALADqvs884AMQPFk8p+8aqCapCbPeT5bFAaJgBktj2z7v2pypcl6QkA2J8GDZSr7QqjAPg8sE+5sBIAsgohe94nkSo2CYqYPfX9KbEVsvQ+2y4ycK/SagJAZt8jeiQWwFopfUkwwyoNEwC+22fTtcp+UN9WhklwsgwJSEACEpCABCZAQAFgAhAtQgISkEBHCIwqAGQ//nV6mPRGus/vg9IwAWC1Gf7V8q01UH4m8MoSEC+BDNdK6UuuTeo9BSC/TyKNKgBka0P24a/Vr3yW1QJZNZBAiAmqGFEhM/05qSHpVyUeQk5k6LXFMAEgwk0CBiYI4G+GdLw3cOAkGFmGBCQgAQlIQAITIqAAMCGQFiMBCUigAwSGbQFIhP8cudc7ax4siyYAZEl/gu1lyXpWLYyapikArLYFoFpVkej9OW5wLQEg2xKyxz/P9kT87z3uL/ny+R/L5+sVALKkPyshsoUg2ydMEpCABCQgAQk0kIACQAONZpMlIAEJzIlAJQDkvPecV9+fEpE/R8I9D0iU/SotmgCQ5fsJGphZ8UT57w8suBreaQoAHy+xCfrrThyCDLozq/7IIQLAlUpAwwz8c/Rff3o08Nbyx34BoBrgZ5AfAac/Jehj7P7RcnTinFzQaiUgAQlIQAISGIeAAsA49MwrAQlIoFsEeo8BTEC/LBuvUjVAzAxzgtX1niW/aAJA2lwFD/wa8Iiyz77XmlsDCWaXY/6yDSBpmgJA2GZlQhWoMPXlOMIPAznObxcgJxpUaVAMgC2B08vgv/+UglsCn+kRBvoFgJzQ8DDgycC/DHDrrB5IHICrlOMecxRgbN2bdizbD3JigUkCEpCABCQggQUkoACwgEaxSRKQgAQWlEDvMYBPAo4vM84JVHeDcl79/QYsEV9EAWArIHEFMujOADt75X8CnAdsBBKUL4PeO5Z979MWAHK0YgbfOUoxEf+vAdyi+MFTgUP6fGK1IIApo7o2KzLSp5wEkFMBEr1/9zKI7xcA7lyO+PtrieCfVRGxd4SBL5W6r1euiRCSVQYRJE4pwQkj+iTuQ/JFCDBJQAISkIAEJLCABBQAFtAoNkkCEpDAghKoBIA8O3IufJaU71SW0meQmEj81WCxtwuLKABU7csAPysAMthOBP0/A6cVQSAB9T7Rc9zfNFcAZEB+cyArKSKmhPF/l9n2Tw/wh7WOAbwb8IwStT9CR1YwZCCf5f8/XUUASBXh8JgS7K86cSCrAlJXlbYvtk/Mggz4I5KcUYSArAg5rAQgXFAXtlkSkIAEJCCBbhNQAOi2/e29BCQggfUQ6BUA1pPPa1cnMIo4Ij8JSEACEpCABCQwEQIKABPBaCESkIAEOkFAAWDyZlYAmDxTS5SABCQgAQlIYBUCCgC6hgQkIAEJjEpAAWBUUqNfpwAwOiuvlIAEJCABCUhgTAIKAGMCNLsEJCCBDhFQAFjd2JctJwuM6g451u8EQAFgVGJeJwEJSEACEpDA2AQUAMZGaAESkIAEJCCBTUcEjoqiP7jeqPm8TgISkIAEJCABCdQmoABQG50ZJSABCUhAAhKQgAQkIAEJSEACzSGgANAcW9lSCUhAAhKQgAQkIAEJSEACEpBAbQIKALXRmVECEpCABCQgAQlIQAISkIAEJNAcAgoAzbGVLZWABCQgAQlIQAISkIAEJCABCdQmoABQG50ZJSABCUhAAhKQgAQkIAEJSEACzSGgANAcW9lSCUhAAhKQgAQkIAEJtz19FAAAAjVJREFUSEACEpBAbQIKALXRmVECEpCABCQgAQlIQAISkIAEJNAcAgoAzbGVLZWABCQgAQlIQAISkIAEJCABCdQmoABQG50ZJSABCUhAAhKQgAQkIAEJSEACzSGgANAcW9lSCUhAAhKQgAQkIAEJSEACEpBAbQIKALXRmVECEpCABCQgAQlIQAISkIAEJNAcAgoAzbGVLZWABCQgAQlIQAISkIAEJCABCdQmoABQG50ZJSABCUhAAhKQgAQkIAEJSEACzSGgANAcW9lSCUhAAhKQgAQkIAEJSEACEpBAbQIKALXRmVECEpCABCQgAQlIQAISkIAEJNAcAgoAzbGVLZWABCQgAQlIQAISkIAEJCABCdQmoABQG50ZJSABCUhAAhKQgAQkIAEJSEACzSGgANAcW9lSCUhAAhKQgAQkIAEJSEACEpBAbQIKALXRmVECEpCABCQgAQlIQAISkIAEJNAcAgoAzbGVLZWABCQgAQlIQAISkIAEJCABCdQmoABQG50ZJSABCUhAAhKQgAQkIAEJSEACzSGgANAcW9lSCUhAAhKQgAQkIAEJSEACEpBAbQIKALXRmVECEpCABCQgAQlIQAISkIAEJNAcAgoAzbGVLZWABCQgAQlIQAISkIAEJCABCdQmoABQG50ZJSABCUhAAhKQgAQkIAEJSEACzSGgANAcW9lSCUhAAhKQgAQkIAEJSEACEpBAbQIKALXRmVECEpCABCQgAQlIQAISkIAEJNAcAv8Hfn57uba/78oAAAAASUVORK5CYII=\" width=\"639.999990463257\">"
      ],
      "text/plain": [
       "<IPython.core.display.HTML object>"
      ]
     },
     "metadata": {},
     "output_type": "display_data"
    },
    {
     "data": {
      "application/vnd.jupyter.widget-view+json": {
       "model_id": "1d10aca427c1415b9c2074c80199ae14"
      }
     },
     "metadata": {},
     "output_type": "display_data"
    },
    {
     "data": {
      "application/vnd.jupyter.widget-view+json": {
       "model_id": "6f9f3b4dc51b4c148a635d1cdc1fca7f"
      }
     },
     "metadata": {},
     "output_type": "display_data"
    },
    {
     "data": {
      "application/vnd.jupyter.widget-view+json": {
       "model_id": "eb039799ba584be48f1967bbd9d7f49b"
      }
     },
     "metadata": {},
     "output_type": "display_data"
    },
    {
     "data": {
      "application/vnd.jupyter.widget-view+json": {
       "model_id": "1dc8137f6651425585c065cc9c6c0bbd"
      }
     },
     "metadata": {},
     "output_type": "display_data"
    },
    {
     "data": {
      "application/vnd.jupyter.widget-view+json": {
       "model_id": "553020bb89a74e43ae38d3bda9044c3e"
      }
     },
     "metadata": {},
     "output_type": "display_data"
    },
    {
     "data": {
      "application/vnd.jupyter.widget-view+json": {
       "model_id": "7a75cd17168e44e7a64693c1ff204c5f"
      }
     },
     "metadata": {},
     "output_type": "display_data"
    }
   ],
   "source": [
    "f=datc.plot_sort('primer_plate',gui='jupyter',sample_color_bars=['genus'],color_bar_label=False,\n",
    "                 rect=[-0.5, 314.5, 64.28125, -0.5],feature_field=None, show_legend=True, clim=[0,10000])"
   ]
  },
  {
   "cell_type": "code",
   "execution_count": 22,
   "metadata": {
    "collapsed": true
   },
   "outputs": [],
   "source": [
    "f.save_figure('../figures/ants-contamination-plate.pdf')"
   ]
  },
  {
   "cell_type": "code",
   "execution_count": 73,
   "metadata": {},
   "outputs": [
    {
     "name": "stdout",
     "output_type": "stream",
     "text": [
      "2017-08-13 16:19:22 INFO loaded 389 samples, 41409 observations\n",
      "2017-08-13 16:19:22 INFO No metadata associated with features in biom table\n",
      "2017-08-13 16:19:22 WARNING the samples are dropped because they have metadata but do not have data: {'10343.JS1300', '10343.JS1625', '10343.BLANK.JS6.12G', '10343.JS2068.b', '10343.JS1027', '10343.JS1508', '10343.JS1708', '10343.JS0835', '10343.JS1969', '10343.JS1611.d', '10343.JS1125', '10343.JS1213', '10343.JS0981', '10343.JS1451', '10343.JS1378', '10343.JS1648', '10343.JS2059', '10343.JS2159.c', '10343.JS1603', '10343.JS1043', '10343.JS1026', '10343.JS1328', '10343.JS1354.d', '10343.JS1452', '10343.JS1689.b', '10343.JS1297.d', '10343.JS2004', '10343.JS1681', '10343.JS1749', '10343.JS1041', '10343.JS1000', '10343.JS1297.g', '10343.2160a', '10343.JS1276', '10343.JS1532', '10343.JS1470', '10343.JS1684', '10343.JS1273', '10343.JS1354.f', '10343.JS1553', '10343.JS1564.a', '10343.JS2089.d', '10343.BLANK.JS6.12F', '10343.JS1399', '10343.JS1138', '10343.JS1796', '10343.JS2182.f', '10343.JS1851', '10343.JS1746.d', '10343.JS1154', '10343.JS1507', '10343.JS1991', '10343.JS2113', '10343.JS0917', '10343.JS2009.e', '10343.JS1251', '10343.JS1946', '10343.JS0931', '10343.JS2101', '10343.JS1797', '10343.JS1180.d', '10343.JS1180.f', '10343.BLANK.JS6.12H', '10343.JS1225.b', '10343.JS1784', '10343.JS1215', '10343.JS1015', '10343.JS1471', '10343.JS0638', '10343.JS1746.f', '10343.JS1344', '10343.JS1368', '10343.JS1901', '10343.JS1713.f', '10343.JS1529', '10343.JS1497', '10343.JS1624.f', '10343.JS2199', '10343.JS2079.c1', '10343.JS1599', '10343.JS1170', '10343.JS1375', '10343.JS1900', '10343.JS1288', '10343.JS1139', '10343.JS1543', '10343.JS2195.a', '10343.JS1297.h', '10343.JS1762', '10343.JS1852', '10343.JS1165.d', '10343.JS1709', '10343.JS1530', '10343.JS0604.e', '10343.JS2068.c'}\n"
     ]
    }
   ],
   "source": [
    "datn=ca.read_amplicon('./all.biom','./map.txt',normalize=None,filter_reads=None)"
   ]
  },
  {
   "cell_type": "code",
   "execution_count": 74,
   "metadata": {
    "collapsed": true
   },
   "outputs": [],
   "source": [
    "datn=datn.filter_fasta('contamination.fa',negate=True)"
   ]
  },
  {
   "cell_type": "code",
   "execution_count": 75,
   "metadata": {},
   "outputs": [
    {
     "name": "stdout",
     "output_type": "stream",
     "text": [
      "2017-08-13 16:19:25 INFO 298 remaining\n"
     ]
    }
   ],
   "source": [
    "datn=datn.filter_by_data('sum_abundance',cutoff=1000)"
   ]
  },
  {
   "cell_type": "code",
   "execution_count": 76,
   "metadata": {
    "collapsed": true
   },
   "outputs": [],
   "source": [
    "datn.save_biom('ants-filtered-1.biom')"
   ]
  },
  {
   "cell_type": "code",
   "execution_count": 77,
   "metadata": {},
   "outputs": [
    {
     "name": "stdout",
     "output_type": "stream",
     "text": [
      "2017-08-13 16:19:44 INFO loaded 389 samples, 41409 observations\n",
      "2017-08-13 16:19:44 INFO No metadata associated with features in biom table\n",
      "2017-08-13 16:19:44 WARNING the samples are dropped because they have metadata but do not have data: {'10343.JS1300', '10343.JS1625', '10343.BLANK.JS6.12G', '10343.JS2068.b', '10343.JS1027', '10343.JS1508', '10343.JS1708', '10343.JS0835', '10343.JS1969', '10343.JS1611.d', '10343.JS1125', '10343.JS1213', '10343.JS0981', '10343.JS1451', '10343.JS1378', '10343.JS1648', '10343.JS2059', '10343.JS2159.c', '10343.JS1603', '10343.JS1043', '10343.JS1026', '10343.JS1328', '10343.JS1354.d', '10343.JS1452', '10343.JS1689.b', '10343.JS1297.d', '10343.JS2004', '10343.JS1681', '10343.JS1749', '10343.JS1041', '10343.JS1000', '10343.JS1297.g', '10343.2160a', '10343.JS1276', '10343.JS1532', '10343.JS1470', '10343.JS1684', '10343.JS1273', '10343.JS1354.f', '10343.JS1553', '10343.JS1564.a', '10343.JS2089.d', '10343.BLANK.JS6.12F', '10343.JS1399', '10343.JS1138', '10343.JS1796', '10343.JS2182.f', '10343.JS1851', '10343.JS1746.d', '10343.JS1154', '10343.JS1507', '10343.JS1991', '10343.JS2113', '10343.JS0917', '10343.JS2009.e', '10343.JS1251', '10343.JS1946', '10343.JS0931', '10343.JS2101', '10343.JS1797', '10343.JS1180.d', '10343.JS1180.f', '10343.BLANK.JS6.12H', '10343.JS1225.b', '10343.JS1784', '10343.JS1215', '10343.JS1015', '10343.JS1471', '10343.JS0638', '10343.JS1746.f', '10343.JS1344', '10343.JS1368', '10343.JS1901', '10343.JS1713.f', '10343.JS1529', '10343.JS1497', '10343.JS1624.f', '10343.JS2199', '10343.JS2079.c1', '10343.JS1599', '10343.JS1170', '10343.JS1375', '10343.JS1900', '10343.JS1288', '10343.JS1139', '10343.JS1543', '10343.JS2195.a', '10343.JS1297.h', '10343.JS1762', '10343.JS1852', '10343.JS1165.d', '10343.JS1709', '10343.JS1530', '10343.JS0604.e', '10343.JS2068.c'}\n"
     ]
    }
   ],
   "source": [
    "datn2=ca.read_amplicon('./all.biom','./map.txt',normalize=None,filter_reads=None)"
   ]
  },
  {
   "cell_type": "code",
   "execution_count": 78,
   "metadata": {
    "collapsed": true
   },
   "outputs": [],
   "source": [
    "datn2=datn2.filter_fasta('contamination.fa',negate=True)"
   ]
  },
  {
   "cell_type": "code",
   "execution_count": 79,
   "metadata": {
    "collapsed": true
   },
   "outputs": [],
   "source": [
    "datn2=datn2.filter_fasta('contamination2.fa',negate=True)"
   ]
  },
  {
   "cell_type": "code",
   "execution_count": 80,
   "metadata": {},
   "outputs": [
    {
     "name": "stdout",
     "output_type": "stream",
     "text": [
      "2017-08-13 16:19:50 INFO 278 remaining\n"
     ]
    }
   ],
   "source": [
    "datn2=datn2.filter_by_data('sum_abundance',cutoff=1000)"
   ]
  },
  {
   "cell_type": "code",
   "execution_count": 68,
   "metadata": {
    "collapsed": true
   },
   "outputs": [],
   "source": [
    "datn2=datn2.normalize(10000)"
   ]
  },
  {
   "cell_type": "code",
   "execution_count": 69,
   "metadata": {
    "collapsed": true
   },
   "outputs": [],
   "source": [
    "datn2.save_biom('ants-filtered-2.biom')"
   ]
  },
  {
   "cell_type": "code",
   "execution_count": 70,
   "metadata": {},
   "outputs": [
    {
     "data": {
      "text/plain": [
       "AmpliconExperiment all.biom with 315 samples, 8292 features"
      ]
     },
     "execution_count": 70,
     "metadata": {},
     "output_type": "execute_result"
    }
   ],
   "source": [
    "datc"
   ]
  },
  {
   "cell_type": "code",
   "execution_count": 71,
   "metadata": {},
   "outputs": [
    {
     "data": {
      "text/plain": [
       "AmpliconExperiment all.biom with 298 samples, 11258 features"
      ]
     },
     "execution_count": 71,
     "metadata": {},
     "output_type": "execute_result"
    }
   ],
   "source": [
    "datn"
   ]
  },
  {
   "cell_type": "code",
   "execution_count": 72,
   "metadata": {},
   "outputs": [
    {
     "data": {
      "text/plain": [
       "AmpliconExperiment all.biom with 278 samples, 41397 features"
      ]
     },
     "execution_count": 72,
     "metadata": {},
     "output_type": "execute_result"
    }
   ],
   "source": [
    "datn2"
   ]
  },
  {
   "cell_type": "code",
   "execution_count": null,
   "metadata": {
    "collapsed": true
   },
   "outputs": [],
   "source": []
  }
 ],
 "metadata": {
  "kernelspec": {
   "display_name": "Python 3",
   "language": "python",
   "name": "python3"
  },
  "language_info": {
   "codemirror_mode": {
    "name": "ipython",
    "version": 3
   },
   "file_extension": ".py",
   "mimetype": "text/x-python",
   "name": "python",
   "nbconvert_exporter": "python",
   "pygments_lexer": "ipython3",
   "version": "3.5.3"
  }
 },
 "nbformat": 4,
 "nbformat_minor": 2
}
